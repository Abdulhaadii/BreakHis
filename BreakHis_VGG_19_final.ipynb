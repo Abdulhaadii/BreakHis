{
  "nbformat": 4,
  "nbformat_minor": 0,
  "metadata": {
    "colab": {
      "provenance": [],
      "gpuType": "T4"
    },
    "kernelspec": {
      "name": "python3",
      "display_name": "Python 3"
    },
    "language_info": {
      "name": "python"
    },
    "accelerator": "GPU"
  },
  "cells": [
    {
      "cell_type": "code",
      "execution_count": 16,
      "metadata": {
        "id": "oC5CwlX4mDOV"
      },
      "outputs": [],
      "source": [
        "\n",
        "import os\n",
        "import json\n",
        "import numpy as np\n",
        "import pandas as pd\n",
        "from pathlib import Path\n",
        "from typing import Dict, List, Tuple, Optional\n",
        "import warnings\n",
        "warnings.filterwarnings('ignore')\n",
        "\n",
        "import torch\n",
        "import torch.nn as nn\n",
        "import torch.nn.functional as F\n",
        "from torch.utils.data import Dataset, DataLoader, WeightedRandomSampler\n",
        "from torch.optim import Adam, SGD\n",
        "from torch.optim.lr_scheduler import ReduceLROnPlateau, CosineAnnealingLR\n",
        "from torchvision import transforms, models\n",
        "from torchvision.models import VGG19_Weights\n",
        "\n",
        "import matplotlib.pyplot as plt\n",
        "import seaborn as sns\n",
        "from sklearn.model_selection import train_test_split\n",
        "from sklearn.metrics import (\n",
        "    accuracy_score, precision_score, recall_score, f1_score,\n",
        "    roc_auc_score, confusion_matrix, classification_report\n",
        ")\n",
        "from sklearn.utils.class_weight import compute_class_weight\n",
        "\n",
        "from PIL import Image\n",
        "import time\n",
        "from tqdm import tqdm\n",
        "import glob"
      ]
    },
    {
      "cell_type": "code",
      "source": [
        "# Set random seeds for reproducibility\n",
        "torch.manual_seed(42)\n",
        "np.random.seed(42)"
      ],
      "metadata": {
        "id": "Ov5w2PzUmMy8"
      },
      "execution_count": 17,
      "outputs": []
    },
    {
      "cell_type": "code",
      "source": [
        "class LabelSmoothingCrossEntropy(nn.Module):\n",
        "    \"\"\"Label smoothing cross entropy loss.\"\"\"\n",
        "\n",
        "    def __init__(self, smoothing: float = 0.1):\n",
        "        super().__init__()\n",
        "        self.smoothing = smoothing\n",
        "\n",
        "    def forward(self, input: torch.Tensor, target: torch.Tensor) -> torch.Tensor:\n",
        "        log_prob = F.log_softmax(input, dim=-1)\n",
        "        weight = input.new_ones(input.size()) * self.smoothing / (input.size(-1) - 1.)\n",
        "        weight.scatter_(-1, target.unsqueeze(-1), (1. - self.smoothing))\n",
        "        loss = (-weight * log_prob).sum(dim=-1).mean()\n",
        "        return loss\n"
      ],
      "metadata": {
        "id": "qeA0OYHamcUI"
      },
      "execution_count": 18,
      "outputs": []
    },
    {
      "cell_type": "code",
      "source": [
        "class BreakHisDataset(Dataset):\n",
        "    \"\"\"BreakHis dataset class for tumor classification.\"\"\"\n",
        "\n",
        "    def __init__(self, image_paths: List[str], labels: List[int],\n",
        "                 transform: Optional[transforms.Compose] = None):\n",
        "        self.image_paths = image_paths\n",
        "        self.labels = labels\n",
        "        self.transform = transform\n",
        "\n",
        "    def __len__(self) -> int:\n",
        "        return len(self.image_paths)\n",
        "\n",
        "    def __getitem__(self, idx: int) -> Tuple[torch.Tensor, int]:\n",
        "        image_path = self.image_paths[idx]\n",
        "        image = Image.open(image_path).convert('RGB')\n",
        "        label = self.labels[idx]\n",
        "\n",
        "        if self.transform:\n",
        "            image = self.transform(image)\n",
        "\n",
        "        return image, label"
      ],
      "metadata": {
        "id": "VerEkbormgql"
      },
      "execution_count": 19,
      "outputs": []
    },
    {
      "cell_type": "code",
      "source": [
        "class TumorClassifier(nn.Module):\n",
        "    \"\"\"VGG19-based tumor classifier.\"\"\"\n",
        "\n",
        "    def __init__(self, num_classes: int = 2, dropout_rate: float = 0.5):\n",
        "        super().__init__()\n",
        "\n",
        "        # Load pretrained VGG19\n",
        "        self.backbone = models.vgg19(weights=VGG19_Weights.DEFAULT)\n",
        "\n",
        "        # Remove the classifier\n",
        "        self.features = self.backbone.features\n",
        "        self.avgpool = self.backbone.avgpool\n",
        "\n",
        "        # Custom classifier head\n",
        "        self.classifier = nn.Sequential(\n",
        "            nn.Linear(512 * 7 * 7, 4096),\n",
        "            nn.ReLU(True),\n",
        "            nn.Dropout(dropout_rate),\n",
        "            nn.Linear(4096, 4096),\n",
        "            nn.ReLU(True),\n",
        "            nn.Dropout(dropout_rate),\n",
        "            nn.Linear(4096, num_classes)\n",
        "        )\n",
        "\n",
        "        # Initialize classifier weights\n",
        "        self._init_classifier_weights()\n",
        "\n",
        "    def _init_classifier_weights(self):\n",
        "        \"\"\"Initialize classifier weights.\"\"\"\n",
        "        for m in self.classifier.modules():\n",
        "            if isinstance(m, nn.Linear):\n",
        "                nn.init.normal_(m.weight, 0, 0.01)\n",
        "                nn.init.constant_(m.bias, 0)\n",
        "\n",
        "    def forward(self, x: torch.Tensor) -> torch.Tensor:\n",
        "        x = self.features(x)\n",
        "        x = self.avgpool(x)\n",
        "        x = torch.flatten(x, 1)\n",
        "        x = self.classifier(x)\n",
        "        return x\n",
        "\n",
        "    def freeze_backbone(self):\n",
        "        \"\"\"Freeze backbone parameters.\"\"\"\n",
        "        for param in self.features.parameters():\n",
        "            param.requires_grad = False\n",
        "\n",
        "    def unfreeze_last_conv_layers(self, num_layers: int = 4):\n",
        "        \"\"\"Unfreeze last few convolutional layers.\"\"\"\n",
        "        # Unfreeze last num_layers conv layers\n",
        "        conv_layers = [m for m in self.features.modules() if isinstance(m, nn.Conv2d)]\n",
        "        for layer in conv_layers[-num_layers:]:\n",
        "            for param in layer.parameters():\n",
        "                param.requires_grad = True"
      ],
      "metadata": {
        "id": "IGSEQqkGmkEc"
      },
      "execution_count": 20,
      "outputs": []
    },
    {
      "cell_type": "code",
      "source": [
        "class EarlyStopping:\n",
        "    \"\"\"Early stopping utility.\"\"\"\n",
        "\n",
        "    def __init__(self, patience: int = 10, min_delta: float = 0.001,\n",
        "                 mode: str = 'min'):\n",
        "        self.patience = patience\n",
        "        self.min_delta = min_delta\n",
        "        self.mode = mode\n",
        "        self.counter = 0\n",
        "        self.best_score = None\n",
        "        self.early_stop = False\n",
        "\n",
        "    def __call__(self, val_score: float):\n",
        "        if self.best_score is None:\n",
        "            self.best_score = val_score\n",
        "        elif self.mode == 'min':\n",
        "            if val_score < self.best_score - self.min_delta:\n",
        "                self.best_score = val_score\n",
        "                self.counter = 0\n",
        "            else:\n",
        "                self.counter += 1\n",
        "        else:  # mode == 'max'\n",
        "            if val_score > self.best_score + self.min_delta:\n",
        "                self.best_score = val_score\n",
        "                self.counter = 0\n",
        "            else:\n",
        "                self.counter += 1\n",
        "\n",
        "        if self.counter >= self.patience:\n",
        "            self.early_stop = True"
      ],
      "metadata": {
        "id": "GcFKYjvZmnRI"
      },
      "execution_count": 21,
      "outputs": []
    },
    {
      "cell_type": "code",
      "source": [
        "\n",
        "class MetricsCalculator:\n",
        "    \"\"\"Utility class for calculating classification metrics.\"\"\"\n",
        "\n",
        "    @staticmethod\n",
        "    def calculate_metrics(y_true: np.ndarray, y_pred: np.ndarray,\n",
        "                         y_pred_proba: np.ndarray) -> Dict[str, float]:\n",
        "        \"\"\"Calculate all classification metrics.\"\"\"\n",
        "\n",
        "        # Calculate confusion matrix\n",
        "        cm = confusion_matrix(y_true, y_pred)\n",
        "        tn, fp, fn, tp = cm.ravel()\n",
        "\n",
        "        # Calculate metrics\n",
        "        accuracy = accuracy_score(y_true, y_pred)\n",
        "        precision = precision_score(y_true, y_pred, average='binary')\n",
        "        recall = recall_score(y_true, y_pred, average='binary')\n",
        "        specificity = tn / (tn + fp) if (tn + fp) > 0 else 0.0\n",
        "        f1 = f1_score(y_true, y_pred, average='binary')\n",
        "        auc_roc = roc_auc_score(y_true, y_pred_proba)\n",
        "\n",
        "        return {\n",
        "            'accuracy': accuracy,\n",
        "            'precision': precision,\n",
        "            'recall': recall,\n",
        "            'specificity': specificity,\n",
        "            'f1': f1,\n",
        "            'auc_roc': auc_roc,\n",
        "            'confusion_matrix': cm\n",
        "        }\n",
        "\n",
        "    @staticmethod\n",
        "    def plot_confusion_matrix(cm: np.ndarray, title: str = \"Confusion Matrix\"):\n",
        "        \"\"\"Plot confusion matrix heatmap.\"\"\"\n",
        "        plt.figure(figsize=(8, 6))\n",
        "        sns.heatmap(cm, annot=True, fmt='d', cmap='Blues',\n",
        "                   xticklabels=['Benign', 'Malignant'],\n",
        "                   yticklabels=['Benign', 'Malignant'])\n",
        "        plt.title(title)\n",
        "        plt.ylabel('True Label')\n",
        "        plt.xlabel('Predicted Label')\n",
        "        plt.tight_layout()\n",
        "        plt.show()\n"
      ],
      "metadata": {
        "id": "-0XaVu-kmpmd"
      },
      "execution_count": 22,
      "outputs": []
    },
    {
      "cell_type": "code",
      "source": [
        "class BreakHisTrainer:\n",
        "    \"\"\"Main trainer class for BreakHis dataset.\"\"\"\n",
        "\n",
        "    def __init__(self, data_dir: str, batch_size: int = 32,\n",
        "                 num_workers: int = 4, device: str = 'cuda'):\n",
        "        self.data_dir = Path(data_dir)\n",
        "        self.batch_size = batch_size\n",
        "        self.num_workers = num_workers\n",
        "        self.device = torch.device(device if torch.cuda.is_available() else 'cpu')\n",
        "\n",
        "        # Results storage\n",
        "        self.results = {}\n",
        "\n",
        "        # Data transforms\n",
        "        self.train_transforms = transforms.Compose([\n",
        "            transforms.Resize(256),\n",
        "            transforms.CenterCrop(224),\n",
        "            transforms.RandomHorizontalFlip(p=0.5),\n",
        "            transforms.RandomVerticalFlip(p=0.5),\n",
        "            transforms.RandomRotation(degrees=15),\n",
        "            transforms.ColorJitter(brightness=0.2, contrast=0.2,\n",
        "                                 saturation=0.2, hue=0.1),\n",
        "            transforms.ToTensor(),\n",
        "            transforms.Normalize(mean=[0.485, 0.456, 0.406],\n",
        "                               std=[0.229, 0.224, 0.225])\n",
        "        ])\n",
        "\n",
        "        self.val_transforms = transforms.Compose([\n",
        "            transforms.Resize(256),\n",
        "            transforms.CenterCrop(224),\n",
        "            transforms.ToTensor(),\n",
        "            transforms.Normalize(mean=[0.485, 0.456, 0.406],\n",
        "                               std=[0.229, 0.224, 0.225])\n",
        "        ])\n",
        "\n",
        "    def parse_dataset(self) -> Dict[str, List]:\n",
        "        \"\"\"Parse BreakHis dataset structure using glob pattern matching.\"\"\"\n",
        "        print(\"Parsing BreakHis dataset...\")\n",
        "\n",
        "        # Try different possible paths for the dataset\n",
        "        possible_paths = [\n",
        "            os.path.join(self.data_dir, 'BreaKHis_v1/BreaKHis_v1/histology_slides/breast/**/*.png'),\n",
        "            os.path.join(self.data_dir, 'BreaKHis_v1/histology_slides/breast/**/*.png'),\n",
        "            os.path.join(self.data_dir, 'histology_slides/breast/**/*.png'),\n",
        "            os.path.join(self.data_dir, '**/*.png'),\n",
        "        ]\n",
        "\n",
        "        breast_img_paths = []\n",
        "        for pattern in possible_paths:\n",
        "            breast_img_paths = glob.glob(pattern, recursive=True)\n",
        "            if breast_img_paths:\n",
        "                print(f\"Found images using pattern: {pattern}\")\n",
        "                break\n",
        "\n",
        "        if not breast_img_paths:\n",
        "            raise FileNotFoundError(f\"No PNG files found in {self.data_dir}. Please check the dataset path.\")\n",
        "\n",
        "        print(f\"Found {len(breast_img_paths)} image files\")\n",
        "\n",
        "        data_info = {\n",
        "            'image_paths': [],\n",
        "            'labels': [],\n",
        "            'magnifications': [],\n",
        "            'patient_ids': []\n",
        "        }\n",
        "\n",
        "        for img_path in breast_img_paths:\n",
        "            try:\n",
        "                # Extract information from path\n",
        "                path_parts = img_path.split(os.sep)\n",
        "\n",
        "                # Find benign/malignant classification from path\n",
        "                if 'benign' in img_path.lower():\n",
        "                    label = 0  # benign\n",
        "                elif 'malignant' in img_path.lower():\n",
        "                    label = 1  # malignant\n",
        "                else:\n",
        "                    continue\n",
        "\n",
        "                # Extract filename for further processing\n",
        "                filename = os.path.basename(img_path)\n",
        "\n",
        "                # Extract magnification from filename (format: SOB_B_A-14-22549AB-40-001.png)\n",
        "                if '-40-' in filename:\n",
        "                    mag = '40X'\n",
        "                elif '-100-' in filename:\n",
        "                    mag = '100X'\n",
        "                elif '-200-' in filename:\n",
        "                    mag = '200X'\n",
        "                elif '-400-' in filename:\n",
        "                    mag = '400X'\n",
        "                else:\n",
        "                    continue\n",
        "\n",
        "                # Extract patient ID from filename (format: SOB_B_A-14-22549AB-40-001.png)\n",
        "                # Patient ID is the part before the magnification\n",
        "                parts = filename.split('-')\n",
        "                if len(parts) >= 3:\n",
        "                    patient_id = '-'.join(parts[:3])  # SOB_B_A-14-22549AB\n",
        "                else:\n",
        "                    patient_id = filename.split('.')[0]\n",
        "\n",
        "                data_info['image_paths'].append(img_path)\n",
        "                data_info['labels'].append(label)\n",
        "                data_info['magnifications'].append(mag)\n",
        "                data_info['patient_ids'].append(patient_id)\n",
        "\n",
        "            except Exception as e:\n",
        "                print(f\"Error processing {img_path}: {e}\")\n",
        "                continue\n",
        "\n",
        "        print(f\"Successfully parsed {len(data_info['image_paths'])} images\")\n",
        "        print(f\"Benign: {len([l for l in data_info['labels'] if l == 0])}\")\n",
        "        print(f\"Malignant: {len([l for l in data_info['labels'] if l == 1])}\")\n",
        "        print(f\"Magnifications: {set(data_info['magnifications'])}\")\n",
        "        print(f\"Unique patients: {len(set(data_info['patient_ids']))}\")\n",
        "\n",
        "        return data_info\n",
        "\n",
        "    def create_patient_splits(self, data_info: Dict, test_size: float = 0.2,\n",
        "                            val_size: float = 0.2) -> Dict[str, Dict]:\n",
        "        \"\"\"Create patient-level train/val/test splits.\"\"\"\n",
        "\n",
        "        # Get unique patients with their labels\n",
        "        df = pd.DataFrame(data_info)\n",
        "        patient_labels = df.groupby('patient_ids')['labels'].first().reset_index()\n",
        "\n",
        "        # First split: train+val vs test\n",
        "        train_val_patients, test_patients = train_test_split(\n",
        "            patient_labels['patient_ids'].tolist(),\n",
        "            test_size=test_size,\n",
        "            stratify=patient_labels['labels'].tolist(),\n",
        "            random_state=42\n",
        "        )\n",
        "\n",
        "        # Second split: train vs val\n",
        "        train_val_labels = patient_labels[patient_labels['patient_ids'].isin(train_val_patients)]['labels'].tolist()\n",
        "        train_patients, val_patients = train_test_split(\n",
        "            train_val_patients,\n",
        "            test_size=val_size / (1 - test_size),\n",
        "            stratify=train_val_labels,\n",
        "            random_state=42\n",
        "        )\n",
        "\n",
        "        # Create splits for each magnification\n",
        "        magnifications = ['40X', '100X', '200X', '400X', 'All']\n",
        "        splits = {}\n",
        "\n",
        "        for mag in magnifications:\n",
        "            if mag == 'All':\n",
        "                mag_mask = pd.Series([True] * len(df))\n",
        "            else:\n",
        "                mag_mask = df['magnifications'] == mag\n",
        "\n",
        "            mag_df = df[mag_mask]\n",
        "\n",
        "            train_mask = mag_df['patient_ids'].isin(train_patients)\n",
        "            val_mask = mag_df['patient_ids'].isin(val_patients)\n",
        "            test_mask = mag_df['patient_ids'].isin(test_patients)\n",
        "\n",
        "            splits[mag] = {\n",
        "                'train': {\n",
        "                    'image_paths': mag_df[train_mask]['image_paths'].tolist(),\n",
        "                    'labels': mag_df[train_mask]['labels'].tolist()\n",
        "                },\n",
        "                'val': {\n",
        "                    'image_paths': mag_df[val_mask]['image_paths'].tolist(),\n",
        "                    'labels': mag_df[val_mask]['labels'].tolist()\n",
        "                },\n",
        "                'test': {\n",
        "                    'image_paths': mag_df[test_mask]['image_paths'].tolist(),\n",
        "                    'labels': mag_df[test_mask]['labels'].tolist()\n",
        "                }\n",
        "            }\n",
        "\n",
        "            print(f\"\\n{mag} - Train: {len(splits[mag]['train']['labels'])}, \"\n",
        "                  f\"Val: {len(splits[mag]['val']['labels'])}, \"\n",
        "                  f\"Test: {len(splits[mag]['test']['labels'])}\")\n",
        "\n",
        "        return splits\n",
        "\n",
        "    def create_data_loaders(self, splits: Dict, magnification: str) -> Dict[str, DataLoader]:\n",
        "        \"\"\"Create data loaders for a specific magnification.\"\"\"\n",
        "\n",
        "        split_data = splits[magnification]\n",
        "\n",
        "        # Create datasets\n",
        "        train_dataset = BreakHisDataset(\n",
        "            split_data['train']['image_paths'],\n",
        "            split_data['train']['labels'],\n",
        "            self.train_transforms\n",
        "        )\n",
        "\n",
        "        val_dataset = BreakHisDataset(\n",
        "            split_data['val']['image_paths'],\n",
        "            split_data['val']['labels'],\n",
        "            self.val_transforms\n",
        "        )\n",
        "\n",
        "        test_dataset = BreakHisDataset(\n",
        "            split_data['test']['image_paths'],\n",
        "            split_data['test']['labels'],\n",
        "            self.val_transforms\n",
        "        )\n",
        "\n",
        "        # Handle class imbalance with weighted sampling\n",
        "        train_labels = split_data['train']['labels']\n",
        "        class_weights = compute_class_weight(\n",
        "            'balanced',\n",
        "            classes=np.unique(train_labels),\n",
        "            y=train_labels\n",
        "        )\n",
        "\n",
        "        sample_weights = [class_weights[label] for label in train_labels]\n",
        "        sampler = WeightedRandomSampler(\n",
        "            weights=sample_weights,\n",
        "            num_samples=len(sample_weights),\n",
        "            replacement=True\n",
        "        )\n",
        "\n",
        "        # Create data loaders\n",
        "        train_loader = DataLoader(\n",
        "            train_dataset,\n",
        "            batch_size=self.batch_size,\n",
        "            sampler=sampler,\n",
        "            num_workers=self.num_workers,\n",
        "            pin_memory=True\n",
        "        )\n",
        "\n",
        "        val_loader = DataLoader(\n",
        "            val_dataset,\n",
        "            batch_size=self.batch_size,\n",
        "            shuffle=False,\n",
        "            num_workers=self.num_workers,\n",
        "            pin_memory=True\n",
        "        )\n",
        "\n",
        "        test_loader = DataLoader(\n",
        "            test_dataset,\n",
        "            batch_size=self.batch_size,\n",
        "            shuffle=False,\n",
        "            num_workers=self.num_workers,\n",
        "            pin_memory=True\n",
        "        )\n",
        "\n",
        "        return {\n",
        "            'train': train_loader,\n",
        "            'val': val_loader,\n",
        "            'test': test_loader\n",
        "        }\n",
        "\n",
        "    def train_epoch(self, model: nn.Module, train_loader: DataLoader,\n",
        "                   criterion: nn.Module, optimizer: torch.optim.Optimizer) -> float:\n",
        "        \"\"\"Train for one epoch.\"\"\"\n",
        "        model.train()\n",
        "        total_loss = 0.0\n",
        "\n",
        "        for batch_idx, (images, labels) in enumerate(tqdm(train_loader, desc=\"Training\")):\n",
        "            images, labels = images.to(self.device), labels.to(self.device)\n",
        "\n",
        "            optimizer.zero_grad()\n",
        "            outputs = model(images)\n",
        "            loss = criterion(outputs, labels)\n",
        "            loss.backward()\n",
        "            optimizer.step()\n",
        "\n",
        "            total_loss += loss.item()\n",
        "\n",
        "        return total_loss / len(train_loader)\n",
        "\n",
        "    def validate_epoch(self, model: nn.Module, val_loader: DataLoader,\n",
        "                      criterion: nn.Module) -> Tuple[float, float]:\n",
        "        \"\"\"Validate for one epoch.\"\"\"\n",
        "        model.eval()\n",
        "        total_loss = 0.0\n",
        "        all_preds = []\n",
        "        all_labels = []\n",
        "        all_probs = []\n",
        "\n",
        "        with torch.no_grad():\n",
        "            for images, labels in tqdm(val_loader, desc=\"Validation\"):\n",
        "                images, labels = images.to(self.device), labels.to(self.device)\n",
        "\n",
        "                outputs = model(images)\n",
        "                loss = criterion(outputs, labels)\n",
        "                total_loss += loss.item()\n",
        "\n",
        "                probs = F.softmax(outputs, dim=1)\n",
        "                preds = outputs.argmax(dim=1)\n",
        "\n",
        "                all_preds.extend(preds.cpu().numpy())\n",
        "                all_labels.extend(labels.cpu().numpy())\n",
        "                all_probs.extend(probs[:, 1].cpu().numpy())  # Probability of malignant\n",
        "\n",
        "        avg_loss = total_loss / len(val_loader)\n",
        "        auc_roc = roc_auc_score(all_labels, all_probs)\n",
        "\n",
        "        return avg_loss, auc_roc\n",
        "\n",
        "    def test_model(self, model: nn.Module, test_loader: DataLoader) -> Dict[str, float]:\n",
        "        \"\"\"Test the model and return metrics.\"\"\"\n",
        "        model.eval()\n",
        "        all_preds = []\n",
        "        all_labels = []\n",
        "        all_probs = []\n",
        "\n",
        "        with torch.no_grad():\n",
        "            for images, labels in tqdm(test_loader, desc=\"Testing\"):\n",
        "                images, labels = images.to(self.device), labels.to(self.device)\n",
        "\n",
        "                outputs = model(images)\n",
        "                probs = F.softmax(outputs, dim=1)\n",
        "                preds = outputs.argmax(dim=1)\n",
        "\n",
        "                all_preds.extend(preds.cpu().numpy())\n",
        "                all_labels.extend(labels.cpu().numpy())\n",
        "                all_probs.extend(probs[:, 1].cpu().numpy())\n",
        "\n",
        "        return MetricsCalculator.calculate_metrics(\n",
        "            np.array(all_labels),\n",
        "            np.array(all_preds),\n",
        "            np.array(all_probs)\n",
        "        )\n",
        "\n",
        "    def train_magnification(self, splits: Dict, magnification: str,\n",
        "                          epochs: int = 100) -> Dict[str, float]:\n",
        "        \"\"\"Train model for a specific magnification.\"\"\"\n",
        "\n",
        "        print(f\"\\n{'='*60}\")\n",
        "        print(f\"Training on {magnification} magnification\")\n",
        "        print(f\"{'='*60}\")\n",
        "\n",
        "        # Create data loaders\n",
        "        data_loaders = self.create_data_loaders(splits, magnification)\n",
        "\n",
        "        # Initialize model\n",
        "        model = TumorClassifier(num_classes=2, dropout_rate=0.5)\n",
        "        model.to(self.device)\n",
        "\n",
        "        # Loss function\n",
        "        criterion = LabelSmoothingCrossEntropy(smoothing=0.1)\n",
        "\n",
        "        # Phase 1: Train classifier head with frozen backbone\n",
        "        print(\"\\nPhase 1: Training classifier head (frozen backbone)\")\n",
        "        model.freeze_backbone()\n",
        "\n",
        "        optimizer = Adam(filter(lambda p: p.requires_grad, model.parameters()),\n",
        "                        lr=0.001, weight_decay=1e-4)\n",
        "        scheduler = ReduceLROnPlateau(optimizer, mode='max', factor=0.5,\n",
        "                                    patience=5, verbose=True)\n",
        "        early_stopping = EarlyStopping(patience=10, mode='max')\n",
        "\n",
        "        best_auc = 0.0\n",
        "        best_model_state = None\n",
        "\n",
        "        for epoch in range(epochs // 2):\n",
        "            # Training\n",
        "            train_loss = self.train_epoch(model, data_loaders['train'],\n",
        "                                        criterion, optimizer)\n",
        "\n",
        "            # Validation\n",
        "            val_loss, val_auc = self.validate_epoch(model, data_loaders['val'],\n",
        "                                                  criterion)\n",
        "\n",
        "            scheduler.step(val_auc)\n",
        "            early_stopping(val_auc)\n",
        "\n",
        "            print(f\"Epoch {epoch+1:3d}: Train Loss: {train_loss:.4f}, \"\n",
        "                  f\"Val Loss: {val_loss:.4f}, Val AUC: {val_auc:.4f}\")\n",
        "\n",
        "            # Save best model\n",
        "            if val_auc > best_auc:\n",
        "                best_auc = val_auc\n",
        "                best_model_state = model.state_dict().copy()\n",
        "\n",
        "            if early_stopping.early_stop:\n",
        "                print(f\"Early stopping at epoch {epoch+1}\")\n",
        "                break\n",
        "\n",
        "        # Load best model from Phase 1\n",
        "        model.load_state_dict(best_model_state)\n",
        "\n",
        "        # Phase 2: Fine-tune with unfrozen last conv layers\n",
        "        print(\"\\nPhase 2: Fine-tuning with unfrozen last conv layers\")\n",
        "        model.unfreeze_last_conv_layers(num_layers=4)\n",
        "\n",
        "        optimizer = Adam(filter(lambda p: p.requires_grad, model.parameters()),\n",
        "                        lr=0.0001, weight_decay=1e-4)\n",
        "        scheduler = ReduceLROnPlateau(optimizer, mode='max', factor=0.5,\n",
        "                                    patience=5, verbose=True)\n",
        "        early_stopping = EarlyStopping(patience=10, mode='max')\n",
        "\n",
        "        for epoch in range(epochs // 2):\n",
        "            # Training\n",
        "            train_loss = self.train_epoch(model, data_loaders['train'],\n",
        "                                        criterion, optimizer)\n",
        "\n",
        "            # Validation\n",
        "            val_loss, val_auc = self.validate_epoch(model, data_loaders['val'],\n",
        "                                                  criterion)\n",
        "\n",
        "            scheduler.step(val_auc)\n",
        "            early_stopping(val_auc)\n",
        "\n",
        "            print(f\"Epoch {epoch+1:3d}: Train Loss: {train_loss:.4f}, \"\n",
        "                  f\"Val Loss: {val_loss:.4f}, Val AUC: {val_auc:.4f}\")\n",
        "\n",
        "            # Save best model\n",
        "            if val_auc > best_auc:\n",
        "                best_auc = val_auc\n",
        "                best_model_state = model.state_dict().copy()\n",
        "\n",
        "            if early_stopping.early_stop:\n",
        "                print(f\"Early stopping at epoch {epoch+1}\")\n",
        "                break\n",
        "\n",
        "        # Load best model and test\n",
        "        model.load_state_dict(best_model_state)\n",
        "        test_metrics = self.test_model(model, data_loaders['test'])\n",
        "\n",
        "        print(f\"\\nBest validation AUC: {best_auc:.4f}\")\n",
        "        print(f\"Test metrics:\")\n",
        "        for metric, value in test_metrics.items():\n",
        "            if metric != 'confusion_matrix':\n",
        "                print(f\"  {metric}: {value:.4f}\")\n",
        "\n",
        "        # Plot confusion matrix\n",
        "        cm = test_metrics['confusion_matrix']\n",
        "        MetricsCalculator.plot_confusion_matrix(cm, f\"Confusion Matrix - {magnification}\")\n",
        "\n",
        "        return test_metrics\n",
        "\n",
        "    def run_all_experiments(self, data_dir: str) -> pd.DataFrame:\n",
        "        \"\"\"Run experiments for all magnifications.\"\"\"\n",
        "\n",
        "        print(\"Starting BreakHis tumor classification experiments...\")\n",
        "\n",
        "        # Parse dataset\n",
        "        data_info = self.parse_dataset()\n",
        "\n",
        "        # Create patient-level splits\n",
        "        splits = self.create_patient_splits(data_info)\n",
        "\n",
        "        # Run experiments for each magnification\n",
        "        magnifications = ['40X', '100X', '200X', '400X', 'All']\n",
        "        results = []\n",
        "\n",
        "        for mag in magnifications:\n",
        "            print(f\"\\nStarting experiment for {mag}...\")\n",
        "            metrics = self.train_magnification(splits, mag)\n",
        "\n",
        "            result = {\n",
        "                'Magnification': mag,\n",
        "                'Accuracy': metrics['accuracy'],\n",
        "                'Precision': metrics['precision'],\n",
        "                'Recall': metrics['recall'],\n",
        "                'Specificity': metrics['specificity'],\n",
        "                'F1': metrics['f1'],\n",
        "                'AUC-ROC': metrics['auc_roc']\n",
        "            }\n",
        "            results.append(result)\n",
        "\n",
        "            # Store confusion matrix separately\n",
        "            self.results[mag] = {\n",
        "                'metrics': result,\n",
        "                'confusion_matrix': metrics['confusion_matrix']\n",
        "            }\n",
        "\n",
        "        # Create results DataFrame\n",
        "        results_df = pd.DataFrame(results)\n",
        "\n",
        "        # Display results table\n",
        "        print(\"\\n\" + \"=\"*80)\n",
        "        print(\"FINAL RESULTS TABLE\")\n",
        "        print(\"=\"*80)\n",
        "        print(results_df.to_string(index=False, float_format=lambda x: f'{x:.4f}'))\n",
        "\n",
        "        return results_df"
      ],
      "metadata": {
        "id": "FaHjQVWamsJ_"
      },
      "execution_count": 23,
      "outputs": []
    },
    {
      "cell_type": "code",
      "source": [
        "def main():\n",
        "    \"\"\"Main function to run the experiments.\"\"\"\n",
        "\n",
        "    # Download dataset using kagglehub\n",
        "    import kagglehub\n",
        "\n",
        "    # Download dataset\n",
        "    path = kagglehub.dataset_download(\"ambarish/breakhis\")\n",
        "    print(\"Path to dataset files:\", path)\n",
        "\n",
        "    # Configuration\n",
        "    DATA_DIR = path  # Use the downloaded path\n",
        "    BATCH_SIZE = 32\n",
        "    NUM_WORKERS = 4\n",
        "    DEVICE = 'cuda' if torch.cuda.is_available() else 'cpu'\n",
        "\n",
        "    print(f\"Using device: {DEVICE}\")\n",
        "\n",
        "    # Initialize trainer\n",
        "    trainer = BreakHisTrainer(\n",
        "        data_dir=DATA_DIR,\n",
        "        batch_size=BATCH_SIZE,\n",
        "        num_workers=NUM_WORKERS,\n",
        "        device=DEVICE\n",
        "    )\n",
        "\n",
        "    # Run all experiments\n",
        "    results_df = trainer.run_all_experiments(DATA_DIR)\n",
        "\n",
        "    # Save results\n",
        "    results_df.to_csv('breakhis_results.csv', index=False)\n",
        "    print(\"\\nResults saved to 'breakhis_results.csv'\")\n",
        "\n",
        "    # Display final summary\n",
        "    print(\"\\n\" + \"=\"*80)\n",
        "    print(\"EXPERIMENT SUMMARY\")\n",
        "    print(\"=\"*80)\n",
        "    print(f\"Average Accuracy: {results_df['Accuracy'].mean():.4f}\")\n",
        "    print(f\"Average AUC-ROC: {results_df['AUC-ROC'].mean():.4f}\")\n",
        "    print(f\"Best performing magnification: {results_df.loc[results_df['Accuracy'].idxmax(), 'Magnification']}\")\n",
        "\n",
        "    return results_df"
      ],
      "metadata": {
        "id": "zuXbK4r-mvBn"
      },
      "execution_count": 24,
      "outputs": []
    },
    {
      "cell_type": "code",
      "source": [
        "\n",
        "if __name__ == \"__main__\":\n",
        "    results = main()"
      ],
      "metadata": {
        "colab": {
          "base_uri": "https://localhost:8080/",
          "height": 1000
        },
        "id": "jeXI6UzZm8o1",
        "outputId": "74bef869-dee0-4df1-b024-88678c9b9aae"
      },
      "execution_count": 25,
      "outputs": [
        {
          "metadata": {
            "tags": null
          },
          "name": "stdout",
          "output_type": "stream",
          "text": [
            "Path to dataset files: /kaggle/input/breakhis\n",
            "Using device: cuda\n",
            "Starting BreakHis tumor classification experiments...\n",
            "Parsing BreakHis dataset...\n",
            "Found images using pattern: /kaggle/input/breakhis/BreaKHis_v1/BreaKHis_v1/histology_slides/breast/**/*.png\n",
            "Found 7909 image files\n",
            "Successfully parsed 7909 images\n",
            "Benign: 2480\n",
            "Malignant: 5429\n",
            "Magnifications: {'200X', '100X', '400X', '40X'}\n",
            "Unique patients: 82\n",
            "\n",
            "40X - Train: 1172, Val: 382, Test: 441\n",
            "\n",
            "100X - Train: 1201, Val: 403, Test: 477\n",
            "\n",
            "200X - Train: 1188, Val: 382, Test: 443\n",
            "\n",
            "400X - Train: 1059, Val: 367, Test: 394\n",
            "\n",
            "All - Train: 4620, Val: 1534, Test: 1755\n",
            "\n",
            "Starting experiment for 40X...\n",
            "\n",
            "============================================================\n",
            "Training on 40X magnification\n",
            "============================================================\n"
          ]
        },
        {
          "metadata": {
            "tags": null
          },
          "name": "stderr",
          "output_type": "stream",
          "text": [
            "Downloading: \"https://download.pytorch.org/models/vgg19-dcbb9e9d.pth\" to /root/.cache/torch/hub/checkpoints/vgg19-dcbb9e9d.pth\n",
            "100%|██████████| 548M/548M [00:07<00:00, 76.7MB/s]\n"
          ]
        },
        {
          "metadata": {
            "tags": null
          },
          "name": "stdout",
          "output_type": "stream",
          "text": [
            "\n",
            "Phase 1: Training classifier head (frozen backbone)\n"
          ]
        },
        {
          "metadata": {
            "tags": null
          },
          "name": "stderr",
          "output_type": "stream",
          "text": [
            "Training: 100%|██████████| 37/37 [00:23<00:00,  1.55it/s]\n",
            "Validation: 100%|██████████| 12/12 [00:06<00:00,  1.97it/s]\n"
          ]
        },
        {
          "metadata": {
            "tags": null
          },
          "name": "stdout",
          "output_type": "stream",
          "text": [
            "Epoch   1: Train Loss: 2.7136, Val Loss: 0.6922, Val AUC: 0.7829\n"
          ]
        },
        {
          "metadata": {
            "tags": null
          },
          "name": "stderr",
          "output_type": "stream",
          "text": [
            "Training: 100%|██████████| 37/37 [00:23<00:00,  1.55it/s]\n",
            "Validation: 100%|██████████| 12/12 [00:05<00:00,  2.14it/s]\n"
          ]
        },
        {
          "metadata": {
            "tags": null
          },
          "name": "stdout",
          "output_type": "stream",
          "text": [
            "Epoch   2: Train Loss: 0.6031, Val Loss: 0.6121, Val AUC: 0.7154\n"
          ]
        },
        {
          "metadata": {
            "tags": null
          },
          "name": "stderr",
          "output_type": "stream",
          "text": [
            "Training: 100%|██████████| 37/37 [00:23<00:00,  1.57it/s]\n",
            "Validation: 100%|██████████| 12/12 [00:06<00:00,  1.82it/s]\n"
          ]
        },
        {
          "metadata": {
            "tags": null
          },
          "name": "stdout",
          "output_type": "stream",
          "text": [
            "Epoch   3: Train Loss: 0.5640, Val Loss: 0.6896, Val AUC: 0.7360\n"
          ]
        },
        {
          "metadata": {
            "tags": null
          },
          "name": "stderr",
          "output_type": "stream",
          "text": [
            "Training: 100%|██████████| 37/37 [00:22<00:00,  1.68it/s]\n",
            "Validation: 100%|██████████| 12/12 [00:06<00:00,  1.81it/s]\n"
          ]
        },
        {
          "metadata": {
            "tags": null
          },
          "name": "stdout",
          "output_type": "stream",
          "text": [
            "Epoch   4: Train Loss: 0.5348, Val Loss: 0.6005, Val AUC: 0.7256\n"
          ]
        },
        {
          "metadata": {
            "tags": null
          },
          "name": "stderr",
          "output_type": "stream",
          "text": [
            "Training: 100%|██████████| 37/37 [00:23<00:00,  1.59it/s]\n",
            "Validation: 100%|██████████| 12/12 [00:05<00:00,  2.12it/s]\n"
          ]
        },
        {
          "metadata": {
            "tags": null
          },
          "name": "stdout",
          "output_type": "stream",
          "text": [
            "Epoch   5: Train Loss: 0.5445, Val Loss: 0.6109, Val AUC: 0.7462\n"
          ]
        },
        {
          "metadata": {
            "tags": null
          },
          "name": "stderr",
          "output_type": "stream",
          "text": [
            "Training: 100%|██████████| 37/37 [00:23<00:00,  1.60it/s]\n",
            "Validation: 100%|██████████| 12/12 [00:05<00:00,  2.16it/s]\n"
          ]
        },
        {
          "metadata": {
            "tags": null
          },
          "name": "stdout",
          "output_type": "stream",
          "text": [
            "Epoch   6: Train Loss: 0.5335, Val Loss: 0.6536, Val AUC: 0.7029\n"
          ]
        },
        {
          "metadata": {
            "tags": null
          },
          "name": "stderr",
          "output_type": "stream",
          "text": [
            "Training: 100%|██████████| 37/37 [00:23<00:00,  1.61it/s]\n",
            "Validation: 100%|██████████| 12/12 [00:06<00:00,  1.93it/s]\n"
          ]
        },
        {
          "metadata": {
            "tags": null
          },
          "name": "stdout",
          "output_type": "stream",
          "text": [
            "Epoch   7: Train Loss: 0.5204, Val Loss: 0.6362, Val AUC: 0.6963\n"
          ]
        },
        {
          "metadata": {
            "tags": null
          },
          "name": "stderr",
          "output_type": "stream",
          "text": [
            "Training: 100%|██████████| 37/37 [00:22<00:00,  1.68it/s]\n",
            "Validation: 100%|██████████| 12/12 [00:06<00:00,  1.81it/s]\n"
          ]
        },
        {
          "metadata": {
            "tags": null
          },
          "name": "stdout",
          "output_type": "stream",
          "text": [
            "Epoch   8: Train Loss: 0.5210, Val Loss: 0.5834, Val AUC: 0.7485\n"
          ]
        },
        {
          "metadata": {
            "tags": null
          },
          "name": "stderr",
          "output_type": "stream",
          "text": [
            "Training: 100%|██████████| 37/37 [00:22<00:00,  1.68it/s]\n",
            "Validation: 100%|██████████| 12/12 [00:06<00:00,  1.96it/s]\n"
          ]
        },
        {
          "metadata": {
            "tags": null
          },
          "name": "stdout",
          "output_type": "stream",
          "text": [
            "Epoch   9: Train Loss: 0.5209, Val Loss: 0.6046, Val AUC: 0.7413\n"
          ]
        },
        {
          "metadata": {
            "tags": null
          },
          "name": "stderr",
          "output_type": "stream",
          "text": [
            "Training: 100%|██████████| 37/37 [00:22<00:00,  1.61it/s]\n",
            "Validation: 100%|██████████| 12/12 [00:05<00:00,  2.07it/s]\n"
          ]
        },
        {
          "metadata": {
            "tags": null
          },
          "name": "stdout",
          "output_type": "stream",
          "text": [
            "Epoch  10: Train Loss: 0.4909, Val Loss: 0.6060, Val AUC: 0.7537\n"
          ]
        },
        {
          "metadata": {
            "tags": null
          },
          "name": "stderr",
          "output_type": "stream",
          "text": [
            "Training: 100%|██████████| 37/37 [00:23<00:00,  1.60it/s]\n",
            "Validation: 100%|██████████| 12/12 [00:06<00:00,  1.95it/s]\n"
          ]
        },
        {
          "metadata": {
            "tags": null
          },
          "name": "stdout",
          "output_type": "stream",
          "text": [
            "Epoch  11: Train Loss: 0.5001, Val Loss: 0.6363, Val AUC: 0.7588\n",
            "Early stopping at epoch 11\n",
            "\n",
            "Phase 2: Fine-tuning with unfrozen last conv layers\n"
          ]
        },
        {
          "metadata": {
            "tags": null
          },
          "name": "stderr",
          "output_type": "stream",
          "text": [
            "Training: 100%|██████████| 37/37 [00:22<00:00,  1.64it/s]\n",
            "Validation: 100%|██████████| 12/12 [00:06<00:00,  1.78it/s]\n"
          ]
        },
        {
          "metadata": {
            "tags": null
          },
          "name": "stdout",
          "output_type": "stream",
          "text": [
            "Epoch   1: Train Loss: 0.4829, Val Loss: 0.5783, Val AUC: 0.8172\n"
          ]
        },
        {
          "metadata": {
            "tags": null
          },
          "name": "stderr",
          "output_type": "stream",
          "text": [
            "Training: 100%|██████████| 37/37 [00:22<00:00,  1.62it/s]\n",
            "Validation: 100%|██████████| 12/12 [00:06<00:00,  1.97it/s]\n"
          ]
        },
        {
          "metadata": {
            "tags": null
          },
          "name": "stdout",
          "output_type": "stream",
          "text": [
            "Epoch   2: Train Loss: 0.4561, Val Loss: 0.5932, Val AUC: 0.8333\n"
          ]
        },
        {
          "metadata": {
            "tags": null
          },
          "name": "stderr",
          "output_type": "stream",
          "text": [
            "Training: 100%|██████████| 37/37 [00:23<00:00,  1.57it/s]\n",
            "Validation: 100%|██████████| 12/12 [00:05<00:00,  2.15it/s]\n"
          ]
        },
        {
          "metadata": {
            "tags": null
          },
          "name": "stdout",
          "output_type": "stream",
          "text": [
            "Epoch   3: Train Loss: 0.4331, Val Loss: 0.5216, Val AUC: 0.8438\n"
          ]
        },
        {
          "metadata": {
            "tags": null
          },
          "name": "stderr",
          "output_type": "stream",
          "text": [
            "Training: 100%|██████████| 37/37 [00:23<00:00,  1.59it/s]\n",
            "Validation: 100%|██████████| 12/12 [00:06<00:00,  1.89it/s]\n"
          ]
        },
        {
          "metadata": {
            "tags": null
          },
          "name": "stdout",
          "output_type": "stream",
          "text": [
            "Epoch   4: Train Loss: 0.4109, Val Loss: 0.5620, Val AUC: 0.8529\n"
          ]
        },
        {
          "metadata": {
            "tags": null
          },
          "name": "stderr",
          "output_type": "stream",
          "text": [
            "Training: 100%|██████████| 37/37 [00:22<00:00,  1.65it/s]\n",
            "Validation: 100%|██████████| 12/12 [00:06<00:00,  1.78it/s]\n"
          ]
        },
        {
          "metadata": {
            "tags": null
          },
          "name": "stdout",
          "output_type": "stream",
          "text": [
            "Epoch   5: Train Loss: 0.3985, Val Loss: 0.6295, Val AUC: 0.8410\n"
          ]
        },
        {
          "metadata": {
            "tags": null
          },
          "name": "stderr",
          "output_type": "stream",
          "text": [
            "Training: 100%|██████████| 37/37 [00:23<00:00,  1.59it/s]\n",
            "Validation: 100%|██████████| 12/12 [00:05<00:00,  2.10it/s]\n"
          ]
        },
        {
          "metadata": {
            "tags": null
          },
          "name": "stdout",
          "output_type": "stream",
          "text": [
            "Epoch   6: Train Loss: 0.4041, Val Loss: 0.6319, Val AUC: 0.8078\n"
          ]
        },
        {
          "metadata": {
            "tags": null
          },
          "name": "stderr",
          "output_type": "stream",
          "text": [
            "Training: 100%|██████████| 37/37 [00:23<00:00,  1.60it/s]\n",
            "Validation: 100%|██████████| 12/12 [00:05<00:00,  2.11it/s]\n"
          ]
        },
        {
          "metadata": {
            "tags": null
          },
          "name": "stdout",
          "output_type": "stream",
          "text": [
            "Epoch   7: Train Loss: 0.3944, Val Loss: 0.5754, Val AUC: 0.8405\n"
          ]
        },
        {
          "metadata": {
            "tags": null
          },
          "name": "stderr",
          "output_type": "stream",
          "text": [
            "Training: 100%|██████████| 37/37 [00:23<00:00,  1.58it/s]\n",
            "Validation: 100%|██████████| 12/12 [00:06<00:00,  1.82it/s]\n"
          ]
        },
        {
          "metadata": {
            "tags": null
          },
          "name": "stdout",
          "output_type": "stream",
          "text": [
            "Epoch   8: Train Loss: 0.3871, Val Loss: 0.5178, Val AUC: 0.8373\n"
          ]
        },
        {
          "metadata": {
            "tags": null
          },
          "name": "stderr",
          "output_type": "stream",
          "text": [
            "Training: 100%|██████████| 37/37 [00:22<00:00,  1.63it/s]\n",
            "Validation: 100%|██████████| 12/12 [00:05<00:00,  2.14it/s]\n"
          ]
        },
        {
          "metadata": {
            "tags": null
          },
          "name": "stdout",
          "output_type": "stream",
          "text": [
            "Epoch   9: Train Loss: 0.3711, Val Loss: 0.6287, Val AUC: 0.7880\n"
          ]
        },
        {
          "metadata": {
            "tags": null
          },
          "name": "stderr",
          "output_type": "stream",
          "text": [
            "Training: 100%|██████████| 37/37 [00:23<00:00,  1.60it/s]\n",
            "Validation: 100%|██████████| 12/12 [00:05<00:00,  2.10it/s]\n"
          ]
        },
        {
          "metadata": {
            "tags": null
          },
          "name": "stdout",
          "output_type": "stream",
          "text": [
            "Epoch  10: Train Loss: 0.3652, Val Loss: 0.5423, Val AUC: 0.7960\n"
          ]
        },
        {
          "metadata": {
            "tags": null
          },
          "name": "stderr",
          "output_type": "stream",
          "text": [
            "Training: 100%|██████████| 37/37 [00:23<00:00,  1.59it/s]\n",
            "Validation: 100%|██████████| 12/12 [00:06<00:00,  1.81it/s]\n"
          ]
        },
        {
          "metadata": {
            "tags": null
          },
          "name": "stdout",
          "output_type": "stream",
          "text": [
            "Epoch  11: Train Loss: 0.3621, Val Loss: 0.5498, Val AUC: 0.7674\n"
          ]
        },
        {
          "metadata": {
            "tags": null
          },
          "name": "stderr",
          "output_type": "stream",
          "text": [
            "Training: 100%|██████████| 37/37 [00:22<00:00,  1.67it/s]\n",
            "Validation: 100%|██████████| 12/12 [00:06<00:00,  1.85it/s]\n"
          ]
        },
        {
          "metadata": {
            "tags": null
          },
          "name": "stdout",
          "output_type": "stream",
          "text": [
            "Epoch  12: Train Loss: 0.3541, Val Loss: 0.5678, Val AUC: 0.7924\n"
          ]
        },
        {
          "metadata": {
            "tags": null
          },
          "name": "stderr",
          "output_type": "stream",
          "text": [
            "Training: 100%|██████████| 37/37 [00:23<00:00,  1.59it/s]\n",
            "Validation: 100%|██████████| 12/12 [00:05<00:00,  2.11it/s]\n"
          ]
        },
        {
          "metadata": {
            "tags": null
          },
          "name": "stdout",
          "output_type": "stream",
          "text": [
            "Epoch  13: Train Loss: 0.3525, Val Loss: 0.6150, Val AUC: 0.7632\n"
          ]
        },
        {
          "metadata": {
            "tags": null
          },
          "name": "stderr",
          "output_type": "stream",
          "text": [
            "Training: 100%|██████████| 37/37 [00:23<00:00,  1.58it/s]\n",
            "Validation: 100%|██████████| 12/12 [00:06<00:00,  1.82it/s]\n"
          ]
        },
        {
          "metadata": {
            "tags": null
          },
          "name": "stdout",
          "output_type": "stream",
          "text": [
            "Epoch  14: Train Loss: 0.3532, Val Loss: 0.6256, Val AUC: 0.7885\n",
            "Early stopping at epoch 14\n"
          ]
        },
        {
          "metadata": {
            "tags": null
          },
          "name": "stderr",
          "output_type": "stream",
          "text": [
            "Testing: 100%|██████████| 14/14 [00:07<00:00,  2.00it/s]\n"
          ]
        },
        {
          "metadata": {
            "tags": null
          },
          "name": "stdout",
          "output_type": "stream",
          "text": [
            "\n",
            "Best validation AUC: 0.8529\n",
            "Test metrics:\n",
            "  accuracy: 0.8526\n",
            "  precision: 0.9254\n",
            "  recall: 0.8147\n",
            "  specificity: 0.9066\n",
            "  f1: 0.8665\n",
            "  auc_roc: 0.8737\n"
          ]
        },
        {
          "data": {
            "image/png": "[encoded data removed]",
            "text/plain": [
              "<Figure size 800x600 with 2 Axes>"
            ]
          },
          "metadata": {},
          "output_type": "display_data"
        },
        {
          "metadata": {
            "tags": null
          },
          "name": "stdout",
          "output_type": "stream",
          "text": [
            "\n",
            "Starting experiment for 100X...\n",
            "\n",
            "============================================================\n",
            "Training on 100X magnification\n",
            "============================================================\n",
            "\n",
            "Phase 1: Training classifier head (frozen backbone)\n"
          ]
        },
        {
          "metadata": {
            "tags": null
          },
          "name": "stderr",
          "output_type": "stream",
          "text": [
            "Training: 100%|██████████| 38/38 [00:23<00:00,  1.60it/s]\n",
            "Validation: 100%|██████████| 13/13 [00:07<00:00,  1.83it/s]\n"
          ]
        },
        {
          "metadata": {
            "tags": null
          },
          "name": "stdout",
          "output_type": "stream",
          "text": [
            "Epoch   1: Train Loss: 2.6935, Val Loss: 0.5792, Val AUC: 0.7566\n"
          ]
        },
        {
          "metadata": {
            "tags": null
          },
          "name": "stderr",
          "output_type": "stream",
          "text": [
            "Training: 100%|██████████| 38/38 [00:24<00:00,  1.58it/s]\n",
            "Validation: 100%|██████████| 13/13 [00:05<00:00,  2.23it/s]\n"
          ]
        },
        {
          "metadata": {
            "tags": null
          },
          "name": "stdout",
          "output_type": "stream",
          "text": [
            "Epoch   2: Train Loss: 0.6069, Val Loss: 0.6056, Val AUC: 0.7870\n"
          ]
        },
        {
          "metadata": {
            "tags": null
          },
          "name": "stderr",
          "output_type": "stream",
          "text": [
            "Training: 100%|██████████| 38/38 [00:23<00:00,  1.61it/s]\n",
            "Validation: 100%|██████████| 13/13 [00:06<00:00,  1.90it/s]\n"
          ]
        },
        {
          "metadata": {
            "tags": null
          },
          "name": "stdout",
          "output_type": "stream",
          "text": [
            "Epoch   3: Train Loss: 0.5753, Val Loss: 0.6219, Val AUC: 0.7824\n"
          ]
        },
        {
          "metadata": {
            "tags": null
          },
          "name": "stderr",
          "output_type": "stream",
          "text": [
            "Training: 100%|██████████| 38/38 [00:23<00:00,  1.63it/s]\n",
            "Validation: 100%|██████████| 13/13 [00:06<00:00,  2.13it/s]\n"
          ]
        },
        {
          "metadata": {
            "tags": null
          },
          "name": "stdout",
          "output_type": "stream",
          "text": [
            "Epoch   4: Train Loss: 0.5451, Val Loss: 0.6195, Val AUC: 0.8022\n"
          ]
        },
        {
          "metadata": {
            "tags": null
          },
          "name": "stderr",
          "output_type": "stream",
          "text": [
            "Training: 100%|██████████| 38/38 [00:23<00:00,  1.60it/s]\n",
            "Validation: 100%|██████████| 13/13 [00:05<00:00,  2.21it/s]\n"
          ]
        },
        {
          "metadata": {
            "tags": null
          },
          "name": "stdout",
          "output_type": "stream",
          "text": [
            "Epoch   5: Train Loss: 0.5499, Val Loss: 0.5529, Val AUC: 0.8091\n"
          ]
        },
        {
          "metadata": {
            "tags": null
          },
          "name": "stderr",
          "output_type": "stream",
          "text": [
            "Training: 100%|██████████| 38/38 [00:23<00:00,  1.62it/s]\n",
            "Validation: 100%|██████████| 13/13 [00:06<00:00,  1.90it/s]\n"
          ]
        },
        {
          "metadata": {
            "tags": null
          },
          "name": "stdout",
          "output_type": "stream",
          "text": [
            "Epoch   6: Train Loss: 0.5430, Val Loss: 0.5694, Val AUC: 0.8147\n"
          ]
        },
        {
          "metadata": {
            "tags": null
          },
          "name": "stderr",
          "output_type": "stream",
          "text": [
            "Training: 100%|██████████| 38/38 [00:23<00:00,  1.61it/s]\n",
            "Validation: 100%|██████████| 13/13 [00:05<00:00,  2.21it/s]\n"
          ]
        },
        {
          "metadata": {
            "tags": null
          },
          "name": "stdout",
          "output_type": "stream",
          "text": [
            "Epoch   7: Train Loss: 0.5521, Val Loss: 0.5546, Val AUC: 0.8098\n"
          ]
        },
        {
          "metadata": {
            "tags": null
          },
          "name": "stderr",
          "output_type": "stream",
          "text": [
            "Training: 100%|██████████| 38/38 [00:23<00:00,  1.61it/s]\n",
            "Validation: 100%|██████████| 13/13 [00:06<00:00,  2.13it/s]\n"
          ]
        },
        {
          "metadata": {
            "tags": null
          },
          "name": "stdout",
          "output_type": "stream",
          "text": [
            "Epoch   8: Train Loss: 0.5478, Val Loss: 0.6131, Val AUC: 0.8055\n"
          ]
        },
        {
          "metadata": {
            "tags": null
          },
          "name": "stderr",
          "output_type": "stream",
          "text": [
            "Training: 100%|██████████| 38/38 [00:23<00:00,  1.65it/s]\n",
            "Validation: 100%|██████████| 13/13 [00:06<00:00,  1.90it/s]\n"
          ]
        },
        {
          "metadata": {
            "tags": null
          },
          "name": "stdout",
          "output_type": "stream",
          "text": [
            "Epoch   9: Train Loss: 0.5257, Val Loss: 0.5658, Val AUC: 0.8041\n"
          ]
        },
        {
          "metadata": {
            "tags": null
          },
          "name": "stderr",
          "output_type": "stream",
          "text": [
            "Training: 100%|██████████| 38/38 [00:23<00:00,  1.62it/s]\n",
            "Validation: 100%|██████████| 13/13 [00:05<00:00,  2.25it/s]\n"
          ]
        },
        {
          "metadata": {
            "tags": null
          },
          "name": "stdout",
          "output_type": "stream",
          "text": [
            "Epoch  10: Train Loss: 0.5196, Val Loss: 0.5672, Val AUC: 0.8268\n"
          ]
        },
        {
          "metadata": {
            "tags": null
          },
          "name": "stderr",
          "output_type": "stream",
          "text": [
            "Training: 100%|██████████| 38/38 [00:23<00:00,  1.61it/s]\n",
            "Validation: 100%|██████████| 13/13 [00:06<00:00,  2.01it/s]\n"
          ]
        },
        {
          "metadata": {
            "tags": null
          },
          "name": "stdout",
          "output_type": "stream",
          "text": [
            "Epoch  11: Train Loss: 0.5353, Val Loss: 0.5673, Val AUC: 0.8098\n"
          ]
        },
        {
          "metadata": {
            "tags": null
          },
          "name": "stderr",
          "output_type": "stream",
          "text": [
            "Training: 100%|██████████| 38/38 [00:22<00:00,  1.68it/s]\n",
            "Validation: 100%|██████████| 13/13 [00:06<00:00,  1.88it/s]\n"
          ]
        },
        {
          "metadata": {
            "tags": null
          },
          "name": "stdout",
          "output_type": "stream",
          "text": [
            "Epoch  12: Train Loss: 0.5375, Val Loss: 0.6196, Val AUC: 0.8364\n"
          ]
        },
        {
          "metadata": {
            "tags": null
          },
          "name": "stderr",
          "output_type": "stream",
          "text": [
            "Training: 100%|██████████| 38/38 [00:23<00:00,  1.61it/s]\n",
            "Validation: 100%|██████████| 13/13 [00:05<00:00,  2.18it/s]\n"
          ]
        },
        {
          "metadata": {
            "tags": null
          },
          "name": "stdout",
          "output_type": "stream",
          "text": [
            "Epoch  13: Train Loss: 0.5280, Val Loss: 0.7071, Val AUC: 0.8390\n"
          ]
        },
        {
          "metadata": {
            "tags": null
          },
          "name": "stderr",
          "output_type": "stream",
          "text": [
            "Training: 100%|██████████| 38/38 [00:23<00:00,  1.62it/s]\n",
            "Validation: 100%|██████████| 13/13 [00:06<00:00,  1.93it/s]\n"
          ]
        },
        {
          "metadata": {
            "tags": null
          },
          "name": "stdout",
          "output_type": "stream",
          "text": [
            "Epoch  14: Train Loss: 0.5375, Val Loss: 0.5660, Val AUC: 0.8311\n"
          ]
        },
        {
          "metadata": {
            "tags": null
          },
          "name": "stderr",
          "output_type": "stream",
          "text": [
            "Training: 100%|██████████| 38/38 [00:22<00:00,  1.67it/s]\n",
            "Validation: 100%|██████████| 13/13 [00:06<00:00,  2.00it/s]\n"
          ]
        },
        {
          "metadata": {
            "tags": null
          },
          "name": "stdout",
          "output_type": "stream",
          "text": [
            "Epoch  15: Train Loss: 0.5203, Val Loss: 0.5664, Val AUC: 0.8339\n"
          ]
        },
        {
          "metadata": {
            "tags": null
          },
          "name": "stderr",
          "output_type": "stream",
          "text": [
            "Training: 100%|██████████| 38/38 [00:23<00:00,  1.62it/s]\n",
            "Validation: 100%|██████████| 13/13 [00:05<00:00,  2.25it/s]\n"
          ]
        },
        {
          "metadata": {
            "tags": null
          },
          "name": "stdout",
          "output_type": "stream",
          "text": [
            "Epoch  16: Train Loss: 0.5277, Val Loss: 0.5565, Val AUC: 0.8258\n"
          ]
        },
        {
          "metadata": {
            "tags": null
          },
          "name": "stderr",
          "output_type": "stream",
          "text": [
            "Training: 100%|██████████| 38/38 [00:23<00:00,  1.63it/s]\n",
            "Validation: 100%|██████████| 13/13 [00:06<00:00,  1.88it/s]\n"
          ]
        },
        {
          "metadata": {
            "tags": null
          },
          "name": "stdout",
          "output_type": "stream",
          "text": [
            "Epoch  17: Train Loss: 0.5072, Val Loss: 0.6448, Val AUC: 0.8249\n"
          ]
        },
        {
          "metadata": {
            "tags": null
          },
          "name": "stderr",
          "output_type": "stream",
          "text": [
            "Training: 100%|██████████| 38/38 [00:22<00:00,  1.68it/s]\n",
            "Validation: 100%|██████████| 13/13 [00:06<00:00,  2.05it/s]\n"
          ]
        },
        {
          "metadata": {
            "tags": null
          },
          "name": "stdout",
          "output_type": "stream",
          "text": [
            "Epoch  18: Train Loss: 0.5206, Val Loss: 0.5440, Val AUC: 0.8100\n"
          ]
        },
        {
          "metadata": {
            "tags": null
          },
          "name": "stderr",
          "output_type": "stream",
          "text": [
            "Training: 100%|██████████| 38/38 [00:23<00:00,  1.62it/s]\n",
            "Validation: 100%|██████████| 13/13 [00:05<00:00,  2.22it/s]\n"
          ]
        },
        {
          "metadata": {
            "tags": null
          },
          "name": "stdout",
          "output_type": "stream",
          "text": [
            "Epoch  19: Train Loss: 0.5134, Val Loss: 0.5760, Val AUC: 0.8363\n"
          ]
        },
        {
          "metadata": {
            "tags": null
          },
          "name": "stderr",
          "output_type": "stream",
          "text": [
            "Training: 100%|██████████| 38/38 [00:23<00:00,  1.63it/s]\n",
            "Validation: 100%|██████████| 13/13 [00:06<00:00,  1.90it/s]\n"
          ]
        },
        {
          "metadata": {
            "tags": null
          },
          "name": "stdout",
          "output_type": "stream",
          "text": [
            "Epoch  20: Train Loss: 0.4848, Val Loss: 0.5653, Val AUC: 0.8426\n"
          ]
        },
        {
          "metadata": {
            "tags": null
          },
          "name": "stderr",
          "output_type": "stream",
          "text": [
            "Training: 100%|██████████| 38/38 [00:22<00:00,  1.67it/s]\n",
            "Validation: 100%|██████████| 13/13 [00:06<00:00,  2.07it/s]\n"
          ]
        },
        {
          "metadata": {
            "tags": null
          },
          "name": "stdout",
          "output_type": "stream",
          "text": [
            "Epoch  21: Train Loss: 0.4963, Val Loss: 0.5788, Val AUC: 0.8329\n"
          ]
        },
        {
          "metadata": {
            "tags": null
          },
          "name": "stderr",
          "output_type": "stream",
          "text": [
            "Training: 100%|██████████| 38/38 [00:23<00:00,  1.61it/s]\n",
            "Validation: 100%|██████████| 13/13 [00:05<00:00,  2.26it/s]\n"
          ]
        },
        {
          "metadata": {
            "tags": null
          },
          "name": "stdout",
          "output_type": "stream",
          "text": [
            "Epoch  22: Train Loss: 0.4777, Val Loss: 0.5981, Val AUC: 0.8334\n"
          ]
        },
        {
          "metadata": {
            "tags": null
          },
          "name": "stderr",
          "output_type": "stream",
          "text": [
            "Training: 100%|██████████| 38/38 [00:23<00:00,  1.61it/s]\n",
            "Validation: 100%|██████████| 13/13 [00:06<00:00,  1.89it/s]\n"
          ]
        },
        {
          "metadata": {
            "tags": null
          },
          "name": "stdout",
          "output_type": "stream",
          "text": [
            "Epoch  23: Train Loss: 0.4808, Val Loss: 0.5519, Val AUC: 0.8354\n"
          ]
        },
        {
          "metadata": {
            "tags": null
          },
          "name": "stderr",
          "output_type": "stream",
          "text": [
            "Training: 100%|██████████| 38/38 [00:22<00:00,  1.67it/s]\n",
            "Validation: 100%|██████████| 13/13 [00:05<00:00,  2.18it/s]\n"
          ]
        },
        {
          "metadata": {
            "tags": null
          },
          "name": "stdout",
          "output_type": "stream",
          "text": [
            "Epoch  24: Train Loss: 0.4841, Val Loss: 0.5709, Val AUC: 0.8228\n"
          ]
        },
        {
          "metadata": {
            "tags": null
          },
          "name": "stderr",
          "output_type": "stream",
          "text": [
            "Training: 100%|██████████| 38/38 [00:23<00:00,  1.61it/s]\n",
            "Validation: 100%|██████████| 13/13 [00:05<00:00,  2.24it/s]\n"
          ]
        },
        {
          "metadata": {
            "tags": null
          },
          "name": "stdout",
          "output_type": "stream",
          "text": [
            "Epoch  25: Train Loss: 0.4806, Val Loss: 0.5443, Val AUC: 0.8216\n"
          ]
        },
        {
          "metadata": {
            "tags": null
          },
          "name": "stderr",
          "output_type": "stream",
          "text": [
            "Training: 100%|██████████| 38/38 [00:23<00:00,  1.60it/s]\n",
            "Validation: 100%|██████████| 13/13 [00:06<00:00,  1.88it/s]\n"
          ]
        },
        {
          "metadata": {
            "tags": null
          },
          "name": "stdout",
          "output_type": "stream",
          "text": [
            "Epoch  26: Train Loss: 0.4760, Val Loss: 0.5745, Val AUC: 0.8276\n"
          ]
        },
        {
          "metadata": {
            "tags": null
          },
          "name": "stderr",
          "output_type": "stream",
          "text": [
            "Training: 100%|██████████| 38/38 [00:23<00:00,  1.63it/s]\n",
            "Validation: 100%|██████████| 13/13 [00:05<00:00,  2.23it/s]\n"
          ]
        },
        {
          "metadata": {
            "tags": null
          },
          "name": "stdout",
          "output_type": "stream",
          "text": [
            "Epoch  27: Train Loss: 0.4662, Val Loss: 0.5714, Val AUC: 0.8307\n"
          ]
        },
        {
          "metadata": {
            "tags": null
          },
          "name": "stderr",
          "output_type": "stream",
          "text": [
            "Training: 100%|██████████| 38/38 [00:23<00:00,  1.63it/s]\n",
            "Validation: 100%|██████████| 13/13 [00:05<00:00,  2.17it/s]\n"
          ]
        },
        {
          "metadata": {
            "tags": null
          },
          "name": "stdout",
          "output_type": "stream",
          "text": [
            "Epoch  28: Train Loss: 0.4481, Val Loss: 0.5949, Val AUC: 0.8305\n"
          ]
        },
        {
          "metadata": {
            "tags": null
          },
          "name": "stderr",
          "output_type": "stream",
          "text": [
            "Training: 100%|██████████| 38/38 [00:23<00:00,  1.62it/s]\n",
            "Validation: 100%|██████████| 13/13 [00:06<00:00,  1.89it/s]\n"
          ]
        },
        {
          "metadata": {
            "tags": null
          },
          "name": "stdout",
          "output_type": "stream",
          "text": [
            "Epoch  29: Train Loss: 0.4612, Val Loss: 0.5913, Val AUC: 0.8335\n"
          ]
        },
        {
          "metadata": {
            "tags": null
          },
          "name": "stderr",
          "output_type": "stream",
          "text": [
            "Training: 100%|██████████| 38/38 [00:23<00:00,  1.65it/s]\n",
            "Validation: 100%|██████████| 13/13 [00:05<00:00,  2.20it/s]\n"
          ]
        },
        {
          "metadata": {
            "tags": null
          },
          "name": "stdout",
          "output_type": "stream",
          "text": [
            "Epoch  30: Train Loss: 0.4529, Val Loss: 0.5741, Val AUC: 0.8331\n",
            "Early stopping at epoch 30\n",
            "\n",
            "Phase 2: Fine-tuning with unfrozen last conv layers\n"
          ]
        },
        {
          "metadata": {
            "tags": null
          },
          "name": "stderr",
          "output_type": "stream",
          "text": [
            "Training: 100%|██████████| 38/38 [00:23<00:00,  1.60it/s]\n",
            "Validation: 100%|██████████| 13/13 [00:06<00:00,  2.01it/s]\n"
          ]
        },
        {
          "metadata": {
            "tags": null
          },
          "name": "stdout",
          "output_type": "stream",
          "text": [
            "Epoch   1: Train Loss: 0.5503, Val Loss: 0.5913, Val AUC: 0.8225\n"
          ]
        },
        {
          "metadata": {
            "tags": null
          },
          "name": "stderr",
          "output_type": "stream",
          "text": [
            "Training: 100%|██████████| 38/38 [00:22<00:00,  1.66it/s]\n",
            "Validation: 100%|██████████| 13/13 [00:06<00:00,  1.89it/s]\n"
          ]
        },
        {
          "metadata": {
            "tags": null
          },
          "name": "stdout",
          "output_type": "stream",
          "text": [
            "Epoch   2: Train Loss: 0.4431, Val Loss: 0.5574, Val AUC: 0.8643\n"
          ]
        },
        {
          "metadata": {
            "tags": null
          },
          "name": "stderr",
          "output_type": "stream",
          "text": [
            "Training: 100%|██████████| 38/38 [00:23<00:00,  1.60it/s]\n",
            "Validation: 100%|██████████| 13/13 [00:05<00:00,  2.17it/s]\n"
          ]
        },
        {
          "metadata": {
            "tags": null
          },
          "name": "stdout",
          "output_type": "stream",
          "text": [
            "Epoch   3: Train Loss: 0.4406, Val Loss: 0.5838, Val AUC: 0.8412\n"
          ]
        },
        {
          "metadata": {
            "tags": null
          },
          "name": "stderr",
          "output_type": "stream",
          "text": [
            "Training: 100%|██████████| 38/38 [00:23<00:00,  1.59it/s]\n",
            "Validation: 100%|██████████| 13/13 [00:06<00:00,  1.88it/s]\n"
          ]
        },
        {
          "metadata": {
            "tags": null
          },
          "name": "stdout",
          "output_type": "stream",
          "text": [
            "Epoch   4: Train Loss: 0.4330, Val Loss: 0.6482, Val AUC: 0.8611\n"
          ]
        },
        {
          "metadata": {
            "tags": null
          },
          "name": "stderr",
          "output_type": "stream",
          "text": [
            "Training: 100%|██████████| 38/38 [00:23<00:00,  1.61it/s]\n",
            "Validation: 100%|██████████| 13/13 [00:06<00:00,  2.12it/s]\n"
          ]
        },
        {
          "metadata": {
            "tags": null
          },
          "name": "stdout",
          "output_type": "stream",
          "text": [
            "Epoch   5: Train Loss: 0.4191, Val Loss: 0.5396, Val AUC: 0.8694\n"
          ]
        },
        {
          "metadata": {
            "tags": null
          },
          "name": "stderr",
          "output_type": "stream",
          "text": [
            "Training: 100%|██████████| 38/38 [00:23<00:00,  1.62it/s]\n",
            "Validation: 100%|██████████| 13/13 [00:05<00:00,  2.22it/s]\n"
          ]
        },
        {
          "metadata": {
            "tags": null
          },
          "name": "stdout",
          "output_type": "stream",
          "text": [
            "Epoch   6: Train Loss: 0.4032, Val Loss: 0.5267, Val AUC: 0.8372\n"
          ]
        },
        {
          "metadata": {
            "tags": null
          },
          "name": "stderr",
          "output_type": "stream",
          "text": [
            "Training: 100%|██████████| 38/38 [00:23<00:00,  1.61it/s]\n",
            "Validation: 100%|██████████| 13/13 [00:07<00:00,  1.86it/s]\n"
          ]
        },
        {
          "metadata": {
            "tags": null
          },
          "name": "stdout",
          "output_type": "stream",
          "text": [
            "Epoch   7: Train Loss: 0.3992, Val Loss: 0.5310, Val AUC: 0.8205\n"
          ]
        },
        {
          "metadata": {
            "tags": null
          },
          "name": "stderr",
          "output_type": "stream",
          "text": [
            "Training: 100%|██████████| 38/38 [00:22<00:00,  1.65it/s]\n",
            "Validation: 100%|██████████| 13/13 [00:05<00:00,  2.18it/s]\n"
          ]
        },
        {
          "metadata": {
            "tags": null
          },
          "name": "stdout",
          "output_type": "stream",
          "text": [
            "Epoch   8: Train Loss: 0.4031, Val Loss: 0.5815, Val AUC: 0.8456\n"
          ]
        },
        {
          "metadata": {
            "tags": null
          },
          "name": "stderr",
          "output_type": "stream",
          "text": [
            "Training: 100%|██████████| 38/38 [00:23<00:00,  1.61it/s]\n",
            "Validation: 100%|██████████| 13/13 [00:05<00:00,  2.19it/s]\n"
          ]
        },
        {
          "metadata": {
            "tags": null
          },
          "name": "stdout",
          "output_type": "stream",
          "text": [
            "Epoch   9: Train Loss: 0.3722, Val Loss: 0.5276, Val AUC: 0.8880\n"
          ]
        },
        {
          "metadata": {
            "tags": null
          },
          "name": "stderr",
          "output_type": "stream",
          "text": [
            "Training: 100%|██████████| 38/38 [00:23<00:00,  1.65it/s]\n",
            "Validation: 100%|██████████| 13/13 [00:06<00:00,  1.89it/s]\n"
          ]
        },
        {
          "metadata": {
            "tags": null
          },
          "name": "stdout",
          "output_type": "stream",
          "text": [
            "Epoch  10: Train Loss: 0.3837, Val Loss: 0.5301, Val AUC: 0.8844\n"
          ]
        },
        {
          "metadata": {
            "tags": null
          },
          "name": "stderr",
          "output_type": "stream",
          "text": [
            "Training: 100%|██████████| 38/38 [00:23<00:00,  1.62it/s]\n",
            "Validation: 100%|██████████| 13/13 [00:05<00:00,  2.19it/s]\n"
          ]
        },
        {
          "metadata": {
            "tags": null
          },
          "name": "stdout",
          "output_type": "stream",
          "text": [
            "Epoch  11: Train Loss: 0.3733, Val Loss: 0.5369, Val AUC: 0.8665\n"
          ]
        },
        {
          "metadata": {
            "tags": null
          },
          "name": "stderr",
          "output_type": "stream",
          "text": [
            "Training: 100%|██████████| 38/38 [00:23<00:00,  1.61it/s]\n",
            "Validation: 100%|██████████| 13/13 [00:06<00:00,  2.07it/s]\n"
          ]
        },
        {
          "metadata": {
            "tags": null
          },
          "name": "stdout",
          "output_type": "stream",
          "text": [
            "Epoch  12: Train Loss: 0.3895, Val Loss: 0.5295, Val AUC: 0.8657\n"
          ]
        },
        {
          "metadata": {
            "tags": null
          },
          "name": "stderr",
          "output_type": "stream",
          "text": [
            "Training: 100%|██████████| 38/38 [00:22<00:00,  1.66it/s]\n",
            "Validation: 100%|██████████| 13/13 [00:06<00:00,  1.86it/s]\n"
          ]
        },
        {
          "metadata": {
            "tags": null
          },
          "name": "stdout",
          "output_type": "stream",
          "text": [
            "Epoch  13: Train Loss: 0.3680, Val Loss: 0.5708, Val AUC: 0.8502\n"
          ]
        },
        {
          "metadata": {
            "tags": null
          },
          "name": "stderr",
          "output_type": "stream",
          "text": [
            "Training: 100%|██████████| 38/38 [00:23<00:00,  1.61it/s]\n",
            "Validation: 100%|██████████| 13/13 [00:05<00:00,  2.19it/s]\n"
          ]
        },
        {
          "metadata": {
            "tags": null
          },
          "name": "stdout",
          "output_type": "stream",
          "text": [
            "Epoch  14: Train Loss: 0.3728, Val Loss: 0.4940, Val AUC: 0.8683\n"
          ]
        },
        {
          "metadata": {
            "tags": null
          },
          "name": "stderr",
          "output_type": "stream",
          "text": [
            "Training: 100%|██████████| 38/38 [00:23<00:00,  1.60it/s]\n",
            "Validation: 100%|██████████| 13/13 [00:06<00:00,  1.92it/s]\n"
          ]
        },
        {
          "metadata": {
            "tags": null
          },
          "name": "stdout",
          "output_type": "stream",
          "text": [
            "Epoch  15: Train Loss: 0.3869, Val Loss: 0.5722, Val AUC: 0.8566\n"
          ]
        },
        {
          "metadata": {
            "tags": null
          },
          "name": "stderr",
          "output_type": "stream",
          "text": [
            "Training: 100%|██████████| 38/38 [00:22<00:00,  1.65it/s]\n",
            "Validation: 100%|██████████| 13/13 [00:06<00:00,  2.03it/s]\n"
          ]
        },
        {
          "metadata": {
            "tags": null
          },
          "name": "stdout",
          "output_type": "stream",
          "text": [
            "Epoch  16: Train Loss: 0.3681, Val Loss: 0.5402, Val AUC: 0.8863\n"
          ]
        },
        {
          "metadata": {
            "tags": null
          },
          "name": "stderr",
          "output_type": "stream",
          "text": [
            "Training: 100%|██████████| 38/38 [00:23<00:00,  1.61it/s]\n",
            "Validation: 100%|██████████| 13/13 [00:05<00:00,  2.23it/s]\n"
          ]
        },
        {
          "metadata": {
            "tags": null
          },
          "name": "stdout",
          "output_type": "stream",
          "text": [
            "Epoch  17: Train Loss: 0.3606, Val Loss: 0.5212, Val AUC: 0.8322\n"
          ]
        },
        {
          "metadata": {
            "tags": null
          },
          "name": "stderr",
          "output_type": "stream",
          "text": [
            "Training: 100%|██████████| 38/38 [00:23<00:00,  1.61it/s]\n",
            "Validation: 100%|██████████| 13/13 [00:06<00:00,  1.92it/s]\n"
          ]
        },
        {
          "metadata": {
            "tags": null
          },
          "name": "stdout",
          "output_type": "stream",
          "text": [
            "Epoch  18: Train Loss: 0.3516, Val Loss: 0.5326, Val AUC: 0.8407\n"
          ]
        },
        {
          "metadata": {
            "tags": null
          },
          "name": "stderr",
          "output_type": "stream",
          "text": [
            "Training: 100%|██████████| 38/38 [00:23<00:00,  1.64it/s]\n",
            "Validation: 100%|██████████| 13/13 [00:05<00:00,  2.20it/s]\n"
          ]
        },
        {
          "metadata": {
            "tags": null
          },
          "name": "stdout",
          "output_type": "stream",
          "text": [
            "Epoch  19: Train Loss: 0.3498, Val Loss: 0.5468, Val AUC: 0.7724\n",
            "Early stopping at epoch 19\n"
          ]
        },
        {
          "metadata": {
            "tags": null
          },
          "name": "stderr",
          "output_type": "stream",
          "text": [
            "Testing: 100%|██████████| 15/15 [00:08<00:00,  1.85it/s]\n"
          ]
        },
        {
          "metadata": {
            "tags": null
          },
          "name": "stdout",
          "output_type": "stream",
          "text": [
            "\n",
            "Best validation AUC: 0.8880\n",
            "Test metrics:\n",
            "  accuracy: 0.9161\n",
            "  precision: 0.9269\n",
            "  recall: 0.9394\n",
            "  specificity: 0.8778\n",
            "  f1: 0.9331\n",
            "  auc_roc: 0.9451\n"
          ]
        },
        {
          "data": {
            "image/png": "[encoded data removed]",
            "text/plain": [
              "<Figure size 800x600 with 2 Axes>"
            ]
          },
          "metadata": {},
          "output_type": "display_data"
        },
        {
          "metadata": {
            "tags": null
          },
          "name": "stdout",
          "output_type": "stream",
          "text": [
            "\n",
            "Starting experiment for 200X...\n",
            "\n",
            "============================================================\n",
            "Training on 200X magnification\n",
            "============================================================\n",
            "\n",
            "Phase 1: Training classifier head (frozen backbone)\n"
          ]
        },
        {
          "metadata": {
            "tags": null
          },
          "name": "stderr",
          "output_type": "stream",
          "text": [
            "Training: 100%|██████████| 38/38 [00:23<00:00,  1.64it/s]\n",
            "Validation: 100%|██████████| 12/12 [00:05<00:00,  2.06it/s]\n"
          ]
        },
        {
          "metadata": {
            "tags": null
          },
          "name": "stdout",
          "output_type": "stream",
          "text": [
            "Epoch   1: Train Loss: 1.7463, Val Loss: 0.6940, Val AUC: 0.7625\n"
          ]
        },
        {
          "metadata": {
            "tags": null
          },
          "name": "stderr",
          "output_type": "stream",
          "text": [
            "Training: 100%|██████████| 38/38 [00:23<00:00,  1.65it/s]\n",
            "Validation: 100%|██████████| 12/12 [00:06<00:00,  1.85it/s]\n"
          ]
        },
        {
          "metadata": {
            "tags": null
          },
          "name": "stdout",
          "output_type": "stream",
          "text": [
            "Epoch   2: Train Loss: 0.5767, Val Loss: 0.7091, Val AUC: 0.7821\n"
          ]
        },
        {
          "metadata": {
            "tags": null
          },
          "name": "stderr",
          "output_type": "stream",
          "text": [
            "Training: 100%|██████████| 38/38 [00:22<00:00,  1.72it/s]\n",
            "Validation: 100%|██████████| 12/12 [00:06<00:00,  1.82it/s]\n"
          ]
        },
        {
          "metadata": {
            "tags": null
          },
          "name": "stdout",
          "output_type": "stream",
          "text": [
            "Epoch   3: Train Loss: 0.5356, Val Loss: 0.6171, Val AUC: 0.7941\n"
          ]
        },
        {
          "metadata": {
            "tags": null
          },
          "name": "stderr",
          "output_type": "stream",
          "text": [
            "Training: 100%|██████████| 38/38 [00:22<00:00,  1.68it/s]\n",
            "Validation: 100%|██████████| 12/12 [00:05<00:00,  2.17it/s]\n"
          ]
        },
        {
          "metadata": {
            "tags": null
          },
          "name": "stdout",
          "output_type": "stream",
          "text": [
            "Epoch   4: Train Loss: 0.5381, Val Loss: 0.5687, Val AUC: 0.7888\n"
          ]
        },
        {
          "metadata": {
            "tags": null
          },
          "name": "stderr",
          "output_type": "stream",
          "text": [
            "Training: 100%|██████████| 38/38 [00:23<00:00,  1.65it/s]\n",
            "Validation: 100%|██████████| 12/12 [00:05<00:00,  2.15it/s]\n"
          ]
        },
        {
          "metadata": {
            "tags": null
          },
          "name": "stdout",
          "output_type": "stream",
          "text": [
            "Epoch   5: Train Loss: 0.5222, Val Loss: 0.5994, Val AUC: 0.7847\n"
          ]
        },
        {
          "metadata": {
            "tags": null
          },
          "name": "stderr",
          "output_type": "stream",
          "text": [
            "Training: 100%|██████████| 38/38 [00:22<00:00,  1.66it/s]\n",
            "Validation: 100%|██████████| 12/12 [00:06<00:00,  1.83it/s]\n"
          ]
        },
        {
          "metadata": {
            "tags": null
          },
          "name": "stdout",
          "output_type": "stream",
          "text": [
            "Epoch   6: Train Loss: 0.5241, Val Loss: 0.5728, Val AUC: 0.8074\n"
          ]
        },
        {
          "metadata": {
            "tags": null
          },
          "name": "stderr",
          "output_type": "stream",
          "text": [
            "Training: 100%|██████████| 38/38 [00:22<00:00,  1.67it/s]\n",
            "Validation: 100%|██████████| 12/12 [00:05<00:00,  2.17it/s]\n"
          ]
        },
        {
          "metadata": {
            "tags": null
          },
          "name": "stdout",
          "output_type": "stream",
          "text": [
            "Epoch   7: Train Loss: 0.5215, Val Loss: 0.5686, Val AUC: 0.8026\n"
          ]
        },
        {
          "metadata": {
            "tags": null
          },
          "name": "stderr",
          "output_type": "stream",
          "text": [
            "Training: 100%|██████████| 38/38 [00:22<00:00,  1.65it/s]\n",
            "Validation: 100%|██████████| 12/12 [00:05<00:00,  2.18it/s]\n"
          ]
        },
        {
          "metadata": {
            "tags": null
          },
          "name": "stdout",
          "output_type": "stream",
          "text": [
            "Epoch   8: Train Loss: 0.5144, Val Loss: 0.5979, Val AUC: 0.8157\n"
          ]
        },
        {
          "metadata": {
            "tags": null
          },
          "name": "stderr",
          "output_type": "stream",
          "text": [
            "Training: 100%|██████████| 38/38 [00:22<00:00,  1.67it/s]\n",
            "Validation: 100%|██████████| 12/12 [00:06<00:00,  1.93it/s]\n"
          ]
        },
        {
          "metadata": {
            "tags": null
          },
          "name": "stdout",
          "output_type": "stream",
          "text": [
            "Epoch   9: Train Loss: 0.5143, Val Loss: 0.5778, Val AUC: 0.8095\n"
          ]
        },
        {
          "metadata": {
            "tags": null
          },
          "name": "stderr",
          "output_type": "stream",
          "text": [
            "Training: 100%|██████████| 38/38 [00:22<00:00,  1.73it/s]\n",
            "Validation: 100%|██████████| 12/12 [00:06<00:00,  1.83it/s]\n"
          ]
        },
        {
          "metadata": {
            "tags": null
          },
          "name": "stdout",
          "output_type": "stream",
          "text": [
            "Epoch  10: Train Loss: 0.5146, Val Loss: 0.5786, Val AUC: 0.8110\n"
          ]
        },
        {
          "metadata": {
            "tags": null
          },
          "name": "stderr",
          "output_type": "stream",
          "text": [
            "Training: 100%|██████████| 38/38 [00:22<00:00,  1.67it/s]\n",
            "Validation: 100%|██████████| 12/12 [00:05<00:00,  2.20it/s]\n"
          ]
        },
        {
          "metadata": {
            "tags": null
          },
          "name": "stdout",
          "output_type": "stream",
          "text": [
            "Epoch  11: Train Loss: 0.5296, Val Loss: 0.5779, Val AUC: 0.8076\n"
          ]
        },
        {
          "metadata": {
            "tags": null
          },
          "name": "stderr",
          "output_type": "stream",
          "text": [
            "Training: 100%|██████████| 38/38 [00:23<00:00,  1.65it/s]\n",
            "Validation: 100%|██████████| 12/12 [00:05<00:00,  2.14it/s]\n"
          ]
        },
        {
          "metadata": {
            "tags": null
          },
          "name": "stdout",
          "output_type": "stream",
          "text": [
            "Epoch  12: Train Loss: 0.5156, Val Loss: 0.5949, Val AUC: 0.7990\n"
          ]
        },
        {
          "output_type": "stream",
          "name": "stderr",
          "text": [
            "Training: 100%|██████████| 38/38 [00:23<00:00,  1.64it/s]\n",
            "Validation: 100%|██████████| 12/12 [00:06<00:00,  1.85it/s]\n"
          ]
        },
        {
          "output_type": "stream",
          "name": "stdout",
          "text": [
            "Epoch  13: Train Loss: 0.5082, Val Loss: 0.6194, Val AUC: 0.8021\n"
          ]
        },
        {
          "output_type": "stream",
          "name": "stderr",
          "text": [
            "Training: 100%|██████████| 38/38 [00:22<00:00,  1.72it/s]\n",
            "Validation: 100%|██████████| 12/12 [00:06<00:00,  1.96it/s]\n"
          ]
        },
        {
          "output_type": "stream",
          "name": "stdout",
          "text": [
            "Epoch  14: Train Loss: 0.4949, Val Loss: 0.6407, Val AUC: 0.8046\n"
          ]
        },
        {
          "output_type": "stream",
          "name": "stderr",
          "text": [
            "Training: 100%|██████████| 38/38 [00:22<00:00,  1.66it/s]\n",
            "Validation: 100%|██████████| 12/12 [00:05<00:00,  2.16it/s]\n"
          ]
        },
        {
          "output_type": "stream",
          "name": "stdout",
          "text": [
            "Epoch  15: Train Loss: 0.5035, Val Loss: 0.6352, Val AUC: 0.8188\n"
          ]
        },
        {
          "output_type": "stream",
          "name": "stderr",
          "text": [
            "Training: 100%|██████████| 38/38 [00:23<00:00,  1.64it/s]\n",
            "Validation: 100%|██████████| 12/12 [00:06<00:00,  2.00it/s]\n"
          ]
        },
        {
          "output_type": "stream",
          "name": "stdout",
          "text": [
            "Epoch  16: Train Loss: 0.4778, Val Loss: 0.6519, Val AUC: 0.8269\n"
          ]
        },
        {
          "output_type": "stream",
          "name": "stderr",
          "text": [
            "Training: 100%|██████████| 38/38 [00:22<00:00,  1.72it/s]\n",
            "Validation: 100%|██████████| 12/12 [00:06<00:00,  1.84it/s]\n"
          ]
        },
        {
          "output_type": "stream",
          "name": "stdout",
          "text": [
            "Epoch  17: Train Loss: 0.4677, Val Loss: 0.6355, Val AUC: 0.8212\n"
          ]
        },
        {
          "output_type": "stream",
          "name": "stderr",
          "text": [
            "Training: 100%|██████████| 38/38 [00:22<00:00,  1.67it/s]\n",
            "Validation: 100%|██████████| 12/12 [00:05<00:00,  2.17it/s]\n"
          ]
        },
        {
          "output_type": "stream",
          "name": "stdout",
          "text": [
            "Epoch  18: Train Loss: 0.4788, Val Loss: 0.5926, Val AUC: 0.8183\n"
          ]
        },
        {
          "output_type": "stream",
          "name": "stderr",
          "text": [
            "Training: 100%|██████████| 38/38 [00:22<00:00,  1.67it/s]\n",
            "Validation: 100%|██████████| 12/12 [00:05<00:00,  2.12it/s]\n"
          ]
        },
        {
          "output_type": "stream",
          "name": "stdout",
          "text": [
            "Epoch  19: Train Loss: 0.4619, Val Loss: 0.6164, Val AUC: 0.8137\n"
          ]
        },
        {
          "output_type": "stream",
          "name": "stderr",
          "text": [
            "Training: 100%|██████████| 38/38 [00:23<00:00,  1.65it/s]\n",
            "Validation: 100%|██████████| 12/12 [00:06<00:00,  1.77it/s]\n"
          ]
        },
        {
          "output_type": "stream",
          "name": "stdout",
          "text": [
            "Epoch  20: Train Loss: 0.4673, Val Loss: 0.5747, Val AUC: 0.8134\n"
          ]
        },
        {
          "output_type": "stream",
          "name": "stderr",
          "text": [
            "Training: 100%|██████████| 38/38 [00:23<00:00,  1.64it/s]\n",
            "Validation: 100%|██████████| 12/12 [00:06<00:00,  1.88it/s]\n"
          ]
        },
        {
          "output_type": "stream",
          "name": "stdout",
          "text": [
            "Epoch  21: Train Loss: 0.4553, Val Loss: 0.6556, Val AUC: 0.8177\n"
          ]
        },
        {
          "output_type": "stream",
          "name": "stderr",
          "text": [
            "Training: 100%|██████████| 38/38 [00:22<00:00,  1.67it/s]\n",
            "Validation: 100%|██████████| 12/12 [00:05<00:00,  2.17it/s]\n"
          ]
        },
        {
          "output_type": "stream",
          "name": "stdout",
          "text": [
            "Epoch  22: Train Loss: 0.4457, Val Loss: 0.5724, Val AUC: 0.8145\n"
          ]
        },
        {
          "output_type": "stream",
          "name": "stderr",
          "text": [
            "Training: 100%|██████████| 38/38 [00:22<00:00,  1.66it/s]\n",
            "Validation: 100%|██████████| 12/12 [00:05<00:00,  2.06it/s]\n"
          ]
        },
        {
          "output_type": "stream",
          "name": "stdout",
          "text": [
            "Epoch  23: Train Loss: 0.4437, Val Loss: 0.5602, Val AUC: 0.8160\n"
          ]
        },
        {
          "output_type": "stream",
          "name": "stderr",
          "text": [
            "Training: 100%|██████████| 38/38 [00:22<00:00,  1.69it/s]\n",
            "Validation: 100%|██████████| 12/12 [00:06<00:00,  1.82it/s]\n"
          ]
        },
        {
          "output_type": "stream",
          "name": "stdout",
          "text": [
            "Epoch  24: Train Loss: 0.4275, Val Loss: 0.5844, Val AUC: 0.8096\n"
          ]
        },
        {
          "output_type": "stream",
          "name": "stderr",
          "text": [
            "Training: 100%|██████████| 38/38 [00:23<00:00,  1.64it/s]\n",
            "Validation: 100%|██████████| 12/12 [00:05<00:00,  2.14it/s]\n"
          ]
        },
        {
          "output_type": "stream",
          "name": "stdout",
          "text": [
            "Epoch  25: Train Loss: 0.4270, Val Loss: 0.5633, Val AUC: 0.8138\n"
          ]
        },
        {
          "output_type": "stream",
          "name": "stderr",
          "text": [
            "Training: 100%|██████████| 38/38 [00:23<00:00,  1.64it/s]\n",
            "Validation: 100%|██████████| 12/12 [00:05<00:00,  2.14it/s]\n"
          ]
        },
        {
          "output_type": "stream",
          "name": "stdout",
          "text": [
            "Epoch  26: Train Loss: 0.4388, Val Loss: 0.5987, Val AUC: 0.8047\n",
            "Early stopping at epoch 26\n",
            "\n",
            "Phase 2: Fine-tuning with unfrozen last conv layers\n"
          ]
        },
        {
          "output_type": "stream",
          "name": "stderr",
          "text": [
            "Training: 100%|██████████| 38/38 [00:23<00:00,  1.61it/s]\n",
            "Validation: 100%|██████████| 12/12 [00:06<00:00,  1.83it/s]\n"
          ]
        },
        {
          "output_type": "stream",
          "name": "stdout",
          "text": [
            "Epoch   1: Train Loss: 0.4786, Val Loss: 0.5708, Val AUC: 0.8132\n"
          ]
        },
        {
          "output_type": "stream",
          "name": "stderr",
          "text": [
            "Training: 100%|██████████| 38/38 [00:23<00:00,  1.63it/s]\n",
            "Validation: 100%|██████████| 12/12 [00:05<00:00,  2.14it/s]\n"
          ]
        },
        {
          "output_type": "stream",
          "name": "stdout",
          "text": [
            "Epoch   2: Train Loss: 0.4530, Val Loss: 0.6209, Val AUC: 0.8029\n"
          ]
        },
        {
          "output_type": "stream",
          "name": "stderr",
          "text": [
            "Training: 100%|██████████| 38/38 [00:23<00:00,  1.63it/s]\n",
            "Validation: 100%|██████████| 12/12 [00:05<00:00,  2.18it/s]\n"
          ]
        },
        {
          "output_type": "stream",
          "name": "stdout",
          "text": [
            "Epoch   3: Train Loss: 0.4248, Val Loss: 0.5798, Val AUC: 0.8587\n"
          ]
        },
        {
          "output_type": "stream",
          "name": "stderr",
          "text": [
            "Training: 100%|██████████| 38/38 [00:23<00:00,  1.61it/s]\n",
            "Validation: 100%|██████████| 12/12 [00:06<00:00,  1.84it/s]\n"
          ]
        },
        {
          "output_type": "stream",
          "name": "stdout",
          "text": [
            "Epoch   4: Train Loss: 0.3935, Val Loss: 0.5263, Val AUC: 0.8603\n"
          ]
        },
        {
          "output_type": "stream",
          "name": "stderr",
          "text": [
            "Training: 100%|██████████| 38/38 [00:22<00:00,  1.67it/s]\n",
            "Validation: 100%|██████████| 12/12 [00:05<00:00,  2.13it/s]\n"
          ]
        },
        {
          "output_type": "stream",
          "name": "stdout",
          "text": [
            "Epoch   5: Train Loss: 0.4060, Val Loss: 0.5071, Val AUC: 0.8750\n"
          ]
        },
        {
          "output_type": "stream",
          "name": "stderr",
          "text": [
            "Training: 100%|██████████| 38/38 [00:23<00:00,  1.62it/s]\n",
            "Validation: 100%|██████████| 12/12 [00:05<00:00,  2.17it/s]\n"
          ]
        },
        {
          "output_type": "stream",
          "name": "stdout",
          "text": [
            "Epoch   6: Train Loss: 0.4084, Val Loss: 0.6348, Val AUC: 0.8281\n"
          ]
        },
        {
          "output_type": "stream",
          "name": "stderr",
          "text": [
            "Training: 100%|██████████| 38/38 [00:23<00:00,  1.64it/s]\n",
            "Validation: 100%|██████████| 12/12 [00:06<00:00,  1.87it/s]\n"
          ]
        },
        {
          "output_type": "stream",
          "name": "stdout",
          "text": [
            "Epoch   7: Train Loss: 0.3920, Val Loss: 0.5920, Val AUC: 0.8402\n"
          ]
        },
        {
          "output_type": "stream",
          "name": "stderr",
          "text": [
            "Training: 100%|██████████| 38/38 [00:22<00:00,  1.70it/s]\n",
            "Validation: 100%|██████████| 12/12 [00:06<00:00,  1.89it/s]\n"
          ]
        },
        {
          "output_type": "stream",
          "name": "stdout",
          "text": [
            "Epoch   8: Train Loss: 0.4037, Val Loss: 0.5460, Val AUC: 0.8420\n"
          ]
        },
        {
          "output_type": "stream",
          "name": "stderr",
          "text": [
            "Training: 100%|██████████| 38/38 [00:23<00:00,  1.61it/s]\n",
            "Validation: 100%|██████████| 12/12 [00:05<00:00,  2.11it/s]\n"
          ]
        },
        {
          "output_type": "stream",
          "name": "stdout",
          "text": [
            "Epoch   9: Train Loss: 0.3950, Val Loss: 0.5269, Val AUC: 0.8521\n"
          ]
        },
        {
          "output_type": "stream",
          "name": "stderr",
          "text": [
            "Training: 100%|██████████| 38/38 [00:24<00:00,  1.57it/s]\n",
            "Validation: 100%|██████████| 12/12 [00:06<00:00,  1.77it/s]\n"
          ]
        },
        {
          "output_type": "stream",
          "name": "stdout",
          "text": [
            "Epoch  10: Train Loss: 0.3802, Val Loss: 0.5458, Val AUC: 0.8023\n"
          ]
        },
        {
          "output_type": "stream",
          "name": "stderr",
          "text": [
            "Training: 100%|██████████| 38/38 [00:24<00:00,  1.55it/s]\n",
            "Validation: 100%|██████████| 12/12 [00:06<00:00,  2.00it/s]\n"
          ]
        },
        {
          "output_type": "stream",
          "name": "stdout",
          "text": [
            "Epoch  11: Train Loss: 0.3690, Val Loss: 0.5568, Val AUC: 0.8220\n"
          ]
        },
        {
          "output_type": "stream",
          "name": "stderr",
          "text": [
            "Training: 100%|██████████| 38/38 [00:24<00:00,  1.53it/s]\n",
            "Validation: 100%|██████████| 12/12 [00:06<00:00,  2.00it/s]\n"
          ]
        },
        {
          "output_type": "stream",
          "name": "stdout",
          "text": [
            "Epoch  12: Train Loss: 0.3606, Val Loss: 0.5833, Val AUC: 0.8123\n"
          ]
        },
        {
          "output_type": "stream",
          "name": "stderr",
          "text": [
            "Training: 100%|██████████| 38/38 [00:23<00:00,  1.60it/s]\n",
            "Validation: 100%|██████████| 12/12 [00:06<00:00,  1.77it/s]\n"
          ]
        },
        {
          "output_type": "stream",
          "name": "stdout",
          "text": [
            "Epoch  13: Train Loss: 0.3546, Val Loss: 0.5615, Val AUC: 0.8328\n"
          ]
        },
        {
          "output_type": "stream",
          "name": "stderr",
          "text": [
            "Training: 100%|██████████| 38/38 [00:24<00:00,  1.58it/s]\n",
            "Validation: 100%|██████████| 12/12 [00:05<00:00,  2.08it/s]\n"
          ]
        },
        {
          "output_type": "stream",
          "name": "stdout",
          "text": [
            "Epoch  14: Train Loss: 0.3525, Val Loss: 0.5741, Val AUC: 0.7755\n"
          ]
        },
        {
          "output_type": "stream",
          "name": "stderr",
          "text": [
            "Training: 100%|██████████| 38/38 [00:24<00:00,  1.57it/s]\n",
            "Validation: 100%|██████████| 12/12 [00:06<00:00,  1.73it/s]\n"
          ]
        },
        {
          "output_type": "stream",
          "name": "stdout",
          "text": [
            "Epoch  15: Train Loss: 0.3484, Val Loss: 0.5799, Val AUC: 0.8135\n",
            "Early stopping at epoch 15\n"
          ]
        },
        {
          "output_type": "stream",
          "name": "stderr",
          "text": [
            "Testing: 100%|██████████| 14/14 [00:06<00:00,  2.03it/s]\n"
          ]
        },
        {
          "output_type": "stream",
          "name": "stdout",
          "text": [
            "\n",
            "Best validation AUC: 0.8750\n",
            "Test metrics:\n",
            "  accuracy: 0.8758\n",
            "  precision: 0.9225\n",
            "  recall: 0.8718\n",
            "  specificity: 0.8824\n",
            "  f1: 0.8964\n",
            "  auc_roc: 0.8917\n"
          ]
        },
        {
          "output_type": "display_data",
          "data": {
            "text/plain": [
              "<Figure size 800x600 with 2 Axes>"
            ],
            "image/png": "[encoded data removed]"
          },
          "metadata": {}
        },
        {
          "output_type": "stream",
          "name": "stdout",
          "text": [
            "\n",
            "Starting experiment for 400X...\n",
            "\n",
            "============================================================\n",
            "Training on 400X magnification\n",
            "============================================================\n",
            "\n",
            "Phase 1: Training classifier head (frozen backbone)\n"
          ]
        },
        {
          "output_type": "stream",
          "name": "stderr",
          "text": [
            "Training: 100%|██████████| 34/34 [00:20<00:00,  1.62it/s]\n",
            "Validation: 100%|██████████| 12/12 [00:06<00:00,  1.77it/s]\n"
          ]
        },
        {
          "output_type": "stream",
          "name": "stdout",
          "text": [
            "Epoch   1: Train Loss: 1.9948, Val Loss: 0.7273, Val AUC: 0.8105\n"
          ]
        },
        {
          "output_type": "stream",
          "name": "stderr",
          "text": [
            "Training: 100%|██████████| 34/34 [00:21<00:00,  1.60it/s]\n",
            "Validation: 100%|██████████| 12/12 [00:05<00:00,  2.07it/s]\n"
          ]
        },
        {
          "output_type": "stream",
          "name": "stdout",
          "text": [
            "Epoch   2: Train Loss: 0.6155, Val Loss: 0.5918, Val AUC: 0.8486\n"
          ]
        },
        {
          "output_type": "stream",
          "name": "stderr",
          "text": [
            "Training: 100%|██████████| 34/34 [00:21<00:00,  1.56it/s]\n",
            "Validation: 100%|██████████| 12/12 [00:05<00:00,  2.16it/s]\n"
          ]
        },
        {
          "output_type": "stream",
          "name": "stdout",
          "text": [
            "Epoch   3: Train Loss: 0.6207, Val Loss: 0.8774, Val AUC: 0.8597\n"
          ]
        },
        {
          "output_type": "stream",
          "name": "stderr",
          "text": [
            "Training: 100%|██████████| 34/34 [00:21<00:00,  1.56it/s]\n",
            "Validation: 100%|██████████| 12/12 [00:05<00:00,  2.12it/s]\n"
          ]
        },
        {
          "output_type": "stream",
          "name": "stdout",
          "text": [
            "Epoch   4: Train Loss: 0.6031, Val Loss: 0.6785, Val AUC: 0.8631\n"
          ]
        },
        {
          "output_type": "stream",
          "name": "stderr",
          "text": [
            "Training: 100%|██████████| 34/34 [00:21<00:00,  1.59it/s]\n",
            "Validation: 100%|██████████| 12/12 [00:05<00:00,  2.15it/s]\n"
          ]
        },
        {
          "output_type": "stream",
          "name": "stdout",
          "text": [
            "Epoch   5: Train Loss: 0.5639, Val Loss: 0.8755, Val AUC: 0.8764\n"
          ]
        },
        {
          "output_type": "stream",
          "name": "stderr",
          "text": [
            "Training: 100%|██████████| 34/34 [00:21<00:00,  1.60it/s]\n",
            "Validation: 100%|██████████| 12/12 [00:06<00:00,  1.93it/s]\n"
          ]
        },
        {
          "output_type": "stream",
          "name": "stdout",
          "text": [
            "Epoch   6: Train Loss: 0.5818, Val Loss: 0.8692, Val AUC: 0.8650\n"
          ]
        },
        {
          "output_type": "stream",
          "name": "stderr",
          "text": [
            "Training: 100%|██████████| 34/34 [00:20<00:00,  1.68it/s]\n",
            "Validation: 100%|██████████| 12/12 [00:06<00:00,  1.82it/s]\n"
          ]
        },
        {
          "output_type": "stream",
          "name": "stdout",
          "text": [
            "Epoch   7: Train Loss: 0.5685, Val Loss: 0.7517, Val AUC: 0.8754\n"
          ]
        },
        {
          "output_type": "stream",
          "name": "stderr",
          "text": [
            "Training: 100%|██████████| 34/34 [00:19<00:00,  1.73it/s]\n",
            "Validation: 100%|██████████| 12/12 [00:06<00:00,  1.92it/s]\n"
          ]
        },
        {
          "output_type": "stream",
          "name": "stdout",
          "text": [
            "Epoch   8: Train Loss: 0.5681, Val Loss: 0.6399, Val AUC: 0.8737\n"
          ]
        },
        {
          "output_type": "stream",
          "name": "stderr",
          "text": [
            "Training: 100%|██████████| 34/34 [00:19<00:00,  1.72it/s]\n",
            "Validation: 100%|██████████| 12/12 [00:06<00:00,  1.91it/s]\n"
          ]
        },
        {
          "output_type": "stream",
          "name": "stdout",
          "text": [
            "Epoch   9: Train Loss: 0.5745, Val Loss: 0.7111, Val AUC: 0.8790\n"
          ]
        },
        {
          "output_type": "stream",
          "name": "stderr",
          "text": [
            "Training: 100%|██████████| 34/34 [00:19<00:00,  1.73it/s]\n",
            "Validation: 100%|██████████| 12/12 [00:06<00:00,  1.84it/s]\n"
          ]
        },
        {
          "output_type": "stream",
          "name": "stdout",
          "text": [
            "Epoch  10: Train Loss: 0.5670, Val Loss: 0.5422, Val AUC: 0.8727\n"
          ]
        },
        {
          "output_type": "stream",
          "name": "stderr",
          "text": [
            "Training: 100%|██████████| 34/34 [00:19<00:00,  1.70it/s]\n",
            "Validation: 100%|██████████| 12/12 [00:05<00:00,  2.01it/s]\n"
          ]
        },
        {
          "output_type": "stream",
          "name": "stdout",
          "text": [
            "Epoch  11: Train Loss: 0.5542, Val Loss: 0.5873, Val AUC: 0.8897\n"
          ]
        },
        {
          "output_type": "stream",
          "name": "stderr",
          "text": [
            "Training: 100%|██████████| 34/34 [00:20<00:00,  1.68it/s]\n",
            "Validation: 100%|██████████| 12/12 [00:05<00:00,  2.15it/s]\n"
          ]
        },
        {
          "output_type": "stream",
          "name": "stdout",
          "text": [
            "Epoch  12: Train Loss: 0.5598, Val Loss: 0.5956, Val AUC: 0.8820\n"
          ]
        },
        {
          "output_type": "stream",
          "name": "stderr",
          "text": [
            "Training: 100%|██████████| 34/34 [00:21<00:00,  1.61it/s]\n",
            "Validation: 100%|██████████| 12/12 [00:05<00:00,  2.22it/s]\n"
          ]
        },
        {
          "output_type": "stream",
          "name": "stdout",
          "text": [
            "Epoch  13: Train Loss: 0.5455, Val Loss: 0.6539, Val AUC: 0.8653\n"
          ]
        },
        {
          "output_type": "stream",
          "name": "stderr",
          "text": [
            "Training: 100%|██████████| 34/34 [00:20<00:00,  1.63it/s]\n",
            "Validation: 100%|██████████| 12/12 [00:05<00:00,  2.18it/s]\n"
          ]
        },
        {
          "output_type": "stream",
          "name": "stdout",
          "text": [
            "Epoch  14: Train Loss: 0.5536, Val Loss: 0.5307, Val AUC: 0.8835\n"
          ]
        },
        {
          "output_type": "stream",
          "name": "stderr",
          "text": [
            "Training: 100%|██████████| 34/34 [00:20<00:00,  1.67it/s]\n",
            "Validation: 100%|██████████| 12/12 [00:05<00:00,  2.26it/s]\n"
          ]
        },
        {
          "output_type": "stream",
          "name": "stdout",
          "text": [
            "Epoch  15: Train Loss: 0.5387, Val Loss: 0.5743, Val AUC: 0.8900\n"
          ]
        },
        {
          "output_type": "stream",
          "name": "stderr",
          "text": [
            "Training: 100%|██████████| 34/34 [00:20<00:00,  1.64it/s]\n",
            "Validation: 100%|██████████| 12/12 [00:05<00:00,  2.23it/s]\n"
          ]
        },
        {
          "output_type": "stream",
          "name": "stdout",
          "text": [
            "Epoch  16: Train Loss: 0.5371, Val Loss: 0.5537, Val AUC: 0.8906\n"
          ]
        },
        {
          "output_type": "stream",
          "name": "stderr",
          "text": [
            "Training: 100%|██████████| 34/34 [00:20<00:00,  1.65it/s]\n",
            "Validation: 100%|██████████| 12/12 [00:05<00:00,  2.24it/s]\n"
          ]
        },
        {
          "output_type": "stream",
          "name": "stdout",
          "text": [
            "Epoch  17: Train Loss: 0.5397, Val Loss: 0.5655, Val AUC: 0.8968\n"
          ]
        },
        {
          "output_type": "stream",
          "name": "stderr",
          "text": [
            "Training: 100%|██████████| 34/34 [00:20<00:00,  1.66it/s]\n",
            "Validation: 100%|██████████| 12/12 [00:05<00:00,  2.28it/s]\n"
          ]
        },
        {
          "output_type": "stream",
          "name": "stdout",
          "text": [
            "Epoch  18: Train Loss: 0.5363, Val Loss: 0.6129, Val AUC: 0.8787\n"
          ]
        },
        {
          "output_type": "stream",
          "name": "stderr",
          "text": [
            "Training: 100%|██████████| 34/34 [00:20<00:00,  1.62it/s]\n",
            "Validation: 100%|██████████| 12/12 [00:05<00:00,  2.26it/s]\n"
          ]
        },
        {
          "output_type": "stream",
          "name": "stdout",
          "text": [
            "Epoch  19: Train Loss: 0.5434, Val Loss: 0.5633, Val AUC: 0.8670\n"
          ]
        },
        {
          "output_type": "stream",
          "name": "stderr",
          "text": [
            "Training: 100%|██████████| 34/34 [00:20<00:00,  1.68it/s]\n",
            "Validation: 100%|██████████| 12/12 [00:05<00:00,  2.25it/s]\n"
          ]
        },
        {
          "output_type": "stream",
          "name": "stdout",
          "text": [
            "Epoch  20: Train Loss: 0.5338, Val Loss: 0.7264, Val AUC: 0.8631\n"
          ]
        },
        {
          "output_type": "stream",
          "name": "stderr",
          "text": [
            "Training: 100%|██████████| 34/34 [00:20<00:00,  1.69it/s]\n",
            "Validation: 100%|██████████| 12/12 [00:05<00:00,  2.13it/s]\n"
          ]
        },
        {
          "output_type": "stream",
          "name": "stdout",
          "text": [
            "Epoch  21: Train Loss: 0.5275, Val Loss: 0.6100, Val AUC: 0.8767\n"
          ]
        },
        {
          "output_type": "stream",
          "name": "stderr",
          "text": [
            "Training: 100%|██████████| 34/34 [00:19<00:00,  1.75it/s]\n",
            "Validation: 100%|██████████| 12/12 [00:05<00:00,  2.18it/s]\n"
          ]
        },
        {
          "output_type": "stream",
          "name": "stdout",
          "text": [
            "Epoch  22: Train Loss: 0.5176, Val Loss: 0.6144, Val AUC: 0.8736\n"
          ]
        },
        {
          "output_type": "stream",
          "name": "stderr",
          "text": [
            "Training: 100%|██████████| 34/34 [00:19<00:00,  1.71it/s]\n",
            "Validation: 100%|██████████| 12/12 [00:05<00:00,  2.07it/s]\n"
          ]
        },
        {
          "output_type": "stream",
          "name": "stdout",
          "text": [
            "Epoch  23: Train Loss: 0.5258, Val Loss: 0.7300, Val AUC: 0.8691\n"
          ]
        },
        {
          "output_type": "stream",
          "name": "stderr",
          "text": [
            "Training: 100%|██████████| 34/34 [00:19<00:00,  1.75it/s]\n",
            "Validation: 100%|██████████| 12/12 [00:05<00:00,  2.03it/s]\n"
          ]
        },
        {
          "output_type": "stream",
          "name": "stdout",
          "text": [
            "Epoch  24: Train Loss: 0.5294, Val Loss: 0.5682, Val AUC: 0.8651\n"
          ]
        },
        {
          "output_type": "stream",
          "name": "stderr",
          "text": [
            "Training: 100%|██████████| 34/34 [00:19<00:00,  1.73it/s]\n",
            "Validation: 100%|██████████| 12/12 [00:06<00:00,  1.95it/s]\n"
          ]
        },
        {
          "output_type": "stream",
          "name": "stdout",
          "text": [
            "Epoch  25: Train Loss: 0.4928, Val Loss: 0.6099, Val AUC: 0.8737\n"
          ]
        },
        {
          "output_type": "stream",
          "name": "stderr",
          "text": [
            "Training: 100%|██████████| 34/34 [00:19<00:00,  1.74it/s]\n",
            "Validation: 100%|██████████| 12/12 [00:06<00:00,  1.98it/s]\n"
          ]
        },
        {
          "output_type": "stream",
          "name": "stdout",
          "text": [
            "Epoch  26: Train Loss: 0.4978, Val Loss: 0.5920, Val AUC: 0.8728\n"
          ]
        },
        {
          "output_type": "stream",
          "name": "stderr",
          "text": [
            "Training: 100%|██████████| 34/34 [00:19<00:00,  1.74it/s]\n",
            "Validation: 100%|██████████| 12/12 [00:06<00:00,  1.96it/s]\n"
          ]
        },
        {
          "output_type": "stream",
          "name": "stdout",
          "text": [
            "Epoch  27: Train Loss: 0.5078, Val Loss: 0.6256, Val AUC: 0.8656\n",
            "Early stopping at epoch 27\n",
            "\n",
            "Phase 2: Fine-tuning with unfrozen last conv layers\n"
          ]
        },
        {
          "output_type": "stream",
          "name": "stderr",
          "text": [
            "Training: 100%|██████████| 34/34 [00:19<00:00,  1.75it/s]\n",
            "Validation: 100%|██████████| 12/12 [00:06<00:00,  1.96it/s]\n"
          ]
        },
        {
          "output_type": "stream",
          "name": "stdout",
          "text": [
            "Epoch   1: Train Loss: 0.5322, Val Loss: 0.6366, Val AUC: 0.8785\n"
          ]
        },
        {
          "output_type": "stream",
          "name": "stderr",
          "text": [
            "Training: 100%|██████████| 34/34 [00:19<00:00,  1.74it/s]\n",
            "Validation: 100%|██████████| 12/12 [00:06<00:00,  1.94it/s]\n"
          ]
        },
        {
          "output_type": "stream",
          "name": "stdout",
          "text": [
            "Epoch   2: Train Loss: 0.5045, Val Loss: 0.6534, Val AUC: 0.8929\n"
          ]
        },
        {
          "output_type": "stream",
          "name": "stderr",
          "text": [
            "Training: 100%|██████████| 34/34 [00:19<00:00,  1.72it/s]\n",
            "Validation: 100%|██████████| 12/12 [00:06<00:00,  1.93it/s]\n"
          ]
        },
        {
          "output_type": "stream",
          "name": "stdout",
          "text": [
            "Epoch   3: Train Loss: 0.4895, Val Loss: 0.5950, Val AUC: 0.8927\n"
          ]
        },
        {
          "output_type": "stream",
          "name": "stderr",
          "text": [
            "Training: 100%|██████████| 34/34 [00:19<00:00,  1.72it/s]\n",
            "Validation: 100%|██████████| 12/12 [00:05<00:00,  2.03it/s]\n"
          ]
        },
        {
          "output_type": "stream",
          "name": "stdout",
          "text": [
            "Epoch   4: Train Loss: 0.4550, Val Loss: 0.6623, Val AUC: 0.9028\n"
          ]
        },
        {
          "output_type": "stream",
          "name": "stderr",
          "text": [
            "Training: 100%|██████████| 34/34 [00:19<00:00,  1.71it/s]\n",
            "Validation: 100%|██████████| 12/12 [00:05<00:00,  2.13it/s]\n"
          ]
        },
        {
          "output_type": "stream",
          "name": "stdout",
          "text": [
            "Epoch   5: Train Loss: 0.4562, Val Loss: 0.6301, Val AUC: 0.8660\n"
          ]
        },
        {
          "output_type": "stream",
          "name": "stderr",
          "text": [
            "Training: 100%|██████████| 34/34 [00:20<00:00,  1.70it/s]\n",
            "Validation: 100%|██████████| 12/12 [00:05<00:00,  2.25it/s]\n"
          ]
        },
        {
          "output_type": "stream",
          "name": "stdout",
          "text": [
            "Epoch   6: Train Loss: 0.4227, Val Loss: 0.5928, Val AUC: 0.8697\n"
          ]
        },
        {
          "output_type": "stream",
          "name": "stderr",
          "text": [
            "Training: 100%|██████████| 34/34 [00:20<00:00,  1.67it/s]\n",
            "Validation: 100%|██████████| 12/12 [00:05<00:00,  2.25it/s]\n"
          ]
        },
        {
          "output_type": "stream",
          "name": "stdout",
          "text": [
            "Epoch   7: Train Loss: 0.4319, Val Loss: 0.5326, Val AUC: 0.8917\n"
          ]
        },
        {
          "output_type": "stream",
          "name": "stderr",
          "text": [
            "Training: 100%|██████████| 34/34 [00:20<00:00,  1.66it/s]\n",
            "Validation: 100%|██████████| 12/12 [00:05<00:00,  2.30it/s]\n"
          ]
        },
        {
          "output_type": "stream",
          "name": "stdout",
          "text": [
            "Epoch   8: Train Loss: 0.4099, Val Loss: 0.6294, Val AUC: 0.8131\n"
          ]
        },
        {
          "output_type": "stream",
          "name": "stderr",
          "text": [
            "Training: 100%|██████████| 34/34 [00:20<00:00,  1.66it/s]\n",
            "Validation: 100%|██████████| 12/12 [00:05<00:00,  2.28it/s]\n"
          ]
        },
        {
          "output_type": "stream",
          "name": "stdout",
          "text": [
            "Epoch   9: Train Loss: 0.4195, Val Loss: 0.5711, Val AUC: 0.8206\n"
          ]
        },
        {
          "output_type": "stream",
          "name": "stderr",
          "text": [
            "Training: 100%|██████████| 34/34 [00:20<00:00,  1.65it/s]\n",
            "Validation: 100%|██████████| 12/12 [00:05<00:00,  2.30it/s]\n"
          ]
        },
        {
          "output_type": "stream",
          "name": "stdout",
          "text": [
            "Epoch  10: Train Loss: 0.4127, Val Loss: 0.6895, Val AUC: 0.8426\n"
          ]
        },
        {
          "output_type": "stream",
          "name": "stderr",
          "text": [
            "Training: 100%|██████████| 34/34 [00:20<00:00,  1.64it/s]\n",
            "Validation: 100%|██████████| 12/12 [00:05<00:00,  2.29it/s]\n"
          ]
        },
        {
          "output_type": "stream",
          "name": "stdout",
          "text": [
            "Epoch  11: Train Loss: 0.3913, Val Loss: 0.6158, Val AUC: 0.8748\n"
          ]
        },
        {
          "output_type": "stream",
          "name": "stderr",
          "text": [
            "Training: 100%|██████████| 34/34 [00:20<00:00,  1.66it/s]\n",
            "Validation: 100%|██████████| 12/12 [00:05<00:00,  2.31it/s]\n"
          ]
        },
        {
          "output_type": "stream",
          "name": "stdout",
          "text": [
            "Epoch  12: Train Loss: 0.3831, Val Loss: 0.5586, Val AUC: 0.8746\n"
          ]
        },
        {
          "output_type": "stream",
          "name": "stderr",
          "text": [
            "Training: 100%|██████████| 34/34 [00:20<00:00,  1.65it/s]\n",
            "Validation: 100%|██████████| 12/12 [00:05<00:00,  2.21it/s]\n"
          ]
        },
        {
          "output_type": "stream",
          "name": "stdout",
          "text": [
            "Epoch  13: Train Loss: 0.3759, Val Loss: 0.5743, Val AUC: 0.8718\n"
          ]
        },
        {
          "output_type": "stream",
          "name": "stderr",
          "text": [
            "Training: 100%|██████████| 34/34 [00:20<00:00,  1.68it/s]\n",
            "Validation: 100%|██████████| 12/12 [00:05<00:00,  2.27it/s]\n"
          ]
        },
        {
          "output_type": "stream",
          "name": "stdout",
          "text": [
            "Epoch  14: Train Loss: 0.3808, Val Loss: 0.6091, Val AUC: 0.8656\n",
            "Early stopping at epoch 14\n"
          ]
        },
        {
          "output_type": "stream",
          "name": "stderr",
          "text": [
            "Testing: 100%|██████████| 13/13 [00:06<00:00,  1.98it/s]\n"
          ]
        },
        {
          "output_type": "stream",
          "name": "stdout",
          "text": [
            "\n",
            "Best validation AUC: 0.9028\n",
            "Test metrics:\n",
            "  accuracy: 0.8655\n",
            "  precision: 0.9018\n",
            "  recall: 0.8670\n",
            "  specificity: 0.8634\n",
            "  f1: 0.8840\n",
            "  auc_roc: 0.8707\n"
          ]
        },
        {
          "output_type": "display_data",
          "data": {
            "text/plain": [
              "<Figure size 800x600 with 2 Axes>"
            ],
            "image/png": "[encoded data removed]"
          },
          "metadata": {}
        },
        {
          "output_type": "stream",
          "name": "stdout",
          "text": [
            "\n",
            "Starting experiment for All...\n",
            "\n",
            "============================================================\n",
            "Training on All magnification\n",
            "============================================================\n",
            "\n",
            "Phase 1: Training classifier head (frozen backbone)\n"
          ]
        },
        {
          "output_type": "stream",
          "name": "stderr",
          "text": [
            "Training: 100%|██████████| 145/145 [01:25<00:00,  1.69it/s]\n",
            "Validation: 100%|██████████| 48/48 [00:21<00:00,  2.20it/s]\n"
          ]
        },
        {
          "output_type": "stream",
          "name": "stdout",
          "text": [
            "Epoch   1: Train Loss: 1.1307, Val Loss: 0.6381, Val AUC: 0.7681\n"
          ]
        },
        {
          "output_type": "stream",
          "name": "stderr",
          "text": [
            "Training: 100%|██████████| 145/145 [01:25<00:00,  1.70it/s]\n",
            "Validation: 100%|██████████| 48/48 [00:20<00:00,  2.29it/s]\n"
          ]
        },
        {
          "output_type": "stream",
          "name": "stdout",
          "text": [
            "Epoch   2: Train Loss: 0.5798, Val Loss: 0.6758, Val AUC: 0.7920\n"
          ]
        },
        {
          "output_type": "stream",
          "name": "stderr",
          "text": [
            "Training: 100%|██████████| 145/145 [01:25<00:00,  1.70it/s]\n",
            "Validation: 100%|██████████| 48/48 [00:21<00:00,  2.20it/s]\n"
          ]
        },
        {
          "output_type": "stream",
          "name": "stdout",
          "text": [
            "Epoch   3: Train Loss: 0.5760, Val Loss: 0.6564, Val AUC: 0.7961\n"
          ]
        },
        {
          "output_type": "stream",
          "name": "stderr",
          "text": [
            "Training: 100%|██████████| 145/145 [01:27<00:00,  1.66it/s]\n",
            "Validation: 100%|██████████| 48/48 [00:21<00:00,  2.28it/s]\n"
          ]
        },
        {
          "output_type": "stream",
          "name": "stdout",
          "text": [
            "Epoch   4: Train Loss: 0.5715, Val Loss: 0.5883, Val AUC: 0.8123\n"
          ]
        },
        {
          "output_type": "stream",
          "name": "stderr",
          "text": [
            "Training: 100%|██████████| 145/145 [01:26<00:00,  1.68it/s]\n",
            "Validation: 100%|██████████| 48/48 [00:21<00:00,  2.19it/s]\n"
          ]
        },
        {
          "output_type": "stream",
          "name": "stdout",
          "text": [
            "Epoch   5: Train Loss: 0.5679, Val Loss: 0.5667, Val AUC: 0.7925\n"
          ]
        },
        {
          "output_type": "stream",
          "name": "stderr",
          "text": [
            "Training: 100%|██████████| 145/145 [01:26<00:00,  1.67it/s]\n",
            "Validation: 100%|██████████| 48/48 [00:22<00:00,  2.16it/s]\n"
          ]
        },
        {
          "output_type": "stream",
          "name": "stdout",
          "text": [
            "Epoch   6: Train Loss: 0.5573, Val Loss: 0.5690, Val AUC: 0.8086\n"
          ]
        },
        {
          "output_type": "stream",
          "name": "stderr",
          "text": [
            "Training: 100%|██████████| 145/145 [01:25<00:00,  1.70it/s]\n",
            "Validation: 100%|██████████| 48/48 [00:22<00:00,  2.14it/s]\n"
          ]
        },
        {
          "output_type": "stream",
          "name": "stdout",
          "text": [
            "Epoch   7: Train Loss: 0.5545, Val Loss: 0.6332, Val AUC: 0.8074\n"
          ]
        },
        {
          "output_type": "stream",
          "name": "stderr",
          "text": [
            "Training: 100%|██████████| 145/145 [01:26<00:00,  1.67it/s]\n",
            "Validation: 100%|██████████| 48/48 [00:21<00:00,  2.19it/s]\n"
          ]
        },
        {
          "output_type": "stream",
          "name": "stdout",
          "text": [
            "Epoch   8: Train Loss: 0.5442, Val Loss: 0.5970, Val AUC: 0.8072\n"
          ]
        },
        {
          "output_type": "stream",
          "name": "stderr",
          "text": [
            "Training: 100%|██████████| 145/145 [01:25<00:00,  1.70it/s]\n",
            "Validation: 100%|██████████| 48/48 [00:22<00:00,  2.17it/s]\n"
          ]
        },
        {
          "output_type": "stream",
          "name": "stdout",
          "text": [
            "Epoch   9: Train Loss: 0.5532, Val Loss: 0.6033, Val AUC: 0.8032\n"
          ]
        },
        {
          "output_type": "stream",
          "name": "stderr",
          "text": [
            "Training: 100%|██████████| 145/145 [01:27<00:00,  1.66it/s]\n",
            "Validation: 100%|██████████| 48/48 [00:22<00:00,  2.16it/s]\n"
          ]
        },
        {
          "output_type": "stream",
          "name": "stdout",
          "text": [
            "Epoch  10: Train Loss: 0.5487, Val Loss: 0.5547, Val AUC: 0.7970\n"
          ]
        },
        {
          "output_type": "stream",
          "name": "stderr",
          "text": [
            "Training: 100%|██████████| 145/145 [01:26<00:00,  1.68it/s]\n",
            "Validation: 100%|██████████| 48/48 [00:21<00:00,  2.27it/s]\n"
          ]
        },
        {
          "output_type": "stream",
          "name": "stdout",
          "text": [
            "Epoch  11: Train Loss: 0.5218, Val Loss: 0.6295, Val AUC: 0.8006\n"
          ]
        },
        {
          "output_type": "stream",
          "name": "stderr",
          "text": [
            "Training: 100%|██████████| 145/145 [01:26<00:00,  1.67it/s]\n",
            "Validation: 100%|██████████| 48/48 [00:22<00:00,  2.16it/s]\n"
          ]
        },
        {
          "output_type": "stream",
          "name": "stdout",
          "text": [
            "Epoch  12: Train Loss: 0.5161, Val Loss: 0.6177, Val AUC: 0.8095\n"
          ]
        },
        {
          "output_type": "stream",
          "name": "stderr",
          "text": [
            "Training: 100%|██████████| 145/145 [01:27<00:00,  1.66it/s]\n",
            "Validation: 100%|██████████| 48/48 [00:22<00:00,  2.14it/s]\n"
          ]
        },
        {
          "output_type": "stream",
          "name": "stdout",
          "text": [
            "Epoch  13: Train Loss: 0.5157, Val Loss: 0.6153, Val AUC: 0.8158\n"
          ]
        },
        {
          "output_type": "stream",
          "name": "stderr",
          "text": [
            "Training: 100%|██████████| 145/145 [01:27<00:00,  1.66it/s]\n",
            "Validation: 100%|██████████| 48/48 [00:21<00:00,  2.27it/s]\n"
          ]
        },
        {
          "output_type": "stream",
          "name": "stdout",
          "text": [
            "Epoch  14: Train Loss: 0.5138, Val Loss: 0.6026, Val AUC: 0.8287\n"
          ]
        },
        {
          "output_type": "stream",
          "name": "stderr",
          "text": [
            "Training: 100%|██████████| 145/145 [01:28<00:00,  1.64it/s]\n",
            "Validation: 100%|██████████| 48/48 [00:22<00:00,  2.18it/s]\n"
          ]
        },
        {
          "output_type": "stream",
          "name": "stdout",
          "text": [
            "Epoch  15: Train Loss: 0.5165, Val Loss: 0.5895, Val AUC: 0.8252\n"
          ]
        },
        {
          "output_type": "stream",
          "name": "stderr",
          "text": [
            "Training: 100%|██████████| 145/145 [01:27<00:00,  1.66it/s]\n",
            "Validation: 100%|██████████| 48/48 [00:22<00:00,  2.14it/s]\n"
          ]
        },
        {
          "output_type": "stream",
          "name": "stdout",
          "text": [
            "Epoch  16: Train Loss: 0.5062, Val Loss: 0.5866, Val AUC: 0.8091\n"
          ]
        },
        {
          "output_type": "stream",
          "name": "stderr",
          "text": [
            "Training: 100%|██████████| 145/145 [01:28<00:00,  1.64it/s]\n",
            "Validation: 100%|██████████| 48/48 [00:22<00:00,  2.14it/s]\n"
          ]
        },
        {
          "output_type": "stream",
          "name": "stdout",
          "text": [
            "Epoch  17: Train Loss: 0.5082, Val Loss: 0.6031, Val AUC: 0.8225\n"
          ]
        },
        {
          "output_type": "stream",
          "name": "stderr",
          "text": [
            "Training: 100%|██████████| 145/145 [01:28<00:00,  1.64it/s]\n",
            "Validation: 100%|██████████| 48/48 [00:21<00:00,  2.21it/s]\n"
          ]
        },
        {
          "output_type": "stream",
          "name": "stdout",
          "text": [
            "Epoch  18: Train Loss: 0.4962, Val Loss: 0.5914, Val AUC: 0.8165\n"
          ]
        },
        {
          "output_type": "stream",
          "name": "stderr",
          "text": [
            "Training: 100%|██████████| 145/145 [01:27<00:00,  1.67it/s]\n",
            "Validation: 100%|██████████| 48/48 [00:22<00:00,  2.17it/s]\n"
          ]
        },
        {
          "output_type": "stream",
          "name": "stdout",
          "text": [
            "Epoch  19: Train Loss: 0.5043, Val Loss: 0.6101, Val AUC: 0.8045\n"
          ]
        },
        {
          "output_type": "stream",
          "name": "stderr",
          "text": [
            "Training: 100%|██████████| 145/145 [01:26<00:00,  1.68it/s]\n",
            "Validation: 100%|██████████| 48/48 [00:21<00:00,  2.26it/s]\n"
          ]
        },
        {
          "output_type": "stream",
          "name": "stdout",
          "text": [
            "Epoch  20: Train Loss: 0.5071, Val Loss: 0.5966, Val AUC: 0.8150\n"
          ]
        },
        {
          "output_type": "stream",
          "name": "stderr",
          "text": [
            "Training: 100%|██████████| 145/145 [01:27<00:00,  1.65it/s]\n",
            "Validation: 100%|██████████| 48/48 [00:22<00:00,  2.13it/s]\n"
          ]
        },
        {
          "output_type": "stream",
          "name": "stdout",
          "text": [
            "Epoch  21: Train Loss: 0.4979, Val Loss: 0.6036, Val AUC: 0.8090\n"
          ]
        },
        {
          "output_type": "stream",
          "name": "stderr",
          "text": [
            "Training: 100%|██████████| 145/145 [01:27<00:00,  1.66it/s]\n",
            "Validation: 100%|██████████| 48/48 [00:22<00:00,  2.14it/s]\n"
          ]
        },
        {
          "output_type": "stream",
          "name": "stdout",
          "text": [
            "Epoch  22: Train Loss: 0.4868, Val Loss: 0.6076, Val AUC: 0.8152\n"
          ]
        },
        {
          "output_type": "stream",
          "name": "stderr",
          "text": [
            "Training: 100%|██████████| 145/145 [01:26<00:00,  1.68it/s]\n",
            "Validation: 100%|██████████| 48/48 [00:21<00:00,  2.22it/s]\n"
          ]
        },
        {
          "output_type": "stream",
          "name": "stdout",
          "text": [
            "Epoch  23: Train Loss: 0.4880, Val Loss: 0.6095, Val AUC: 0.8076\n"
          ]
        },
        {
          "output_type": "stream",
          "name": "stderr",
          "text": [
            "Training: 100%|██████████| 145/145 [01:26<00:00,  1.67it/s]\n",
            "Validation: 100%|██████████| 48/48 [00:22<00:00,  2.13it/s]\n"
          ]
        },
        {
          "output_type": "stream",
          "name": "stdout",
          "text": [
            "Epoch  24: Train Loss: 0.4882, Val Loss: 0.5925, Val AUC: 0.8050\n",
            "Early stopping at epoch 24\n",
            "\n",
            "Phase 2: Fine-tuning with unfrozen last conv layers\n"
          ]
        },
        {
          "output_type": "stream",
          "name": "stderr",
          "text": [
            "Training: 100%|██████████| 145/145 [01:27<00:00,  1.65it/s]\n",
            "Validation: 100%|██████████| 48/48 [00:21<00:00,  2.27it/s]\n"
          ]
        },
        {
          "output_type": "stream",
          "name": "stdout",
          "text": [
            "Epoch   1: Train Loss: 0.5328, Val Loss: 0.5825, Val AUC: 0.8526\n"
          ]
        },
        {
          "output_type": "stream",
          "name": "stderr",
          "text": [
            "Training: 100%|██████████| 145/145 [01:27<00:00,  1.66it/s]\n",
            "Validation: 100%|██████████| 48/48 [00:22<00:00,  2.17it/s]\n"
          ]
        },
        {
          "output_type": "stream",
          "name": "stdout",
          "text": [
            "Epoch   2: Train Loss: 0.4716, Val Loss: 0.5405, Val AUC: 0.8488\n"
          ]
        },
        {
          "output_type": "stream",
          "name": "stderr",
          "text": [
            "Training: 100%|██████████| 145/145 [01:28<00:00,  1.64it/s]\n",
            "Validation: 100%|██████████| 48/48 [00:22<00:00,  2.16it/s]\n"
          ]
        },
        {
          "output_type": "stream",
          "name": "stdout",
          "text": [
            "Epoch   3: Train Loss: 0.4428, Val Loss: 0.5897, Val AUC: 0.8424\n"
          ]
        },
        {
          "output_type": "stream",
          "name": "stderr",
          "text": [
            "Training: 100%|██████████| 145/145 [01:27<00:00,  1.66it/s]\n",
            "Validation: 100%|██████████| 48/48 [00:21<00:00,  2.19it/s]\n"
          ]
        },
        {
          "output_type": "stream",
          "name": "stdout",
          "text": [
            "Epoch   4: Train Loss: 0.4395, Val Loss: 0.5229, Val AUC: 0.8764\n"
          ]
        },
        {
          "output_type": "stream",
          "name": "stderr",
          "text": [
            "Training: 100%|██████████| 145/145 [01:27<00:00,  1.65it/s]\n",
            "Validation: 100%|██████████| 48/48 [00:21<00:00,  2.22it/s]\n"
          ]
        },
        {
          "output_type": "stream",
          "name": "stdout",
          "text": [
            "Epoch   5: Train Loss: 0.4199, Val Loss: 0.5472, Val AUC: 0.8785\n"
          ]
        },
        {
          "output_type": "stream",
          "name": "stderr",
          "text": [
            "Training: 100%|██████████| 145/145 [01:27<00:00,  1.66it/s]\n",
            "Validation: 100%|██████████| 48/48 [00:22<00:00,  2.11it/s]\n"
          ]
        },
        {
          "output_type": "stream",
          "name": "stdout",
          "text": [
            "Epoch   6: Train Loss: 0.4136, Val Loss: 0.5694, Val AUC: 0.8655\n"
          ]
        },
        {
          "output_type": "stream",
          "name": "stderr",
          "text": [
            "Training: 100%|██████████| 145/145 [01:27<00:00,  1.66it/s]\n",
            "Validation: 100%|██████████| 48/48 [00:22<00:00,  2.17it/s]\n"
          ]
        },
        {
          "output_type": "stream",
          "name": "stdout",
          "text": [
            "Epoch   7: Train Loss: 0.4049, Val Loss: 0.5811, Val AUC: 0.8480\n"
          ]
        },
        {
          "output_type": "stream",
          "name": "stderr",
          "text": [
            "Training: 100%|██████████| 145/145 [01:27<00:00,  1.66it/s]\n",
            "Validation: 100%|██████████| 48/48 [00:21<00:00,  2.23it/s]\n"
          ]
        },
        {
          "output_type": "stream",
          "name": "stdout",
          "text": [
            "Epoch   8: Train Loss: 0.4054, Val Loss: 0.5487, Val AUC: 0.8530\n"
          ]
        },
        {
          "output_type": "stream",
          "name": "stderr",
          "text": [
            "Training: 100%|██████████| 145/145 [01:27<00:00,  1.66it/s]\n",
            "Validation: 100%|██████████| 48/48 [00:22<00:00,  2.17it/s]\n"
          ]
        },
        {
          "output_type": "stream",
          "name": "stdout",
          "text": [
            "Epoch   9: Train Loss: 0.3931, Val Loss: 0.5630, Val AUC: 0.8638\n"
          ]
        },
        {
          "output_type": "stream",
          "name": "stderr",
          "text": [
            "Training: 100%|██████████| 145/145 [01:27<00:00,  1.65it/s]\n",
            "Validation: 100%|██████████| 48/48 [00:22<00:00,  2.15it/s]\n"
          ]
        },
        {
          "output_type": "stream",
          "name": "stdout",
          "text": [
            "Epoch  10: Train Loss: 0.3851, Val Loss: 0.5396, Val AUC: 0.8814\n"
          ]
        },
        {
          "output_type": "stream",
          "name": "stderr",
          "text": [
            "Training: 100%|██████████| 145/145 [01:27<00:00,  1.65it/s]\n",
            "Validation: 100%|██████████| 48/48 [00:21<00:00,  2.23it/s]\n"
          ]
        },
        {
          "output_type": "stream",
          "name": "stdout",
          "text": [
            "Epoch  11: Train Loss: 0.3873, Val Loss: 0.4973, Val AUC: 0.8682\n"
          ]
        },
        {
          "output_type": "stream",
          "name": "stderr",
          "text": [
            "Training: 100%|██████████| 145/145 [01:27<00:00,  1.66it/s]\n",
            "Validation: 100%|██████████| 48/48 [00:22<00:00,  2.16it/s]\n"
          ]
        },
        {
          "output_type": "stream",
          "name": "stdout",
          "text": [
            "Epoch  12: Train Loss: 0.3904, Val Loss: 0.5164, Val AUC: 0.8646\n"
          ]
        },
        {
          "output_type": "stream",
          "name": "stderr",
          "text": [
            "Training: 100%|██████████| 145/145 [01:27<00:00,  1.66it/s]\n",
            "Validation: 100%|██████████| 48/48 [00:22<00:00,  2.15it/s]\n"
          ]
        },
        {
          "output_type": "stream",
          "name": "stdout",
          "text": [
            "Epoch  13: Train Loss: 0.3811, Val Loss: 0.4782, Val AUC: 0.8842\n"
          ]
        },
        {
          "output_type": "stream",
          "name": "stderr",
          "text": [
            "Training: 100%|██████████| 145/145 [01:28<00:00,  1.64it/s]\n",
            "Validation: 100%|██████████| 48/48 [00:21<00:00,  2.24it/s]\n"
          ]
        },
        {
          "output_type": "stream",
          "name": "stdout",
          "text": [
            "Epoch  14: Train Loss: 0.3797, Val Loss: 0.6340, Val AUC: 0.8363\n"
          ]
        },
        {
          "output_type": "stream",
          "name": "stderr",
          "text": [
            "Training: 100%|██████████| 145/145 [01:27<00:00,  1.66it/s]\n",
            "Validation: 100%|██████████| 48/48 [00:22<00:00,  2.16it/s]\n"
          ]
        },
        {
          "output_type": "stream",
          "name": "stdout",
          "text": [
            "Epoch  15: Train Loss: 0.3702, Val Loss: 0.5454, Val AUC: 0.8402\n"
          ]
        },
        {
          "output_type": "stream",
          "name": "stderr",
          "text": [
            "Training: 100%|██████████| 145/145 [01:27<00:00,  1.66it/s]\n",
            "Validation: 100%|██████████| 48/48 [00:22<00:00,  2.18it/s]\n"
          ]
        },
        {
          "output_type": "stream",
          "name": "stdout",
          "text": [
            "Epoch  16: Train Loss: 0.3768, Val Loss: 0.6115, Val AUC: 0.8763\n"
          ]
        },
        {
          "output_type": "stream",
          "name": "stderr",
          "text": [
            "Training: 100%|██████████| 145/145 [01:27<00:00,  1.67it/s]\n",
            "Validation: 100%|██████████| 48/48 [00:21<00:00,  2.27it/s]\n"
          ]
        },
        {
          "output_type": "stream",
          "name": "stdout",
          "text": [
            "Epoch  17: Train Loss: 0.3719, Val Loss: 0.5029, Val AUC: 0.8805\n"
          ]
        },
        {
          "output_type": "stream",
          "name": "stderr",
          "text": [
            "Training: 100%|██████████| 145/145 [01:27<00:00,  1.66it/s]\n",
            "Validation: 100%|██████████| 48/48 [00:22<00:00,  2.17it/s]\n"
          ]
        },
        {
          "output_type": "stream",
          "name": "stdout",
          "text": [
            "Epoch  18: Train Loss: 0.3751, Val Loss: 0.4900, Val AUC: 0.8564\n"
          ]
        },
        {
          "output_type": "stream",
          "name": "stderr",
          "text": [
            "Training: 100%|██████████| 145/145 [01:27<00:00,  1.65it/s]\n",
            "Validation: 100%|██████████| 48/48 [00:22<00:00,  2.13it/s]\n"
          ]
        },
        {
          "output_type": "stream",
          "name": "stdout",
          "text": [
            "Epoch  19: Train Loss: 0.3731, Val Loss: 0.5140, Val AUC: 0.8543\n"
          ]
        },
        {
          "output_type": "stream",
          "name": "stderr",
          "text": [
            "Training: 100%|██████████| 145/145 [01:26<00:00,  1.67it/s]\n",
            "Validation: 100%|██████████| 48/48 [00:21<00:00,  2.25it/s]\n"
          ]
        },
        {
          "output_type": "stream",
          "name": "stdout",
          "text": [
            "Epoch  20: Train Loss: 0.3597, Val Loss: 0.5356, Val AUC: 0.8628\n"
          ]
        },
        {
          "output_type": "stream",
          "name": "stderr",
          "text": [
            "Training: 100%|██████████| 145/145 [01:27<00:00,  1.66it/s]\n",
            "Validation: 100%|██████████| 48/48 [00:22<00:00,  2.16it/s]\n"
          ]
        },
        {
          "output_type": "stream",
          "name": "stdout",
          "text": [
            "Epoch  21: Train Loss: 0.3568, Val Loss: 0.5166, Val AUC: 0.8492\n"
          ]
        },
        {
          "output_type": "stream",
          "name": "stderr",
          "text": [
            "Training: 100%|██████████| 145/145 [01:27<00:00,  1.66it/s]\n",
            "Validation: 100%|██████████| 48/48 [00:22<00:00,  2.12it/s]\n"
          ]
        },
        {
          "output_type": "stream",
          "name": "stdout",
          "text": [
            "Epoch  22: Train Loss: 0.3555, Val Loss: 0.4992, Val AUC: 0.8600\n"
          ]
        },
        {
          "output_type": "stream",
          "name": "stderr",
          "text": [
            "Training: 100%|██████████| 145/145 [01:27<00:00,  1.66it/s]\n",
            "Validation: 100%|██████████| 48/48 [00:21<00:00,  2.27it/s]\n"
          ]
        },
        {
          "output_type": "stream",
          "name": "stdout",
          "text": [
            "Epoch  23: Train Loss: 0.3481, Val Loss: 0.5067, Val AUC: 0.8807\n",
            "Early stopping at epoch 23\n"
          ]
        },
        {
          "output_type": "stream",
          "name": "stderr",
          "text": [
            "Testing: 100%|██████████| 55/55 [00:25<00:00,  2.18it/s]\n"
          ]
        },
        {
          "output_type": "stream",
          "name": "stdout",
          "text": [
            "\n",
            "Best validation AUC: 0.8842\n",
            "Test metrics:\n",
            "  accuracy: 0.8803\n",
            "  precision: 0.9209\n",
            "  recall: 0.8776\n",
            "  specificity: 0.8846\n",
            "  f1: 0.8987\n",
            "  auc_roc: 0.9018\n"
          ]
        },
        {
          "output_type": "display_data",
          "data": {
            "text/plain": [
              "<Figure size 800x600 with 2 Axes>"
            ],
            "image/png": "[encoded data removed]"
          },
          "metadata": {}
        },
        {
          "output_type": "stream",
          "name": "stdout",
          "text": [
            "\n",
            "================================================================================\n",
            "FINAL RESULTS TABLE\n",
            "================================================================================\n",
            "Magnification  Accuracy  Precision  Recall  Specificity     F1  AUC-ROC\n",
            "          40X    0.8526     0.9254  0.8147       0.9066 0.8665   0.8737\n",
            "         100X    0.9161     0.9269  0.9394       0.8778 0.9331   0.9451\n",
            "         200X    0.8758     0.9225  0.8718       0.8824 0.8964   0.8917\n",
            "         400X    0.8655     0.9018  0.8670       0.8634 0.8840   0.8707\n",
            "          All    0.8803     0.9209  0.8776       0.8846 0.8987   0.9018\n",
            "\n",
            "Results saved to 'breakhis_results.csv'\n",
            "\n",
            "================================================================================\n",
            "EXPERIMENT SUMMARY\n",
            "================================================================================\n",
            "Average Accuracy: 0.8781\n",
            "Average AUC-ROC: 0.8966\n",
            "Best performing magnification: 100X\n"
          ]
        }
      ]
    },
    {
      "cell_type": "code",
      "source": [],
      "metadata": {
        "id": "VbUgXVIom-77"
      },
      "execution_count": 25,
      "outputs": []
    }
  ]
}