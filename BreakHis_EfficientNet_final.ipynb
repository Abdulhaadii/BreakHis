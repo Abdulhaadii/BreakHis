{
  "nbformat": 4,
  "nbformat_minor": 0,
  "metadata": {
    "colab": {
      "provenance": [],
      "gpuType": "T4"
    },
    "kernelspec": {
      "name": "python3",
      "display_name": "Python 3"
    },
    "language_info": {
      "name": "python"
    },
    "accelerator": "GPU"
  },
  "cells": [
    {
      "cell_type": "code",
      "execution_count": 1,
      "metadata": {
        "id": "sBxnh2a2YDzx"
      },
      "outputs": [],
      "source": [
        "# ✅ 1. Imports (except Inception-specific ones)\n",
        "import os\n",
        "import json\n",
        "import numpy as np\n",
        "import pandas as pd\n",
        "from pathlib import Path\n",
        "from typing import Dict, List, Tuple, Optional\n",
        "import warnings\n",
        "warnings.filterwarnings('ignore')\n",
        "\n",
        "import torch\n",
        "import torch.nn as nn\n",
        "import torch.nn.functional as F\n",
        "from torch.utils.data import Dataset, DataLoader, WeightedRandomSampler\n",
        "from torch.optim import Adam, SGD\n",
        "from torch.optim.lr_scheduler import ReduceLROnPlateau, CosineAnnealingLR\n",
        "from torchvision import transforms, models\n",
        "from torchvision.models import efficientnet_b3, EfficientNet_B3_Weights\n",
        "\n",
        "import matplotlib.pyplot as plt\n",
        "import seaborn as sns\n",
        "from sklearn.model_selection import train_test_split\n",
        "from sklearn.metrics import (\n",
        "    accuracy_score, precision_score, recall_score, f1_score,\n",
        "    roc_auc_score, confusion_matrix, classification_report\n",
        ")\n",
        "from sklearn.utils.class_weight import compute_class_weight\n",
        "\n",
        "from PIL import Image\n",
        "import time\n",
        "from tqdm import tqdm\n",
        "import glob\n"
      ]
    },
    {
      "cell_type": "code",
      "source": [
        "# Set random seeds for reproducibility\n",
        "torch.manual_seed(42)\n",
        "np.random.seed(42)"
      ],
      "metadata": {
        "id": "YBxdMNJhYfAb"
      },
      "execution_count": 2,
      "outputs": []
    },
    {
      "cell_type": "code",
      "source": [
        "class LabelSmoothingCrossEntropy(nn.Module):\n",
        "    \"\"\"Label smoothing cross entropy loss.\"\"\"\n",
        "\n",
        "    def __init__(self, smoothing: float = 0.1):\n",
        "        super().__init__()\n",
        "        self.smoothing = smoothing\n",
        "\n",
        "    def forward(self, input: torch.Tensor, target: torch.Tensor) -> torch.Tensor:\n",
        "        log_prob = F.log_softmax(input, dim=-1)\n",
        "        weight = input.new_ones(input.size()) * self.smoothing / (input.size(-1) - 1.)\n",
        "        weight.scatter_(-1, target.unsqueeze(-1), (1. - self.smoothing))\n",
        "        loss = (-weight * log_prob).sum(dim=-1).mean()\n",
        "        return loss\n"
      ],
      "metadata": {
        "id": "iTvb-hZFYe-D"
      },
      "execution_count": 3,
      "outputs": []
    },
    {
      "cell_type": "code",
      "source": [
        "class BreakHisDataset(Dataset):\n",
        "    \"\"\"BreakHis dataset class for tumor classification.\"\"\"\n",
        "\n",
        "    def __init__(self, image_paths: List[str], labels: List[int],\n",
        "                 transform: Optional[transforms.Compose] = None):\n",
        "        self.image_paths = image_paths\n",
        "        self.labels = labels\n",
        "        self.transform = transform\n",
        "\n",
        "    def __len__(self) -> int:\n",
        "        return len(self.image_paths)\n",
        "\n",
        "    def __getitem__(self, idx: int) -> Tuple[torch.Tensor, int]:\n",
        "        image_path = self.image_paths[idx]\n",
        "        image = Image.open(image_path).convert('RGB')\n",
        "        label = self.labels[idx]\n",
        "\n",
        "        if self.transform:\n",
        "            image = self.transform(image)\n",
        "\n",
        "        return image, label\n"
      ],
      "metadata": {
        "id": "NM6ADbgPYe5e"
      },
      "execution_count": 4,
      "outputs": []
    },
    {
      "cell_type": "code",
      "source": [
        "class EarlyStopping:\n",
        "    \"\"\"Early stopping utility.\"\"\"\n",
        "\n",
        "    def __init__(self, patience: int = 10, min_delta: float = 0.001,\n",
        "                 mode: str = 'min'):\n",
        "        self.patience = patience\n",
        "        self.min_delta = min_delta\n",
        "        self.mode = mode\n",
        "        self.counter = 0\n",
        "        self.best_score = None\n",
        "        self.early_stop = False\n",
        "\n",
        "    def __call__(self, val_score: float):\n",
        "        if self.best_score is None:\n",
        "            self.best_score = val_score\n",
        "        elif self.mode == 'min':\n",
        "            if val_score < self.best_score - self.min_delta:\n",
        "                self.best_score = val_score\n",
        "                self.counter = 0\n",
        "            else:\n",
        "                self.counter += 1\n",
        "        else:  # mode == 'max'\n",
        "            if val_score > self.best_score + self.min_delta:\n",
        "                self.best_score = val_score\n",
        "                self.counter = 0\n",
        "            else:\n",
        "                self.counter += 1\n",
        "\n",
        "        if self.counter >= self.patience:\n",
        "            self.early_stop = True\n"
      ],
      "metadata": {
        "id": "Ftk1t9ZxYe2m"
      },
      "execution_count": 5,
      "outputs": []
    },
    {
      "cell_type": "code",
      "source": [
        "class MetricsCalculator:\n",
        "    \"\"\"Utility class for calculating classification metrics.\"\"\"\n",
        "\n",
        "    @staticmethod\n",
        "    def calculate_metrics(y_true: np.ndarray, y_pred: np.ndarray,\n",
        "                         y_pred_proba: np.ndarray) -> Dict[str, float]:\n",
        "        \"\"\"Calculate all classification metrics.\"\"\"\n",
        "\n",
        "        # Calculate confusion matrix\n",
        "        cm = confusion_matrix(y_true, y_pred)\n",
        "        tn, fp, fn, tp = cm.ravel()\n",
        "\n",
        "        # Calculate metrics\n",
        "        accuracy = accuracy_score(y_true, y_pred)\n",
        "        precision = precision_score(y_true, y_pred, average='binary')\n",
        "        recall = recall_score(y_true, y_pred, average='binary')\n",
        "        specificity = tn / (tn + fp) if (tn + fp) > 0 else 0.0\n",
        "        f1 = f1_score(y_true, y_pred, average='binary')\n",
        "        auc_roc = roc_auc_score(y_true, y_pred_proba)\n",
        "\n",
        "        return {\n",
        "            'accuracy': accuracy,\n",
        "            'precision': precision,\n",
        "            'recall': recall,\n",
        "            'specificity': specificity,\n",
        "            'f1': f1,\n",
        "            'auc_roc': auc_roc,\n",
        "            'confusion_matrix': cm\n",
        "        }\n",
        "\n",
        "    @staticmethod\n",
        "    def plot_confusion_matrix(cm: np.ndarray, title: str = \"Confusion Matrix\"):\n",
        "        \"\"\"Plot confusion matrix heatmap.\"\"\"\n",
        "        plt.figure(figsize=(8, 6))\n",
        "        sns.heatmap(cm, annot=True, fmt='d', cmap='Blues',\n",
        "                   xticklabels=['Benign', 'Malignant'],\n",
        "                   yticklabels=['Benign', 'Malignant'])\n",
        "        plt.title(title)\n",
        "        plt.ylabel('True Label')\n",
        "        plt.xlabel('Predicted Label')\n",
        "        plt.tight_layout()\n",
        "        plt.show()"
      ],
      "metadata": {
        "id": "Da6WM89gYeyL"
      },
      "execution_count": 6,
      "outputs": []
    },
    {
      "cell_type": "code",
      "source": [
        "# Modified data transforms in the BreakHisTrainer class\n",
        "class BreakHisTrainer:\n",
        "    # ... (keep all existing methods except __init__)\n",
        "\n",
        "    def __init__(self, data_dir: str, batch_size: int = 32,\n",
        "                 num_workers: int = 4, device: str = 'cuda'):\n",
        "        self.data_dir = Path(data_dir)\n",
        "        self.batch_size = batch_size\n",
        "        self.num_workers = num_workers\n",
        "        self.device = torch.device(device if torch.cuda.is_available() else 'cpu')\n",
        "\n",
        "        # Results storage\n",
        "        self.results = {}\n",
        "\n",
        "        # Data transforms - Updated for EfficientNet-B3 (300x300 input)\n",
        "        self.train_transforms = transforms.Compose([\n",
        "            transforms.Resize(320),  # Slightly larger than 300 for cropping\n",
        "            transforms.CenterCrop(300),  # EfficientNet-B3 works well with 300x300\n",
        "            transforms.RandomHorizontalFlip(p=0.5),\n",
        "            transforms.RandomVerticalFlip(p=0.5),\n",
        "            transforms.RandomRotation(degrees=15),\n",
        "            transforms.ColorJitter(brightness=0.2, contrast=0.2,\n",
        "                                 saturation=0.2, hue=0.1),\n",
        "            transforms.RandomAffine(degrees=0, translate=(0.1, 0.1)),  # Add slight translation\n",
        "            transforms.ToTensor(),\n",
        "            transforms.Normalize(mean=[0.485, 0.456, 0.406],\n",
        "                               std=[0.229, 0.224, 0.225])\n",
        "        ])\n",
        "\n",
        "        self.val_transforms = transforms.Compose([\n",
        "            transforms.Resize(320),\n",
        "            transforms.CenterCrop(300),  # EfficientNet-B3 input size\n",
        "            transforms.ToTensor(),\n",
        "            transforms.Normalize(mean=[0.485, 0.456, 0.406],\n",
        "                               std=[0.229, 0.224, 0.225])\n",
        "        ])\n",
        "\n",
        "    def parse_dataset(self) -> Dict[str, List]:\n",
        "        print(\"Parsing BreakHis dataset...\")\n",
        "        possible_paths = [\n",
        "            os.path.join(self.data_dir, 'BreaKHis_v1/BreaKHis_v1/histology_slides/breast/**/*.png'),\n",
        "            os.path.join(self.data_dir, 'BreaKHis_v1/histology_slides/breast/**/*.png'),\n",
        "            os.path.join(self.data_dir, 'histology_slides/breast/**/*.png'),\n",
        "            os.path.join(self.data_dir, '**/*.png'),\n",
        "        ]\n",
        "\n",
        "        breast_img_paths = []\n",
        "        for pattern in possible_paths:\n",
        "            breast_img_paths = glob.glob(pattern, recursive=True)\n",
        "            if breast_img_paths:\n",
        "                print(f\"Found images using pattern: {pattern}\")\n",
        "                break\n",
        "\n",
        "        if not breast_img_paths:\n",
        "            raise FileNotFoundError(f\"No PNG files found in {self.data_dir}.\")\n",
        "\n",
        "        print(f\"Found {len(breast_img_paths)} image files\")\n",
        "\n",
        "        data_info = {'image_paths': [], 'labels': [], 'magnifications': [], 'patient_ids': []}\n",
        "\n",
        "        for img_path in breast_img_paths:\n",
        "            try:\n",
        "                path_parts = img_path.split(os.sep)\n",
        "                if 'benign' in img_path.lower():\n",
        "                    label = 0\n",
        "                elif 'malignant' in img_path.lower():\n",
        "                    label = 1\n",
        "                else:\n",
        "                    continue\n",
        "\n",
        "                filename = os.path.basename(img_path)\n",
        "\n",
        "                if '-40-' in filename:\n",
        "                    mag = '40X'\n",
        "                elif '-100-' in filename:\n",
        "                    mag = '100X'\n",
        "                elif '-200-' in filename:\n",
        "                    mag = '200X'\n",
        "                elif '-400-' in filename:\n",
        "                    mag = '400X'\n",
        "                else:\n",
        "                    continue\n",
        "\n",
        "                parts = filename.split('-')\n",
        "                if len(parts) >= 3:\n",
        "                    patient_id = '-'.join(parts[:3])\n",
        "                else:\n",
        "                    patient_id = filename.split('.')[0]\n",
        "\n",
        "                data_info['image_paths'].append(img_path)\n",
        "                data_info['labels'].append(label)\n",
        "                data_info['magnifications'].append(mag)\n",
        "                data_info['patient_ids'].append(patient_id)\n",
        "\n",
        "            except Exception as e:\n",
        "                print(f\"Error processing {img_path}: {e}\")\n",
        "\n",
        "        print(f\"Successfully parsed {len(data_info['image_paths'])} images\")\n",
        "        print(f\"Benign: {len([l for l in data_info['labels'] if l == 0])}\")\n",
        "        print(f\"Malignant: {len([l for l in data_info['labels'] if l == 1])}\")\n",
        "        print(f\"Magnifications: {set(data_info['magnifications'])}\")\n",
        "        print(f\"Unique patients: {len(set(data_info['patient_ids']))}\")\n",
        "\n",
        "        return data_info\n",
        "\n",
        "    def create_patient_splits(self, data_info: Dict, test_size: float = 0.2, val_size: float = 0.2) -> Dict[str, Dict]:\n",
        "        df = pd.DataFrame(data_info)\n",
        "        patient_labels = df.groupby('patient_ids')['labels'].first().reset_index()\n",
        "\n",
        "        train_val_patients, test_patients = train_test_split(\n",
        "            patient_labels['patient_ids'].tolist(),\n",
        "            test_size=test_size,\n",
        "            stratify=patient_labels['labels'].tolist(),\n",
        "            random_state=42\n",
        "        )\n",
        "\n",
        "        train_val_labels = patient_labels[patient_labels['patient_ids'].isin(train_val_patients)]['labels'].tolist()\n",
        "        train_patients, val_patients = train_test_split(\n",
        "            train_val_patients,\n",
        "            test_size=val_size / (1 - test_size),\n",
        "            stratify=train_val_labels,\n",
        "            random_state=42\n",
        "        )\n",
        "\n",
        "        magnifications = ['40X', '100X', '200X', '400X', 'All']\n",
        "        splits = {}\n",
        "\n",
        "        for mag in magnifications:\n",
        "            if mag == 'All':\n",
        "                mag_mask = pd.Series([True] * len(df))\n",
        "            else:\n",
        "                mag_mask = df['magnifications'] == mag\n",
        "\n",
        "            mag_df = df[mag_mask]\n",
        "\n",
        "            train_mask = mag_df['patient_ids'].isin(train_patients)\n",
        "            val_mask = mag_df['patient_ids'].isin(val_patients)\n",
        "            test_mask = mag_df['patient_ids'].isin(test_patients)\n",
        "\n",
        "            splits[mag] = {\n",
        "                'train': {\n",
        "                    'image_paths': mag_df[train_mask]['image_paths'].tolist(),\n",
        "                    'labels': mag_df[train_mask]['labels'].tolist()\n",
        "                },\n",
        "                'val': {\n",
        "                    'image_paths': mag_df[val_mask]['image_paths'].tolist(),\n",
        "                    'labels': mag_df[val_mask]['labels'].tolist()\n",
        "                },\n",
        "                'test': {\n",
        "                    'image_paths': mag_df[test_mask]['image_paths'].tolist(),\n",
        "                    'labels': mag_df[test_mask]['labels'].tolist()\n",
        "                }\n",
        "            }\n",
        "\n",
        "            print(f\"\\n{mag} - Train: {len(splits[mag]['train']['labels'])}, \"\n",
        "                  f\"Val: {len(splits[mag]['val']['labels'])}, \"\n",
        "                  f\"Test: {len(splits[mag]['test']['labels'])}\")\n",
        "\n",
        "        return splits\n",
        "\n",
        "    def create_data_loaders(self, splits: Dict, magnification: str) -> Dict[str, DataLoader]:\n",
        "        split_data = splits[magnification]\n",
        "\n",
        "        train_dataset = BreakHisDataset(\n",
        "            split_data['train']['image_paths'],\n",
        "            split_data['train']['labels'],\n",
        "            self.train_transforms\n",
        "        )\n",
        "\n",
        "        val_dataset = BreakHisDataset(\n",
        "            split_data['val']['image_paths'],\n",
        "            split_data['val']['labels'],\n",
        "            self.val_transforms\n",
        "        )\n",
        "\n",
        "        test_dataset = BreakHisDataset(\n",
        "            split_data['test']['image_paths'],\n",
        "            split_data['test']['labels'],\n",
        "            self.val_transforms\n",
        "        )\n",
        "\n",
        "        train_labels = split_data['train']['labels']\n",
        "        class_weights = compute_class_weight(\n",
        "            'balanced',\n",
        "            classes=np.unique(train_labels),\n",
        "            y=train_labels\n",
        "        )\n",
        "\n",
        "        sample_weights = [class_weights[label] for label in train_labels]\n",
        "        sampler = WeightedRandomSampler(weights=sample_weights,\n",
        "                                        num_samples=len(sample_weights),\n",
        "                                        replacement=True)\n",
        "\n",
        "        train_loader = DataLoader(train_dataset, batch_size=self.batch_size,\n",
        "                                  sampler=sampler, num_workers=self.num_workers,\n",
        "                                  pin_memory=True)\n",
        "\n",
        "        val_loader = DataLoader(val_dataset, batch_size=self.batch_size,\n",
        "                                shuffle=False, num_workers=self.num_workers,\n",
        "                                pin_memory=True)\n",
        "\n",
        "        test_loader = DataLoader(test_dataset, batch_size=self.batch_size,\n",
        "                                 shuffle=False, num_workers=self.num_workers,\n",
        "                                 pin_memory=True)\n",
        "\n",
        "        return {'train': train_loader, 'val': val_loader, 'test': test_loader}\n",
        "\n",
        "\n",
        "    # Modified train_epoch method to handle simpler EfficientNet output\n",
        "    def train_epoch(self, model: nn.Module, train_loader: DataLoader,\n",
        "                   criterion: nn.Module, optimizer: torch.optim.Optimizer) -> float:\n",
        "        \"\"\"Train for one epoch.\"\"\"\n",
        "        model.train()\n",
        "        total_loss = 0.0\n",
        "\n",
        "        for batch_idx, (images, labels) in enumerate(tqdm(train_loader, desc=\"Training\")):\n",
        "            images, labels = images.to(self.device), labels.to(self.device)\n",
        "\n",
        "            optimizer.zero_grad()\n",
        "\n",
        "            # EfficientNet has simple output (no auxiliary outputs)\n",
        "            outputs = model(images)\n",
        "            loss = criterion(outputs, labels)\n",
        "\n",
        "            loss.backward()\n",
        "            optimizer.step()\n",
        "\n",
        "            total_loss += loss.item()\n",
        "\n",
        "        return total_loss / len(train_loader)\n",
        "\n",
        "    # Modified validate_epoch method\n",
        "    def validate_epoch(self, model: nn.Module, val_loader: DataLoader,\n",
        "                      criterion: nn.Module) -> Tuple[float, float]:\n",
        "        \"\"\"Validate for one epoch.\"\"\"\n",
        "        model.eval()\n",
        "        total_loss = 0.0\n",
        "        all_preds = []\n",
        "        all_labels = []\n",
        "        all_probs = []\n",
        "\n",
        "        with torch.no_grad():\n",
        "            for images, labels in tqdm(val_loader, desc=\"Validation\"):\n",
        "                images, labels = images.to(self.device), labels.to(self.device)\n",
        "\n",
        "                # EfficientNet has simple output\n",
        "                outputs = model(images)\n",
        "                loss = criterion(outputs, labels)\n",
        "                total_loss += loss.item()\n",
        "\n",
        "                probs = F.softmax(outputs, dim=1)\n",
        "                preds = outputs.argmax(dim=1)\n",
        "\n",
        "                all_preds.extend(preds.cpu().numpy())\n",
        "                all_labels.extend(labels.cpu().numpy())\n",
        "                all_probs.extend(probs[:, 1].cpu().numpy())  # Probability of malignant\n",
        "\n",
        "        avg_loss = total_loss / len(val_loader)\n",
        "        auc_roc = roc_auc_score(all_labels, all_probs)\n",
        "\n",
        "        return avg_loss, auc_roc\n",
        "\n",
        "    # Modified test_model method\n",
        "    def test_model(self, model: nn.Module, test_loader: DataLoader) -> Dict[str, float]:\n",
        "        \"\"\"Test the model and return metrics.\"\"\"\n",
        "        model.eval()\n",
        "        all_preds = []\n",
        "        all_labels = []\n",
        "        all_probs = []\n",
        "\n",
        "        with torch.no_grad():\n",
        "            for images, labels in tqdm(test_loader, desc=\"Testing\"):\n",
        "                images, labels = images.to(self.device), labels.to(self.device)\n",
        "\n",
        "                # EfficientNet has simple output\n",
        "                outputs = model(images)\n",
        "\n",
        "                probs = F.softmax(outputs, dim=1)\n",
        "                preds = outputs.argmax(dim=1)\n",
        "\n",
        "                all_preds.extend(preds.cpu().numpy())\n",
        "                all_labels.extend(labels.cpu().numpy())\n",
        "                all_probs.extend(probs[:, 1].cpu().numpy())\n",
        "\n",
        "        return MetricsCalculator.calculate_metrics(\n",
        "            np.array(all_labels),\n",
        "            np.array(all_preds),\n",
        "            np.array(all_probs)\n",
        "        )\n",
        "\n",
        "    # Modified train_magnification method with updated print statements\n",
        "    def train_magnification(self, splits: Dict, magnification: str,\n",
        "                          epochs: int = 100) -> Dict[str, float]:\n",
        "        \"\"\"Train model for a specific magnification.\"\"\"\n",
        "\n",
        "        print(f\"\\n{'='*60}\")\n",
        "        print(f\"Training on {magnification} magnification with EfficientNet-B3\")\n",
        "        print(f\"{'='*60}\")\n",
        "\n",
        "        # Create data loaders\n",
        "        data_loaders = self.create_data_loaders(splits, magnification)\n",
        "\n",
        "        # Initialize model\n",
        "        model = TumorClassifier(num_classes=2, dropout_rate=0.5)\n",
        "        model.to(self.device)\n",
        "\n",
        "        # Loss function\n",
        "        criterion = LabelSmoothingCrossEntropy(smoothing=0.1)\n",
        "\n",
        "        # Phase 1: Train classifier head with frozen backbone\n",
        "        print(\"\\nPhase 1: Training classifier head (frozen backbone)\")\n",
        "        model.freeze_backbone()\n",
        "\n",
        "        optimizer = Adam(filter(lambda p: p.requires_grad, model.parameters()),\n",
        "                        lr=0.001, weight_decay=1e-4)\n",
        "        scheduler = ReduceLROnPlateau(optimizer, mode='max', factor=0.5,\n",
        "                                    patience=5, verbose=True)\n",
        "        early_stopping = EarlyStopping(patience=10, mode='max')\n",
        "\n",
        "        best_auc = 0.0\n",
        "        best_model_state = None\n",
        "\n",
        "        for epoch in range(epochs // 2):\n",
        "            # Training\n",
        "            train_loss = self.train_epoch(model, data_loaders['train'],\n",
        "                                        criterion, optimizer)\n",
        "\n",
        "            # Validation\n",
        "            val_loss, val_auc = self.validate_epoch(model, data_loaders['val'],\n",
        "                                                  criterion)\n",
        "\n",
        "            scheduler.step(val_auc)\n",
        "            early_stopping(val_auc)\n",
        "\n",
        "            print(f\"Epoch {epoch+1:3d}: Train Loss: {train_loss:.4f}, \"\n",
        "                  f\"Val Loss: {val_loss:.4f}, Val AUC: {val_auc:.4f}\")\n",
        "\n",
        "            # Save best model\n",
        "            if val_auc > best_auc:\n",
        "                best_auc = val_auc\n",
        "                best_model_state = model.state_dict().copy()\n",
        "\n",
        "            if early_stopping.early_stop:\n",
        "                print(f\"Early stopping at epoch {epoch+1}\")\n",
        "                break\n",
        "\n",
        "        # Load best model from Phase 1\n",
        "        model.load_state_dict(best_model_state)\n",
        "\n",
        "        # Phase 2: Fine-tune with unfrozen last conv layers\n",
        "        print(\"\\nPhase 2: Fine-tuning with unfrozen last conv layers\")\n",
        "        model.unfreeze_last_conv_layers(num_layers=4)\n",
        "\n",
        "        optimizer = Adam(filter(lambda p: p.requires_grad, model.parameters()),\n",
        "                        lr=0.0001, weight_decay=1e-4)\n",
        "        scheduler = ReduceLROnPlateau(optimizer, mode='max', factor=0.5,\n",
        "                                    patience=5, verbose=True)\n",
        "        early_stopping = EarlyStopping(patience=10, mode='max')\n",
        "\n",
        "        for epoch in range(epochs // 2):\n",
        "            # Training\n",
        "            train_loss = self.train_epoch(model, data_loaders['train'],\n",
        "                                        criterion, optimizer)\n",
        "\n",
        "            # Validation\n",
        "            val_loss, val_auc = self.validate_epoch(model, data_loaders['val'],\n",
        "                                                  criterion)\n",
        "\n",
        "            scheduler.step(val_auc)\n",
        "            early_stopping(val_auc)\n",
        "\n",
        "            print(f\"Epoch {epoch+1:3d}: Train Loss: {train_loss:.4f}, \"\n",
        "                  f\"Val Loss: {val_loss:.4f}, Val AUC: {val_auc:.4f}\")\n",
        "\n",
        "            # Save best model\n",
        "            if val_auc > best_auc:\n",
        "                best_auc = val_auc\n",
        "                best_model_state = model.state_dict().copy()\n",
        "\n",
        "            if early_stopping.early_stop:\n",
        "                print(f\"Early stopping at epoch {epoch+1}\")\n",
        "                break\n",
        "\n",
        "        # Load best model and test\n",
        "        model.load_state_dict(best_model_state)\n",
        "        test_metrics = self.test_model(model, data_loaders['test'])\n",
        "\n",
        "        print(f\"\\nBest validation AUC: {best_auc:.4f}\")\n",
        "        print(f\"Test metrics:\")\n",
        "        for metric, value in test_metrics.items():\n",
        "            if metric != 'confusion_matrix':\n",
        "                print(f\"  {metric}: {value:.4f}\")\n",
        "\n",
        "        # Plot confusion matrix\n",
        "        cm = test_metrics['confusion_matrix']\n",
        "        MetricsCalculator.plot_confusion_matrix(cm, f\"Confusion Matrix - {magnification} (EfficientNet-B3)\")\n",
        "\n",
        "        return test_metrics\n",
        "\n",
        "    def run_all_experiments(self, data_dir: str) -> pd.DataFrame:\n",
        "        \"\"\"Run experiments for all magnifications.\"\"\"\n",
        "\n",
        "        print(\"Starting BreakHis tumor classification experiments with EfficientNet-B3...\")\n",
        "\n",
        "        # Parse dataset\n",
        "        data_info = self.parse_dataset()\n",
        "\n",
        "        # Create patient-level splits\n",
        "        splits = self.create_patient_splits(data_info)\n",
        "\n",
        "        # Run experiments for each magnification\n",
        "        magnifications = ['40X', '100X', '200X', '400X', 'All']\n",
        "        results = []\n",
        "\n",
        "        for mag in magnifications:\n",
        "            print(f\"\\nStarting experiment for {mag}...\")\n",
        "            metrics = self.train_magnification(splits, mag)\n",
        "\n",
        "            result = {\n",
        "                'Magnification': mag,\n",
        "                'Accuracy': metrics['accuracy'],\n",
        "                'Precision': metrics['precision'],\n",
        "                'Recall': metrics['recall'],\n",
        "                'Specificity': metrics['specificity'],\n",
        "                'F1': metrics['f1'],\n",
        "                'AUC-ROC': metrics['auc_roc']\n",
        "            }\n",
        "            results.append(result)\n",
        "\n",
        "            # Store confusion matrix separately\n",
        "            self.results[mag] = {\n",
        "                'metrics': result,\n",
        "                'confusion_matrix': metrics['confusion_matrix']\n",
        "            }\n",
        "\n",
        "        # Create results DataFrame\n",
        "        results_df = pd.DataFrame(results)\n",
        "\n",
        "        # Display results table\n",
        "        print(\"\\n\" + \"=\"*80)\n",
        "        print(\"FINAL RESULTS TABLE - EfficientNet-B3\")\n",
        "        print(\"=\"*80)\n",
        "        print(results_df.to_string(index=False, float_format=lambda x: f'{x:.4f}'))\n",
        "\n",
        "        return results_df"
      ],
      "metadata": {
        "id": "d2ygMYtkYeuL"
      },
      "execution_count": 11,
      "outputs": []
    },
    {
      "cell_type": "code",
      "source": [
        "class TumorClassifier(nn.Module):\n",
        "    \"\"\"EfficientNet-B3-based tumor classifier.\"\"\"\n",
        "\n",
        "    def __init__(self, num_classes: int = 2, dropout_rate: float = 0.5):\n",
        "        super().__init__()\n",
        "\n",
        "        # Load pretrained EfficientNet-B3\n",
        "        self.backbone = efficientnet_b3(weights=EfficientNet_B3_Weights.DEFAULT)\n",
        "\n",
        "        # Get the number of features from the classifier\n",
        "        num_features = self.backbone.classifier[1].in_features\n",
        "\n",
        "        # Replace the final classifier with a more robust one\n",
        "        self.backbone.classifier = nn.Sequential(\n",
        "            nn.Dropout(p=dropout_rate, inplace=True),\n",
        "            nn.Linear(num_features, 512),\n",
        "            nn.ReLU(inplace=True),\n",
        "            nn.Dropout(p=dropout_rate),\n",
        "            nn.Linear(512, 256),\n",
        "            nn.ReLU(inplace=True),\n",
        "            nn.Dropout(p=dropout_rate),\n",
        "            nn.Linear(256, num_classes)\n",
        "        )\n",
        "\n",
        "        # Initialize classifier weights\n",
        "        self._init_classifier_weights()\n",
        "\n",
        "    def _init_classifier_weights(self):\n",
        "        \"\"\"Initialize classifier weights.\"\"\"\n",
        "        for m in self.backbone.classifier.modules():\n",
        "            if isinstance(m, nn.Linear):\n",
        "                nn.init.normal_(m.weight, 0, 0.01)\n",
        "                nn.init.constant_(m.bias, 0)\n",
        "\n",
        "    def forward(self, x: torch.Tensor) -> torch.Tensor:\n",
        "        # EfficientNet has a simple forward pass (no auxiliary outputs)\n",
        "        return self.backbone(x)\n",
        "\n",
        "    def freeze_backbone(self):\n",
        "        \"\"\"Freeze backbone parameters except final classifier.\"\"\"\n",
        "        for name, param in self.backbone.named_parameters():\n",
        "            if 'classifier' not in name:\n",
        "                param.requires_grad = False\n",
        "\n",
        "    def unfreeze_last_conv_layers(self, num_layers: int = 4):\n",
        "        \"\"\"Unfreeze last few layers of EfficientNet-B3.\"\"\"\n",
        "        # EfficientNet-B3 has features organized in blocks\n",
        "        # We'll unfreeze the last few blocks in the features section\n",
        "\n",
        "        # Get all parameters in the features section\n",
        "        feature_params = list(self.backbone.features.named_parameters())\n",
        "\n",
        "        # Calculate how many parameters to unfreeze from the end\n",
        "        # EfficientNet has many small layers, so we unfreeze more parameters\n",
        "        total_params = len(feature_params)\n",
        "        params_to_unfreeze = min(num_layers * 10, total_params)  # Unfreeze more layers\n",
        "\n",
        "        # Unfreeze the last N parameters\n",
        "        for name, param in feature_params[-params_to_unfreeze:]:\n",
        "            param.requires_grad = True\n"
      ],
      "metadata": {
        "id": "EZteu1wVZQOn"
      },
      "execution_count": 12,
      "outputs": []
    },
    {
      "cell_type": "code",
      "source": [
        "# Modified main function\n",
        "def main():\n",
        "    \"\"\"Main function to run the experiments.\"\"\"\n",
        "\n",
        "    # Download dataset using kagglehub\n",
        "    import kagglehub\n",
        "\n",
        "    # Download dataset\n",
        "    path = kagglehub.dataset_download(\"ambarish/breakhis\")\n",
        "    print(\"Path to dataset files:\", path)\n",
        "\n",
        "    # Configuration\n",
        "    DATA_DIR = path  # Use the downloaded path\n",
        "    BATCH_SIZE = 32\n",
        "    NUM_WORKERS = 4\n",
        "    DEVICE = 'cuda' if torch.cuda.is_available() else 'cpu'\n",
        "\n",
        "    print(f\"Using device: {DEVICE}\")\n",
        "    print(\"Using EfficientNet-B3 backbone\")\n",
        "\n",
        "    # Initialize trainer\n",
        "    trainer = BreakHisTrainer(\n",
        "        data_dir=DATA_DIR,\n",
        "        batch_size=BATCH_SIZE,\n",
        "        num_workers=NUM_WORKERS,\n",
        "        device=DEVICE\n",
        "    )\n",
        "\n",
        "    # Run all experiments\n",
        "    results_df = trainer.run_all_experiments(DATA_DIR)\n",
        "\n",
        "    # Save results\n",
        "    results_df.to_csv('breakhis_efficientnet_b3_results.csv', index=False)\n",
        "    print(\"\\nResults saved to 'breakhis_efficientnet_b3_results.csv'\")\n",
        "\n",
        "    # Display final summary\n",
        "    print(\"\\n\" + \"=\"*80)\n",
        "    print(\"EXPERIMENT SUMMARY - EfficientNet-B3\")\n",
        "    print(\"=\"*80)\n",
        "    print(f\"Average Accuracy: {results_df['Accuracy'].mean():.4f}\")\n",
        "    print(f\"Average AUC-ROC: {results_df['AUC-ROC'].mean():.4f}\")\n",
        "    print(f\"Best performing magnification: {results_df.loc[results_df['Accuracy'].idxmax(), 'Magnification']}\")\n",
        "\n",
        "    return results_df"
      ],
      "metadata": {
        "id": "jINEm61yYeoT"
      },
      "execution_count": 13,
      "outputs": []
    },
    {
      "cell_type": "code",
      "source": [
        "if __name__ == \"__main__\":\n",
        "    results = main()"
      ],
      "metadata": {
        "colab": {
          "base_uri": "https://localhost:8080/",
          "height": 1000
        },
        "id": "aMXA7fdBYegB",
        "outputId": "09efe5a4-a279-4797-c2a9-a2ce25f162a1"
      },
      "execution_count": null,
      "outputs": [
        {
          "output_type": "stream",
          "name": "stdout",
          "text": [
            "Path to dataset files: /kaggle/input/breakhis\n",
            "Using device: cuda\n",
            "Using EfficientNet-B3 backbone\n",
            "Starting BreakHis tumor classification experiments with EfficientNet-B3...\n",
            "Parsing BreakHis dataset...\n",
            "Found images using pattern: /kaggle/input/breakhis/BreaKHis_v1/BreaKHis_v1/histology_slides/breast/**/*.png\n",
            "Found 7909 image files\n",
            "Successfully parsed 7909 images\n",
            "Benign: 2480\n",
            "Malignant: 5429\n",
            "Magnifications: {'400X', '40X', '200X', '100X'}\n",
            "Unique patients: 82\n",
            "\n",
            "40X - Train: 1172, Val: 382, Test: 441\n",
            "\n",
            "100X - Train: 1201, Val: 403, Test: 477\n",
            "\n",
            "200X - Train: 1188, Val: 382, Test: 443\n",
            "\n",
            "400X - Train: 1059, Val: 367, Test: 394\n",
            "\n",
            "All - Train: 4620, Val: 1534, Test: 1755\n",
            "\n",
            "Starting experiment for 40X...\n",
            "\n",
            "============================================================\n",
            "Training on 40X magnification with EfficientNet-B3\n",
            "============================================================\n"
          ]
        },
        {
          "output_type": "stream",
          "name": "stderr",
          "text": [
            "Downloading: \"https://download.pytorch.org/models/efficientnet_b3_rwightman-b3899882.pth\" to /root/.cache/torch/hub/checkpoints/efficientnet_b3_rwightman-b3899882.pth\n",
            "100%|██████████| 47.2M/47.2M [00:00<00:00, 208MB/s]\n"
          ]
        },
        {
          "output_type": "stream",
          "name": "stdout",
          "text": [
            "\n",
            "Phase 1: Training classifier head (frozen backbone)\n"
          ]
        },
        {
          "output_type": "stream",
          "name": "stderr",
          "text": [
            "Training: 100%|██████████| 37/37 [00:28<00:00,  1.31it/s]\n",
            "Validation: 100%|██████████| 12/12 [00:07<00:00,  1.68it/s]\n"
          ]
        },
        {
          "output_type": "stream",
          "name": "stdout",
          "text": [
            "Epoch   1: Train Loss: 0.6088, Val Loss: 0.6175, Val AUC: 0.7756\n"
          ]
        },
        {
          "output_type": "stream",
          "name": "stderr",
          "text": [
            "Training: 100%|██████████| 37/37 [00:27<00:00,  1.36it/s]\n",
            "Validation: 100%|██████████| 12/12 [00:05<00:00,  2.08it/s]\n"
          ]
        },
        {
          "output_type": "stream",
          "name": "stdout",
          "text": [
            "Epoch   2: Train Loss: 0.5410, Val Loss: 0.6478, Val AUC: 0.8211\n"
          ]
        },
        {
          "output_type": "stream",
          "name": "stderr",
          "text": [
            "Training: 100%|██████████| 37/37 [00:28<00:00,  1.32it/s]\n",
            "Validation: 100%|██████████| 12/12 [00:05<00:00,  2.08it/s]\n"
          ]
        },
        {
          "output_type": "stream",
          "name": "stdout",
          "text": [
            "Epoch   3: Train Loss: 0.5262, Val Loss: 0.6069, Val AUC: 0.8121\n"
          ]
        },
        {
          "output_type": "stream",
          "name": "stderr",
          "text": [
            "Training: 100%|██████████| 37/37 [00:27<00:00,  1.37it/s]\n",
            "Validation: 100%|██████████| 12/12 [00:06<00:00,  1.72it/s]\n"
          ]
        },
        {
          "output_type": "stream",
          "name": "stdout",
          "text": [
            "Epoch   4: Train Loss: 0.5170, Val Loss: 0.5968, Val AUC: 0.8573\n"
          ]
        },
        {
          "output_type": "stream",
          "name": "stderr",
          "text": [
            "Training: 100%|██████████| 37/37 [00:26<00:00,  1.38it/s]\n",
            "Validation: 100%|██████████| 12/12 [00:05<00:00,  2.02it/s]\n"
          ]
        },
        {
          "output_type": "stream",
          "name": "stdout",
          "text": [
            "Epoch   5: Train Loss: 0.5171, Val Loss: 0.5765, Val AUC: 0.8208\n"
          ]
        },
        {
          "output_type": "stream",
          "name": "stderr",
          "text": [
            "Training: 100%|██████████| 37/37 [00:27<00:00,  1.36it/s]\n",
            "Validation: 100%|██████████| 12/12 [00:06<00:00,  1.75it/s]\n"
          ]
        },
        {
          "output_type": "stream",
          "name": "stdout",
          "text": [
            "Epoch   6: Train Loss: 0.5052, Val Loss: 0.5806, Val AUC: 0.8585\n"
          ]
        },
        {
          "output_type": "stream",
          "name": "stderr",
          "text": [
            "Training: 100%|██████████| 37/37 [00:26<00:00,  1.38it/s]\n",
            "Validation: 100%|██████████| 12/12 [00:06<00:00,  1.94it/s]\n"
          ]
        },
        {
          "output_type": "stream",
          "name": "stdout",
          "text": [
            "Epoch   7: Train Loss: 0.4939, Val Loss: 0.6486, Val AUC: 0.8248\n"
          ]
        },
        {
          "output_type": "stream",
          "name": "stderr",
          "text": [
            "Training: 100%|██████████| 37/37 [00:27<00:00,  1.36it/s]\n",
            "Validation: 100%|██████████| 12/12 [00:05<00:00,  2.06it/s]\n"
          ]
        },
        {
          "output_type": "stream",
          "name": "stdout",
          "text": [
            "Epoch   8: Train Loss: 0.4892, Val Loss: 0.6159, Val AUC: 0.8490\n"
          ]
        },
        {
          "output_type": "stream",
          "name": "stderr",
          "text": [
            "Training: 100%|██████████| 37/37 [00:26<00:00,  1.38it/s]\n",
            "Validation: 100%|██████████| 12/12 [00:06<00:00,  1.76it/s]\n"
          ]
        },
        {
          "output_type": "stream",
          "name": "stdout",
          "text": [
            "Epoch   9: Train Loss: 0.4819, Val Loss: 0.5671, Val AUC: 0.8264\n"
          ]
        },
        {
          "output_type": "stream",
          "name": "stderr",
          "text": [
            "Training: 100%|██████████| 37/37 [00:26<00:00,  1.38it/s]\n",
            "Validation: 100%|██████████| 12/12 [00:05<00:00,  2.07it/s]\n"
          ]
        },
        {
          "output_type": "stream",
          "name": "stdout",
          "text": [
            "Epoch  10: Train Loss: 0.4860, Val Loss: 0.6500, Val AUC: 0.8552\n"
          ]
        },
        {
          "output_type": "stream",
          "name": "stderr",
          "text": [
            "Training: 100%|██████████| 37/37 [00:26<00:00,  1.37it/s]\n",
            "Validation: 100%|██████████| 12/12 [00:06<00:00,  1.73it/s]\n"
          ]
        },
        {
          "output_type": "stream",
          "name": "stdout",
          "text": [
            "Epoch  11: Train Loss: 0.4821, Val Loss: 0.5631, Val AUC: 0.8585\n"
          ]
        },
        {
          "output_type": "stream",
          "name": "stderr",
          "text": [
            "Training: 100%|██████████| 37/37 [00:27<00:00,  1.35it/s]\n",
            "Validation: 100%|██████████| 12/12 [00:05<00:00,  2.08it/s]\n"
          ]
        },
        {
          "output_type": "stream",
          "name": "stdout",
          "text": [
            "Epoch  12: Train Loss: 0.4751, Val Loss: 0.5642, Val AUC: 0.8394\n"
          ]
        },
        {
          "output_type": "stream",
          "name": "stderr",
          "text": [
            "Training: 100%|██████████| 37/37 [00:28<00:00,  1.28it/s]\n",
            "Validation: 100%|██████████| 12/12 [00:05<00:00,  2.02it/s]\n"
          ]
        },
        {
          "output_type": "stream",
          "name": "stdout",
          "text": [
            "Epoch  13: Train Loss: 0.4761, Val Loss: 0.5834, Val AUC: 0.8291\n"
          ]
        },
        {
          "output_type": "stream",
          "name": "stderr",
          "text": [
            "Training: 100%|██████████| 37/37 [00:27<00:00,  1.32it/s]\n",
            "Validation: 100%|██████████| 12/12 [00:07<00:00,  1.66it/s]\n"
          ]
        },
        {
          "output_type": "stream",
          "name": "stdout",
          "text": [
            "Epoch  14: Train Loss: 0.4629, Val Loss: 0.6052, Val AUC: 0.8191\n"
          ]
        },
        {
          "output_type": "stream",
          "name": "stderr",
          "text": [
            "Training: 100%|██████████| 37/37 [00:27<00:00,  1.35it/s]\n",
            "Validation: 100%|██████████| 12/12 [00:06<00:00,  1.93it/s]\n"
          ]
        },
        {
          "output_type": "stream",
          "name": "stdout",
          "text": [
            "Epoch  15: Train Loss: 0.4624, Val Loss: 0.5935, Val AUC: 0.8333\n"
          ]
        },
        {
          "output_type": "stream",
          "name": "stderr",
          "text": [
            "Training: 100%|██████████| 37/37 [00:28<00:00,  1.29it/s]\n",
            "Validation: 100%|██████████| 12/12 [00:06<00:00,  1.96it/s]\n"
          ]
        },
        {
          "output_type": "stream",
          "name": "stdout",
          "text": [
            "Epoch  16: Train Loss: 0.4592, Val Loss: 0.6139, Val AUC: 0.8283\n",
            "Early stopping at epoch 16\n",
            "\n",
            "Phase 2: Fine-tuning with unfrozen last conv layers\n"
          ]
        },
        {
          "output_type": "stream",
          "name": "stderr",
          "text": [
            "Training: 100%|██████████| 37/37 [00:28<00:00,  1.31it/s]\n",
            "Validation: 100%|██████████| 12/12 [00:07<00:00,  1.69it/s]\n"
          ]
        },
        {
          "output_type": "stream",
          "name": "stdout",
          "text": [
            "Epoch   1: Train Loss: 0.4663, Val Loss: 0.6055, Val AUC: 0.8450\n"
          ]
        },
        {
          "output_type": "stream",
          "name": "stderr",
          "text": [
            "Training: 100%|██████████| 37/37 [00:28<00:00,  1.30it/s]\n",
            "Validation: 100%|██████████| 12/12 [00:06<00:00,  1.72it/s]\n"
          ]
        },
        {
          "output_type": "stream",
          "name": "stdout",
          "text": [
            "Epoch   2: Train Loss: 0.4415, Val Loss: 0.5788, Val AUC: 0.8401\n"
          ]
        },
        {
          "output_type": "stream",
          "name": "stderr",
          "text": [
            "Training: 100%|██████████| 37/37 [00:28<00:00,  1.29it/s]\n",
            "Validation: 100%|██████████| 12/12 [00:06<00:00,  1.96it/s]\n"
          ]
        },
        {
          "output_type": "stream",
          "name": "stdout",
          "text": [
            "Epoch   3: Train Loss: 0.4189, Val Loss: 0.5815, Val AUC: 0.8499\n"
          ]
        },
        {
          "output_type": "stream",
          "name": "stderr",
          "text": [
            "Training: 100%|██████████| 37/37 [00:28<00:00,  1.30it/s]\n",
            "Validation: 100%|██████████| 12/12 [00:06<00:00,  1.86it/s]\n"
          ]
        },
        {
          "output_type": "stream",
          "name": "stdout",
          "text": [
            "Epoch   4: Train Loss: 0.4254, Val Loss: 0.5750, Val AUC: 0.8422\n"
          ]
        },
        {
          "output_type": "stream",
          "name": "stderr",
          "text": [
            "Training: 100%|██████████| 37/37 [00:28<00:00,  1.32it/s]\n",
            "Validation: 100%|██████████| 12/12 [00:07<00:00,  1.64it/s]\n"
          ]
        },
        {
          "output_type": "stream",
          "name": "stdout",
          "text": [
            "Epoch   5: Train Loss: 0.4091, Val Loss: 0.5450, Val AUC: 0.8493\n"
          ]
        },
        {
          "output_type": "stream",
          "name": "stderr",
          "text": [
            "Training: 100%|██████████| 37/37 [00:27<00:00,  1.32it/s]\n",
            "Validation: 100%|██████████| 12/12 [00:06<00:00,  2.00it/s]\n"
          ]
        },
        {
          "output_type": "stream",
          "name": "stdout",
          "text": [
            "Epoch   6: Train Loss: 0.4054, Val Loss: 0.5600, Val AUC: 0.8634\n"
          ]
        },
        {
          "output_type": "stream",
          "name": "stderr",
          "text": [
            "Training: 100%|██████████| 37/37 [00:28<00:00,  1.28it/s]\n",
            "Validation: 100%|██████████| 12/12 [00:05<00:00,  2.06it/s]\n"
          ]
        },
        {
          "output_type": "stream",
          "name": "stdout",
          "text": [
            "Epoch   7: Train Loss: 0.4064, Val Loss: 0.5550, Val AUC: 0.8659\n"
          ]
        },
        {
          "output_type": "stream",
          "name": "stderr",
          "text": [
            "Training: 100%|██████████| 37/37 [00:28<00:00,  1.32it/s]\n",
            "Validation: 100%|██████████| 12/12 [00:07<00:00,  1.70it/s]\n"
          ]
        },
        {
          "output_type": "stream",
          "name": "stdout",
          "text": [
            "Epoch   8: Train Loss: 0.4036, Val Loss: 0.5308, Val AUC: 0.8835\n"
          ]
        },
        {
          "output_type": "stream",
          "name": "stderr",
          "text": [
            "Training: 100%|██████████| 37/37 [00:27<00:00,  1.34it/s]\n",
            "Validation: 100%|██████████| 12/12 [00:05<00:00,  2.04it/s]\n"
          ]
        },
        {
          "output_type": "stream",
          "name": "stdout",
          "text": [
            "Epoch   9: Train Loss: 0.3931, Val Loss: 0.5144, Val AUC: 0.8896\n"
          ]
        },
        {
          "output_type": "stream",
          "name": "stderr",
          "text": [
            "Training: 100%|██████████| 37/37 [00:28<00:00,  1.30it/s]\n",
            "Validation: 100%|██████████| 12/12 [00:05<00:00,  2.04it/s]\n"
          ]
        },
        {
          "output_type": "stream",
          "name": "stdout",
          "text": [
            "Epoch  10: Train Loss: 0.3915, Val Loss: 0.5360, Val AUC: 0.8814\n"
          ]
        },
        {
          "output_type": "stream",
          "name": "stderr",
          "text": [
            "Training: 100%|██████████| 37/37 [00:28<00:00,  1.31it/s]\n",
            "Validation: 100%|██████████| 12/12 [00:06<00:00,  1.72it/s]\n"
          ]
        },
        {
          "output_type": "stream",
          "name": "stdout",
          "text": [
            "Epoch  11: Train Loss: 0.3930, Val Loss: 0.5323, Val AUC: 0.8766\n"
          ]
        },
        {
          "output_type": "stream",
          "name": "stderr",
          "text": [
            "Training: 100%|██████████| 37/37 [00:27<00:00,  1.34it/s]\n",
            "Validation: 100%|██████████| 12/12 [00:05<00:00,  2.01it/s]\n"
          ]
        },
        {
          "output_type": "stream",
          "name": "stdout",
          "text": [
            "Epoch  12: Train Loss: 0.3992, Val Loss: 0.5308, Val AUC: 0.8769\n"
          ]
        },
        {
          "output_type": "stream",
          "name": "stderr",
          "text": [
            "Training: 100%|██████████| 37/37 [00:28<00:00,  1.28it/s]\n",
            "Validation: 100%|██████████| 12/12 [00:06<00:00,  1.98it/s]\n"
          ]
        },
        {
          "output_type": "stream",
          "name": "stdout",
          "text": [
            "Epoch  13: Train Loss: 0.3819, Val Loss: 0.5404, Val AUC: 0.8709\n"
          ]
        },
        {
          "output_type": "stream",
          "name": "stderr",
          "text": [
            "Training: 100%|██████████| 37/37 [00:27<00:00,  1.34it/s]\n",
            "Validation: 100%|██████████| 12/12 [00:07<00:00,  1.66it/s]\n"
          ]
        },
        {
          "output_type": "stream",
          "name": "stdout",
          "text": [
            "Epoch  14: Train Loss: 0.3753, Val Loss: 0.5288, Val AUC: 0.8771\n"
          ]
        },
        {
          "output_type": "stream",
          "name": "stderr",
          "text": [
            "Training: 100%|██████████| 37/37 [00:27<00:00,  1.34it/s]\n",
            "Validation: 100%|██████████| 12/12 [00:06<00:00,  2.00it/s]\n"
          ]
        },
        {
          "output_type": "stream",
          "name": "stdout",
          "text": [
            "Epoch  15: Train Loss: 0.3735, Val Loss: 0.5240, Val AUC: 0.8921\n"
          ]
        },
        {
          "output_type": "stream",
          "name": "stderr",
          "text": [
            "Training: 100%|██████████| 37/37 [00:28<00:00,  1.30it/s]\n",
            "Validation: 100%|██████████| 12/12 [00:05<00:00,  2.07it/s]\n"
          ]
        },
        {
          "output_type": "stream",
          "name": "stdout",
          "text": [
            "Epoch  16: Train Loss: 0.3845, Val Loss: 0.5252, Val AUC: 0.8962\n"
          ]
        },
        {
          "output_type": "stream",
          "name": "stderr",
          "text": [
            "Training: 100%|██████████| 37/37 [00:27<00:00,  1.33it/s]\n",
            "Validation: 100%|██████████| 12/12 [00:06<00:00,  1.75it/s]\n"
          ]
        },
        {
          "output_type": "stream",
          "name": "stdout",
          "text": [
            "Epoch  17: Train Loss: 0.3817, Val Loss: 0.5250, Val AUC: 0.8795\n"
          ]
        },
        {
          "output_type": "stream",
          "name": "stderr",
          "text": [
            "Training: 100%|██████████| 37/37 [00:27<00:00,  1.33it/s]\n",
            "Validation: 100%|██████████| 12/12 [00:05<00:00,  2.01it/s]\n"
          ]
        },
        {
          "output_type": "stream",
          "name": "stdout",
          "text": [
            "Epoch  18: Train Loss: 0.3767, Val Loss: 0.5201, Val AUC: 0.8765\n"
          ]
        },
        {
          "output_type": "stream",
          "name": "stderr",
          "text": [
            "Training: 100%|██████████| 37/37 [00:28<00:00,  1.30it/s]\n",
            "Validation: 100%|██████████| 12/12 [00:05<00:00,  2.03it/s]\n"
          ]
        },
        {
          "output_type": "stream",
          "name": "stdout",
          "text": [
            "Epoch  19: Train Loss: 0.3808, Val Loss: 0.5132, Val AUC: 0.8855\n"
          ]
        },
        {
          "output_type": "stream",
          "name": "stderr",
          "text": [
            "Training: 100%|██████████| 37/37 [00:27<00:00,  1.34it/s]\n",
            "Validation: 100%|██████████| 12/12 [00:06<00:00,  1.73it/s]\n"
          ]
        },
        {
          "output_type": "stream",
          "name": "stdout",
          "text": [
            "Epoch  20: Train Loss: 0.3769, Val Loss: 0.5105, Val AUC: 0.8907\n"
          ]
        },
        {
          "output_type": "stream",
          "name": "stderr",
          "text": [
            "Training: 100%|██████████| 37/37 [00:27<00:00,  1.34it/s]\n",
            "Validation: 100%|██████████| 12/12 [00:05<00:00,  2.02it/s]\n"
          ]
        },
        {
          "output_type": "stream",
          "name": "stdout",
          "text": [
            "Epoch  21: Train Loss: 0.3680, Val Loss: 0.5122, Val AUC: 0.8950\n"
          ]
        },
        {
          "output_type": "stream",
          "name": "stderr",
          "text": [
            "Training: 100%|██████████| 37/37 [00:28<00:00,  1.28it/s]\n",
            "Validation: 100%|██████████| 12/12 [00:06<00:00,  1.96it/s]\n"
          ]
        },
        {
          "output_type": "stream",
          "name": "stdout",
          "text": [
            "Epoch  22: Train Loss: 0.3636, Val Loss: 0.5185, Val AUC: 0.8846\n"
          ]
        },
        {
          "output_type": "stream",
          "name": "stderr",
          "text": [
            "Training: 100%|██████████| 37/37 [00:27<00:00,  1.33it/s]\n",
            "Validation: 100%|██████████| 12/12 [00:07<00:00,  1.71it/s]\n"
          ]
        },
        {
          "output_type": "stream",
          "name": "stdout",
          "text": [
            "Epoch  23: Train Loss: 0.3684, Val Loss: 0.5124, Val AUC: 0.8869\n"
          ]
        },
        {
          "output_type": "stream",
          "name": "stderr",
          "text": [
            "Training: 100%|██████████| 37/37 [00:27<00:00,  1.33it/s]\n",
            "Validation: 100%|██████████| 12/12 [00:05<00:00,  2.04it/s]\n"
          ]
        },
        {
          "output_type": "stream",
          "name": "stdout",
          "text": [
            "Epoch  24: Train Loss: 0.3647, Val Loss: 0.5133, Val AUC: 0.8912\n"
          ]
        },
        {
          "output_type": "stream",
          "name": "stderr",
          "text": [
            "Training: 100%|██████████| 37/37 [00:29<00:00,  1.26it/s]\n",
            "Validation: 100%|██████████| 12/12 [00:05<00:00,  2.02it/s]\n"
          ]
        },
        {
          "output_type": "stream",
          "name": "stdout",
          "text": [
            "Epoch  25: Train Loss: 0.3650, Val Loss: 0.5154, Val AUC: 0.8949\n"
          ]
        },
        {
          "output_type": "stream",
          "name": "stderr",
          "text": [
            "Training: 100%|██████████| 37/37 [00:28<00:00,  1.31it/s]\n",
            "Validation: 100%|██████████| 12/12 [00:07<00:00,  1.71it/s]\n"
          ]
        },
        {
          "output_type": "stream",
          "name": "stdout",
          "text": [
            "Epoch  26: Train Loss: 0.3658, Val Loss: 0.5233, Val AUC: 0.8784\n",
            "Early stopping at epoch 26\n"
          ]
        },
        {
          "output_type": "stream",
          "name": "stderr",
          "text": [
            "Testing: 100%|██████████| 14/14 [00:07<00:00,  1.93it/s]\n"
          ]
        },
        {
          "output_type": "stream",
          "name": "stdout",
          "text": [
            "\n",
            "Best validation AUC: 0.8962\n",
            "Test metrics:\n",
            "  accuracy: 0.8458\n",
            "  precision: 0.9283\n",
            "  recall: 0.7992\n",
            "  specificity: 0.9121\n",
            "  f1: 0.8589\n",
            "  auc_roc: 0.9021\n"
          ]
        },
        {
          "output_type": "display_data",
          "data": {
            "text/plain": [
              "<Figure size 800x600 with 2 Axes>"
            ],
            "image/png": "[encoded data removed]"
          },
          "metadata": {}
        },
        {
          "output_type": "stream",
          "name": "stdout",
          "text": [
            "\n",
            "Starting experiment for 100X...\n",
            "\n",
            "============================================================\n",
            "Training on 100X magnification with EfficientNet-B3\n",
            "============================================================\n",
            "\n",
            "Phase 1: Training classifier head (frozen backbone)\n"
          ]
        },
        {
          "output_type": "stream",
          "name": "stderr",
          "text": [
            "Training: 100%|██████████| 38/38 [00:29<00:00,  1.27it/s]\n",
            "Validation: 100%|██████████| 13/13 [00:06<00:00,  1.94it/s]\n"
          ]
        },
        {
          "output_type": "stream",
          "name": "stdout",
          "text": [
            "Epoch   1: Train Loss: 0.6321, Val Loss: 0.6228, Val AUC: 0.8472\n"
          ]
        },
        {
          "output_type": "stream",
          "name": "stderr",
          "text": [
            "Training: 100%|██████████| 38/38 [00:29<00:00,  1.30it/s]\n",
            "Validation: 100%|██████████| 13/13 [00:06<00:00,  2.08it/s]\n"
          ]
        },
        {
          "output_type": "stream",
          "name": "stdout",
          "text": [
            "Epoch   2: Train Loss: 0.5599, Val Loss: 0.6521, Val AUC: 0.8456\n"
          ]
        },
        {
          "output_type": "stream",
          "name": "stderr",
          "text": [
            "Training: 100%|██████████| 38/38 [00:28<00:00,  1.34it/s]\n",
            "Validation: 100%|██████████| 13/13 [00:07<00:00,  1.76it/s]\n"
          ]
        },
        {
          "output_type": "stream",
          "name": "stdout",
          "text": [
            "Epoch   3: Train Loss: 0.5312, Val Loss: 0.5662, Val AUC: 0.8302\n"
          ]
        },
        {
          "output_type": "stream",
          "name": "stderr",
          "text": [
            "Training: 100%|██████████| 38/38 [00:28<00:00,  1.33it/s]\n",
            "Validation: 100%|██████████| 13/13 [00:06<00:00,  1.87it/s]\n"
          ]
        },
        {
          "output_type": "stream",
          "name": "stdout",
          "text": [
            "Epoch   4: Train Loss: 0.5360, Val Loss: 0.6453, Val AUC: 0.8678\n"
          ]
        },
        {
          "output_type": "stream",
          "name": "stderr",
          "text": [
            "Training: 100%|██████████| 38/38 [00:28<00:00,  1.34it/s]\n",
            "Validation: 100%|██████████| 13/13 [00:06<00:00,  2.10it/s]\n"
          ]
        },
        {
          "output_type": "stream",
          "name": "stdout",
          "text": [
            "Epoch   5: Train Loss: 0.5329, Val Loss: 0.6016, Val AUC: 0.8655\n"
          ]
        },
        {
          "output_type": "stream",
          "name": "stderr",
          "text": [
            "Training: 100%|██████████| 38/38 [00:29<00:00,  1.27it/s]\n",
            "Validation: 100%|██████████| 13/13 [00:06<00:00,  1.96it/s]\n"
          ]
        },
        {
          "output_type": "stream",
          "name": "stdout",
          "text": [
            "Epoch   6: Train Loss: 0.5219, Val Loss: 0.6159, Val AUC: 0.8651\n"
          ]
        },
        {
          "output_type": "stream",
          "name": "stderr",
          "text": [
            "Training: 100%|██████████| 38/38 [00:29<00:00,  1.29it/s]\n",
            "Validation: 100%|██████████| 13/13 [00:07<00:00,  1.69it/s]\n"
          ]
        },
        {
          "output_type": "stream",
          "name": "stdout",
          "text": [
            "Epoch   7: Train Loss: 0.5159, Val Loss: 0.6073, Val AUC: 0.8692\n"
          ]
        },
        {
          "output_type": "stream",
          "name": "stderr",
          "text": [
            "Training: 100%|██████████| 38/38 [00:28<00:00,  1.33it/s]\n",
            "Validation: 100%|██████████| 13/13 [00:07<00:00,  1.78it/s]\n"
          ]
        },
        {
          "output_type": "stream",
          "name": "stdout",
          "text": [
            "Epoch   8: Train Loss: 0.5034, Val Loss: 0.7107, Val AUC: 0.8473\n"
          ]
        },
        {
          "output_type": "stream",
          "name": "stderr",
          "text": [
            "Training: 100%|██████████| 38/38 [00:28<00:00,  1.31it/s]\n",
            "Validation: 100%|██████████| 13/13 [00:06<00:00,  2.09it/s]\n"
          ]
        },
        {
          "output_type": "stream",
          "name": "stdout",
          "text": [
            "Epoch   9: Train Loss: 0.5161, Val Loss: 0.6582, Val AUC: 0.8616\n"
          ]
        },
        {
          "output_type": "stream",
          "name": "stderr",
          "text": [
            "Training: 100%|██████████| 38/38 [00:29<00:00,  1.28it/s]\n",
            "Validation: 100%|██████████| 13/13 [00:06<00:00,  2.11it/s]\n"
          ]
        },
        {
          "output_type": "stream",
          "name": "stdout",
          "text": [
            "Epoch  10: Train Loss: 0.5011, Val Loss: 0.6127, Val AUC: 0.8363\n"
          ]
        },
        {
          "output_type": "stream",
          "name": "stderr",
          "text": [
            "Training: 100%|██████████| 38/38 [00:28<00:00,  1.32it/s]\n",
            "Validation: 100%|██████████| 13/13 [00:07<00:00,  1.83it/s]\n"
          ]
        },
        {
          "output_type": "stream",
          "name": "stdout",
          "text": [
            "Epoch  11: Train Loss: 0.4989, Val Loss: 0.6615, Val AUC: 0.8395\n"
          ]
        },
        {
          "output_type": "stream",
          "name": "stderr",
          "text": [
            "Training: 100%|██████████| 38/38 [00:28<00:00,  1.32it/s]\n",
            "Validation: 100%|██████████| 13/13 [00:07<00:00,  1.77it/s]\n"
          ]
        },
        {
          "output_type": "stream",
          "name": "stdout",
          "text": [
            "Epoch  12: Train Loss: 0.4927, Val Loss: 0.5989, Val AUC: 0.8708\n"
          ]
        },
        {
          "output_type": "stream",
          "name": "stderr",
          "text": [
            "Training: 100%|██████████| 38/38 [00:28<00:00,  1.32it/s]\n",
            "Validation: 100%|██████████| 13/13 [00:06<00:00,  1.92it/s]\n"
          ]
        },
        {
          "output_type": "stream",
          "name": "stdout",
          "text": [
            "Epoch  13: Train Loss: 0.5048, Val Loss: 0.6122, Val AUC: 0.8587\n"
          ]
        },
        {
          "output_type": "stream",
          "name": "stderr",
          "text": [
            "Training: 100%|██████████| 38/38 [00:29<00:00,  1.29it/s]\n",
            "Validation: 100%|██████████| 13/13 [00:06<00:00,  2.13it/s]\n"
          ]
        },
        {
          "output_type": "stream",
          "name": "stdout",
          "text": [
            "Epoch  14: Train Loss: 0.4949, Val Loss: 0.5579, Val AUC: 0.8420\n"
          ]
        },
        {
          "output_type": "stream",
          "name": "stderr",
          "text": [
            "Training: 100%|██████████| 38/38 [00:29<00:00,  1.30it/s]\n",
            "Validation: 100%|██████████| 13/13 [00:06<00:00,  1.97it/s]\n"
          ]
        },
        {
          "output_type": "stream",
          "name": "stdout",
          "text": [
            "Epoch  15: Train Loss: 0.4996, Val Loss: 0.5395, Val AUC: 0.8557\n"
          ]
        },
        {
          "output_type": "stream",
          "name": "stderr",
          "text": [
            "Training: 100%|██████████| 38/38 [00:28<00:00,  1.31it/s]\n",
            "Validation: 100%|██████████| 13/13 [00:07<00:00,  1.78it/s]\n"
          ]
        },
        {
          "output_type": "stream",
          "name": "stdout",
          "text": [
            "Epoch  16: Train Loss: 0.5020, Val Loss: 0.5688, Val AUC: 0.8525\n"
          ]
        },
        {
          "output_type": "stream",
          "name": "stderr",
          "text": [
            "Training: 100%|██████████| 38/38 [00:28<00:00,  1.33it/s]\n",
            "Validation: 100%|██████████| 13/13 [00:07<00:00,  1.80it/s]\n"
          ]
        },
        {
          "output_type": "stream",
          "name": "stdout",
          "text": [
            "Epoch  17: Train Loss: 0.4795, Val Loss: 0.6078, Val AUC: 0.8229\n"
          ]
        },
        {
          "output_type": "stream",
          "name": "stderr",
          "text": [
            "Training: 100%|██████████| 38/38 [00:28<00:00,  1.32it/s]\n",
            "Validation: 100%|██████████| 13/13 [00:06<00:00,  2.09it/s]\n"
          ]
        },
        {
          "output_type": "stream",
          "name": "stdout",
          "text": [
            "Epoch  18: Train Loss: 0.4985, Val Loss: 0.5959, Val AUC: 0.8275\n"
          ]
        },
        {
          "output_type": "stream",
          "name": "stderr",
          "text": [
            "Training: 100%|██████████| 38/38 [00:29<00:00,  1.27it/s]\n",
            "Validation: 100%|██████████| 13/13 [00:06<00:00,  2.04it/s]\n"
          ]
        },
        {
          "output_type": "stream",
          "name": "stdout",
          "text": [
            "Epoch  19: Train Loss: 0.4866, Val Loss: 0.5863, Val AUC: 0.8508\n"
          ]
        },
        {
          "output_type": "stream",
          "name": "stderr",
          "text": [
            "Training: 100%|██████████| 38/38 [00:29<00:00,  1.30it/s]\n",
            "Validation: 100%|██████████| 13/13 [00:07<00:00,  1.82it/s]\n"
          ]
        },
        {
          "output_type": "stream",
          "name": "stdout",
          "text": [
            "Epoch  20: Train Loss: 0.4827, Val Loss: 0.6351, Val AUC: 0.8200\n"
          ]
        },
        {
          "output_type": "stream",
          "name": "stderr",
          "text": [
            "Training: 100%|██████████| 38/38 [00:28<00:00,  1.32it/s]\n",
            "Validation: 100%|██████████| 13/13 [00:07<00:00,  1.79it/s]\n"
          ]
        },
        {
          "output_type": "stream",
          "name": "stdout",
          "text": [
            "Epoch  21: Train Loss: 0.4775, Val Loss: 0.5796, Val AUC: 0.8383\n"
          ]
        },
        {
          "output_type": "stream",
          "name": "stderr",
          "text": [
            "Training: 100%|██████████| 38/38 [00:28<00:00,  1.32it/s]\n",
            "Validation: 100%|██████████| 13/13 [00:06<00:00,  2.02it/s]\n"
          ]
        },
        {
          "output_type": "stream",
          "name": "stdout",
          "text": [
            "Epoch  22: Train Loss: 0.4702, Val Loss: 0.5767, Val AUC: 0.8542\n",
            "Early stopping at epoch 22\n",
            "\n",
            "Phase 2: Fine-tuning with unfrozen last conv layers\n"
          ]
        },
        {
          "output_type": "stream",
          "name": "stderr",
          "text": [
            "Training: 100%|██████████| 38/38 [00:29<00:00,  1.27it/s]\n",
            "Validation: 100%|██████████| 13/13 [00:06<00:00,  2.06it/s]\n"
          ]
        },
        {
          "output_type": "stream",
          "name": "stdout",
          "text": [
            "Epoch   1: Train Loss: 0.4660, Val Loss: 0.5696, Val AUC: 0.8726\n"
          ]
        },
        {
          "output_type": "stream",
          "name": "stderr",
          "text": [
            "Training: 100%|██████████| 38/38 [00:29<00:00,  1.28it/s]\n",
            "Validation: 100%|██████████| 13/13 [00:06<00:00,  2.08it/s]\n"
          ]
        },
        {
          "output_type": "stream",
          "name": "stdout",
          "text": [
            "Epoch   2: Train Loss: 0.4456, Val Loss: 0.5801, Val AUC: 0.8676\n"
          ]
        },
        {
          "output_type": "stream",
          "name": "stderr",
          "text": [
            "Training: 100%|██████████| 38/38 [00:28<00:00,  1.32it/s]\n",
            "Validation: 100%|██████████| 13/13 [00:07<00:00,  1.74it/s]\n"
          ]
        },
        {
          "output_type": "stream",
          "name": "stdout",
          "text": [
            "Epoch   3: Train Loss: 0.4349, Val Loss: 0.5609, Val AUC: 0.8745\n"
          ]
        },
        {
          "output_type": "stream",
          "name": "stderr",
          "text": [
            "Training: 100%|██████████| 38/38 [00:29<00:00,  1.30it/s]\n",
            "Validation: 100%|██████████| 13/13 [00:07<00:00,  1.80it/s]\n"
          ]
        },
        {
          "output_type": "stream",
          "name": "stdout",
          "text": [
            "Epoch   4: Train Loss: 0.4232, Val Loss: 0.5466, Val AUC: 0.8802\n"
          ]
        },
        {
          "output_type": "stream",
          "name": "stderr",
          "text": [
            "Training: 100%|██████████| 38/38 [00:29<00:00,  1.31it/s]\n",
            "Validation: 100%|██████████| 13/13 [00:06<00:00,  2.04it/s]\n"
          ]
        },
        {
          "output_type": "stream",
          "name": "stdout",
          "text": [
            "Epoch   5: Train Loss: 0.4322, Val Loss: 0.5736, Val AUC: 0.8640\n"
          ]
        },
        {
          "output_type": "stream",
          "name": "stderr",
          "text": [
            "Training: 100%|██████████| 38/38 [00:29<00:00,  1.27it/s]\n",
            "Validation: 100%|██████████| 13/13 [00:06<00:00,  2.09it/s]\n"
          ]
        },
        {
          "output_type": "stream",
          "name": "stdout",
          "text": [
            "Epoch   6: Train Loss: 0.4269, Val Loss: 0.5544, Val AUC: 0.8796\n"
          ]
        },
        {
          "output_type": "stream",
          "name": "stderr",
          "text": [
            "Training: 100%|██████████| 38/38 [00:29<00:00,  1.29it/s]\n",
            "Validation: 100%|██████████| 13/13 [00:06<00:00,  1.99it/s]\n"
          ]
        },
        {
          "output_type": "stream",
          "name": "stdout",
          "text": [
            "Epoch   7: Train Loss: 0.4236, Val Loss: 0.5521, Val AUC: 0.8807\n"
          ]
        },
        {
          "output_type": "stream",
          "name": "stderr",
          "text": [
            "Training: 100%|██████████| 38/38 [00:28<00:00,  1.31it/s]\n",
            "Validation: 100%|██████████| 13/13 [00:07<00:00,  1.73it/s]\n"
          ]
        },
        {
          "output_type": "stream",
          "name": "stdout",
          "text": [
            "Epoch   8: Train Loss: 0.4094, Val Loss: 0.5420, Val AUC: 0.8945\n"
          ]
        },
        {
          "output_type": "stream",
          "name": "stderr",
          "text": [
            "Training: 100%|██████████| 38/38 [00:29<00:00,  1.31it/s]\n",
            "Validation: 100%|██████████| 13/13 [00:07<00:00,  1.77it/s]\n"
          ]
        },
        {
          "output_type": "stream",
          "name": "stdout",
          "text": [
            "Epoch   9: Train Loss: 0.4119, Val Loss: 0.5385, Val AUC: 0.8927\n"
          ]
        },
        {
          "output_type": "stream",
          "name": "stderr",
          "text": [
            "Training: 100%|██████████| 38/38 [00:29<00:00,  1.29it/s]\n",
            "Validation: 100%|██████████| 13/13 [00:06<00:00,  2.09it/s]\n"
          ]
        },
        {
          "output_type": "stream",
          "name": "stdout",
          "text": [
            "Epoch  10: Train Loss: 0.4151, Val Loss: 0.5233, Val AUC: 0.8980\n"
          ]
        },
        {
          "output_type": "stream",
          "name": "stderr",
          "text": [
            "Training: 100%|██████████| 38/38 [00:30<00:00,  1.26it/s]\n",
            "Validation: 100%|██████████| 13/13 [00:06<00:00,  2.08it/s]\n"
          ]
        },
        {
          "output_type": "stream",
          "name": "stdout",
          "text": [
            "Epoch  11: Train Loss: 0.4035, Val Loss: 0.5477, Val AUC: 0.9038\n"
          ]
        },
        {
          "output_type": "stream",
          "name": "stderr",
          "text": [
            "Training: 100%|██████████| 38/38 [00:30<00:00,  1.26it/s]\n",
            "Validation: 100%|██████████| 13/13 [00:06<00:00,  2.10it/s]\n"
          ]
        },
        {
          "output_type": "stream",
          "name": "stdout",
          "text": [
            "Epoch  12: Train Loss: 0.3983, Val Loss: 0.5316, Val AUC: 0.9076\n"
          ]
        },
        {
          "output_type": "stream",
          "name": "stderr",
          "text": [
            "Training: 100%|██████████| 38/38 [00:29<00:00,  1.30it/s]\n",
            "Validation: 100%|██████████| 13/13 [00:07<00:00,  1.71it/s]\n"
          ]
        },
        {
          "output_type": "stream",
          "name": "stdout",
          "text": [
            "Epoch  13: Train Loss: 0.4026, Val Loss: 0.5200, Val AUC: 0.9044\n"
          ]
        },
        {
          "output_type": "stream",
          "name": "stderr",
          "text": [
            "Training: 100%|██████████| 38/38 [00:29<00:00,  1.30it/s]\n",
            "Validation: 100%|██████████| 13/13 [00:07<00:00,  1.74it/s]\n"
          ]
        },
        {
          "output_type": "stream",
          "name": "stdout",
          "text": [
            "Epoch  14: Train Loss: 0.3925, Val Loss: 0.5186, Val AUC: 0.9145\n"
          ]
        },
        {
          "output_type": "stream",
          "name": "stderr",
          "text": [
            "Training: 100%|██████████| 38/38 [00:29<00:00,  1.30it/s]\n",
            "Validation: 100%|██████████| 13/13 [00:06<00:00,  1.92it/s]\n"
          ]
        },
        {
          "output_type": "stream",
          "name": "stdout",
          "text": [
            "Epoch  15: Train Loss: 0.3963, Val Loss: 0.5216, Val AUC: 0.9054\n"
          ]
        },
        {
          "output_type": "stream",
          "name": "stderr",
          "text": [
            "Training: 100%|██████████| 38/38 [00:29<00:00,  1.28it/s]\n",
            "Validation: 100%|██████████| 13/13 [00:06<00:00,  2.09it/s]\n"
          ]
        },
        {
          "output_type": "stream",
          "name": "stdout",
          "text": [
            "Epoch  16: Train Loss: 0.3874, Val Loss: 0.5118, Val AUC: 0.9147\n"
          ]
        },
        {
          "output_type": "stream",
          "name": "stderr",
          "text": [
            "Training: 100%|██████████| 38/38 [00:30<00:00,  1.24it/s]\n",
            "Validation: 100%|██████████| 13/13 [00:06<00:00,  2.01it/s]\n"
          ]
        },
        {
          "output_type": "stream",
          "name": "stdout",
          "text": [
            "Epoch  17: Train Loss: 0.3843, Val Loss: 0.5271, Val AUC: 0.9092\n"
          ]
        },
        {
          "output_type": "stream",
          "name": "stderr",
          "text": [
            "Training: 100%|██████████| 38/38 [00:35<00:00,  1.08it/s]\n",
            "Validation: 100%|██████████| 13/13 [00:06<00:00,  1.98it/s]\n"
          ]
        },
        {
          "output_type": "stream",
          "name": "stdout",
          "text": [
            "Epoch  18: Train Loss: 0.3829, Val Loss: 0.5208, Val AUC: 0.9122\n"
          ]
        },
        {
          "output_type": "stream",
          "name": "stderr",
          "text": [
            "Training: 100%|██████████| 38/38 [00:30<00:00,  1.24it/s]\n",
            "Validation: 100%|██████████| 13/13 [00:06<00:00,  2.04it/s]\n"
          ]
        },
        {
          "output_type": "stream",
          "name": "stdout",
          "text": [
            "Epoch  19: Train Loss: 0.3844, Val Loss: 0.5300, Val AUC: 0.9175\n"
          ]
        },
        {
          "output_type": "stream",
          "name": "stderr",
          "text": [
            "Training: 100%|██████████| 38/38 [00:30<00:00,  1.25it/s]\n",
            "Validation: 100%|██████████| 13/13 [00:06<00:00,  2.06it/s]\n"
          ]
        },
        {
          "output_type": "stream",
          "name": "stdout",
          "text": [
            "Epoch  20: Train Loss: 0.3774, Val Loss: 0.5239, Val AUC: 0.9190\n"
          ]
        },
        {
          "output_type": "stream",
          "name": "stderr",
          "text": [
            "Training: 100%|██████████| 38/38 [00:29<00:00,  1.29it/s]\n",
            "Validation: 100%|██████████| 13/13 [00:07<00:00,  1.77it/s]\n"
          ]
        },
        {
          "output_type": "stream",
          "name": "stdout",
          "text": [
            "Epoch  21: Train Loss: 0.3845, Val Loss: 0.5270, Val AUC: 0.9165\n"
          ]
        },
        {
          "output_type": "stream",
          "name": "stderr",
          "text": [
            "Training: 100%|██████████| 38/38 [00:29<00:00,  1.28it/s]\n",
            "Validation: 100%|██████████| 13/13 [00:07<00:00,  1.72it/s]\n"
          ]
        },
        {
          "output_type": "stream",
          "name": "stdout",
          "text": [
            "Epoch  22: Train Loss: 0.3775, Val Loss: 0.5114, Val AUC: 0.9188\n"
          ]
        },
        {
          "output_type": "stream",
          "name": "stderr",
          "text": [
            "Training: 100%|██████████| 38/38 [00:29<00:00,  1.28it/s]\n",
            "Validation: 100%|██████████| 13/13 [00:08<00:00,  1.60it/s]\n"
          ]
        },
        {
          "output_type": "stream",
          "name": "stdout",
          "text": [
            "Epoch  23: Train Loss: 0.3786, Val Loss: 0.5049, Val AUC: 0.9165\n"
          ]
        },
        {
          "output_type": "stream",
          "name": "stderr",
          "text": [
            "Training: 100%|██████████| 38/38 [00:29<00:00,  1.28it/s]\n",
            "Validation: 100%|██████████| 13/13 [00:07<00:00,  1.79it/s]\n"
          ]
        },
        {
          "output_type": "stream",
          "name": "stdout",
          "text": [
            "Epoch  24: Train Loss: 0.3794, Val Loss: 0.5223, Val AUC: 0.9133\n"
          ]
        },
        {
          "output_type": "stream",
          "name": "stderr",
          "text": [
            "Training: 100%|██████████| 38/38 [00:29<00:00,  1.27it/s]\n",
            "Validation: 100%|██████████| 13/13 [00:06<00:00,  2.00it/s]\n"
          ]
        },
        {
          "output_type": "stream",
          "name": "stdout",
          "text": [
            "Epoch  25: Train Loss: 0.3660, Val Loss: 0.5178, Val AUC: 0.9124\n"
          ]
        },
        {
          "output_type": "stream",
          "name": "stderr",
          "text": [
            "Training: 100%|██████████| 38/38 [00:30<00:00,  1.23it/s]\n",
            "Validation: 100%|██████████| 13/13 [00:06<00:00,  2.03it/s]\n"
          ]
        },
        {
          "output_type": "stream",
          "name": "stdout",
          "text": [
            "Epoch  26: Train Loss: 0.3728, Val Loss: 0.5076, Val AUC: 0.9139\n"
          ]
        },
        {
          "output_type": "stream",
          "name": "stderr",
          "text": [
            "Training: 100%|██████████| 38/38 [00:30<00:00,  1.23it/s]\n",
            "Validation: 100%|██████████| 13/13 [00:06<00:00,  2.00it/s]\n"
          ]
        },
        {
          "output_type": "stream",
          "name": "stdout",
          "text": [
            "Epoch  27: Train Loss: 0.3751, Val Loss: 0.5103, Val AUC: 0.9181\n"
          ]
        },
        {
          "output_type": "stream",
          "name": "stderr",
          "text": [
            "Training: 100%|██████████| 38/38 [00:29<00:00,  1.27it/s]\n",
            "Validation: 100%|██████████| 13/13 [00:07<00:00,  1.82it/s]\n"
          ]
        },
        {
          "output_type": "stream",
          "name": "stdout",
          "text": [
            "Epoch  28: Train Loss: 0.3628, Val Loss: 0.5204, Val AUC: 0.9262\n"
          ]
        },
        {
          "output_type": "stream",
          "name": "stderr",
          "text": [
            "Training: 100%|██████████| 38/38 [00:28<00:00,  1.31it/s]\n",
            "Validation: 100%|██████████| 13/13 [00:07<00:00,  1.75it/s]\n"
          ]
        },
        {
          "output_type": "stream",
          "name": "stdout",
          "text": [
            "Epoch  29: Train Loss: 0.3591, Val Loss: 0.5138, Val AUC: 0.9132\n"
          ]
        },
        {
          "output_type": "stream",
          "name": "stderr",
          "text": [
            "Training: 100%|██████████| 38/38 [00:29<00:00,  1.30it/s]\n",
            "Validation: 100%|██████████| 13/13 [00:07<00:00,  1.77it/s]\n"
          ]
        },
        {
          "output_type": "stream",
          "name": "stdout",
          "text": [
            "Epoch  30: Train Loss: 0.3629, Val Loss: 0.5169, Val AUC: 0.9165\n"
          ]
        },
        {
          "output_type": "stream",
          "name": "stderr",
          "text": [
            "Training: 100%|██████████| 38/38 [00:29<00:00,  1.30it/s]\n",
            "Validation: 100%|██████████| 13/13 [00:06<00:00,  2.02it/s]\n"
          ]
        },
        {
          "output_type": "stream",
          "name": "stdout",
          "text": [
            "Epoch  31: Train Loss: 0.3725, Val Loss: 0.5170, Val AUC: 0.9186\n"
          ]
        },
        {
          "output_type": "stream",
          "name": "stderr",
          "text": [
            "Training: 100%|██████████| 38/38 [00:30<00:00,  1.26it/s]\n",
            "Validation: 100%|██████████| 13/13 [00:06<00:00,  2.07it/s]\n"
          ]
        },
        {
          "output_type": "stream",
          "name": "stdout",
          "text": [
            "Epoch  32: Train Loss: 0.3685, Val Loss: 0.5199, Val AUC: 0.9144\n"
          ]
        },
        {
          "output_type": "stream",
          "name": "stderr",
          "text": [
            "Training: 100%|██████████| 38/38 [00:29<00:00,  1.29it/s]\n",
            "Validation: 100%|██████████| 13/13 [00:06<00:00,  1.97it/s]\n"
          ]
        },
        {
          "output_type": "stream",
          "name": "stdout",
          "text": [
            "Epoch  33: Train Loss: 0.3732, Val Loss: 0.5295, Val AUC: 0.9100\n"
          ]
        },
        {
          "output_type": "stream",
          "name": "stderr",
          "text": [
            "Training: 100%|██████████| 38/38 [00:29<00:00,  1.30it/s]\n",
            "Validation: 100%|██████████| 13/13 [00:07<00:00,  1.75it/s]\n"
          ]
        },
        {
          "output_type": "stream",
          "name": "stdout",
          "text": [
            "Epoch  34: Train Loss: 0.3709, Val Loss: 0.5280, Val AUC: 0.8991\n"
          ]
        },
        {
          "output_type": "stream",
          "name": "stderr",
          "text": [
            "Training: 100%|██████████| 38/38 [00:29<00:00,  1.29it/s]\n",
            "Validation: 100%|██████████| 13/13 [00:07<00:00,  1.76it/s]\n"
          ]
        },
        {
          "output_type": "stream",
          "name": "stdout",
          "text": [
            "Epoch  35: Train Loss: 0.3735, Val Loss: 0.5389, Val AUC: 0.9055\n"
          ]
        },
        {
          "output_type": "stream",
          "name": "stderr",
          "text": [
            "Training: 100%|██████████| 38/38 [00:29<00:00,  1.30it/s]\n",
            "Validation: 100%|██████████| 13/13 [00:06<00:00,  1.93it/s]\n"
          ]
        },
        {
          "output_type": "stream",
          "name": "stdout",
          "text": [
            "Epoch  36: Train Loss: 0.3652, Val Loss: 0.5251, Val AUC: 0.9049\n"
          ]
        },
        {
          "output_type": "stream",
          "name": "stderr",
          "text": [
            "Training: 100%|██████████| 38/38 [00:29<00:00,  1.28it/s]\n",
            "Validation: 100%|██████████| 13/13 [00:06<00:00,  2.10it/s]\n"
          ]
        },
        {
          "output_type": "stream",
          "name": "stdout",
          "text": [
            "Epoch  37: Train Loss: 0.3626, Val Loss: 0.5257, Val AUC: 0.8981\n"
          ]
        },
        {
          "output_type": "stream",
          "name": "stderr",
          "text": [
            "Training: 100%|██████████| 38/38 [00:30<00:00,  1.25it/s]\n",
            "Validation: 100%|██████████| 13/13 [00:06<00:00,  2.05it/s]\n"
          ]
        },
        {
          "output_type": "stream",
          "name": "stdout",
          "text": [
            "Epoch  38: Train Loss: 0.3629, Val Loss: 0.5323, Val AUC: 0.9036\n",
            "Early stopping at epoch 38\n"
          ]
        },
        {
          "output_type": "stream",
          "name": "stderr",
          "text": [
            "Testing: 100%|██████████| 15/15 [00:08<00:00,  1.69it/s]\n"
          ]
        },
        {
          "output_type": "stream",
          "name": "stdout",
          "text": [
            "\n",
            "Best validation AUC: 0.9262\n",
            "Test metrics:\n",
            "  accuracy: 0.8658\n",
            "  precision: 0.9236\n",
            "  recall: 0.8552\n",
            "  specificity: 0.8833\n",
            "  f1: 0.8881\n",
            "  auc_roc: 0.9354\n"
          ]
        },
        {
          "output_type": "display_data",
          "data": {
            "text/plain": [
              "<Figure size 800x600 with 2 Axes>"
            ],
            "image/png": "[encoded data removed]"
          },
          "metadata": {}
        },
        {
          "output_type": "stream",
          "name": "stdout",
          "text": [
            "\n",
            "Starting experiment for 200X...\n",
            "\n",
            "============================================================\n",
            "Training on 200X magnification with EfficientNet-B3\n",
            "============================================================\n",
            "\n",
            "Phase 1: Training classifier head (frozen backbone)\n"
          ]
        },
        {
          "output_type": "stream",
          "name": "stderr",
          "text": [
            "Training: 100%|██████████| 38/38 [00:29<00:00,  1.30it/s]\n",
            "Validation: 100%|██████████| 12/12 [00:07<00:00,  1.61it/s]\n"
          ]
        },
        {
          "output_type": "stream",
          "name": "stdout",
          "text": [
            "Epoch   1: Train Loss: 0.6422, Val Loss: 0.6030, Val AUC: 0.8176\n"
          ]
        },
        {
          "output_type": "stream",
          "name": "stderr",
          "text": [
            "Training: 100%|██████████| 38/38 [00:28<00:00,  1.34it/s]\n",
            "Validation: 100%|██████████| 12/12 [00:06<00:00,  1.98it/s]\n"
          ]
        },
        {
          "output_type": "stream",
          "name": "stdout",
          "text": [
            "Epoch   2: Train Loss: 0.5604, Val Loss: 0.5849, Val AUC: 0.8504\n"
          ]
        },
        {
          "output_type": "stream",
          "name": "stderr",
          "text": [
            "Training: 100%|██████████| 38/38 [00:29<00:00,  1.28it/s]\n",
            "Validation: 100%|██████████| 12/12 [00:06<00:00,  1.98it/s]\n"
          ]
        },
        {
          "output_type": "stream",
          "name": "stdout",
          "text": [
            "Epoch   3: Train Loss: 0.5276, Val Loss: 0.5533, Val AUC: 0.8548\n"
          ]
        },
        {
          "output_type": "stream",
          "name": "stderr",
          "text": [
            "Training: 100%|██████████| 38/38 [00:28<00:00,  1.34it/s]\n",
            "Validation: 100%|██████████| 12/12 [00:07<00:00,  1.66it/s]\n"
          ]
        },
        {
          "output_type": "stream",
          "name": "stdout",
          "text": [
            "Epoch   4: Train Loss: 0.5322, Val Loss: 0.5691, Val AUC: 0.8595\n"
          ]
        },
        {
          "output_type": "stream",
          "name": "stderr",
          "text": [
            "Training: 100%|██████████| 38/38 [00:28<00:00,  1.33it/s]\n",
            "Validation: 100%|██████████| 12/12 [00:07<00:00,  1.68it/s]\n"
          ]
        },
        {
          "output_type": "stream",
          "name": "stdout",
          "text": [
            "Epoch   5: Train Loss: 0.5262, Val Loss: 0.5995, Val AUC: 0.8349\n"
          ]
        },
        {
          "output_type": "stream",
          "name": "stderr",
          "text": [
            "Training: 100%|██████████| 38/38 [00:28<00:00,  1.32it/s]\n",
            "Validation: 100%|██████████| 12/12 [00:06<00:00,  1.98it/s]\n"
          ]
        },
        {
          "output_type": "stream",
          "name": "stdout",
          "text": [
            "Epoch   6: Train Loss: 0.5125, Val Loss: 0.6005, Val AUC: 0.8560\n"
          ]
        },
        {
          "output_type": "stream",
          "name": "stderr",
          "text": [
            "Training: 100%|██████████| 38/38 [00:29<00:00,  1.30it/s]\n",
            "Validation: 100%|██████████| 12/12 [00:05<00:00,  2.01it/s]\n"
          ]
        },
        {
          "output_type": "stream",
          "name": "stdout",
          "text": [
            "Epoch   7: Train Loss: 0.5048, Val Loss: 0.5479, Val AUC: 0.8706\n"
          ]
        },
        {
          "output_type": "stream",
          "name": "stderr",
          "text": [
            "Training: 100%|██████████| 38/38 [00:28<00:00,  1.33it/s]\n",
            "Validation: 100%|██████████| 12/12 [00:07<00:00,  1.70it/s]\n"
          ]
        },
        {
          "output_type": "stream",
          "name": "stdout",
          "text": [
            "Epoch   8: Train Loss: 0.5103, Val Loss: 0.5539, Val AUC: 0.8669\n"
          ]
        },
        {
          "output_type": "stream",
          "name": "stderr",
          "text": [
            "Training: 100%|██████████| 38/38 [00:27<00:00,  1.36it/s]\n",
            "Validation: 100%|██████████| 12/12 [00:05<00:00,  2.01it/s]\n"
          ]
        },
        {
          "output_type": "stream",
          "name": "stdout",
          "text": [
            "Epoch   9: Train Loss: 0.5043, Val Loss: 0.5380, Val AUC: 0.8606\n"
          ]
        },
        {
          "output_type": "stream",
          "name": "stderr",
          "text": [
            "Training: 100%|██████████| 38/38 [00:28<00:00,  1.32it/s]\n",
            "Validation: 100%|██████████| 12/12 [00:05<00:00,  2.04it/s]\n"
          ]
        },
        {
          "output_type": "stream",
          "name": "stdout",
          "text": [
            "Epoch  10: Train Loss: 0.4951, Val Loss: 0.6352, Val AUC: 0.8328\n"
          ]
        },
        {
          "output_type": "stream",
          "name": "stderr",
          "text": [
            "Training: 100%|██████████| 38/38 [00:28<00:00,  1.35it/s]\n",
            "Validation: 100%|██████████| 12/12 [00:07<00:00,  1.67it/s]\n"
          ]
        },
        {
          "output_type": "stream",
          "name": "stdout",
          "text": [
            "Epoch  11: Train Loss: 0.4961, Val Loss: 0.5570, Val AUC: 0.8366\n"
          ]
        },
        {
          "output_type": "stream",
          "name": "stderr",
          "text": [
            "Training: 100%|██████████| 38/38 [00:28<00:00,  1.35it/s]\n",
            "Validation: 100%|██████████| 12/12 [00:06<00:00,  1.90it/s]\n"
          ]
        },
        {
          "output_type": "stream",
          "name": "stdout",
          "text": [
            "Epoch  12: Train Loss: 0.4922, Val Loss: 0.6613, Val AUC: 0.8563\n"
          ]
        },
        {
          "output_type": "stream",
          "name": "stderr",
          "text": [
            "Training: 100%|██████████| 38/38 [00:28<00:00,  1.33it/s]\n",
            "Validation: 100%|██████████| 12/12 [00:05<00:00,  2.01it/s]\n"
          ]
        },
        {
          "output_type": "stream",
          "name": "stdout",
          "text": [
            "Epoch  13: Train Loss: 0.5079, Val Loss: 0.5686, Val AUC: 0.8469\n"
          ]
        },
        {
          "output_type": "stream",
          "name": "stderr",
          "text": [
            "Training: 100%|██████████| 38/38 [00:28<00:00,  1.36it/s]\n",
            "Validation: 100%|██████████| 12/12 [00:07<00:00,  1.69it/s]\n"
          ]
        },
        {
          "output_type": "stream",
          "name": "stdout",
          "text": [
            "Epoch  14: Train Loss: 0.4760, Val Loss: 0.5786, Val AUC: 0.8544\n"
          ]
        },
        {
          "output_type": "stream",
          "name": "stderr",
          "text": [
            "Training: 100%|██████████| 38/38 [00:28<00:00,  1.35it/s]\n",
            "Validation: 100%|██████████| 12/12 [00:07<00:00,  1.68it/s]\n"
          ]
        },
        {
          "output_type": "stream",
          "name": "stdout",
          "text": [
            "Epoch  15: Train Loss: 0.4721, Val Loss: 0.5940, Val AUC: 0.8626\n"
          ]
        },
        {
          "output_type": "stream",
          "name": "stderr",
          "text": [
            "Training: 100%|██████████| 38/38 [00:27<00:00,  1.37it/s]\n",
            "Validation: 100%|██████████| 12/12 [00:05<00:00,  2.04it/s]\n"
          ]
        },
        {
          "output_type": "stream",
          "name": "stdout",
          "text": [
            "Epoch  16: Train Loss: 0.4827, Val Loss: 0.5506, Val AUC: 0.8518\n"
          ]
        },
        {
          "output_type": "stream",
          "name": "stderr",
          "text": [
            "Training: 100%|██████████| 38/38 [00:28<00:00,  1.35it/s]\n",
            "Validation: 100%|██████████| 12/12 [00:06<00:00,  1.79it/s]\n"
          ]
        },
        {
          "output_type": "stream",
          "name": "stdout",
          "text": [
            "Epoch  17: Train Loss: 0.4825, Val Loss: 0.5772, Val AUC: 0.8468\n",
            "Early stopping at epoch 17\n",
            "\n",
            "Phase 2: Fine-tuning with unfrozen last conv layers\n"
          ]
        },
        {
          "output_type": "stream",
          "name": "stderr",
          "text": [
            "Training: 100%|██████████| 38/38 [00:28<00:00,  1.35it/s]\n",
            "Validation: 100%|██████████| 12/12 [00:07<00:00,  1.68it/s]\n"
          ]
        },
        {
          "output_type": "stream",
          "name": "stdout",
          "text": [
            "Epoch   1: Train Loss: 0.4719, Val Loss: 0.5512, Val AUC: 0.8714\n"
          ]
        },
        {
          "output_type": "stream",
          "name": "stderr",
          "text": [
            "Training: 100%|██████████| 38/38 [00:28<00:00,  1.35it/s]\n",
            "Validation: 100%|██████████| 12/12 [00:05<00:00,  2.02it/s]\n"
          ]
        },
        {
          "output_type": "stream",
          "name": "stdout",
          "text": [
            "Epoch   2: Train Loss: 0.4567, Val Loss: 0.5472, Val AUC: 0.8770\n"
          ]
        },
        {
          "output_type": "stream",
          "name": "stderr",
          "text": [
            "Training: 100%|██████████| 38/38 [00:29<00:00,  1.30it/s]\n",
            "Validation: 100%|██████████| 12/12 [00:05<00:00,  2.03it/s]\n"
          ]
        },
        {
          "output_type": "stream",
          "name": "stdout",
          "text": [
            "Epoch   3: Train Loss: 0.4648, Val Loss: 0.5596, Val AUC: 0.8658\n"
          ]
        },
        {
          "output_type": "stream",
          "name": "stderr",
          "text": [
            "Training: 100%|██████████| 38/38 [00:28<00:00,  1.34it/s]\n",
            "Validation: 100%|██████████| 12/12 [00:06<00:00,  1.73it/s]\n"
          ]
        },
        {
          "output_type": "stream",
          "name": "stdout",
          "text": [
            "Epoch   4: Train Loss: 0.4467, Val Loss: 0.5442, Val AUC: 0.8684\n"
          ]
        },
        {
          "output_type": "stream",
          "name": "stderr",
          "text": [
            "Training: 100%|██████████| 38/38 [00:28<00:00,  1.34it/s]\n",
            "Validation: 100%|██████████| 12/12 [00:06<00:00,  2.00it/s]\n"
          ]
        },
        {
          "output_type": "stream",
          "name": "stdout",
          "text": [
            "Epoch   5: Train Loss: 0.4340, Val Loss: 0.5212, Val AUC: 0.9049\n"
          ]
        },
        {
          "output_type": "stream",
          "name": "stderr",
          "text": [
            "Training: 100%|██████████| 38/38 [00:28<00:00,  1.31it/s]\n",
            "Validation: 100%|██████████| 12/12 [00:05<00:00,  2.02it/s]\n"
          ]
        },
        {
          "output_type": "stream",
          "name": "stdout",
          "text": [
            "Epoch   6: Train Loss: 0.4380, Val Loss: 0.5346, Val AUC: 0.9090\n"
          ]
        },
        {
          "output_type": "stream",
          "name": "stderr",
          "text": [
            "Training: 100%|██████████| 38/38 [00:28<00:00,  1.33it/s]\n",
            "Validation: 100%|██████████| 12/12 [00:06<00:00,  1.72it/s]\n"
          ]
        },
        {
          "output_type": "stream",
          "name": "stdout",
          "text": [
            "Epoch   7: Train Loss: 0.4212, Val Loss: 0.5104, Val AUC: 0.9149\n"
          ]
        },
        {
          "output_type": "stream",
          "name": "stderr",
          "text": [
            "Training: 100%|██████████| 38/38 [00:28<00:00,  1.35it/s]\n",
            "Validation: 100%|██████████| 12/12 [00:06<00:00,  1.72it/s]\n"
          ]
        },
        {
          "output_type": "stream",
          "name": "stdout",
          "text": [
            "Epoch   8: Train Loss: 0.4245, Val Loss: 0.5029, Val AUC: 0.9177\n"
          ]
        },
        {
          "output_type": "stream",
          "name": "stderr",
          "text": [
            "Training: 100%|██████████| 38/38 [00:28<00:00,  1.36it/s]\n",
            "Validation: 100%|██████████| 12/12 [00:06<00:00,  1.96it/s]\n"
          ]
        },
        {
          "output_type": "stream",
          "name": "stdout",
          "text": [
            "Epoch   9: Train Loss: 0.4240, Val Loss: 0.4918, Val AUC: 0.9190\n"
          ]
        },
        {
          "output_type": "stream",
          "name": "stderr",
          "text": [
            "Training: 100%|██████████| 38/38 [00:28<00:00,  1.31it/s]\n",
            "Validation: 100%|██████████| 12/12 [00:06<00:00,  1.96it/s]\n"
          ]
        },
        {
          "output_type": "stream",
          "name": "stdout",
          "text": [
            "Epoch  10: Train Loss: 0.4181, Val Loss: 0.5133, Val AUC: 0.9217\n"
          ]
        },
        {
          "output_type": "stream",
          "name": "stderr",
          "text": [
            "Training: 100%|██████████| 38/38 [00:28<00:00,  1.35it/s]\n",
            "Validation: 100%|██████████| 12/12 [00:07<00:00,  1.71it/s]\n"
          ]
        },
        {
          "output_type": "stream",
          "name": "stdout",
          "text": [
            "Epoch  11: Train Loss: 0.4220, Val Loss: 0.4921, Val AUC: 0.9286\n"
          ]
        },
        {
          "output_type": "stream",
          "name": "stderr",
          "text": [
            "Training: 100%|██████████| 38/38 [00:28<00:00,  1.35it/s]\n",
            "Validation: 100%|██████████| 12/12 [00:05<00:00,  2.00it/s]\n"
          ]
        },
        {
          "output_type": "stream",
          "name": "stdout",
          "text": [
            "Epoch  12: Train Loss: 0.4080, Val Loss: 0.5011, Val AUC: 0.9092\n"
          ]
        },
        {
          "output_type": "stream",
          "name": "stderr",
          "text": [
            "Training: 100%|██████████| 38/38 [00:29<00:00,  1.31it/s]\n",
            "Validation: 100%|██████████| 12/12 [00:05<00:00,  2.05it/s]\n"
          ]
        },
        {
          "output_type": "stream",
          "name": "stdout",
          "text": [
            "Epoch  13: Train Loss: 0.4090, Val Loss: 0.5014, Val AUC: 0.9034\n"
          ]
        },
        {
          "output_type": "stream",
          "name": "stderr",
          "text": [
            "Training: 100%|██████████| 38/38 [00:28<00:00,  1.34it/s]\n",
            "Validation: 100%|██████████| 12/12 [00:06<00:00,  1.72it/s]\n"
          ]
        },
        {
          "output_type": "stream",
          "name": "stdout",
          "text": [
            "Epoch  14: Train Loss: 0.4043, Val Loss: 0.5078, Val AUC: 0.9075\n"
          ]
        },
        {
          "output_type": "stream",
          "name": "stderr",
          "text": [
            "Training: 100%|██████████| 38/38 [00:28<00:00,  1.35it/s]\n",
            "Validation: 100%|██████████| 12/12 [00:06<00:00,  1.76it/s]\n"
          ]
        },
        {
          "output_type": "stream",
          "name": "stdout",
          "text": [
            "Epoch  15: Train Loss: 0.4016, Val Loss: 0.5027, Val AUC: 0.9076\n"
          ]
        },
        {
          "output_type": "stream",
          "name": "stderr",
          "text": [
            "Training: 100%|██████████| 38/38 [00:28<00:00,  1.35it/s]\n",
            "Validation: 100%|██████████| 12/12 [00:05<00:00,  2.02it/s]\n"
          ]
        },
        {
          "output_type": "stream",
          "name": "stdout",
          "text": [
            "Epoch  16: Train Loss: 0.4017, Val Loss: 0.5034, Val AUC: 0.9153\n"
          ]
        },
        {
          "output_type": "stream",
          "name": "stderr",
          "text": [
            "Training: 100%|██████████| 38/38 [00:28<00:00,  1.34it/s]\n",
            "Validation: 100%|██████████| 12/12 [00:06<00:00,  1.78it/s]\n"
          ]
        },
        {
          "output_type": "stream",
          "name": "stdout",
          "text": [
            "Epoch  17: Train Loss: 0.3948, Val Loss: 0.5009, Val AUC: 0.9168\n"
          ]
        },
        {
          "output_type": "stream",
          "name": "stderr",
          "text": [
            "Training: 100%|██████████| 38/38 [00:28<00:00,  1.34it/s]\n",
            "Validation: 100%|██████████| 12/12 [00:07<00:00,  1.68it/s]\n"
          ]
        },
        {
          "output_type": "stream",
          "name": "stdout",
          "text": [
            "Epoch  18: Train Loss: 0.4045, Val Loss: 0.4888, Val AUC: 0.9206\n"
          ]
        },
        {
          "output_type": "stream",
          "name": "stderr",
          "text": [
            "Training: 100%|██████████| 38/38 [00:28<00:00,  1.34it/s]\n",
            "Validation: 100%|██████████| 12/12 [00:05<00:00,  2.01it/s]\n"
          ]
        },
        {
          "output_type": "stream",
          "name": "stdout",
          "text": [
            "Epoch  19: Train Loss: 0.4036, Val Loss: 0.4979, Val AUC: 0.9265\n"
          ]
        },
        {
          "output_type": "stream",
          "name": "stderr",
          "text": [
            "Training: 100%|██████████| 38/38 [00:29<00:00,  1.30it/s]\n",
            "Validation: 100%|██████████| 12/12 [00:05<00:00,  2.01it/s]\n"
          ]
        },
        {
          "output_type": "stream",
          "name": "stdout",
          "text": [
            "Epoch  20: Train Loss: 0.3879, Val Loss: 0.4824, Val AUC: 0.9297\n"
          ]
        },
        {
          "output_type": "stream",
          "name": "stderr",
          "text": [
            "Training: 100%|██████████| 38/38 [00:28<00:00,  1.33it/s]\n",
            "Validation: 100%|██████████| 12/12 [00:07<00:00,  1.71it/s]\n"
          ]
        },
        {
          "output_type": "stream",
          "name": "stdout",
          "text": [
            "Epoch  21: Train Loss: 0.3755, Val Loss: 0.5114, Val AUC: 0.9235\n"
          ]
        },
        {
          "output_type": "stream",
          "name": "stderr",
          "text": [
            "Training: 100%|██████████| 38/38 [00:28<00:00,  1.33it/s]\n",
            "Validation: 100%|██████████| 12/12 [00:06<00:00,  1.82it/s]\n"
          ]
        },
        {
          "output_type": "stream",
          "name": "stdout",
          "text": [
            "Epoch  22: Train Loss: 0.3935, Val Loss: 0.4907, Val AUC: 0.9318\n"
          ]
        },
        {
          "output_type": "stream",
          "name": "stderr",
          "text": [
            "Training: 100%|██████████| 38/38 [00:28<00:00,  1.34it/s]\n",
            "Validation: 100%|██████████| 12/12 [00:06<00:00,  1.98it/s]\n"
          ]
        },
        {
          "output_type": "stream",
          "name": "stdout",
          "text": [
            "Epoch  23: Train Loss: 0.3856, Val Loss: 0.4847, Val AUC: 0.9303\n"
          ]
        },
        {
          "output_type": "stream",
          "name": "stderr",
          "text": [
            "Training: 100%|██████████| 38/38 [00:28<00:00,  1.32it/s]\n",
            "Validation: 100%|██████████| 12/12 [00:06<00:00,  1.86it/s]\n"
          ]
        },
        {
          "output_type": "stream",
          "name": "stdout",
          "text": [
            "Epoch  24: Train Loss: 0.3828, Val Loss: 0.4828, Val AUC: 0.9312\n"
          ]
        },
        {
          "output_type": "stream",
          "name": "stderr",
          "text": [
            "Training: 100%|██████████| 38/38 [00:28<00:00,  1.34it/s]\n",
            "Validation: 100%|██████████| 12/12 [00:07<00:00,  1.70it/s]\n"
          ]
        },
        {
          "output_type": "stream",
          "name": "stdout",
          "text": [
            "Epoch  25: Train Loss: 0.3808, Val Loss: 0.5084, Val AUC: 0.9198\n"
          ]
        },
        {
          "output_type": "stream",
          "name": "stderr",
          "text": [
            "Training: 100%|██████████| 38/38 [00:28<00:00,  1.34it/s]\n",
            "Validation: 100%|██████████| 12/12 [00:05<00:00,  2.04it/s]\n"
          ]
        },
        {
          "output_type": "stream",
          "name": "stdout",
          "text": [
            "Epoch  26: Train Loss: 0.3955, Val Loss: 0.5164, Val AUC: 0.9155\n"
          ]
        },
        {
          "output_type": "stream",
          "name": "stderr",
          "text": [
            "Training: 100%|██████████| 38/38 [00:29<00:00,  1.28it/s]\n",
            "Validation: 100%|██████████| 12/12 [00:05<00:00,  2.00it/s]\n"
          ]
        },
        {
          "output_type": "stream",
          "name": "stdout",
          "text": [
            "Epoch  27: Train Loss: 0.3955, Val Loss: 0.4937, Val AUC: 0.9097\n"
          ]
        },
        {
          "output_type": "stream",
          "name": "stderr",
          "text": [
            "Training: 100%|██████████| 38/38 [00:28<00:00,  1.34it/s]\n",
            "Validation: 100%|██████████| 12/12 [00:07<00:00,  1.70it/s]\n"
          ]
        },
        {
          "output_type": "stream",
          "name": "stdout",
          "text": [
            "Epoch  28: Train Loss: 0.3712, Val Loss: 0.5076, Val AUC: 0.9097\n"
          ]
        },
        {
          "output_type": "stream",
          "name": "stderr",
          "text": [
            "Training: 100%|██████████| 38/38 [00:28<00:00,  1.34it/s]\n",
            "Validation: 100%|██████████| 12/12 [00:06<00:00,  1.73it/s]\n"
          ]
        },
        {
          "output_type": "stream",
          "name": "stdout",
          "text": [
            "Epoch  29: Train Loss: 0.3747, Val Loss: 0.5147, Val AUC: 0.8934\n"
          ]
        },
        {
          "output_type": "stream",
          "name": "stderr",
          "text": [
            "Training: 100%|██████████| 38/38 [00:28<00:00,  1.34it/s]\n",
            "Validation: 100%|██████████| 12/12 [00:05<00:00,  2.00it/s]\n"
          ]
        },
        {
          "output_type": "stream",
          "name": "stdout",
          "text": [
            "Epoch  30: Train Loss: 0.3787, Val Loss: 0.4882, Val AUC: 0.9152\n"
          ]
        },
        {
          "output_type": "stream",
          "name": "stderr",
          "text": [
            "Training: 100%|██████████| 38/38 [00:28<00:00,  1.33it/s]\n",
            "Validation: 100%|██████████| 12/12 [00:06<00:00,  1.88it/s]\n"
          ]
        },
        {
          "output_type": "stream",
          "name": "stdout",
          "text": [
            "Epoch  31: Train Loss: 0.3760, Val Loss: 0.4910, Val AUC: 0.9142\n"
          ]
        },
        {
          "output_type": "stream",
          "name": "stderr",
          "text": [
            "Training: 100%|██████████| 38/38 [00:28<00:00,  1.34it/s]\n",
            "Validation: 100%|██████████| 12/12 [00:06<00:00,  1.73it/s]\n"
          ]
        },
        {
          "output_type": "stream",
          "name": "stdout",
          "text": [
            "Epoch  32: Train Loss: 0.3830, Val Loss: 0.5005, Val AUC: 0.9119\n",
            "Early stopping at epoch 32\n"
          ]
        },
        {
          "output_type": "stream",
          "name": "stderr",
          "text": [
            "Testing: 100%|██████████| 14/14 [00:07<00:00,  1.92it/s]\n"
          ]
        },
        {
          "output_type": "stream",
          "name": "stdout",
          "text": [
            "\n",
            "Best validation AUC: 0.9318\n",
            "Test metrics:\n",
            "  accuracy: 0.7765\n",
            "  precision: 0.8480\n",
            "  recall: 0.7766\n",
            "  specificity: 0.7765\n",
            "  f1: 0.8107\n",
            "  auc_roc: 0.8407\n"
          ]
        },
        {
          "output_type": "display_data",
          "data": {
            "text/plain": [
              "<Figure size 800x600 with 2 Axes>"
            ],
            "image/png": "[encoded data removed]"
          },
          "metadata": {}
        },
        {
          "output_type": "stream",
          "name": "stdout",
          "text": [
            "\n",
            "Starting experiment for 400X...\n",
            "\n",
            "============================================================\n",
            "Training on 400X magnification with EfficientNet-B3\n",
            "============================================================\n",
            "\n",
            "Phase 1: Training classifier head (frozen backbone)\n"
          ]
        },
        {
          "output_type": "stream",
          "name": "stderr",
          "text": [
            "Training: 100%|██████████| 34/34 [00:25<00:00,  1.32it/s]\n",
            "Validation: 100%|██████████| 12/12 [00:06<00:00,  1.72it/s]\n"
          ]
        },
        {
          "output_type": "stream",
          "name": "stdout",
          "text": [
            "Epoch   1: Train Loss: 0.6537, Val Loss: 0.6248, Val AUC: 0.8775\n"
          ]
        },
        {
          "output_type": "stream",
          "name": "stderr",
          "text": [
            "Training: 100%|██████████| 34/34 [00:25<00:00,  1.34it/s]\n",
            "Validation: 100%|██████████| 12/12 [00:05<00:00,  2.08it/s]\n"
          ]
        },
        {
          "output_type": "stream",
          "name": "stdout",
          "text": [
            "Epoch   2: Train Loss: 0.5918, Val Loss: 0.6034, Val AUC: 0.8800\n"
          ]
        },
        {
          "output_type": "stream",
          "name": "stderr",
          "text": [
            "Training: 100%|██████████| 34/34 [00:25<00:00,  1.35it/s]\n",
            "Validation: 100%|██████████| 12/12 [00:06<00:00,  1.77it/s]\n"
          ]
        },
        {
          "output_type": "stream",
          "name": "stdout",
          "text": [
            "Epoch   3: Train Loss: 0.5657, Val Loss: 0.5723, Val AUC: 0.8961\n"
          ]
        },
        {
          "output_type": "stream",
          "name": "stderr",
          "text": [
            "Training: 100%|██████████| 34/34 [00:25<00:00,  1.35it/s]\n",
            "Validation: 100%|██████████| 12/12 [00:05<00:00,  2.14it/s]\n"
          ]
        },
        {
          "output_type": "stream",
          "name": "stdout",
          "text": [
            "Epoch   4: Train Loss: 0.5743, Val Loss: 0.5565, Val AUC: 0.8905\n"
          ]
        },
        {
          "output_type": "stream",
          "name": "stderr",
          "text": [
            "Training: 100%|██████████| 34/34 [00:25<00:00,  1.35it/s]\n",
            "Validation: 100%|██████████| 12/12 [00:06<00:00,  1.93it/s]\n"
          ]
        },
        {
          "output_type": "stream",
          "name": "stdout",
          "text": [
            "Epoch   5: Train Loss: 0.5621, Val Loss: 0.6038, Val AUC: 0.9167\n"
          ]
        },
        {
          "output_type": "stream",
          "name": "stderr",
          "text": [
            "Training: 100%|██████████| 34/34 [00:24<00:00,  1.39it/s]\n",
            "Validation: 100%|██████████| 12/12 [00:06<00:00,  1.92it/s]\n"
          ]
        },
        {
          "output_type": "stream",
          "name": "stdout",
          "text": [
            "Epoch   6: Train Loss: 0.5366, Val Loss: 0.6049, Val AUC: 0.9216\n"
          ]
        },
        {
          "output_type": "stream",
          "name": "stderr",
          "text": [
            "Training:  12%|█▏        | 4/34 [00:03<00:16,  1.78it/s]"
          ]
        }
      ]
    },
    {
      "cell_type": "code",
      "source": [],
      "metadata": {
        "id": "HwXgkWUkZx_X"
      },
      "execution_count": null,
      "outputs": []
    }
  ]
}