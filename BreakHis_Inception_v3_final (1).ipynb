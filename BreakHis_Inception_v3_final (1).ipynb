{
  "nbformat": 4,
  "nbformat_minor": 0,
  "metadata": {
    "colab": {
      "provenance": [],
      "gpuType": "T4"
    },
    "kernelspec": {
      "name": "python3",
      "display_name": "Python 3"
    },
    "language_info": {
      "name": "python"
    },
    "accelerator": "GPU"
  },
  "cells": [
    {
      "cell_type": "code",
      "source": [
        "import os\n",
        "import json\n",
        "import numpy as np\n",
        "import pandas as pd\n",
        "from pathlib import Path\n",
        "from typing import Dict, List, Tuple, Optional\n",
        "import warnings\n",
        "warnings.filterwarnings('ignore')\n",
        "\n",
        "import torch\n",
        "import torch.nn as nn\n",
        "import torch.nn.functional as F\n",
        "from torch.utils.data import Dataset, DataLoader, WeightedRandomSampler\n",
        "from torch.optim import Adam, SGD\n",
        "from torch.optim.lr_scheduler import ReduceLROnPlateau, CosineAnnealingLR\n",
        "from torchvision import transforms, models\n",
        "from torchvision.models import Inception_V3_Weights\n",
        "\n",
        "import matplotlib.pyplot as plt\n",
        "import seaborn as sns\n",
        "from sklearn.model_selection import train_test_split\n",
        "from sklearn.metrics import (\n",
        "    accuracy_score, precision_score, recall_score, f1_score,\n",
        "    roc_auc_score, confusion_matrix, classification_report\n",
        ")\n",
        "from sklearn.utils.class_weight import compute_class_weight\n",
        "\n",
        "from PIL import Image\n",
        "import time\n",
        "from tqdm import tqdm\n",
        "import glob"
      ],
      "metadata": {
        "id": "Ntx17TjSr8iY"
      },
      "execution_count": 1,
      "outputs": []
    },
    {
      "cell_type": "markdown",
      "source": [],
      "metadata": {
        "id": "_ygqPk3AufsW"
      }
    },
    {
      "cell_type": "code",
      "source": [
        "# Set random seeds for reproducibility\n",
        "torch.manual_seed(42)\n",
        "np.random.seed(42)"
      ],
      "metadata": {
        "id": "VnEkJGa1r_Ks"
      },
      "execution_count": 2,
      "outputs": []
    },
    {
      "cell_type": "code",
      "source": [
        "class LabelSmoothingCrossEntropy(nn.Module):\n",
        "    \"\"\"Label smoothing cross entropy loss.\"\"\"\n",
        "\n",
        "    def __init__(self, smoothing: float = 0.1):\n",
        "        super().__init__()\n",
        "        self.smoothing = smoothing\n",
        "\n",
        "    def forward(self, input: torch.Tensor, target: torch.Tensor) -> torch.Tensor:\n",
        "        log_prob = F.log_softmax(input, dim=-1)\n",
        "        weight = input.new_ones(input.size()) * self.smoothing / (input.size(-1) - 1.)\n",
        "        weight.scatter_(-1, target.unsqueeze(-1), (1. - self.smoothing))\n",
        "        loss = (-weight * log_prob).sum(dim=-1).mean()\n",
        "        return loss\n"
      ],
      "metadata": {
        "id": "14OTHkUmsFwT"
      },
      "execution_count": 3,
      "outputs": []
    },
    {
      "cell_type": "code",
      "source": [
        "class BreakHisDataset(Dataset):\n",
        "    \"\"\"BreakHis dataset class for tumor classification.\"\"\"\n",
        "\n",
        "    def __init__(self, image_paths: List[str], labels: List[int],\n",
        "                 transform: Optional[transforms.Compose] = None):\n",
        "        self.image_paths = image_paths\n",
        "        self.labels = labels\n",
        "        self.transform = transform\n",
        "\n",
        "    def __len__(self) -> int:\n",
        "        return len(self.image_paths)\n",
        "\n",
        "    def __getitem__(self, idx: int) -> Tuple[torch.Tensor, int]:\n",
        "        image_path = self.image_paths[idx]\n",
        "        image = Image.open(image_path).convert('RGB')\n",
        "        label = self.labels[idx]\n",
        "\n",
        "        if self.transform:\n",
        "            image = self.transform(image)\n",
        "\n",
        "        return image, label\n"
      ],
      "metadata": {
        "id": "RkQWnZS-sIdB"
      },
      "execution_count": 4,
      "outputs": []
    },
    {
      "cell_type": "code",
      "source": [
        "class TumorClassifier(nn.Module):\n",
        "    \"\"\"Inception-v3-based tumor classifier.\"\"\"\n",
        "\n",
        "    def __init__(self, num_classes: int = 2, dropout_rate: float = 0.5):\n",
        "        super().__init__()\n",
        "\n",
        "        # Load pretrained Inception-v3 with auxiliary classifier enabled\n",
        "        self.backbone = models.inception_v3(weights=Inception_V3_Weights.DEFAULT, aux_logits=True)\n",
        "\n",
        "        # Replace the final classifier\n",
        "        # Inception-v3 has fc (final classifier) and AuxLogits.fc (auxiliary classifier)\n",
        "        self.backbone.fc = nn.Sequential(\n",
        "            nn.Linear(2048, 4096),\n",
        "            nn.ReLU(True),\n",
        "            nn.Dropout(dropout_rate),\n",
        "            nn.Linear(4096, 4096),\n",
        "            nn.ReLU(True),\n",
        "            nn.Dropout(dropout_rate),\n",
        "            nn.Linear(4096, num_classes)\n",
        "        )\n",
        "\n",
        "        # Replace auxiliary classifier as well (used during training)\n",
        "        self.backbone.AuxLogits.fc = nn.Linear(768, num_classes)\n",
        "\n",
        "        # Initialize classifier weights\n",
        "        self._init_classifier_weights()\n",
        "\n",
        "    def _init_classifier_weights(self):\n",
        "        \"\"\"Initialize classifier weights.\"\"\"\n",
        "        for m in self.backbone.fc.modules():\n",
        "            if isinstance(m, nn.Linear):\n",
        "                nn.init.normal_(m.weight, 0, 0.01)\n",
        "                nn.init.constant_(m.bias, 0)\n",
        "\n",
        "        # Initialize auxiliary classifier\n",
        "        nn.init.normal_(self.backbone.AuxLogits.fc.weight, 0, 0.01)\n",
        "        nn.init.constant_(self.backbone.AuxLogits.fc.bias, 0)\n",
        "\n",
        "    def forward(self, x: torch.Tensor) -> torch.Tensor:\n",
        "        # Always return the outputs as-is from the backbone\n",
        "        return self.backbone(x)\n",
        "\n",
        "    def freeze_backbone(self):\n",
        "        \"\"\"Freeze backbone parameters except final classifiers.\"\"\"\n",
        "        for name, param in self.backbone.named_parameters():\n",
        "            if 'fc' not in name and 'AuxLogits.fc' not in name:\n",
        "                param.requires_grad = False\n",
        "\n",
        "    def unfreeze_last_conv_layers(self, num_layers: int = 4):\n",
        "        \"\"\"Unfreeze last few layers of Inception-v3.\"\"\"\n",
        "        # Get all parameters\n",
        "        all_params = list(self.backbone.named_parameters())\n",
        "\n",
        "        # Find conv/bn parameters in the last few blocks\n",
        "        target_layers = ['Mixed_7c', 'Mixed_7b', 'Mixed_6e', 'Mixed_6d'][:num_layers]\n",
        "\n",
        "        for name, param in all_params:\n",
        "            for target in target_layers:\n",
        "                if target in name and ('conv' in name or 'bn' in name):\n",
        "                    param.requires_grad = True\n"
      ],
      "metadata": {
        "id": "Ea75itjBsNwb"
      },
      "execution_count": 5,
      "outputs": []
    },
    {
      "cell_type": "code",
      "source": [
        "class EarlyStopping:\n",
        "    \"\"\"Early stopping utility.\"\"\"\n",
        "\n",
        "    def __init__(self, patience: int = 10, min_delta: float = 0.001,\n",
        "                 mode: str = 'min'):\n",
        "        self.patience = patience\n",
        "        self.min_delta = min_delta\n",
        "        self.mode = mode\n",
        "        self.counter = 0\n",
        "        self.best_score = None\n",
        "        self.early_stop = False\n",
        "\n",
        "    def __call__(self, val_score: float):\n",
        "        if self.best_score is None:\n",
        "            self.best_score = val_score\n",
        "        elif self.mode == 'min':\n",
        "            if val_score < self.best_score - self.min_delta:\n",
        "                self.best_score = val_score\n",
        "                self.counter = 0\n",
        "            else:\n",
        "                self.counter += 1\n",
        "        else:  # mode == 'max'\n",
        "            if val_score > self.best_score + self.min_delta:\n",
        "                self.best_score = val_score\n",
        "                self.counter = 0\n",
        "            else:\n",
        "                self.counter += 1\n",
        "\n",
        "        if self.counter >= self.patience:\n",
        "            self.early_stop = True\n"
      ],
      "metadata": {
        "id": "85pAFfUZsV-O"
      },
      "execution_count": 6,
      "outputs": []
    },
    {
      "cell_type": "code",
      "source": [
        "class MetricsCalculator:\n",
        "    \"\"\"Utility class for calculating classification metrics.\"\"\"\n",
        "\n",
        "    @staticmethod\n",
        "    def calculate_metrics(y_true: np.ndarray, y_pred: np.ndarray,\n",
        "                         y_pred_proba: np.ndarray) -> Dict[str, float]:\n",
        "        \"\"\"Calculate all classification metrics.\"\"\"\n",
        "\n",
        "        # Calculate confusion matrix\n",
        "        cm = confusion_matrix(y_true, y_pred)\n",
        "        tn, fp, fn, tp = cm.ravel()\n",
        "\n",
        "        # Calculate metrics\n",
        "        accuracy = accuracy_score(y_true, y_pred)\n",
        "        precision = precision_score(y_true, y_pred, average='binary')\n",
        "        recall = recall_score(y_true, y_pred, average='binary')\n",
        "        specificity = tn / (tn + fp) if (tn + fp) > 0 else 0.0\n",
        "        f1 = f1_score(y_true, y_pred, average='binary')\n",
        "        auc_roc = roc_auc_score(y_true, y_pred_proba)\n",
        "\n",
        "        return {\n",
        "            'accuracy': accuracy,\n",
        "            'precision': precision,\n",
        "            'recall': recall,\n",
        "            'specificity': specificity,\n",
        "            'f1': f1,\n",
        "            'auc_roc': auc_roc,\n",
        "            'confusion_matrix': cm\n",
        "        }\n",
        "\n",
        "    @staticmethod\n",
        "    def plot_confusion_matrix(cm: np.ndarray, title: str = \"Confusion Matrix\"):\n",
        "        \"\"\"Plot confusion matrix heatmap.\"\"\"\n",
        "        plt.figure(figsize=(8, 6))\n",
        "        sns.heatmap(cm, annot=True, fmt='d', cmap='Blues',\n",
        "                   xticklabels=['Benign', 'Malignant'],\n",
        "                   yticklabels=['Benign', 'Malignant'])\n",
        "        plt.title(title)\n",
        "        plt.ylabel('True Label')\n",
        "        plt.xlabel('Predicted Label')\n",
        "        plt.tight_layout()\n",
        "        plt.show()"
      ],
      "metadata": {
        "id": "1wWp_YTrsYzC"
      },
      "execution_count": 7,
      "outputs": []
    },
    {
      "cell_type": "code",
      "source": [
        "class BreakHisTrainer:\n",
        "    \"\"\"Main trainer class for BreakHis dataset.\"\"\"\n",
        "\n",
        "    def __init__(self, data_dir: str, batch_size: int = 32,\n",
        "                 num_workers: int = 4, device: str = 'cuda'):\n",
        "        self.data_dir = Path(data_dir)\n",
        "        self.batch_size = batch_size\n",
        "        self.num_workers = num_workers\n",
        "        self.device = torch.device(device if torch.cuda.is_available() else 'cpu')\n",
        "\n",
        "        # Results storage\n",
        "        self.results = {}\n",
        "\n",
        "        # Data transforms - Updated for Inception-v3 (299x299 input)\n",
        "        self.train_transforms = transforms.Compose([\n",
        "            transforms.Resize(342),  # Slightly larger than 299 for cropping\n",
        "            transforms.CenterCrop(299),  # Inception-v3 expects 299x299\n",
        "            transforms.RandomHorizontalFlip(p=0.5),\n",
        "            transforms.RandomVerticalFlip(p=0.5),\n",
        "            transforms.RandomRotation(degrees=15),\n",
        "            transforms.ColorJitter(brightness=0.2, contrast=0.2,\n",
        "                                 saturation=0.2, hue=0.1),\n",
        "            transforms.ToTensor(),\n",
        "            transforms.Normalize(mean=[0.485, 0.456, 0.406],\n",
        "                               std=[0.229, 0.224, 0.225])\n",
        "        ])\n",
        "\n",
        "        self.val_transforms = transforms.Compose([\n",
        "            transforms.Resize(342),\n",
        "            transforms.CenterCrop(299),  # Inception-v3 expects 299x299\n",
        "            transforms.ToTensor(),\n",
        "            transforms.Normalize(mean=[0.485, 0.456, 0.406],\n",
        "                               std=[0.229, 0.224, 0.225])\n",
        "        ])\n",
        "\n",
        "    def parse_dataset(self) -> Dict[str, List]:\n",
        "        \"\"\"Parse BreakHis dataset structure using glob pattern matching.\"\"\"\n",
        "        print(\"Parsing BreakHis dataset...\")\n",
        "\n",
        "        # Try different possible paths for the dataset\n",
        "        possible_paths = [\n",
        "            os.path.join(self.data_dir, 'BreaKHis_v1/BreaKHis_v1/histology_slides/breast/**/*.png'),\n",
        "            os.path.join(self.data_dir, 'BreaKHis_v1/histology_slides/breast/**/*.png'),\n",
        "            os.path.join(self.data_dir, 'histology_slides/breast/**/*.png'),\n",
        "            os.path.join(self.data_dir, '**/*.png'),\n",
        "        ]\n",
        "\n",
        "        breast_img_paths = []\n",
        "        for pattern in possible_paths:\n",
        "            breast_img_paths = glob.glob(pattern, recursive=True)\n",
        "            if breast_img_paths:\n",
        "                print(f\"Found images using pattern: {pattern}\")\n",
        "                break\n",
        "\n",
        "        if not breast_img_paths:\n",
        "            raise FileNotFoundError(f\"No PNG files found in {self.data_dir}. Please check the dataset path.\")\n",
        "\n",
        "        print(f\"Found {len(breast_img_paths)} image files\")\n",
        "\n",
        "        data_info = {\n",
        "            'image_paths': [],\n",
        "            'labels': [],\n",
        "            'magnifications': [],\n",
        "            'patient_ids': []\n",
        "        }\n",
        "\n",
        "        for img_path in breast_img_paths:\n",
        "            try:\n",
        "                # Extract information from path\n",
        "                path_parts = img_path.split(os.sep)\n",
        "\n",
        "                # Find benign/malignant classification from path\n",
        "                if 'benign' in img_path.lower():\n",
        "                    label = 0  # benign\n",
        "                elif 'malignant' in img_path.lower():\n",
        "                    label = 1  # malignant\n",
        "                else:\n",
        "                    continue\n",
        "\n",
        "                # Extract filename for further processing\n",
        "                filename = os.path.basename(img_path)\n",
        "\n",
        "                # Extract magnification from filename (format: SOB_B_A-14-22549AB-40-001.png)\n",
        "                if '-40-' in filename:\n",
        "                    mag = '40X'\n",
        "                elif '-100-' in filename:\n",
        "                    mag = '100X'\n",
        "                elif '-200-' in filename:\n",
        "                    mag = '200X'\n",
        "                elif '-400-' in filename:\n",
        "                    mag = '400X'\n",
        "                else:\n",
        "                    continue\n",
        "\n",
        "                # Extract patient ID from filename (format: SOB_B_A-14-22549AB-40-001.png)\n",
        "                # Patient ID is the part before the magnification\n",
        "                parts = filename.split('-')\n",
        "                if len(parts) >= 3:\n",
        "                    patient_id = '-'.join(parts[:3])  # SOB_B_A-14-22549AB\n",
        "                else:\n",
        "                    patient_id = filename.split('.')[0]\n",
        "\n",
        "                data_info['image_paths'].append(img_path)\n",
        "                data_info['labels'].append(label)\n",
        "                data_info['magnifications'].append(mag)\n",
        "                data_info['patient_ids'].append(patient_id)\n",
        "\n",
        "            except Exception as e:\n",
        "                print(f\"Error processing {img_path}: {e}\")\n",
        "                continue\n",
        "\n",
        "        print(f\"Successfully parsed {len(data_info['image_paths'])} images\")\n",
        "        print(f\"Benign: {len([l for l in data_info['labels'] if l == 0])}\")\n",
        "        print(f\"Malignant: {len([l for l in data_info['labels'] if l == 1])}\")\n",
        "        print(f\"Magnifications: {set(data_info['magnifications'])}\")\n",
        "        print(f\"Unique patients: {len(set(data_info['patient_ids']))}\")\n",
        "\n",
        "        return data_info\n",
        "\n",
        "    def create_patient_splits(self, data_info: Dict, test_size: float = 0.2,\n",
        "                            val_size: float = 0.2) -> Dict[str, Dict]:\n",
        "        \"\"\"Create patient-level train/val/test splits.\"\"\"\n",
        "\n",
        "        # Get unique patients with their labels\n",
        "        df = pd.DataFrame(data_info)\n",
        "        patient_labels = df.groupby('patient_ids')['labels'].first().reset_index()\n",
        "\n",
        "        # First split: train+val vs test\n",
        "        train_val_patients, test_patients = train_test_split(\n",
        "            patient_labels['patient_ids'].tolist(),\n",
        "            test_size=test_size,\n",
        "            stratify=patient_labels['labels'].tolist(),\n",
        "            random_state=42\n",
        "        )\n",
        "\n",
        "        # Second split: train vs val\n",
        "        train_val_labels = patient_labels[patient_labels['patient_ids'].isin(train_val_patients)]['labels'].tolist()\n",
        "        train_patients, val_patients = train_test_split(\n",
        "            train_val_patients,\n",
        "            test_size=val_size / (1 - test_size),\n",
        "            stratify=train_val_labels,\n",
        "            random_state=42\n",
        "        )\n",
        "\n",
        "        # Create splits for each magnification\n",
        "        magnifications = ['40X', '100X', '200X', '400X', 'All']\n",
        "        splits = {}\n",
        "\n",
        "        for mag in magnifications:\n",
        "            if mag == 'All':\n",
        "                mag_mask = pd.Series([True] * len(df))\n",
        "            else:\n",
        "                mag_mask = df['magnifications'] == mag\n",
        "\n",
        "            mag_df = df[mag_mask]\n",
        "\n",
        "            train_mask = mag_df['patient_ids'].isin(train_patients)\n",
        "            val_mask = mag_df['patient_ids'].isin(val_patients)\n",
        "            test_mask = mag_df['patient_ids'].isin(test_patients)\n",
        "\n",
        "            splits[mag] = {\n",
        "                'train': {\n",
        "                    'image_paths': mag_df[train_mask]['image_paths'].tolist(),\n",
        "                    'labels': mag_df[train_mask]['labels'].tolist()\n",
        "                },\n",
        "                'val': {\n",
        "                    'image_paths': mag_df[val_mask]['image_paths'].tolist(),\n",
        "                    'labels': mag_df[val_mask]['labels'].tolist()\n",
        "                },\n",
        "                'test': {\n",
        "                    'image_paths': mag_df[test_mask]['image_paths'].tolist(),\n",
        "                    'labels': mag_df[test_mask]['labels'].tolist()\n",
        "                }\n",
        "            }\n",
        "\n",
        "            print(f\"\\n{mag} - Train: {len(splits[mag]['train']['labels'])}, \"\n",
        "                  f\"Val: {len(splits[mag]['val']['labels'])}, \"\n",
        "                  f\"Test: {len(splits[mag]['test']['labels'])}\")\n",
        "\n",
        "        return splits\n",
        "\n",
        "    def create_data_loaders(self, splits: Dict, magnification: str) -> Dict[str, DataLoader]:\n",
        "        \"\"\"Create data loaders for a specific magnification.\"\"\"\n",
        "\n",
        "        split_data = splits[magnification]\n",
        "\n",
        "        # Create datasets\n",
        "        train_dataset = BreakHisDataset(\n",
        "            split_data['train']['image_paths'],\n",
        "            split_data['train']['labels'],\n",
        "            self.train_transforms\n",
        "        )\n",
        "\n",
        "        val_dataset = BreakHisDataset(\n",
        "            split_data['val']['image_paths'],\n",
        "            split_data['val']['labels'],\n",
        "            self.val_transforms\n",
        "        )\n",
        "\n",
        "        test_dataset = BreakHisDataset(\n",
        "            split_data['test']['image_paths'],\n",
        "            split_data['test']['labels'],\n",
        "            self.val_transforms\n",
        "        )\n",
        "\n",
        "        # Handle class imbalance with weighted sampling\n",
        "        train_labels = split_data['train']['labels']\n",
        "        class_weights = compute_class_weight(\n",
        "            'balanced',\n",
        "            classes=np.unique(train_labels),\n",
        "            y=train_labels\n",
        "        )\n",
        "\n",
        "        sample_weights = [class_weights[label] for label in train_labels]\n",
        "        sampler = WeightedRandomSampler(\n",
        "            weights=sample_weights,\n",
        "            num_samples=len(sample_weights),\n",
        "            replacement=True\n",
        "        )\n",
        "\n",
        "        # Create data loaders\n",
        "        train_loader = DataLoader(\n",
        "            train_dataset,\n",
        "            batch_size=self.batch_size,\n",
        "            sampler=sampler,\n",
        "            num_workers=self.num_workers,\n",
        "            pin_memory=True\n",
        "        )\n",
        "\n",
        "        val_loader = DataLoader(\n",
        "            val_dataset,\n",
        "            batch_size=self.batch_size,\n",
        "            shuffle=False,\n",
        "            num_workers=self.num_workers,\n",
        "            pin_memory=True\n",
        "        )\n",
        "\n",
        "        test_loader = DataLoader(\n",
        "            test_dataset,\n",
        "            batch_size=self.batch_size,\n",
        "            shuffle=False,\n",
        "            num_workers=self.num_workers,\n",
        "            pin_memory=True\n",
        "        )\n",
        "\n",
        "        return {\n",
        "            'train': train_loader,\n",
        "            'val': val_loader,\n",
        "            'test': test_loader\n",
        "        }\n",
        "\n",
        "    def train_epoch(self, model: nn.Module, train_loader: DataLoader,\n",
        "                   criterion: nn.Module, optimizer: torch.optim.Optimizer) -> float:\n",
        "        \"\"\"Train for one epoch.\"\"\"\n",
        "        model.train()\n",
        "        total_loss = 0.0\n",
        "\n",
        "        for batch_idx, (images, labels) in enumerate(tqdm(train_loader, desc=\"Training\")):\n",
        "            images, labels = images.to(self.device), labels.to(self.device)\n",
        "\n",
        "            optimizer.zero_grad()\n",
        "\n",
        "            # Handle auxiliary output during training\n",
        "            outputs = model(images)\n",
        "            if isinstance(outputs, tuple):\n",
        "                main_outputs, aux_outputs = outputs\n",
        "                # Combine main loss and auxiliary loss (weighted)\n",
        "                main_loss = criterion(main_outputs, labels)\n",
        "                aux_loss = criterion(aux_outputs, labels)\n",
        "                loss = main_loss + 0.4 * aux_loss  # Standard Inception-v3 weighting\n",
        "            else:\n",
        "                loss = criterion(outputs, labels)\n",
        "\n",
        "            loss.backward()\n",
        "            optimizer.step()\n",
        "\n",
        "            total_loss += loss.item()\n",
        "\n",
        "        return total_loss / len(train_loader)\n",
        "\n",
        "    def validate_epoch(self, model: nn.Module, val_loader: DataLoader,\n",
        "                      criterion: nn.Module) -> Tuple[float, float]:\n",
        "        \"\"\"Validate for one epoch.\"\"\"\n",
        "        model.eval()\n",
        "        total_loss = 0.0\n",
        "        all_preds = []\n",
        "        all_labels = []\n",
        "        all_probs = []\n",
        "\n",
        "        with torch.no_grad():\n",
        "            for images, labels in tqdm(val_loader, desc=\"Validation\"):\n",
        "                images, labels = images.to(self.device), labels.to(self.device)\n",
        "\n",
        "                outputs = model(images)\n",
        "\n",
        "                # Handle tuple output during validation\n",
        "                if isinstance(outputs, tuple):\n",
        "                    main_outputs, _ = outputs\n",
        "                    outputs = main_outputs\n",
        "\n",
        "                loss = criterion(outputs, labels)\n",
        "                total_loss += loss.item()\n",
        "\n",
        "                probs = F.softmax(outputs, dim=1)\n",
        "                preds = outputs.argmax(dim=1)\n",
        "\n",
        "                all_preds.extend(preds.cpu().numpy())\n",
        "                all_labels.extend(labels.cpu().numpy())\n",
        "                all_probs.extend(probs[:, 1].cpu().numpy())  # Probability of malignant\n",
        "\n",
        "        avg_loss = total_loss / len(val_loader)\n",
        "        auc_roc = roc_auc_score(all_labels, all_probs)\n",
        "\n",
        "        return avg_loss, auc_roc\n",
        "\n",
        "    def test_model(self, model: nn.Module, test_loader: DataLoader) -> Dict[str, float]:\n",
        "        \"\"\"Test the model and return metrics.\"\"\"\n",
        "        model.eval()\n",
        "        all_preds = []\n",
        "        all_labels = []\n",
        "        all_probs = []\n",
        "\n",
        "        with torch.no_grad():\n",
        "            for images, labels in tqdm(test_loader, desc=\"Testing\"):\n",
        "                images, labels = images.to(self.device), labels.to(self.device)\n",
        "\n",
        "                outputs = model(images)\n",
        "\n",
        "                # Handle tuple output during testing\n",
        "                if isinstance(outputs, tuple):\n",
        "                    main_outputs, _ = outputs\n",
        "                    outputs = main_outputs\n",
        "\n",
        "                probs = F.softmax(outputs, dim=1)\n",
        "                preds = outputs.argmax(dim=1)\n",
        "\n",
        "                all_preds.extend(preds.cpu().numpy())\n",
        "                all_labels.extend(labels.cpu().numpy())\n",
        "                all_probs.extend(probs[:, 1].cpu().numpy())\n",
        "\n",
        "        return MetricsCalculator.calculate_metrics(\n",
        "            np.array(all_labels),\n",
        "            np.array(all_preds),\n",
        "            np.array(all_probs)\n",
        "        )\n",
        "\n",
        "    def train_magnification(self, splits: Dict, magnification: str,\n",
        "                          epochs: int = 100) -> Dict[str, float]:\n",
        "        \"\"\"Train model for a specific magnification.\"\"\"\n",
        "\n",
        "        print(f\"\\n{'='*60}\")\n",
        "        print(f\"Training on {magnification} magnification with Inception-v3\")\n",
        "        print(f\"{'='*60}\")\n",
        "\n",
        "        # Create data loaders\n",
        "        data_loaders = self.create_data_loaders(splits, magnification)\n",
        "\n",
        "        # Initialize model\n",
        "        model = TumorClassifier(num_classes=2, dropout_rate=0.5)\n",
        "        model.to(self.device)\n",
        "\n",
        "        # Loss function\n",
        "        criterion = LabelSmoothingCrossEntropy(smoothing=0.1)\n",
        "\n",
        "        # Phase 1: Train classifier head with frozen backbone\n",
        "        print(\"\\nPhase 1: Training classifier head (frozen backbone)\")\n",
        "        model.freeze_backbone()\n",
        "\n",
        "        optimizer = Adam(filter(lambda p: p.requires_grad, model.parameters()),\n",
        "                        lr=0.001, weight_decay=1e-4)\n",
        "        scheduler = ReduceLROnPlateau(optimizer, mode='max', factor=0.5,\n",
        "                                    patience=5, verbose=True)\n",
        "        early_stopping = EarlyStopping(patience=10, mode='max')\n",
        "\n",
        "        best_auc = 0.0\n",
        "        best_model_state = None\n",
        "\n",
        "        for epoch in range(epochs // 2):\n",
        "            # Training\n",
        "            train_loss = self.train_epoch(model, data_loaders['train'],\n",
        "                                        criterion, optimizer)\n",
        "\n",
        "            # Validation\n",
        "            val_loss, val_auc = self.validate_epoch(model, data_loaders['val'],\n",
        "                                                  criterion)\n",
        "\n",
        "            scheduler.step(val_auc)\n",
        "            early_stopping(val_auc)\n",
        "\n",
        "            print(f\"Epoch {epoch+1:3d}: Train Loss: {train_loss:.4f}, \"\n",
        "                  f\"Val Loss: {val_loss:.4f}, Val AUC: {val_auc:.4f}\")\n",
        "\n",
        "            # Save best model\n",
        "            if val_auc > best_auc:\n",
        "                best_auc = val_auc\n",
        "                best_model_state = model.state_dict().copy()\n",
        "\n",
        "            if early_stopping.early_stop:\n",
        "                print(f\"Early stopping at epoch {epoch+1}\")\n",
        "                break\n",
        "\n",
        "        # Load best model from Phase 1\n",
        "        model.load_state_dict(best_model_state)\n",
        "\n",
        "        # Phase 2: Fine-tune with unfrozen last conv layers\n",
        "        print(\"\\nPhase 2: Fine-tuning with unfrozen last conv layers\")\n",
        "        model.unfreeze_last_conv_layers(num_layers=4)\n",
        "\n",
        "        optimizer = Adam(filter(lambda p: p.requires_grad, model.parameters()),\n",
        "                        lr=0.0001, weight_decay=1e-4)\n",
        "        scheduler = ReduceLROnPlateau(optimizer, mode='max', factor=0.5,\n",
        "                                    patience=5, verbose=True)\n",
        "        early_stopping = EarlyStopping(patience=10, mode='max')\n",
        "\n",
        "        for epoch in range(epochs // 2):\n",
        "            # Training\n",
        "            train_loss = self.train_epoch(model, data_loaders['train'],\n",
        "                                        criterion, optimizer)\n",
        "\n",
        "            # Validation\n",
        "            val_loss, val_auc = self.validate_epoch(model, data_loaders['val'],\n",
        "                                                  criterion)\n",
        "\n",
        "            scheduler.step(val_auc)\n",
        "            early_stopping(val_auc)\n",
        "\n",
        "            print(f\"Epoch {epoch+1:3d}: Train Loss: {train_loss:.4f}, \"\n",
        "                  f\"Val Loss: {val_loss:.4f}, Val AUC: {val_auc:.4f}\")\n",
        "\n",
        "            # Save best model\n",
        "            if val_auc > best_auc:\n",
        "                best_auc = val_auc\n",
        "                best_model_state = model.state_dict().copy()\n",
        "\n",
        "            if early_stopping.early_stop:\n",
        "                print(f\"Early stopping at epoch {epoch+1}\")\n",
        "                break\n",
        "\n",
        "        # Load best model and test\n",
        "        model.load_state_dict(best_model_state)\n",
        "        test_metrics = self.test_model(model, data_loaders['test'])\n",
        "\n",
        "        print(f\"\\nBest validation AUC: {best_auc:.4f}\")\n",
        "        print(f\"Test metrics:\")\n",
        "        for metric, value in test_metrics.items():\n",
        "            if metric != 'confusion_matrix':\n",
        "                print(f\"  {metric}: {value:.4f}\")\n",
        "\n",
        "        # Plot confusion matrix\n",
        "        cm = test_metrics['confusion_matrix']\n",
        "        MetricsCalculator.plot_confusion_matrix(cm, f\"Confusion Matrix - {magnification} (Inception-v3)\")\n",
        "\n",
        "        return test_metrics\n",
        "\n",
        "    def run_all_experiments(self, data_dir: str) -> pd.DataFrame:\n",
        "        \"\"\"Run experiments for all magnifications.\"\"\"\n",
        "\n",
        "        print(\"Starting BreakHis tumor classification experiments with Inception-v3...\")\n",
        "\n",
        "        # Parse dataset\n",
        "        data_info = self.parse_dataset()\n",
        "\n",
        "        # Create patient-level splits\n",
        "        splits = self.create_patient_splits(data_info)\n",
        "\n",
        "        # Run experiments for each magnification\n",
        "        magnifications = ['40X', '100X', '200X', '400X', 'All']\n",
        "        results = []\n",
        "\n",
        "        for mag in magnifications:\n",
        "            print(f\"\\nStarting experiment for {mag}...\")\n",
        "            metrics = self.train_magnification(splits, mag)\n",
        "\n",
        "            result = {\n",
        "                'Magnification': mag,\n",
        "                'Accuracy': metrics['accuracy'],\n",
        "                'Precision': metrics['precision'],\n",
        "                'Recall': metrics['recall'],\n",
        "                'Specificity': metrics['specificity'],\n",
        "                'F1': metrics['f1'],\n",
        "                'AUC-ROC': metrics['auc_roc']\n",
        "            }\n",
        "            results.append(result)\n",
        "\n",
        "            # Store confusion matrix separately\n",
        "            self.results[mag] = {\n",
        "                'metrics': result,\n",
        "                'confusion_matrix': metrics['confusion_matrix']\n",
        "            }\n",
        "\n",
        "        # Create results DataFrame\n",
        "        results_df = pd.DataFrame(results)\n",
        "\n",
        "        # Display results table\n",
        "        print(\"\\n\" + \"=\"*80)\n",
        "        print(\"FINAL RESULTS TABLE - Inception-v3\")\n",
        "        print(\"=\"*80)\n",
        "        print(results_df.to_string(index=False, float_format=lambda x: f'{x:.4f}'))\n",
        "\n",
        "        return results_df\n"
      ],
      "metadata": {
        "id": "jOnzPZe1scMH"
      },
      "execution_count": 8,
      "outputs": []
    },
    {
      "cell_type": "code",
      "source": [
        "def main():\n",
        "    \"\"\"Main function to run the experiments.\"\"\"\n",
        "\n",
        "    # Download dataset using kagglehub\n",
        "    import kagglehub\n",
        "\n",
        "    # Download dataset\n",
        "    path = kagglehub.dataset_download(\"ambarish/breakhis\")\n",
        "    print(\"Path to dataset files:\", path)\n",
        "\n",
        "    # Configuration\n",
        "    DATA_DIR = path  # Use the downloaded path\n",
        "    BATCH_SIZE = 32\n",
        "    NUM_WORKERS = 4\n",
        "    DEVICE = 'cuda' if torch.cuda.is_available() else 'cpu'\n",
        "\n",
        "    print(f\"Using device: {DEVICE}\")\n",
        "    print(\"Using Inception-v3 backbone\")\n",
        "\n",
        "    # Initialize trainer\n",
        "    trainer = BreakHisTrainer(\n",
        "        data_dir=DATA_DIR,\n",
        "        batch_size=BATCH_SIZE,\n",
        "        num_workers=NUM_WORKERS,\n",
        "        device=DEVICE\n",
        "    )\n",
        "\n",
        "    # Run all experiments\n",
        "    results_df = trainer.run_all_experiments(DATA_DIR)\n",
        "\n",
        "    # Save results\n",
        "    results_df.to_csv('breakhis_inception_v3_results.csv', index=False)\n",
        "    print(\"\\nResults saved to 'breakhis_inception_v3_results.csv'\")\n",
        "\n",
        "    # Display final summary\n",
        "    print(\"\\n\" + \"=\"*80)\n",
        "    print(\"EXPERIMENT SUMMARY - Inception-v3\")\n",
        "    print(\"=\"*80)\n",
        "    print(f\"Average Accuracy: {results_df['Accuracy'].mean():.4f}\")\n",
        "    print(f\"Average AUC-ROC: {results_df['AUC-ROC'].mean():.4f}\")\n",
        "    print(f\"Best performing magnification: {results_df.loc[results_df['Accuracy'].idxmax(), 'Magnification']}\")\n",
        "\n",
        "    return results_df"
      ],
      "metadata": {
        "id": "6KGDFdGsskiV"
      },
      "execution_count": 9,
      "outputs": []
    },
    {
      "cell_type": "code",
      "source": [
        "if __name__ == \"__main__\":\n",
        "    results = main()"
      ],
      "metadata": {
        "colab": {
          "base_uri": "https://localhost:8080/",
          "height": 1000
        },
        "id": "MrdMIdIqsnCG",
        "outputId": "d50553c1-8b41-49d4-acbb-fa7015bc46fa"
      },
      "execution_count": null,
      "outputs": [
        {
          "metadata": {
            "tags": null
          },
          "name": "stdout",
          "output_type": "stream",
          "text": [
            "Path to dataset files: /kaggle/input/breakhis\n",
            "Using device: cuda\n",
            "Using Inception-v3 backbone\n",
            "Starting BreakHis tumor classification experiments with Inception-v3...\n",
            "Parsing BreakHis dataset...\n",
            "Found images using pattern: /kaggle/input/breakhis/BreaKHis_v1/BreaKHis_v1/histology_slides/breast/**/*.png\n",
            "Found 7909 image files\n",
            "Successfully parsed 7909 images\n",
            "Benign: 2480\n",
            "Malignant: 5429\n",
            "Magnifications: {'200X', '400X', '40X', '100X'}\n",
            "Unique patients: 82\n",
            "\n",
            "40X - Train: 1172, Val: 382, Test: 441\n",
            "\n",
            "100X - Train: 1201, Val: 403, Test: 477\n",
            "\n",
            "200X - Train: 1188, Val: 382, Test: 443\n",
            "\n",
            "400X - Train: 1059, Val: 367, Test: 394\n",
            "\n",
            "All - Train: 4620, Val: 1534, Test: 1755\n",
            "\n",
            "Starting experiment for 40X...\n",
            "\n",
            "============================================================\n",
            "Training on 40X magnification with Inception-v3\n",
            "============================================================\n"
          ]
        },
        {
          "metadata": {
            "tags": null
          },
          "name": "stderr",
          "output_type": "stream",
          "text": [
            "Downloading: \"https://download.pytorch.org/models/inception_v3_google-0cc3c7bd.pth\" to /root/.cache/torch/hub/checkpoints/inception_v3_google-0cc3c7bd.pth\n",
            "100%|██████████| 104M/104M [00:00<00:00, 194MB/s] \n"
          ]
        },
        {
          "metadata": {
            "tags": null
          },
          "name": "stdout",
          "output_type": "stream",
          "text": [
            "\n",
            "Phase 1: Training classifier head (frozen backbone)\n"
          ]
        },
        {
          "metadata": {
            "tags": null
          },
          "name": "stderr",
          "output_type": "stream",
          "text": [
            "Training: 100%|██████████| 37/37 [00:27<00:00,  1.34it/s]\n",
            "Validation: 100%|██████████| 12/12 [00:05<00:00,  2.05it/s]\n"
          ]
        },
        {
          "metadata": {
            "tags": null
          },
          "name": "stdout",
          "output_type": "stream",
          "text": [
            "Epoch   1: Train Loss: 1.1232, Val Loss: 0.6196, Val AUC: 0.7407\n"
          ]
        },
        {
          "metadata": {
            "tags": null
          },
          "name": "stderr",
          "output_type": "stream",
          "text": [
            "Training: 100%|██████████| 37/37 [00:29<00:00,  1.27it/s]\n",
            "Validation: 100%|██████████| 12/12 [00:05<00:00,  2.15it/s]\n"
          ]
        },
        {
          "metadata": {
            "tags": null
          },
          "name": "stdout",
          "output_type": "stream",
          "text": [
            "Epoch   2: Train Loss: 0.8153, Val Loss: 0.5922, Val AUC: 0.7377\n"
          ]
        },
        {
          "metadata": {
            "tags": null
          },
          "name": "stderr",
          "output_type": "stream",
          "text": [
            "Training: 100%|██████████| 37/37 [00:26<00:00,  1.40it/s]\n",
            "Validation: 100%|██████████| 12/12 [00:06<00:00,  1.77it/s]\n"
          ]
        },
        {
          "metadata": {
            "tags": null
          },
          "name": "stdout",
          "output_type": "stream",
          "text": [
            "Epoch   3: Train Loss: 0.7994, Val Loss: 0.5640, Val AUC: 0.7648\n"
          ]
        },
        {
          "metadata": {
            "tags": null
          },
          "name": "stderr",
          "output_type": "stream",
          "text": [
            "Training: 100%|██████████| 37/37 [00:26<00:00,  1.40it/s]\n",
            "Validation: 100%|██████████| 12/12 [00:05<00:00,  2.12it/s]\n"
          ]
        },
        {
          "metadata": {
            "tags": null
          },
          "name": "stdout",
          "output_type": "stream",
          "text": [
            "Epoch   4: Train Loss: 0.7677, Val Loss: 0.6570, Val AUC: 0.7692\n"
          ]
        },
        {
          "metadata": {
            "tags": null
          },
          "name": "stderr",
          "output_type": "stream",
          "text": [
            "Training: 100%|██████████| 37/37 [00:26<00:00,  1.39it/s]\n",
            "Validation: 100%|██████████| 12/12 [00:06<00:00,  1.74it/s]\n"
          ]
        },
        {
          "metadata": {
            "tags": null
          },
          "name": "stdout",
          "output_type": "stream",
          "text": [
            "Epoch   5: Train Loss: 0.7893, Val Loss: 0.5740, Val AUC: 0.7882\n"
          ]
        },
        {
          "metadata": {
            "tags": null
          },
          "name": "stderr",
          "output_type": "stream",
          "text": [
            "Training: 100%|██████████| 37/37 [00:26<00:00,  1.39it/s]\n",
            "Validation: 100%|██████████| 12/12 [00:05<00:00,  2.10it/s]\n"
          ]
        },
        {
          "metadata": {
            "tags": null
          },
          "name": "stdout",
          "output_type": "stream",
          "text": [
            "Epoch   6: Train Loss: 0.7546, Val Loss: 0.7003, Val AUC: 0.7762\n"
          ]
        },
        {
          "metadata": {
            "tags": null
          },
          "name": "stderr",
          "output_type": "stream",
          "text": [
            "Training: 100%|██████████| 37/37 [00:26<00:00,  1.39it/s]\n",
            "Validation: 100%|██████████| 12/12 [00:06<00:00,  1.77it/s]\n"
          ]
        },
        {
          "metadata": {
            "tags": null
          },
          "name": "stdout",
          "output_type": "stream",
          "text": [
            "Epoch   7: Train Loss: 0.7685, Val Loss: 0.5767, Val AUC: 0.7553\n"
          ]
        },
        {
          "metadata": {
            "tags": null
          },
          "name": "stderr",
          "output_type": "stream",
          "text": [
            "Training: 100%|██████████| 37/37 [00:26<00:00,  1.40it/s]\n",
            "Validation: 100%|██████████| 12/12 [00:05<00:00,  2.13it/s]\n"
          ]
        },
        {
          "metadata": {
            "tags": null
          },
          "name": "stdout",
          "output_type": "stream",
          "text": [
            "Epoch   8: Train Loss: 0.7755, Val Loss: 0.5717, Val AUC: 0.7890\n"
          ]
        },
        {
          "metadata": {
            "tags": null
          },
          "name": "stderr",
          "output_type": "stream",
          "text": [
            "Training: 100%|██████████| 37/37 [00:26<00:00,  1.37it/s]\n",
            "Validation: 100%|██████████| 12/12 [00:06<00:00,  1.93it/s]\n"
          ]
        },
        {
          "metadata": {
            "tags": null
          },
          "name": "stdout",
          "output_type": "stream",
          "text": [
            "Epoch   9: Train Loss: 0.7649, Val Loss: 0.5679, Val AUC: 0.7757\n"
          ]
        },
        {
          "metadata": {
            "tags": null
          },
          "name": "stderr",
          "output_type": "stream",
          "text": [
            "Training: 100%|██████████| 37/37 [00:26<00:00,  1.38it/s]\n",
            "Validation: 100%|██████████| 12/12 [00:06<00:00,  1.93it/s]\n"
          ]
        },
        {
          "metadata": {
            "tags": null
          },
          "name": "stdout",
          "output_type": "stream",
          "text": [
            "Epoch  10: Train Loss: 0.7539, Val Loss: 0.5626, Val AUC: 0.7959\n"
          ]
        },
        {
          "metadata": {
            "tags": null
          },
          "name": "stderr",
          "output_type": "stream",
          "text": [
            "Training: 100%|██████████| 37/37 [00:26<00:00,  1.38it/s]\n",
            "Validation: 100%|██████████| 12/12 [00:05<00:00,  2.06it/s]\n"
          ]
        },
        {
          "metadata": {
            "tags": null
          },
          "name": "stdout",
          "output_type": "stream",
          "text": [
            "Epoch  11: Train Loss: 0.7318, Val Loss: 0.5900, Val AUC: 0.7836\n"
          ]
        },
        {
          "metadata": {
            "tags": null
          },
          "name": "stderr",
          "output_type": "stream",
          "text": [
            "Training: 100%|██████████| 37/37 [00:26<00:00,  1.42it/s]\n",
            "Validation: 100%|██████████| 12/12 [00:06<00:00,  1.74it/s]\n"
          ]
        },
        {
          "metadata": {
            "tags": null
          },
          "name": "stdout",
          "output_type": "stream",
          "text": [
            "Epoch  12: Train Loss: 0.7395, Val Loss: 0.5898, Val AUC: 0.7908\n"
          ]
        },
        {
          "metadata": {
            "tags": null
          },
          "name": "stderr",
          "output_type": "stream",
          "text": [
            "Training: 100%|██████████| 37/37 [00:26<00:00,  1.40it/s]\n",
            "Validation: 100%|██████████| 12/12 [00:05<00:00,  2.14it/s]\n"
          ]
        },
        {
          "metadata": {
            "tags": null
          },
          "name": "stdout",
          "output_type": "stream",
          "text": [
            "Epoch  13: Train Loss: 0.7361, Val Loss: 0.5919, Val AUC: 0.8012\n"
          ]
        },
        {
          "metadata": {
            "tags": null
          },
          "name": "stderr",
          "output_type": "stream",
          "text": [
            "Training: 100%|██████████| 37/37 [00:26<00:00,  1.40it/s]\n",
            "Validation: 100%|██████████| 12/12 [00:06<00:00,  1.76it/s]\n"
          ]
        },
        {
          "metadata": {
            "tags": null
          },
          "name": "stdout",
          "output_type": "stream",
          "text": [
            "Epoch  14: Train Loss: 0.7749, Val Loss: 0.6552, Val AUC: 0.7886\n"
          ]
        },
        {
          "metadata": {
            "tags": null
          },
          "name": "stderr",
          "output_type": "stream",
          "text": [
            "Training: 100%|██████████| 37/37 [00:26<00:00,  1.39it/s]\n",
            "Validation: 100%|██████████| 12/12 [00:05<00:00,  2.12it/s]\n"
          ]
        },
        {
          "metadata": {
            "tags": null
          },
          "name": "stdout",
          "output_type": "stream",
          "text": [
            "Epoch  15: Train Loss: 0.7603, Val Loss: 0.6129, Val AUC: 0.7882\n"
          ]
        },
        {
          "metadata": {
            "tags": null
          },
          "name": "stderr",
          "output_type": "stream",
          "text": [
            "Training: 100%|██████████| 37/37 [00:27<00:00,  1.35it/s]\n",
            "Validation: 100%|██████████| 12/12 [00:06<00:00,  1.74it/s]\n"
          ]
        },
        {
          "metadata": {
            "tags": null
          },
          "name": "stdout",
          "output_type": "stream",
          "text": [
            "Epoch  16: Train Loss: 0.7277, Val Loss: 0.5714, Val AUC: 0.7880\n"
          ]
        },
        {
          "metadata": {
            "tags": null
          },
          "name": "stderr",
          "output_type": "stream",
          "text": [
            "Training: 100%|██████████| 37/37 [00:27<00:00,  1.37it/s]\n",
            "Validation: 100%|██████████| 12/12 [00:05<00:00,  2.05it/s]\n"
          ]
        },
        {
          "metadata": {
            "tags": null
          },
          "name": "stdout",
          "output_type": "stream",
          "text": [
            "Epoch  17: Train Loss: 0.7359, Val Loss: 0.5749, Val AUC: 0.8227\n"
          ]
        },
        {
          "metadata": {
            "tags": null
          },
          "name": "stderr",
          "output_type": "stream",
          "text": [
            "Training: 100%|██████████| 37/37 [00:27<00:00,  1.35it/s]\n",
            "Validation: 100%|██████████| 12/12 [00:05<00:00,  2.07it/s]\n"
          ]
        },
        {
          "metadata": {
            "tags": null
          },
          "name": "stdout",
          "output_type": "stream",
          "text": [
            "Epoch  18: Train Loss: 0.7465, Val Loss: 0.6117, Val AUC: 0.7816\n"
          ]
        },
        {
          "metadata": {
            "tags": null
          },
          "name": "stderr",
          "output_type": "stream",
          "text": [
            "Training: 100%|██████████| 37/37 [00:26<00:00,  1.38it/s]\n",
            "Validation: 100%|██████████| 12/12 [00:06<00:00,  1.75it/s]\n"
          ]
        },
        {
          "metadata": {
            "tags": null
          },
          "name": "stdout",
          "output_type": "stream",
          "text": [
            "Epoch  19: Train Loss: 0.7463, Val Loss: 0.6237, Val AUC: 0.7868\n"
          ]
        },
        {
          "metadata": {
            "tags": null
          },
          "name": "stderr",
          "output_type": "stream",
          "text": [
            "Training: 100%|██████████| 37/37 [00:26<00:00,  1.39it/s]\n",
            "Validation: 100%|██████████| 12/12 [00:05<00:00,  2.09it/s]\n"
          ]
        },
        {
          "metadata": {
            "tags": null
          },
          "name": "stdout",
          "output_type": "stream",
          "text": [
            "Epoch  20: Train Loss: 0.7411, Val Loss: 0.6425, Val AUC: 0.7750\n"
          ]
        },
        {
          "metadata": {
            "tags": null
          },
          "name": "stderr",
          "output_type": "stream",
          "text": [
            "Training: 100%|██████████| 37/37 [00:26<00:00,  1.38it/s]\n",
            "Validation: 100%|██████████| 12/12 [00:07<00:00,  1.71it/s]\n"
          ]
        },
        {
          "metadata": {
            "tags": null
          },
          "name": "stdout",
          "output_type": "stream",
          "text": [
            "Epoch  21: Train Loss: 0.7279, Val Loss: 0.6609, Val AUC: 0.7998\n"
          ]
        },
        {
          "metadata": {
            "tags": null
          },
          "name": "stderr",
          "output_type": "stream",
          "text": [
            "Training: 100%|██████████| 37/37 [00:27<00:00,  1.35it/s]\n",
            "Validation: 100%|██████████| 12/12 [00:06<00:00,  2.00it/s]\n"
          ]
        },
        {
          "metadata": {
            "tags": null
          },
          "name": "stdout",
          "output_type": "stream",
          "text": [
            "Epoch  22: Train Loss: 0.7508, Val Loss: 0.5813, Val AUC: 0.7719\n"
          ]
        },
        {
          "metadata": {
            "tags": null
          },
          "name": "stderr",
          "output_type": "stream",
          "text": [
            "Training: 100%|██████████| 37/37 [00:27<00:00,  1.35it/s]\n",
            "Validation: 100%|██████████| 12/12 [00:06<00:00,  1.82it/s]\n"
          ]
        },
        {
          "metadata": {
            "tags": null
          },
          "name": "stdout",
          "output_type": "stream",
          "text": [
            "Epoch  23: Train Loss: 0.7291, Val Loss: 0.7652, Val AUC: 0.7918\n"
          ]
        },
        {
          "metadata": {
            "tags": null
          },
          "name": "stderr",
          "output_type": "stream",
          "text": [
            "Training: 100%|██████████| 37/37 [00:27<00:00,  1.35it/s]\n",
            "Validation: 100%|██████████| 12/12 [00:06<00:00,  1.74it/s]\n"
          ]
        },
        {
          "metadata": {
            "tags": null
          },
          "name": "stdout",
          "output_type": "stream",
          "text": [
            "Epoch  24: Train Loss: 0.7253, Val Loss: 0.5715, Val AUC: 0.7933\n"
          ]
        },
        {
          "metadata": {
            "tags": null
          },
          "name": "stderr",
          "output_type": "stream",
          "text": [
            "Training: 100%|██████████| 37/37 [00:26<00:00,  1.37it/s]\n",
            "Validation: 100%|██████████| 12/12 [00:05<00:00,  2.11it/s]\n"
          ]
        },
        {
          "metadata": {
            "tags": null
          },
          "name": "stdout",
          "output_type": "stream",
          "text": [
            "Epoch  25: Train Loss: 0.7358, Val Loss: 0.6119, Val AUC: 0.7986\n"
          ]
        },
        {
          "metadata": {
            "tags": null
          },
          "name": "stderr",
          "output_type": "stream",
          "text": [
            "Training: 100%|██████████| 37/37 [00:27<00:00,  1.37it/s]\n",
            "Validation: 100%|██████████| 12/12 [00:06<00:00,  1.78it/s]\n"
          ]
        },
        {
          "metadata": {
            "tags": null
          },
          "name": "stdout",
          "output_type": "stream",
          "text": [
            "Epoch  26: Train Loss: 0.7324, Val Loss: 0.6133, Val AUC: 0.7773\n"
          ]
        },
        {
          "metadata": {
            "tags": null
          },
          "name": "stderr",
          "output_type": "stream",
          "text": [
            "Training: 100%|██████████| 37/37 [00:26<00:00,  1.37it/s]\n",
            "Validation: 100%|██████████| 12/12 [00:05<00:00,  2.04it/s]\n"
          ]
        },
        {
          "metadata": {
            "tags": null
          },
          "name": "stdout",
          "output_type": "stream",
          "text": [
            "Epoch  27: Train Loss: 0.7307, Val Loss: 0.6013, Val AUC: 0.7884\n",
            "Early stopping at epoch 27\n",
            "\n",
            "Phase 2: Fine-tuning with unfrozen last conv layers\n"
          ]
        },
        {
          "metadata": {
            "tags": null
          },
          "name": "stderr",
          "output_type": "stream",
          "text": [
            "Training: 100%|██████████| 37/37 [00:28<00:00,  1.30it/s]\n",
            "Validation: 100%|██████████| 12/12 [00:05<00:00,  2.10it/s]\n"
          ]
        },
        {
          "metadata": {
            "tags": null
          },
          "name": "stdout",
          "output_type": "stream",
          "text": [
            "Epoch   1: Train Loss: 0.6602, Val Loss: 0.5365, Val AUC: 0.8717\n"
          ]
        },
        {
          "metadata": {
            "tags": null
          },
          "name": "stderr",
          "output_type": "stream",
          "text": [
            "Training: 100%|██████████| 37/37 [00:27<00:00,  1.35it/s]\n",
            "Validation: 100%|██████████| 12/12 [00:06<00:00,  1.77it/s]\n"
          ]
        },
        {
          "metadata": {
            "tags": null
          },
          "name": "stdout",
          "output_type": "stream",
          "text": [
            "Epoch   2: Train Loss: 0.6197, Val Loss: 0.5459, Val AUC: 0.8245\n"
          ]
        },
        {
          "metadata": {
            "tags": null
          },
          "name": "stderr",
          "output_type": "stream",
          "text": [
            "Training: 100%|██████████| 37/37 [00:27<00:00,  1.35it/s]\n",
            "Validation: 100%|██████████| 12/12 [00:05<00:00,  2.10it/s]\n"
          ]
        },
        {
          "metadata": {
            "tags": null
          },
          "name": "stdout",
          "output_type": "stream",
          "text": [
            "Epoch   3: Train Loss: 0.5898, Val Loss: 0.5003, Val AUC: 0.8987\n"
          ]
        },
        {
          "metadata": {
            "tags": null
          },
          "name": "stderr",
          "output_type": "stream",
          "text": [
            "Training: 100%|██████████| 37/37 [00:27<00:00,  1.34it/s]\n",
            "Validation: 100%|██████████| 12/12 [00:07<00:00,  1.71it/s]\n"
          ]
        },
        {
          "metadata": {
            "tags": null
          },
          "name": "stdout",
          "output_type": "stream",
          "text": [
            "Epoch   4: Train Loss: 0.5596, Val Loss: 0.5095, Val AUC: 0.8902\n"
          ]
        },
        {
          "metadata": {
            "tags": null
          },
          "name": "stderr",
          "output_type": "stream",
          "text": [
            "Training: 100%|██████████| 37/37 [00:27<00:00,  1.34it/s]\n",
            "Validation: 100%|██████████| 12/12 [00:06<00:00,  1.73it/s]\n"
          ]
        },
        {
          "metadata": {
            "tags": null
          },
          "name": "stdout",
          "output_type": "stream",
          "text": [
            "Epoch   5: Train Loss: 0.5493, Val Loss: 0.4762, Val AUC: 0.9314\n"
          ]
        },
        {
          "metadata": {
            "tags": null
          },
          "name": "stderr",
          "output_type": "stream",
          "text": [
            "Training: 100%|██████████| 37/37 [00:27<00:00,  1.34it/s]\n",
            "Validation: 100%|██████████| 12/12 [00:05<00:00,  2.10it/s]\n"
          ]
        },
        {
          "metadata": {
            "tags": null
          },
          "name": "stdout",
          "output_type": "stream",
          "text": [
            "Epoch   6: Train Loss: 0.5367, Val Loss: 0.4506, Val AUC: 0.9440\n"
          ]
        },
        {
          "metadata": {
            "tags": null
          },
          "name": "stderr",
          "output_type": "stream",
          "text": [
            "Training: 100%|██████████| 37/37 [00:27<00:00,  1.33it/s]\n",
            "Validation: 100%|██████████| 12/12 [00:06<00:00,  1.80it/s]\n"
          ]
        },
        {
          "metadata": {
            "tags": null
          },
          "name": "stdout",
          "output_type": "stream",
          "text": [
            "Epoch   7: Train Loss: 0.5216, Val Loss: 0.4882, Val AUC: 0.8986\n"
          ]
        },
        {
          "metadata": {
            "tags": null
          },
          "name": "stderr",
          "output_type": "stream",
          "text": [
            "Training: 100%|██████████| 37/37 [00:27<00:00,  1.35it/s]\n",
            "Validation: 100%|██████████| 12/12 [00:06<00:00,  1.82it/s]\n"
          ]
        },
        {
          "metadata": {
            "tags": null
          },
          "name": "stdout",
          "output_type": "stream",
          "text": [
            "Epoch   8: Train Loss: 0.5163, Val Loss: 0.4905, Val AUC: 0.9350\n"
          ]
        },
        {
          "metadata": {
            "tags": null
          },
          "name": "stderr",
          "output_type": "stream",
          "text": [
            "Training: 100%|██████████| 37/37 [00:27<00:00,  1.33it/s]\n",
            "Validation: 100%|██████████| 12/12 [00:05<00:00,  2.09it/s]\n"
          ]
        },
        {
          "metadata": {
            "tags": null
          },
          "name": "stdout",
          "output_type": "stream",
          "text": [
            "Epoch   9: Train Loss: 0.5069, Val Loss: 0.4760, Val AUC: 0.9323\n"
          ]
        },
        {
          "metadata": {
            "tags": null
          },
          "name": "stderr",
          "output_type": "stream",
          "text": [
            "Training: 100%|██████████| 37/37 [00:27<00:00,  1.34it/s]\n",
            "Validation: 100%|██████████| 12/12 [00:06<00:00,  1.79it/s]\n"
          ]
        },
        {
          "metadata": {
            "tags": null
          },
          "name": "stdout",
          "output_type": "stream",
          "text": [
            "Epoch  10: Train Loss: 0.5205, Val Loss: 0.4918, Val AUC: 0.9388\n"
          ]
        },
        {
          "metadata": {
            "tags": null
          },
          "name": "stderr",
          "output_type": "stream",
          "text": [
            "Training: 100%|██████████| 37/37 [00:27<00:00,  1.34it/s]\n",
            "Validation: 100%|██████████| 12/12 [00:06<00:00,  1.77it/s]\n"
          ]
        },
        {
          "metadata": {
            "tags": null
          },
          "name": "stdout",
          "output_type": "stream",
          "text": [
            "Epoch  11: Train Loss: 0.5103, Val Loss: 0.5075, Val AUC: 0.8668\n"
          ]
        },
        {
          "metadata": {
            "tags": null
          },
          "name": "stderr",
          "output_type": "stream",
          "text": [
            "Training: 100%|██████████| 37/37 [00:27<00:00,  1.33it/s]\n",
            "Validation: 100%|██████████| 12/12 [00:05<00:00,  2.09it/s]\n"
          ]
        },
        {
          "metadata": {
            "tags": null
          },
          "name": "stdout",
          "output_type": "stream",
          "text": [
            "Epoch  12: Train Loss: 0.5021, Val Loss: 0.5016, Val AUC: 0.8795\n"
          ]
        },
        {
          "metadata": {
            "tags": null
          },
          "name": "stderr",
          "output_type": "stream",
          "text": [
            "Training: 100%|██████████| 37/37 [00:27<00:00,  1.33it/s]\n",
            "Validation: 100%|██████████| 12/12 [00:06<00:00,  1.78it/s]\n"
          ]
        },
        {
          "metadata": {
            "tags": null
          },
          "name": "stdout",
          "output_type": "stream",
          "text": [
            "Epoch  13: Train Loss: 0.5002, Val Loss: 0.4719, Val AUC: 0.9385\n"
          ]
        },
        {
          "metadata": {
            "tags": null
          },
          "name": "stderr",
          "output_type": "stream",
          "text": [
            "Training: 100%|██████████| 37/37 [00:27<00:00,  1.33it/s]\n",
            "Validation: 100%|██████████| 12/12 [00:07<00:00,  1.71it/s]\n"
          ]
        },
        {
          "metadata": {
            "tags": null
          },
          "name": "stdout",
          "output_type": "stream",
          "text": [
            "Epoch  14: Train Loss: 0.4929, Val Loss: 0.4903, Val AUC: 0.9005\n"
          ]
        },
        {
          "metadata": {
            "tags": null
          },
          "name": "stderr",
          "output_type": "stream",
          "text": [
            "Training: 100%|██████████| 37/37 [00:27<00:00,  1.33it/s]\n",
            "Validation: 100%|██████████| 12/12 [00:05<00:00,  2.04it/s]\n"
          ]
        },
        {
          "metadata": {
            "tags": null
          },
          "name": "stdout",
          "output_type": "stream",
          "text": [
            "Epoch  15: Train Loss: 0.4897, Val Loss: 0.4833, Val AUC: 0.9086\n"
          ]
        },
        {
          "metadata": {
            "tags": null
          },
          "name": "stderr",
          "output_type": "stream",
          "text": [
            "Training: 100%|██████████| 37/37 [00:27<00:00,  1.32it/s]\n",
            "Validation: 100%|██████████| 12/12 [00:06<00:00,  1.83it/s]\n"
          ]
        },
        {
          "metadata": {
            "tags": null
          },
          "name": "stdout",
          "output_type": "stream",
          "text": [
            "Epoch  16: Train Loss: 0.4900, Val Loss: 0.4992, Val AUC: 0.8389\n",
            "Early stopping at epoch 16\n"
          ]
        },
        {
          "metadata": {
            "tags": null
          },
          "name": "stderr",
          "output_type": "stream",
          "text": [
            "Testing: 100%|██████████| 14/14 [00:07<00:00,  1.79it/s]\n"
          ]
        },
        {
          "metadata": {
            "tags": null
          },
          "name": "stdout",
          "output_type": "stream",
          "text": [
            "\n",
            "Best validation AUC: 0.9440\n",
            "Test metrics:\n",
            "  accuracy: 0.8095\n",
            "  precision: 0.8114\n",
            "  recall: 0.8803\n",
            "  specificity: 0.7088\n",
            "  f1: 0.8444\n",
            "  auc_roc: 0.8327\n"
          ]
        },
        {
          "data": {
            "image/png": "[encoded data removed]",
            "text/plain": [
              "<Figure size 800x600 with 2 Axes>"
            ]
          },
          "metadata": {},
          "output_type": "display_data"
        },
        {
          "metadata": {
            "tags": null
          },
          "name": "stdout",
          "output_type": "stream",
          "text": [
            "\n",
            "Starting experiment for 100X...\n",
            "\n",
            "============================================================\n",
            "Training on 100X magnification with Inception-v3\n",
            "============================================================\n",
            "\n",
            "Phase 1: Training classifier head (frozen backbone)\n"
          ]
        },
        {
          "metadata": {
            "tags": null
          },
          "name": "stderr",
          "output_type": "stream",
          "text": [
            "Training: 100%|██████████| 38/38 [00:28<00:00,  1.35it/s]\n",
            "Validation: 100%|██████████| 13/13 [00:06<00:00,  2.06it/s]\n"
          ]
        },
        {
          "metadata": {
            "tags": null
          },
          "name": "stdout",
          "output_type": "stream",
          "text": [
            "Epoch   1: Train Loss: 1.0892, Val Loss: 0.6579, Val AUC: 0.6794\n"
          ]
        },
        {
          "metadata": {
            "tags": null
          },
          "name": "stderr",
          "output_type": "stream",
          "text": [
            "Training: 100%|██████████| 38/38 [00:28<00:00,  1.31it/s]\n",
            "Validation: 100%|██████████| 13/13 [00:06<00:00,  2.07it/s]\n"
          ]
        },
        {
          "metadata": {
            "tags": null
          },
          "name": "stdout",
          "output_type": "stream",
          "text": [
            "Epoch   2: Train Loss: 0.8783, Val Loss: 0.6095, Val AUC: 0.6911\n"
          ]
        },
        {
          "metadata": {
            "tags": null
          },
          "name": "stderr",
          "output_type": "stream",
          "text": [
            "Training: 100%|██████████| 38/38 [00:27<00:00,  1.37it/s]\n",
            "Validation: 100%|██████████| 13/13 [00:07<00:00,  1.84it/s]\n"
          ]
        },
        {
          "metadata": {
            "tags": null
          },
          "name": "stdout",
          "output_type": "stream",
          "text": [
            "Epoch   3: Train Loss: 0.8214, Val Loss: 0.6089, Val AUC: 0.7044\n"
          ]
        },
        {
          "metadata": {
            "tags": null
          },
          "name": "stderr",
          "output_type": "stream",
          "text": [
            "Training: 100%|██████████| 38/38 [00:27<00:00,  1.38it/s]\n",
            "Validation: 100%|██████████| 13/13 [00:06<00:00,  2.03it/s]\n"
          ]
        },
        {
          "metadata": {
            "tags": null
          },
          "name": "stdout",
          "output_type": "stream",
          "text": [
            "Epoch   4: Train Loss: 0.7902, Val Loss: 0.6654, Val AUC: 0.7090\n"
          ]
        },
        {
          "metadata": {
            "tags": null
          },
          "name": "stderr",
          "output_type": "stream",
          "text": [
            "Training: 100%|██████████| 38/38 [00:28<00:00,  1.34it/s]\n",
            "Validation: 100%|██████████| 13/13 [00:05<00:00,  2.18it/s]\n"
          ]
        },
        {
          "metadata": {
            "tags": null
          },
          "name": "stdout",
          "output_type": "stream",
          "text": [
            "Epoch   5: Train Loss: 0.7901, Val Loss: 0.5822, Val AUC: 0.7340\n"
          ]
        },
        {
          "metadata": {
            "tags": null
          },
          "name": "stderr",
          "output_type": "stream",
          "text": [
            "Training: 100%|██████████| 38/38 [00:27<00:00,  1.38it/s]\n",
            "Validation: 100%|██████████| 13/13 [00:07<00:00,  1.81it/s]\n"
          ]
        },
        {
          "metadata": {
            "tags": null
          },
          "name": "stdout",
          "output_type": "stream",
          "text": [
            "Epoch   6: Train Loss: 0.7883, Val Loss: 0.6266, Val AUC: 0.7396\n"
          ]
        },
        {
          "metadata": {
            "tags": null
          },
          "name": "stderr",
          "output_type": "stream",
          "text": [
            "Training: 100%|██████████| 38/38 [00:28<00:00,  1.36it/s]\n",
            "Validation: 100%|██████████| 13/13 [00:07<00:00,  1.84it/s]\n"
          ]
        },
        {
          "metadata": {
            "tags": null
          },
          "name": "stdout",
          "output_type": "stream",
          "text": [
            "Epoch   7: Train Loss: 0.7802, Val Loss: 0.6355, Val AUC: 0.7602\n"
          ]
        },
        {
          "metadata": {
            "tags": null
          },
          "name": "stderr",
          "output_type": "stream",
          "text": [
            "Training: 100%|██████████| 38/38 [00:27<00:00,  1.37it/s]\n",
            "Validation: 100%|██████████| 13/13 [00:06<00:00,  2.16it/s]\n"
          ]
        },
        {
          "metadata": {
            "tags": null
          },
          "name": "stdout",
          "output_type": "stream",
          "text": [
            "Epoch   8: Train Loss: 0.7903, Val Loss: 0.5865, Val AUC: 0.7515\n"
          ]
        },
        {
          "metadata": {
            "tags": null
          },
          "name": "stderr",
          "output_type": "stream",
          "text": [
            "Training: 100%|██████████| 38/38 [00:29<00:00,  1.27it/s]\n",
            "Validation: 100%|██████████| 13/13 [00:06<00:00,  2.08it/s]\n"
          ]
        },
        {
          "metadata": {
            "tags": null
          },
          "name": "stdout",
          "output_type": "stream",
          "text": [
            "Epoch   9: Train Loss: 0.7730, Val Loss: 0.5934, Val AUC: 0.7726\n"
          ]
        },
        {
          "metadata": {
            "tags": null
          },
          "name": "stderr",
          "output_type": "stream",
          "text": [
            "Training: 100%|██████████| 38/38 [00:27<00:00,  1.38it/s]\n",
            "Validation: 100%|██████████| 13/13 [00:07<00:00,  1.68it/s]\n"
          ]
        },
        {
          "metadata": {
            "tags": null
          },
          "name": "stdout",
          "output_type": "stream",
          "text": [
            "Epoch  10: Train Loss: 0.7584, Val Loss: 0.5820, Val AUC: 0.7641\n"
          ]
        },
        {
          "metadata": {
            "tags": null
          },
          "name": "stderr",
          "output_type": "stream",
          "text": [
            "Training: 100%|██████████| 38/38 [00:28<00:00,  1.35it/s]\n",
            "Validation: 100%|██████████| 13/13 [00:06<00:00,  2.06it/s]\n"
          ]
        },
        {
          "metadata": {
            "tags": null
          },
          "name": "stdout",
          "output_type": "stream",
          "text": [
            "Epoch  11: Train Loss: 0.7601, Val Loss: 0.5988, Val AUC: 0.7720\n"
          ]
        },
        {
          "metadata": {
            "tags": null
          },
          "name": "stderr",
          "output_type": "stream",
          "text": [
            "Training: 100%|██████████| 38/38 [00:28<00:00,  1.31it/s]\n",
            "Validation: 100%|██████████| 13/13 [00:05<00:00,  2.19it/s]\n"
          ]
        },
        {
          "metadata": {
            "tags": null
          },
          "name": "stdout",
          "output_type": "stream",
          "text": [
            "Epoch  12: Train Loss: 0.7421, Val Loss: 0.5990, Val AUC: 0.7737\n"
          ]
        },
        {
          "metadata": {
            "tags": null
          },
          "name": "stderr",
          "output_type": "stream",
          "text": [
            "Training: 100%|██████████| 38/38 [00:28<00:00,  1.36it/s]\n",
            "Validation: 100%|██████████| 13/13 [00:07<00:00,  1.83it/s]\n"
          ]
        },
        {
          "metadata": {
            "tags": null
          },
          "name": "stdout",
          "output_type": "stream",
          "text": [
            "Epoch  13: Train Loss: 0.7439, Val Loss: 0.6354, Val AUC: 0.7473\n"
          ]
        },
        {
          "metadata": {
            "tags": null
          },
          "name": "stderr",
          "output_type": "stream",
          "text": [
            "Training: 100%|██████████| 38/38 [00:27<00:00,  1.36it/s]\n",
            "Validation: 100%|██████████| 13/13 [00:07<00:00,  1.83it/s]\n"
          ]
        },
        {
          "metadata": {
            "tags": null
          },
          "name": "stdout",
          "output_type": "stream",
          "text": [
            "Epoch  14: Train Loss: 0.7525, Val Loss: 0.5719, Val AUC: 0.7848\n"
          ]
        },
        {
          "metadata": {
            "tags": null
          },
          "name": "stderr",
          "output_type": "stream",
          "text": [
            "Training: 100%|██████████| 38/38 [00:28<00:00,  1.35it/s]\n",
            "Validation: 100%|██████████| 13/13 [00:06<00:00,  2.14it/s]\n"
          ]
        },
        {
          "metadata": {
            "tags": null
          },
          "name": "stdout",
          "output_type": "stream",
          "text": [
            "Epoch  15: Train Loss: 0.7494, Val Loss: 0.6114, Val AUC: 0.7669\n"
          ]
        },
        {
          "metadata": {
            "tags": null
          },
          "name": "stderr",
          "output_type": "stream",
          "text": [
            "Training: 100%|██████████| 38/38 [00:29<00:00,  1.31it/s]\n",
            "Validation: 100%|██████████| 13/13 [00:06<00:00,  1.99it/s]\n"
          ]
        },
        {
          "metadata": {
            "tags": null
          },
          "name": "stdout",
          "output_type": "stream",
          "text": [
            "Epoch  16: Train Loss: 0.7541, Val Loss: 0.6609, Val AUC: 0.7774\n"
          ]
        },
        {
          "metadata": {
            "tags": null
          },
          "name": "stderr",
          "output_type": "stream",
          "text": [
            "Training: 100%|██████████| 38/38 [00:28<00:00,  1.34it/s]\n",
            "Validation: 100%|██████████| 13/13 [00:07<00:00,  1.81it/s]\n"
          ]
        },
        {
          "metadata": {
            "tags": null
          },
          "name": "stdout",
          "output_type": "stream",
          "text": [
            "Epoch  17: Train Loss: 0.7502, Val Loss: 0.5753, Val AUC: 0.7905\n"
          ]
        },
        {
          "metadata": {
            "tags": null
          },
          "name": "stderr",
          "output_type": "stream",
          "text": [
            "Training: 100%|██████████| 38/38 [00:28<00:00,  1.36it/s]\n",
            "Validation: 100%|██████████| 13/13 [00:06<00:00,  2.10it/s]\n"
          ]
        },
        {
          "metadata": {
            "tags": null
          },
          "name": "stdout",
          "output_type": "stream",
          "text": [
            "Epoch  18: Train Loss: 0.7442, Val Loss: 0.6014, Val AUC: 0.7801\n"
          ]
        },
        {
          "metadata": {
            "tags": null
          },
          "name": "stderr",
          "output_type": "stream",
          "text": [
            "Training: 100%|██████████| 38/38 [00:28<00:00,  1.32it/s]\n",
            "Validation: 100%|██████████| 13/13 [00:06<00:00,  2.13it/s]\n"
          ]
        },
        {
          "metadata": {
            "tags": null
          },
          "name": "stdout",
          "output_type": "stream",
          "text": [
            "Epoch  19: Train Loss: 0.7449, Val Loss: 0.5954, Val AUC: 0.7809\n"
          ]
        },
        {
          "metadata": {
            "tags": null
          },
          "name": "stderr",
          "output_type": "stream",
          "text": [
            "Training: 100%|██████████| 38/38 [00:27<00:00,  1.36it/s]\n",
            "Validation: 100%|██████████| 13/13 [00:07<00:00,  1.85it/s]\n"
          ]
        },
        {
          "metadata": {
            "tags": null
          },
          "name": "stdout",
          "output_type": "stream",
          "text": [
            "Epoch  20: Train Loss: 0.7518, Val Loss: 0.5786, Val AUC: 0.7946\n"
          ]
        },
        {
          "metadata": {
            "tags": null
          },
          "name": "stderr",
          "output_type": "stream",
          "text": [
            "Training: 100%|██████████| 38/38 [00:27<00:00,  1.37it/s]\n",
            "Validation: 100%|██████████| 13/13 [00:06<00:00,  2.06it/s]\n"
          ]
        },
        {
          "metadata": {
            "tags": null
          },
          "name": "stdout",
          "output_type": "stream",
          "text": [
            "Epoch  21: Train Loss: 0.7433, Val Loss: 0.5784, Val AUC: 0.7825\n"
          ]
        },
        {
          "metadata": {
            "tags": null
          },
          "name": "stderr",
          "output_type": "stream",
          "text": [
            "Training: 100%|██████████| 38/38 [00:28<00:00,  1.35it/s]\n",
            "Validation: 100%|██████████| 13/13 [00:06<00:00,  2.13it/s]\n"
          ]
        },
        {
          "metadata": {
            "tags": null
          },
          "name": "stdout",
          "output_type": "stream",
          "text": [
            "Epoch  22: Train Loss: 0.7303, Val Loss: 0.5810, Val AUC: 0.7825\n"
          ]
        },
        {
          "metadata": {
            "tags": null
          },
          "name": "stderr",
          "output_type": "stream",
          "text": [
            "Training: 100%|██████████| 38/38 [00:27<00:00,  1.38it/s]\n",
            "Validation: 100%|██████████| 13/13 [00:07<00:00,  1.81it/s]\n"
          ]
        },
        {
          "metadata": {
            "tags": null
          },
          "name": "stdout",
          "output_type": "stream",
          "text": [
            "Epoch  23: Train Loss: 0.7299, Val Loss: 0.5668, Val AUC: 0.7905\n"
          ]
        },
        {
          "metadata": {
            "tags": null
          },
          "name": "stderr",
          "output_type": "stream",
          "text": [
            "Training: 100%|██████████| 38/38 [00:27<00:00,  1.37it/s]\n",
            "Validation: 100%|██████████| 13/13 [00:07<00:00,  1.86it/s]\n"
          ]
        },
        {
          "metadata": {
            "tags": null
          },
          "name": "stdout",
          "output_type": "stream",
          "text": [
            "Epoch  24: Train Loss: 0.7546, Val Loss: 0.5727, Val AUC: 0.7806\n"
          ]
        },
        {
          "metadata": {
            "tags": null
          },
          "name": "stderr",
          "output_type": "stream",
          "text": [
            "Training: 100%|██████████| 38/38 [00:27<00:00,  1.37it/s]\n",
            "Validation: 100%|██████████| 13/13 [00:06<00:00,  2.16it/s]\n"
          ]
        },
        {
          "metadata": {
            "tags": null
          },
          "name": "stdout",
          "output_type": "stream",
          "text": [
            "Epoch  25: Train Loss: 0.7418, Val Loss: 0.6001, Val AUC: 0.7844\n"
          ]
        },
        {
          "metadata": {
            "tags": null
          },
          "name": "stderr",
          "output_type": "stream",
          "text": [
            "Training: 100%|██████████| 38/38 [00:28<00:00,  1.35it/s]\n",
            "Validation: 100%|██████████| 13/13 [00:07<00:00,  1.84it/s]\n"
          ]
        },
        {
          "metadata": {
            "tags": null
          },
          "name": "stdout",
          "output_type": "stream",
          "text": [
            "Epoch  26: Train Loss: 0.7592, Val Loss: 0.6525, Val AUC: 0.7828\n"
          ]
        },
        {
          "metadata": {
            "tags": null
          },
          "name": "stderr",
          "output_type": "stream",
          "text": [
            "Training: 100%|██████████| 38/38 [00:27<00:00,  1.37it/s]\n",
            "Validation: 100%|██████████| 13/13 [00:07<00:00,  1.82it/s]\n"
          ]
        },
        {
          "metadata": {
            "tags": null
          },
          "name": "stdout",
          "output_type": "stream",
          "text": [
            "Epoch  27: Train Loss: 0.7264, Val Loss: 0.5957, Val AUC: 0.7864\n"
          ]
        },
        {
          "metadata": {
            "tags": null
          },
          "name": "stderr",
          "output_type": "stream",
          "text": [
            "Training: 100%|██████████| 38/38 [00:27<00:00,  1.36it/s]\n",
            "Validation: 100%|██████████| 13/13 [00:05<00:00,  2.19it/s]\n"
          ]
        },
        {
          "metadata": {
            "tags": null
          },
          "name": "stdout",
          "output_type": "stream",
          "text": [
            "Epoch  28: Train Loss: 0.7409, Val Loss: 0.5883, Val AUC: 0.7711\n"
          ]
        },
        {
          "metadata": {
            "tags": null
          },
          "name": "stderr",
          "output_type": "stream",
          "text": [
            "Training: 100%|██████████| 38/38 [00:27<00:00,  1.37it/s]\n",
            "Validation: 100%|██████████| 13/13 [00:06<00:00,  1.98it/s]\n"
          ]
        },
        {
          "metadata": {
            "tags": null
          },
          "name": "stdout",
          "output_type": "stream",
          "text": [
            "Epoch  29: Train Loss: 0.7341, Val Loss: 0.5736, Val AUC: 0.7951\n"
          ]
        },
        {
          "metadata": {
            "tags": null
          },
          "name": "stderr",
          "output_type": "stream",
          "text": [
            "Training: 100%|██████████| 38/38 [00:27<00:00,  1.37it/s]\n",
            "Validation: 100%|██████████| 13/13 [00:07<00:00,  1.80it/s]\n"
          ]
        },
        {
          "metadata": {
            "tags": null
          },
          "name": "stdout",
          "output_type": "stream",
          "text": [
            "Epoch  30: Train Loss: 0.7210, Val Loss: 0.5859, Val AUC: 0.7801\n",
            "Early stopping at epoch 30\n",
            "\n",
            "Phase 2: Fine-tuning with unfrozen last conv layers\n"
          ]
        },
        {
          "metadata": {
            "tags": null
          },
          "name": "stderr",
          "output_type": "stream",
          "text": [
            "Training: 100%|██████████| 38/38 [00:28<00:00,  1.34it/s]\n",
            "Validation: 100%|██████████| 13/13 [00:06<00:00,  2.13it/s]\n"
          ]
        },
        {
          "metadata": {
            "tags": null
          },
          "name": "stdout",
          "output_type": "stream",
          "text": [
            "Epoch   1: Train Loss: 0.6908, Val Loss: 0.5473, Val AUC: 0.8570\n"
          ]
        },
        {
          "metadata": {
            "tags": null
          },
          "name": "stderr",
          "output_type": "stream",
          "text": [
            "Training: 100%|██████████| 38/38 [00:29<00:00,  1.29it/s]\n",
            "Validation: 100%|██████████| 13/13 [00:05<00:00,  2.20it/s]\n"
          ]
        },
        {
          "metadata": {
            "tags": null
          },
          "name": "stdout",
          "output_type": "stream",
          "text": [
            "Epoch   2: Train Loss: 0.6301, Val Loss: 0.5644, Val AUC: 0.8280\n"
          ]
        },
        {
          "metadata": {
            "tags": null
          },
          "name": "stderr",
          "output_type": "stream",
          "text": [
            "Training: 100%|██████████| 38/38 [00:28<00:00,  1.33it/s]\n",
            "Validation: 100%|██████████| 13/13 [00:07<00:00,  1.86it/s]\n"
          ]
        },
        {
          "metadata": {
            "tags": null
          },
          "name": "stdout",
          "output_type": "stream",
          "text": [
            "Epoch   3: Train Loss: 0.6009, Val Loss: 0.5606, Val AUC: 0.8442\n"
          ]
        },
        {
          "metadata": {
            "tags": null
          },
          "name": "stderr",
          "output_type": "stream",
          "text": [
            "Training: 100%|██████████| 38/38 [00:28<00:00,  1.33it/s]\n",
            "Validation: 100%|██████████| 13/13 [00:07<00:00,  1.84it/s]\n"
          ]
        },
        {
          "metadata": {
            "tags": null
          },
          "name": "stdout",
          "output_type": "stream",
          "text": [
            "Epoch   4: Train Loss: 0.5522, Val Loss: 0.5390, Val AUC: 0.8700\n"
          ]
        },
        {
          "metadata": {
            "tags": null
          },
          "name": "stderr",
          "output_type": "stream",
          "text": [
            "Training: 100%|██████████| 38/38 [00:28<00:00,  1.32it/s]\n",
            "Validation: 100%|██████████| 13/13 [00:06<00:00,  2.08it/s]\n"
          ]
        },
        {
          "metadata": {
            "tags": null
          },
          "name": "stdout",
          "output_type": "stream",
          "text": [
            "Epoch   5: Train Loss: 0.5551, Val Loss: 0.5369, Val AUC: 0.8826\n"
          ]
        },
        {
          "metadata": {
            "tags": null
          },
          "name": "stderr",
          "output_type": "stream",
          "text": [
            "Training: 100%|██████████| 38/38 [00:30<00:00,  1.25it/s]\n",
            "Validation: 100%|██████████| 13/13 [00:06<00:00,  2.13it/s]\n"
          ]
        },
        {
          "metadata": {
            "tags": null
          },
          "name": "stdout",
          "output_type": "stream",
          "text": [
            "Epoch   6: Train Loss: 0.5435, Val Loss: 0.5555, Val AUC: 0.8378\n"
          ]
        },
        {
          "metadata": {
            "tags": null
          },
          "name": "stderr",
          "output_type": "stream",
          "text": [
            "Training: 100%|██████████| 38/38 [00:30<00:00,  1.24it/s]\n",
            "Validation: 100%|██████████| 13/13 [00:07<00:00,  1.85it/s]\n"
          ]
        },
        {
          "metadata": {
            "tags": null
          },
          "name": "stdout",
          "output_type": "stream",
          "text": [
            "Epoch   7: Train Loss: 0.5417, Val Loss: 0.5524, Val AUC: 0.8814\n"
          ]
        },
        {
          "metadata": {
            "tags": null
          },
          "name": "stderr",
          "output_type": "stream",
          "text": [
            "Training: 100%|██████████| 38/38 [00:31<00:00,  1.20it/s]\n",
            "Validation: 100%|██████████| 13/13 [00:06<00:00,  1.92it/s]\n"
          ]
        },
        {
          "metadata": {
            "tags": null
          },
          "name": "stdout",
          "output_type": "stream",
          "text": [
            "Epoch   8: Train Loss: 0.5351, Val Loss: 0.5451, Val AUC: 0.8800\n"
          ]
        },
        {
          "metadata": {
            "tags": null
          },
          "name": "stderr",
          "output_type": "stream",
          "text": [
            "Training: 100%|██████████| 38/38 [00:31<00:00,  1.22it/s]\n",
            "Validation: 100%|██████████| 13/13 [00:06<00:00,  1.92it/s]\n"
          ]
        },
        {
          "metadata": {
            "tags": null
          },
          "name": "stdout",
          "output_type": "stream",
          "text": [
            "Epoch   9: Train Loss: 0.5268, Val Loss: 0.5581, Val AUC: 0.8425\n"
          ]
        },
        {
          "metadata": {
            "tags": null
          },
          "name": "stderr",
          "output_type": "stream",
          "text": [
            "Training: 100%|██████████| 38/38 [00:28<00:00,  1.32it/s]\n",
            "Validation: 100%|██████████| 13/13 [00:07<00:00,  1.83it/s]\n"
          ]
        },
        {
          "metadata": {
            "tags": null
          },
          "name": "stdout",
          "output_type": "stream",
          "text": [
            "Epoch  10: Train Loss: 0.5402, Val Loss: 0.5437, Val AUC: 0.8766\n"
          ]
        },
        {
          "metadata": {
            "tags": null
          },
          "name": "stderr",
          "output_type": "stream",
          "text": [
            "Training: 100%|██████████| 38/38 [00:28<00:00,  1.32it/s]\n",
            "Validation: 100%|██████████| 13/13 [00:06<00:00,  1.86it/s]\n"
          ]
        },
        {
          "metadata": {
            "tags": null
          },
          "name": "stdout",
          "output_type": "stream",
          "text": [
            "Epoch  11: Train Loss: 0.5165, Val Loss: 0.5498, Val AUC: 0.8434\n"
          ]
        },
        {
          "metadata": {
            "tags": null
          },
          "name": "stderr",
          "output_type": "stream",
          "text": [
            "Training: 100%|██████████| 38/38 [00:28<00:00,  1.32it/s]\n",
            "Validation: 100%|██████████| 13/13 [00:05<00:00,  2.20it/s]\n"
          ]
        },
        {
          "metadata": {
            "tags": null
          },
          "name": "stdout",
          "output_type": "stream",
          "text": [
            "Epoch  12: Train Loss: 0.5083, Val Loss: 0.5531, Val AUC: 0.8492\n"
          ]
        },
        {
          "metadata": {
            "tags": null
          },
          "name": "stderr",
          "output_type": "stream",
          "text": [
            "Training: 100%|██████████| 38/38 [00:29<00:00,  1.31it/s]\n",
            "Validation: 100%|██████████| 13/13 [00:06<00:00,  2.01it/s]\n"
          ]
        },
        {
          "metadata": {
            "tags": null
          },
          "name": "stdout",
          "output_type": "stream",
          "text": [
            "Epoch  13: Train Loss: 0.5045, Val Loss: 0.5500, Val AUC: 0.8633\n"
          ]
        },
        {
          "metadata": {
            "tags": null
          },
          "name": "stderr",
          "output_type": "stream",
          "text": [
            "Training: 100%|██████████| 38/38 [00:28<00:00,  1.32it/s]\n",
            "Validation: 100%|██████████| 13/13 [00:06<00:00,  1.86it/s]\n"
          ]
        },
        {
          "metadata": {
            "tags": null
          },
          "name": "stdout",
          "output_type": "stream",
          "text": [
            "Epoch  14: Train Loss: 0.4960, Val Loss: 0.5707, Val AUC: 0.8395\n"
          ]
        },
        {
          "metadata": {
            "tags": null
          },
          "name": "stderr",
          "output_type": "stream",
          "text": [
            "Training: 100%|██████████| 38/38 [00:28<00:00,  1.33it/s]\n",
            "Validation: 100%|██████████| 13/13 [00:06<00:00,  2.00it/s]\n"
          ]
        },
        {
          "metadata": {
            "tags": null
          },
          "name": "stdout",
          "output_type": "stream",
          "text": [
            "Epoch  15: Train Loss: 0.5005, Val Loss: 0.5540, Val AUC: 0.8449\n",
            "Early stopping at epoch 15\n"
          ]
        },
        {
          "metadata": {
            "tags": null
          },
          "name": "stderr",
          "output_type": "stream",
          "text": [
            "Testing: 100%|██████████| 15/15 [00:07<00:00,  1.92it/s]\n"
          ]
        },
        {
          "metadata": {
            "tags": null
          },
          "name": "stdout",
          "output_type": "stream",
          "text": [
            "\n",
            "Best validation AUC: 0.8826\n",
            "Test metrics:\n",
            "  accuracy: 0.8700\n",
            "  precision: 0.9066\n",
            "  recall: 0.8822\n",
            "  specificity: 0.8500\n",
            "  f1: 0.8942\n",
            "  auc_roc: 0.9387\n"
          ]
        },
        {
          "data": {
            "image/png": "[encoded data removed]",
            "text/plain": [
              "<Figure size 800x600 with 2 Axes>"
            ]
          },
          "metadata": {},
          "output_type": "display_data"
        },
        {
          "metadata": {
            "tags": null
          },
          "name": "stdout",
          "output_type": "stream",
          "text": [
            "\n",
            "Starting experiment for 200X...\n",
            "\n",
            "============================================================\n",
            "Training on 200X magnification with Inception-v3\n",
            "============================================================\n",
            "\n",
            "Phase 1: Training classifier head (frozen backbone)\n"
          ]
        },
        {
          "metadata": {
            "tags": null
          },
          "name": "stderr",
          "output_type": "stream",
          "text": [
            "Training: 100%|██████████| 38/38 [00:27<00:00,  1.38it/s]\n",
            "Validation: 100%|██████████| 12/12 [00:07<00:00,  1.70it/s]\n"
          ]
        },
        {
          "metadata": {
            "tags": null
          },
          "name": "stdout",
          "output_type": "stream",
          "text": [
            "Epoch   1: Train Loss: 1.0848, Val Loss: 0.7312, Val AUC: 0.7903\n"
          ]
        },
        {
          "metadata": {
            "tags": null
          },
          "name": "stderr",
          "output_type": "stream",
          "text": [
            "Training: 100%|██████████| 38/38 [00:27<00:00,  1.40it/s]\n",
            "Validation: 100%|██████████| 12/12 [00:05<00:00,  2.06it/s]\n"
          ]
        },
        {
          "metadata": {
            "tags": null
          },
          "name": "stdout",
          "output_type": "stream",
          "text": [
            "Epoch   2: Train Loss: 0.8184, Val Loss: 0.5966, Val AUC: 0.7323\n"
          ]
        },
        {
          "metadata": {
            "tags": null
          },
          "name": "stderr",
          "output_type": "stream",
          "text": [
            "Training: 100%|██████████| 38/38 [00:27<00:00,  1.37it/s]\n",
            "Validation: 100%|██████████| 12/12 [00:05<00:00,  2.11it/s]\n"
          ]
        },
        {
          "metadata": {
            "tags": null
          },
          "name": "stdout",
          "output_type": "stream",
          "text": [
            "Epoch   3: Train Loss: 0.8108, Val Loss: 0.5725, Val AUC: 0.7913\n"
          ]
        },
        {
          "metadata": {
            "tags": null
          },
          "name": "stderr",
          "output_type": "stream",
          "text": [
            "Training: 100%|██████████| 38/38 [00:27<00:00,  1.40it/s]\n",
            "Validation: 100%|██████████| 12/12 [00:06<00:00,  1.77it/s]\n"
          ]
        },
        {
          "metadata": {
            "tags": null
          },
          "name": "stdout",
          "output_type": "stream",
          "text": [
            "Epoch   4: Train Loss: 0.7710, Val Loss: 0.6345, Val AUC: 0.8184\n"
          ]
        },
        {
          "metadata": {
            "tags": null
          },
          "name": "stderr",
          "output_type": "stream",
          "text": [
            "Training: 100%|██████████| 38/38 [00:27<00:00,  1.40it/s]\n",
            "Validation: 100%|██████████| 12/12 [00:05<00:00,  2.06it/s]\n"
          ]
        },
        {
          "metadata": {
            "tags": null
          },
          "name": "stdout",
          "output_type": "stream",
          "text": [
            "Epoch   5: Train Loss: 0.7731, Val Loss: 0.5623, Val AUC: 0.8178\n"
          ]
        },
        {
          "metadata": {
            "tags": null
          },
          "name": "stderr",
          "output_type": "stream",
          "text": [
            "Training: 100%|██████████| 38/38 [00:27<00:00,  1.38it/s]\n",
            "Validation: 100%|██████████| 12/12 [00:06<00:00,  1.73it/s]\n"
          ]
        },
        {
          "metadata": {
            "tags": null
          },
          "name": "stdout",
          "output_type": "stream",
          "text": [
            "Epoch   6: Train Loss: 0.7789, Val Loss: 0.6361, Val AUC: 0.8156\n"
          ]
        },
        {
          "metadata": {
            "tags": null
          },
          "name": "stderr",
          "output_type": "stream",
          "text": [
            "Training: 100%|██████████| 38/38 [00:27<00:00,  1.39it/s]\n",
            "Validation: 100%|██████████| 12/12 [00:06<00:00,  1.91it/s]\n"
          ]
        },
        {
          "metadata": {
            "tags": null
          },
          "name": "stdout",
          "output_type": "stream",
          "text": [
            "Epoch   7: Train Loss: 0.7714, Val Loss: 0.5630, Val AUC: 0.8120\n"
          ]
        },
        {
          "metadata": {
            "tags": null
          },
          "name": "stderr",
          "output_type": "stream",
          "text": [
            "Training: 100%|██████████| 38/38 [00:27<00:00,  1.38it/s]\n",
            "Validation: 100%|██████████| 12/12 [00:05<00:00,  2.07it/s]\n"
          ]
        },
        {
          "metadata": {
            "tags": null
          },
          "name": "stdout",
          "output_type": "stream",
          "text": [
            "Epoch   8: Train Loss: 0.7835, Val Loss: 0.5900, Val AUC: 0.8058\n"
          ]
        },
        {
          "metadata": {
            "tags": null
          },
          "name": "stderr",
          "output_type": "stream",
          "text": [
            "Training: 100%|██████████| 38/38 [00:27<00:00,  1.39it/s]\n",
            "Validation: 100%|██████████| 12/12 [00:06<00:00,  1.72it/s]\n"
          ]
        },
        {
          "metadata": {
            "tags": null
          },
          "name": "stdout",
          "output_type": "stream",
          "text": [
            "Epoch   9: Train Loss: 0.7562, Val Loss: 0.5827, Val AUC: 0.7701\n"
          ]
        },
        {
          "metadata": {
            "tags": null
          },
          "name": "stderr",
          "output_type": "stream",
          "text": [
            "Training: 100%|██████████| 38/38 [00:26<00:00,  1.42it/s]\n",
            "Validation: 100%|██████████| 12/12 [00:05<00:00,  2.06it/s]\n"
          ]
        },
        {
          "metadata": {
            "tags": null
          },
          "name": "stdout",
          "output_type": "stream",
          "text": [
            "Epoch  10: Train Loss: 0.7675, Val Loss: 0.5844, Val AUC: 0.8061\n"
          ]
        },
        {
          "metadata": {
            "tags": null
          },
          "name": "stderr",
          "output_type": "stream",
          "text": [
            "Training: 100%|██████████| 38/38 [00:27<00:00,  1.38it/s]\n",
            "Validation: 100%|██████████| 12/12 [00:06<00:00,  1.97it/s]\n"
          ]
        },
        {
          "metadata": {
            "tags": null
          },
          "name": "stdout",
          "output_type": "stream",
          "text": [
            "Epoch  11: Train Loss: 0.7322, Val Loss: 0.5968, Val AUC: 0.8205\n"
          ]
        },
        {
          "metadata": {
            "tags": null
          },
          "name": "stderr",
          "output_type": "stream",
          "text": [
            "Training: 100%|██████████| 38/38 [00:27<00:00,  1.40it/s]\n",
            "Validation: 100%|██████████| 12/12 [00:06<00:00,  1.76it/s]\n"
          ]
        },
        {
          "metadata": {
            "tags": null
          },
          "name": "stdout",
          "output_type": "stream",
          "text": [
            "Epoch  12: Train Loss: 0.7581, Val Loss: 0.5644, Val AUC: 0.8157\n"
          ]
        },
        {
          "metadata": {
            "tags": null
          },
          "name": "stderr",
          "output_type": "stream",
          "text": [
            "Training: 100%|██████████| 38/38 [00:27<00:00,  1.39it/s]\n",
            "Validation: 100%|██████████| 12/12 [00:05<00:00,  2.12it/s]\n"
          ]
        },
        {
          "metadata": {
            "tags": null
          },
          "name": "stdout",
          "output_type": "stream",
          "text": [
            "Epoch  13: Train Loss: 0.7536, Val Loss: 0.5663, Val AUC: 0.8157\n"
          ]
        },
        {
          "metadata": {
            "tags": null
          },
          "name": "stderr",
          "output_type": "stream",
          "text": [
            "Training: 100%|██████████| 38/38 [00:27<00:00,  1.40it/s]\n",
            "Validation: 100%|██████████| 12/12 [00:06<00:00,  1.75it/s]\n"
          ]
        },
        {
          "metadata": {
            "tags": null
          },
          "name": "stdout",
          "output_type": "stream",
          "text": [
            "Epoch  14: Train Loss: 0.7295, Val Loss: 0.5744, Val AUC: 0.8122\n"
          ]
        },
        {
          "metadata": {
            "tags": null
          },
          "name": "stderr",
          "output_type": "stream",
          "text": [
            "Training: 100%|██████████| 38/38 [00:27<00:00,  1.41it/s]\n",
            "Validation: 100%|██████████| 12/12 [00:05<00:00,  2.11it/s]\n"
          ]
        },
        {
          "metadata": {
            "tags": null
          },
          "name": "stdout",
          "output_type": "stream",
          "text": [
            "Epoch  15: Train Loss: 0.7397, Val Loss: 0.5805, Val AUC: 0.8427\n"
          ]
        },
        {
          "metadata": {
            "tags": null
          },
          "name": "stderr",
          "output_type": "stream",
          "text": [
            "Training: 100%|██████████| 38/38 [00:27<00:00,  1.39it/s]\n",
            "Validation: 100%|██████████| 12/12 [00:06<00:00,  1.99it/s]\n"
          ]
        },
        {
          "metadata": {
            "tags": null
          },
          "name": "stdout",
          "output_type": "stream",
          "text": [
            "Epoch  16: Train Loss: 0.7019, Val Loss: 0.5912, Val AUC: 0.8351\n"
          ]
        },
        {
          "metadata": {
            "tags": null
          },
          "name": "stderr",
          "output_type": "stream",
          "text": [
            "Training: 100%|██████████| 38/38 [00:26<00:00,  1.41it/s]\n",
            "Validation: 100%|██████████| 12/12 [00:06<00:00,  1.83it/s]\n"
          ]
        },
        {
          "metadata": {
            "tags": null
          },
          "name": "stdout",
          "output_type": "stream",
          "text": [
            "Epoch  17: Train Loss: 0.7315, Val Loss: 0.5587, Val AUC: 0.8161\n"
          ]
        },
        {
          "metadata": {
            "tags": null
          },
          "name": "stderr",
          "output_type": "stream",
          "text": [
            "Training: 100%|██████████| 38/38 [00:27<00:00,  1.39it/s]\n",
            "Validation: 100%|██████████| 12/12 [00:05<00:00,  2.10it/s]\n"
          ]
        },
        {
          "metadata": {
            "tags": null
          },
          "name": "stdout",
          "output_type": "stream",
          "text": [
            "Epoch  18: Train Loss: 0.7474, Val Loss: 0.5627, Val AUC: 0.8370\n"
          ]
        },
        {
          "metadata": {
            "tags": null
          },
          "name": "stderr",
          "output_type": "stream",
          "text": [
            "Training: 100%|██████████| 38/38 [00:27<00:00,  1.40it/s]\n",
            "Validation: 100%|██████████| 12/12 [00:06<00:00,  1.73it/s]\n"
          ]
        },
        {
          "metadata": {
            "tags": null
          },
          "name": "stdout",
          "output_type": "stream",
          "text": [
            "Epoch  19: Train Loss: 0.7494, Val Loss: 0.5569, Val AUC: 0.8265\n"
          ]
        },
        {
          "metadata": {
            "tags": null
          },
          "name": "stderr",
          "output_type": "stream",
          "text": [
            "Training: 100%|██████████| 38/38 [00:27<00:00,  1.40it/s]\n",
            "Validation: 100%|██████████| 12/12 [00:05<00:00,  2.04it/s]\n"
          ]
        },
        {
          "metadata": {
            "tags": null
          },
          "name": "stdout",
          "output_type": "stream",
          "text": [
            "Epoch  20: Train Loss: 0.7309, Val Loss: 0.5567, Val AUC: 0.8254\n"
          ]
        },
        {
          "metadata": {
            "tags": null
          },
          "name": "stderr",
          "output_type": "stream",
          "text": [
            "Training: 100%|██████████| 38/38 [00:27<00:00,  1.39it/s]\n",
            "Validation: 100%|██████████| 12/12 [00:06<00:00,  1.89it/s]\n"
          ]
        },
        {
          "metadata": {
            "tags": null
          },
          "name": "stdout",
          "output_type": "stream",
          "text": [
            "Epoch  21: Train Loss: 0.7264, Val Loss: 0.5822, Val AUC: 0.8288\n"
          ]
        },
        {
          "metadata": {
            "tags": null
          },
          "name": "stderr",
          "output_type": "stream",
          "text": [
            "Training: 100%|██████████| 38/38 [00:27<00:00,  1.40it/s]\n",
            "Validation: 100%|██████████| 12/12 [00:06<00:00,  1.75it/s]\n"
          ]
        },
        {
          "metadata": {
            "tags": null
          },
          "name": "stdout",
          "output_type": "stream",
          "text": [
            "Epoch  22: Train Loss: 0.7240, Val Loss: 0.5554, Val AUC: 0.8354\n"
          ]
        },
        {
          "metadata": {
            "tags": null
          },
          "name": "stderr",
          "output_type": "stream",
          "text": [
            "Training: 100%|██████████| 38/38 [00:27<00:00,  1.39it/s]\n",
            "Validation: 100%|██████████| 12/12 [00:05<00:00,  2.11it/s]\n"
          ]
        },
        {
          "metadata": {
            "tags": null
          },
          "name": "stdout",
          "output_type": "stream",
          "text": [
            "Epoch  23: Train Loss: 0.7493, Val Loss: 0.5680, Val AUC: 0.8308\n"
          ]
        },
        {
          "metadata": {
            "tags": null
          },
          "name": "stderr",
          "output_type": "stream",
          "text": [
            "Training: 100%|██████████| 38/38 [00:27<00:00,  1.38it/s]\n",
            "Validation: 100%|██████████| 12/12 [00:06<00:00,  1.77it/s]\n"
          ]
        },
        {
          "metadata": {
            "tags": null
          },
          "name": "stdout",
          "output_type": "stream",
          "text": [
            "Epoch  24: Train Loss: 0.7179, Val Loss: 0.5508, Val AUC: 0.8374\n"
          ]
        },
        {
          "metadata": {
            "tags": null
          },
          "name": "stderr",
          "output_type": "stream",
          "text": [
            "Training: 100%|██████████| 38/38 [00:27<00:00,  1.39it/s]\n",
            "Validation: 100%|██████████| 12/12 [00:06<00:00,  2.00it/s]\n"
          ]
        },
        {
          "metadata": {
            "tags": null
          },
          "name": "stdout",
          "output_type": "stream",
          "text": [
            "Epoch  25: Train Loss: 0.7332, Val Loss: 0.5526, Val AUC: 0.8416\n",
            "Early stopping at epoch 25\n",
            "\n",
            "Phase 2: Fine-tuning with unfrozen last conv layers\n"
          ]
        },
        {
          "metadata": {
            "tags": null
          },
          "name": "stderr",
          "output_type": "stream",
          "text": [
            "Training: 100%|██████████| 38/38 [00:28<00:00,  1.32it/s]\n",
            "Validation: 100%|██████████| 12/12 [00:05<00:00,  2.07it/s]\n"
          ]
        },
        {
          "metadata": {
            "tags": null
          },
          "name": "stdout",
          "output_type": "stream",
          "text": [
            "Epoch   1: Train Loss: 0.6748, Val Loss: 0.6415, Val AUC: 0.8054\n"
          ]
        },
        {
          "metadata": {
            "tags": null
          },
          "name": "stderr",
          "output_type": "stream",
          "text": [
            "Training: 100%|██████████| 38/38 [00:28<00:00,  1.33it/s]\n",
            "Validation: 100%|██████████| 12/12 [00:06<00:00,  1.80it/s]\n"
          ]
        },
        {
          "metadata": {
            "tags": null
          },
          "name": "stdout",
          "output_type": "stream",
          "text": [
            "Epoch   2: Train Loss: 0.6362, Val Loss: 0.5879, Val AUC: 0.8764\n"
          ]
        },
        {
          "metadata": {
            "tags": null
          },
          "name": "stderr",
          "output_type": "stream",
          "text": [
            "Training: 100%|██████████| 38/38 [00:28<00:00,  1.34it/s]\n",
            "Validation: 100%|██████████| 12/12 [00:06<00:00,  1.73it/s]\n"
          ]
        },
        {
          "metadata": {
            "tags": null
          },
          "name": "stdout",
          "output_type": "stream",
          "text": [
            "Epoch   3: Train Loss: 0.6004, Val Loss: 0.5268, Val AUC: 0.8906\n"
          ]
        },
        {
          "metadata": {
            "tags": null
          },
          "name": "stderr",
          "output_type": "stream",
          "text": [
            "Training: 100%|██████████| 38/38 [00:28<00:00,  1.36it/s]\n",
            "Validation: 100%|██████████| 12/12 [00:05<00:00,  2.06it/s]\n"
          ]
        },
        {
          "metadata": {
            "tags": null
          },
          "name": "stdout",
          "output_type": "stream",
          "text": [
            "Epoch   4: Train Loss: 0.5669, Val Loss: 0.5573, Val AUC: 0.9092\n"
          ]
        },
        {
          "metadata": {
            "tags": null
          },
          "name": "stderr",
          "output_type": "stream",
          "text": [
            "Training: 100%|██████████| 38/38 [00:28<00:00,  1.32it/s]\n",
            "Validation: 100%|██████████| 12/12 [00:06<00:00,  1.95it/s]\n"
          ]
        },
        {
          "metadata": {
            "tags": null
          },
          "name": "stdout",
          "output_type": "stream",
          "text": [
            "Epoch   5: Train Loss: 0.5682, Val Loss: 0.5357, Val AUC: 0.9013\n"
          ]
        },
        {
          "metadata": {
            "tags": null
          },
          "name": "stderr",
          "output_type": "stream",
          "text": [
            "Training: 100%|██████████| 38/38 [00:28<00:00,  1.35it/s]\n",
            "Validation: 100%|██████████| 12/12 [00:06<00:00,  1.75it/s]\n"
          ]
        },
        {
          "metadata": {
            "tags": null
          },
          "name": "stdout",
          "output_type": "stream",
          "text": [
            "Epoch   6: Train Loss: 0.5523, Val Loss: 0.5010, Val AUC: 0.9222\n"
          ]
        },
        {
          "metadata": {
            "tags": null
          },
          "name": "stderr",
          "output_type": "stream",
          "text": [
            "Training: 100%|██████████| 38/38 [00:28<00:00,  1.34it/s]\n",
            "Validation: 100%|██████████| 12/12 [00:05<00:00,  2.12it/s]\n"
          ]
        },
        {
          "metadata": {
            "tags": null
          },
          "name": "stdout",
          "output_type": "stream",
          "text": [
            "Epoch   7: Train Loss: 0.5564, Val Loss: 0.5139, Val AUC: 0.9113\n"
          ]
        },
        {
          "metadata": {
            "tags": null
          },
          "name": "stderr",
          "output_type": "stream",
          "text": [
            "Training: 100%|██████████| 38/38 [00:28<00:00,  1.32it/s]\n",
            "Validation: 100%|██████████| 12/12 [00:05<00:00,  2.08it/s]\n"
          ]
        },
        {
          "metadata": {
            "tags": null
          },
          "name": "stdout",
          "output_type": "stream",
          "text": [
            "Epoch   8: Train Loss: 0.5320, Val Loss: 0.5240, Val AUC: 0.8896\n"
          ]
        },
        {
          "metadata": {
            "tags": null
          },
          "name": "stderr",
          "output_type": "stream",
          "text": [
            "Training: 100%|██████████| 38/38 [00:28<00:00,  1.35it/s]\n",
            "Validation: 100%|██████████| 12/12 [00:06<00:00,  1.77it/s]\n"
          ]
        },
        {
          "metadata": {
            "tags": null
          },
          "name": "stdout",
          "output_type": "stream",
          "text": [
            "Epoch   9: Train Loss: 0.5230, Val Loss: 0.5040, Val AUC: 0.9214\n"
          ]
        },
        {
          "metadata": {
            "tags": null
          },
          "name": "stderr",
          "output_type": "stream",
          "text": [
            "Training: 100%|██████████| 38/38 [00:28<00:00,  1.35it/s]\n",
            "Validation: 100%|██████████| 12/12 [00:05<00:00,  2.03it/s]\n"
          ]
        },
        {
          "metadata": {
            "tags": null
          },
          "name": "stdout",
          "output_type": "stream",
          "text": [
            "Epoch  10: Train Loss: 0.5457, Val Loss: 0.5112, Val AUC: 0.9162\n"
          ]
        },
        {
          "metadata": {
            "tags": null
          },
          "name": "stderr",
          "output_type": "stream",
          "text": [
            "Training: 100%|██████████| 38/38 [00:28<00:00,  1.33it/s]\n",
            "Validation: 100%|██████████| 12/12 [00:05<00:00,  2.07it/s]\n"
          ]
        },
        {
          "metadata": {
            "tags": null
          },
          "name": "stdout",
          "output_type": "stream",
          "text": [
            "Epoch  11: Train Loss: 0.5265, Val Loss: 0.5371, Val AUC: 0.8838\n"
          ]
        },
        {
          "metadata": {
            "tags": null
          },
          "name": "stderr",
          "output_type": "stream",
          "text": [
            "Training: 100%|██████████| 38/38 [00:28<00:00,  1.36it/s]\n",
            "Validation: 100%|██████████| 12/12 [00:06<00:00,  1.75it/s]\n"
          ]
        },
        {
          "metadata": {
            "tags": null
          },
          "name": "stdout",
          "output_type": "stream",
          "text": [
            "Epoch  12: Train Loss: 0.5127, Val Loss: 0.4923, Val AUC: 0.9236\n"
          ]
        },
        {
          "metadata": {
            "tags": null
          },
          "name": "stderr",
          "output_type": "stream",
          "text": [
            "Training: 100%|██████████| 38/38 [00:28<00:00,  1.31it/s]\n",
            "Validation: 100%|██████████| 12/12 [00:05<00:00,  2.09it/s]\n"
          ]
        },
        {
          "metadata": {
            "tags": null
          },
          "name": "stdout",
          "output_type": "stream",
          "text": [
            "Epoch  13: Train Loss: 0.5177, Val Loss: 0.4937, Val AUC: 0.9100\n"
          ]
        },
        {
          "metadata": {
            "tags": null
          },
          "name": "stderr",
          "output_type": "stream",
          "text": [
            "Training: 100%|██████████| 38/38 [00:28<00:00,  1.31it/s]\n",
            "Validation: 100%|██████████| 12/12 [00:05<00:00,  2.07it/s]\n"
          ]
        },
        {
          "metadata": {
            "tags": null
          },
          "name": "stdout",
          "output_type": "stream",
          "text": [
            "Epoch  14: Train Loss: 0.5309, Val Loss: 0.5033, Val AUC: 0.9287\n"
          ]
        },
        {
          "metadata": {
            "tags": null
          },
          "name": "stderr",
          "output_type": "stream",
          "text": [
            "Training: 100%|██████████| 38/38 [00:28<00:00,  1.35it/s]\n",
            "Validation: 100%|██████████| 12/12 [00:06<00:00,  1.75it/s]\n"
          ]
        },
        {
          "metadata": {
            "tags": null
          },
          "name": "stdout",
          "output_type": "stream",
          "text": [
            "Epoch  15: Train Loss: 0.5251, Val Loss: 0.4975, Val AUC: 0.8927\n"
          ]
        },
        {
          "metadata": {
            "tags": null
          },
          "name": "stderr",
          "output_type": "stream",
          "text": [
            "Training: 100%|██████████| 38/38 [00:28<00:00,  1.34it/s]\n",
            "Validation: 100%|██████████| 12/12 [00:06<00:00,  1.86it/s]\n"
          ]
        },
        {
          "metadata": {
            "tags": null
          },
          "name": "stdout",
          "output_type": "stream",
          "text": [
            "Epoch  16: Train Loss: 0.5162, Val Loss: 0.5089, Val AUC: 0.8973\n"
          ]
        },
        {
          "metadata": {
            "tags": null
          },
          "name": "stderr",
          "output_type": "stream",
          "text": [
            "Training: 100%|██████████| 38/38 [00:28<00:00,  1.34it/s]\n",
            "Validation: 100%|██████████| 12/12 [00:05<00:00,  2.08it/s]\n"
          ]
        },
        {
          "metadata": {
            "tags": null
          },
          "name": "stdout",
          "output_type": "stream",
          "text": [
            "Epoch  17: Train Loss: 0.5088, Val Loss: 0.4764, Val AUC: 0.9190\n"
          ]
        },
        {
          "metadata": {
            "tags": null
          },
          "name": "stderr",
          "output_type": "stream",
          "text": [
            "Training: 100%|██████████| 38/38 [00:28<00:00,  1.35it/s]\n",
            "Validation: 100%|██████████| 12/12 [00:06<00:00,  1.76it/s]\n"
          ]
        },
        {
          "metadata": {
            "tags": null
          },
          "name": "stdout",
          "output_type": "stream",
          "text": [
            "Epoch  18: Train Loss: 0.5134, Val Loss: 0.5286, Val AUC: 0.8511\n"
          ]
        },
        {
          "metadata": {
            "tags": null
          },
          "name": "stderr",
          "output_type": "stream",
          "text": [
            "Training: 100%|██████████| 38/38 [00:28<00:00,  1.34it/s]\n",
            "Validation: 100%|██████████| 12/12 [00:06<00:00,  1.74it/s]\n"
          ]
        },
        {
          "metadata": {
            "tags": null
          },
          "name": "stdout",
          "output_type": "stream",
          "text": [
            "Epoch  19: Train Loss: 0.5114, Val Loss: 0.5266, Val AUC: 0.8945\n"
          ]
        },
        {
          "metadata": {
            "tags": null
          },
          "name": "stderr",
          "output_type": "stream",
          "text": [
            "Training: 100%|██████████| 38/38 [00:28<00:00,  1.34it/s]\n",
            "Validation: 100%|██████████| 12/12 [00:05<00:00,  2.07it/s]\n"
          ]
        },
        {
          "metadata": {
            "tags": null
          },
          "name": "stdout",
          "output_type": "stream",
          "text": [
            "Epoch  20: Train Loss: 0.4975, Val Loss: 0.5172, Val AUC: 0.8893\n"
          ]
        },
        {
          "metadata": {
            "tags": null
          },
          "name": "stderr",
          "output_type": "stream",
          "text": [
            "Training: 100%|██████████| 38/38 [00:29<00:00,  1.29it/s]\n",
            "Validation: 100%|██████████| 12/12 [00:05<00:00,  2.07it/s]\n"
          ]
        },
        {
          "metadata": {
            "tags": null
          },
          "name": "stdout",
          "output_type": "stream",
          "text": [
            "Epoch  21: Train Loss: 0.5036, Val Loss: 0.5030, Val AUC: 0.9155\n"
          ]
        },
        {
          "metadata": {
            "tags": null
          },
          "name": "stderr",
          "output_type": "stream",
          "text": [
            "Training: 100%|██████████| 38/38 [00:28<00:00,  1.35it/s]\n",
            "Validation: 100%|██████████| 12/12 [00:06<00:00,  1.75it/s]\n"
          ]
        },
        {
          "metadata": {
            "tags": null
          },
          "name": "stdout",
          "output_type": "stream",
          "text": [
            "Epoch  22: Train Loss: 0.5210, Val Loss: 0.5281, Val AUC: 0.8604\n"
          ]
        },
        {
          "metadata": {
            "tags": null
          },
          "name": "stderr",
          "output_type": "stream",
          "text": [
            "Training: 100%|██████████| 38/38 [00:28<00:00,  1.34it/s]\n",
            "Validation: 100%|██████████| 12/12 [00:06<00:00,  1.95it/s]\n"
          ]
        },
        {
          "metadata": {
            "tags": null
          },
          "name": "stdout",
          "output_type": "stream",
          "text": [
            "Epoch  23: Train Loss: 0.4922, Val Loss: 0.5132, Val AUC: 0.8986\n"
          ]
        },
        {
          "metadata": {
            "tags": null
          },
          "name": "stderr",
          "output_type": "stream",
          "text": [
            "Training: 100%|██████████| 38/38 [00:28<00:00,  1.33it/s]\n",
            "Validation: 100%|██████████| 12/12 [00:05<00:00,  2.04it/s]\n"
          ]
        },
        {
          "metadata": {
            "tags": null
          },
          "name": "stdout",
          "output_type": "stream",
          "text": [
            "Epoch  24: Train Loss: 0.4973, Val Loss: 0.5078, Val AUC: 0.8967\n",
            "Early stopping at epoch 24\n"
          ]
        },
        {
          "metadata": {
            "tags": null
          },
          "name": "stderr",
          "output_type": "stream",
          "text": [
            "Testing: 100%|██████████| 14/14 [00:08<00:00,  1.69it/s]\n"
          ]
        },
        {
          "metadata": {
            "tags": null
          },
          "name": "stdout",
          "output_type": "stream",
          "text": [
            "\n",
            "Best validation AUC: 0.9287\n",
            "Test metrics:\n",
            "  accuracy: 0.7765\n",
            "  precision: 0.7825\n",
            "  recall: 0.8828\n",
            "  specificity: 0.6059\n",
            "  f1: 0.8296\n",
            "  auc_roc: 0.7904\n"
          ]
        },
        {
          "data": {
            "image/png": "[encoded data removed]",
            "text/plain": [
              "<Figure size 800x600 with 2 Axes>"
            ]
          },
          "metadata": {},
          "output_type": "display_data"
        },
        {
          "metadata": {
            "tags": null
          },
          "name": "stdout",
          "output_type": "stream",
          "text": [
            "\n",
            "Starting experiment for 400X...\n",
            "\n",
            "============================================================\n",
            "Training on 400X magnification with Inception-v3\n",
            "============================================================\n",
            "\n",
            "Phase 1: Training classifier head (frozen backbone)\n"
          ]
        },
        {
          "metadata": {
            "tags": null
          },
          "name": "stderr",
          "output_type": "stream",
          "text": [
            "Training: 100%|██████████| 34/34 [00:25<00:00,  1.34it/s]\n",
            "Validation: 100%|██████████| 12/12 [00:05<00:00,  2.02it/s]\n"
          ]
        },
        {
          "metadata": {
            "tags": null
          },
          "name": "stdout",
          "output_type": "stream",
          "text": [
            "Epoch   1: Train Loss: 1.0919, Val Loss: 0.5607, Val AUC: 0.8253\n"
          ]
        },
        {
          "metadata": {
            "tags": null
          },
          "name": "stderr",
          "output_type": "stream",
          "text": [
            "Training: 100%|██████████| 34/34 [00:24<00:00,  1.36it/s]\n",
            "Validation: 100%|██████████| 12/12 [00:06<00:00,  1.77it/s]\n"
          ]
        },
        {
          "metadata": {
            "tags": null
          },
          "name": "stdout",
          "output_type": "stream",
          "text": [
            "Epoch   2: Train Loss: 0.8964, Val Loss: 0.7767, Val AUC: 0.8351\n"
          ]
        },
        {
          "metadata": {
            "tags": null
          },
          "name": "stderr",
          "output_type": "stream",
          "text": [
            "Training: 100%|██████████| 34/34 [00:24<00:00,  1.37it/s]\n",
            "Validation: 100%|██████████| 12/12 [00:05<00:00,  2.15it/s]\n"
          ]
        },
        {
          "metadata": {
            "tags": null
          },
          "name": "stdout",
          "output_type": "stream",
          "text": [
            "Epoch   3: Train Loss: 0.8639, Val Loss: 0.5438, Val AUC: 0.8567\n"
          ]
        },
        {
          "metadata": {
            "tags": null
          },
          "name": "stderr",
          "output_type": "stream",
          "text": [
            "Training: 100%|██████████| 34/34 [00:24<00:00,  1.37it/s]\n",
            "Validation: 100%|██████████| 12/12 [00:06<00:00,  1.98it/s]\n"
          ]
        },
        {
          "metadata": {
            "tags": null
          },
          "name": "stdout",
          "output_type": "stream",
          "text": [
            "Epoch   4: Train Loss: 0.8366, Val Loss: 0.5253, Val AUC: 0.8670\n"
          ]
        },
        {
          "metadata": {
            "tags": null
          },
          "name": "stderr",
          "output_type": "stream",
          "text": [
            "Training: 100%|██████████| 34/34 [00:23<00:00,  1.42it/s]\n",
            "Validation: 100%|██████████| 12/12 [00:06<00:00,  1.82it/s]\n"
          ]
        },
        {
          "metadata": {
            "tags": null
          },
          "name": "stdout",
          "output_type": "stream",
          "text": [
            "Epoch   5: Train Loss: 0.8123, Val Loss: 0.6392, Val AUC: 0.8676\n"
          ]
        },
        {
          "metadata": {
            "tags": null
          },
          "name": "stderr",
          "output_type": "stream",
          "text": [
            "Training: 100%|██████████| 34/34 [00:24<00:00,  1.39it/s]\n",
            "Validation: 100%|██████████| 12/12 [00:05<00:00,  2.17it/s]\n"
          ]
        },
        {
          "metadata": {
            "tags": null
          },
          "name": "stdout",
          "output_type": "stream",
          "text": [
            "Epoch   6: Train Loss: 0.8255, Val Loss: 0.5436, Val AUC: 0.8712\n"
          ]
        },
        {
          "metadata": {
            "tags": null
          },
          "name": "stderr",
          "output_type": "stream",
          "text": [
            "Training: 100%|██████████| 34/34 [00:24<00:00,  1.37it/s]\n",
            "Validation: 100%|██████████| 12/12 [00:06<00:00,  1.80it/s]\n"
          ]
        },
        {
          "metadata": {
            "tags": null
          },
          "name": "stdout",
          "output_type": "stream",
          "text": [
            "Epoch   7: Train Loss: 0.7922, Val Loss: 0.5780, Val AUC: 0.8752\n"
          ]
        },
        {
          "metadata": {
            "tags": null
          },
          "name": "stderr",
          "output_type": "stream",
          "text": [
            "Training: 100%|██████████| 34/34 [00:24<00:00,  1.39it/s]\n",
            "Validation: 100%|██████████| 12/12 [00:05<00:00,  2.17it/s]\n"
          ]
        },
        {
          "metadata": {
            "tags": null
          },
          "name": "stdout",
          "output_type": "stream",
          "text": [
            "Epoch   8: Train Loss: 0.8039, Val Loss: 0.5738, Val AUC: 0.8701\n"
          ]
        },
        {
          "metadata": {
            "tags": null
          },
          "name": "stderr",
          "output_type": "stream",
          "text": [
            "Training: 100%|██████████| 34/34 [00:24<00:00,  1.38it/s]\n",
            "Validation: 100%|██████████| 12/12 [00:05<00:00,  2.16it/s]\n"
          ]
        },
        {
          "metadata": {
            "tags": null
          },
          "name": "stdout",
          "output_type": "stream",
          "text": [
            "Epoch   9: Train Loss: 0.8208, Val Loss: 0.7145, Val AUC: 0.8731\n"
          ]
        },
        {
          "metadata": {
            "tags": null
          },
          "name": "stderr",
          "output_type": "stream",
          "text": [
            "Training: 100%|██████████| 34/34 [00:24<00:00,  1.37it/s]\n",
            "Validation: 100%|██████████| 12/12 [00:06<00:00,  1.81it/s]\n"
          ]
        },
        {
          "metadata": {
            "tags": null
          },
          "name": "stdout",
          "output_type": "stream",
          "text": [
            "Epoch  10: Train Loss: 0.7731, Val Loss: 0.5477, Val AUC: 0.8817\n"
          ]
        },
        {
          "metadata": {
            "tags": null
          },
          "name": "stderr",
          "output_type": "stream",
          "text": [
            "Training: 100%|██████████| 34/34 [00:24<00:00,  1.38it/s]\n",
            "Validation: 100%|██████████| 12/12 [00:05<00:00,  2.21it/s]\n"
          ]
        },
        {
          "metadata": {
            "tags": null
          },
          "name": "stdout",
          "output_type": "stream",
          "text": [
            "Epoch  11: Train Loss: 0.7853, Val Loss: 0.5285, Val AUC: 0.8647\n"
          ]
        },
        {
          "metadata": {
            "tags": null
          },
          "name": "stderr",
          "output_type": "stream",
          "text": [
            "Training: 100%|██████████| 34/34 [00:24<00:00,  1.38it/s]\n",
            "Validation: 100%|██████████| 12/12 [00:05<00:00,  2.04it/s]\n"
          ]
        },
        {
          "metadata": {
            "tags": null
          },
          "name": "stdout",
          "output_type": "stream",
          "text": [
            "Epoch  12: Train Loss: 0.8194, Val Loss: 0.5838, Val AUC: 0.8747\n"
          ]
        },
        {
          "metadata": {
            "tags": null
          },
          "name": "stderr",
          "output_type": "stream",
          "text": [
            "Training: 100%|██████████| 34/34 [00:24<00:00,  1.41it/s]\n",
            "Validation: 100%|██████████| 12/12 [00:06<00:00,  1.80it/s]\n"
          ]
        },
        {
          "metadata": {
            "tags": null
          },
          "name": "stdout",
          "output_type": "stream",
          "text": [
            "Epoch  13: Train Loss: 0.7662, Val Loss: 0.5171, Val AUC: 0.8771\n"
          ]
        },
        {
          "metadata": {
            "tags": null
          },
          "name": "stderr",
          "output_type": "stream",
          "text": [
            "Training: 100%|██████████| 34/34 [00:24<00:00,  1.37it/s]\n",
            "Validation: 100%|██████████| 12/12 [00:05<00:00,  2.18it/s]\n"
          ]
        },
        {
          "metadata": {
            "tags": null
          },
          "name": "stdout",
          "output_type": "stream",
          "text": [
            "Epoch  14: Train Loss: 0.8192, Val Loss: 0.6048, Val AUC: 0.8808\n"
          ]
        },
        {
          "metadata": {
            "tags": null
          },
          "name": "stderr",
          "output_type": "stream",
          "text": [
            "Training: 100%|██████████| 34/34 [00:24<00:00,  1.38it/s]\n",
            "Validation: 100%|██████████| 12/12 [00:06<00:00,  1.78it/s]\n"
          ]
        },
        {
          "metadata": {
            "tags": null
          },
          "name": "stdout",
          "output_type": "stream",
          "text": [
            "Epoch  15: Train Loss: 0.7843, Val Loss: 0.5833, Val AUC: 0.8715\n"
          ]
        },
        {
          "metadata": {
            "tags": null
          },
          "name": "stderr",
          "output_type": "stream",
          "text": [
            "Training: 100%|██████████| 34/34 [00:24<00:00,  1.40it/s]\n",
            "Validation: 100%|██████████| 12/12 [00:05<00:00,  2.08it/s]\n"
          ]
        },
        {
          "metadata": {
            "tags": null
          },
          "name": "stdout",
          "output_type": "stream",
          "text": [
            "Epoch  16: Train Loss: 0.7879, Val Loss: 0.5179, Val AUC: 0.8815\n"
          ]
        },
        {
          "metadata": {
            "tags": null
          },
          "name": "stderr",
          "output_type": "stream",
          "text": [
            "Training: 100%|██████████| 34/34 [00:24<00:00,  1.38it/s]\n",
            "Validation: 100%|██████████| 12/12 [00:05<00:00,  2.17it/s]\n"
          ]
        },
        {
          "metadata": {
            "tags": null
          },
          "name": "stdout",
          "output_type": "stream",
          "text": [
            "Epoch  17: Train Loss: 0.7888, Val Loss: 0.5453, Val AUC: 0.8850\n"
          ]
        },
        {
          "metadata": {
            "tags": null
          },
          "name": "stderr",
          "output_type": "stream",
          "text": [
            "Training: 100%|██████████| 34/34 [00:24<00:00,  1.38it/s]\n",
            "Validation: 100%|██████████| 12/12 [00:06<00:00,  1.80it/s]\n"
          ]
        },
        {
          "metadata": {
            "tags": null
          },
          "name": "stdout",
          "output_type": "stream",
          "text": [
            "Epoch  18: Train Loss: 0.7708, Val Loss: 0.5239, Val AUC: 0.8792\n"
          ]
        },
        {
          "metadata": {
            "tags": null
          },
          "name": "stderr",
          "output_type": "stream",
          "text": [
            "Training: 100%|██████████| 34/34 [00:24<00:00,  1.38it/s]\n",
            "Validation: 100%|██████████| 12/12 [00:05<00:00,  2.20it/s]\n"
          ]
        },
        {
          "metadata": {
            "tags": null
          },
          "name": "stdout",
          "output_type": "stream",
          "text": [
            "Epoch  19: Train Loss: 0.7735, Val Loss: 0.5643, Val AUC: 0.8757\n"
          ]
        },
        {
          "metadata": {
            "tags": null
          },
          "name": "stderr",
          "output_type": "stream",
          "text": [
            "Training: 100%|██████████| 34/34 [00:24<00:00,  1.38it/s]\n",
            "Validation: 100%|██████████| 12/12 [00:05<00:00,  2.00it/s]\n"
          ]
        },
        {
          "metadata": {
            "tags": null
          },
          "name": "stdout",
          "output_type": "stream",
          "text": [
            "Epoch  20: Train Loss: 0.7548, Val Loss: 0.5713, Val AUC: 0.8800\n"
          ]
        },
        {
          "metadata": {
            "tags": null
          },
          "name": "stderr",
          "output_type": "stream",
          "text": [
            "Training: 100%|██████████| 34/34 [00:23<00:00,  1.43it/s]\n",
            "Validation: 100%|██████████| 12/12 [00:06<00:00,  1.82it/s]\n"
          ]
        },
        {
          "metadata": {
            "tags": null
          },
          "name": "stdout",
          "output_type": "stream",
          "text": [
            "Epoch  21: Train Loss: 0.7689, Val Loss: 0.5431, Val AUC: 0.8721\n"
          ]
        },
        {
          "metadata": {
            "tags": null
          },
          "name": "stderr",
          "output_type": "stream",
          "text": [
            "Training: 100%|██████████| 34/34 [00:24<00:00,  1.38it/s]\n",
            "Validation: 100%|██████████| 12/12 [00:05<00:00,  2.15it/s]\n"
          ]
        },
        {
          "metadata": {
            "tags": null
          },
          "name": "stdout",
          "output_type": "stream",
          "text": [
            "Epoch  22: Train Loss: 0.7871, Val Loss: 0.6553, Val AUC: 0.8898\n"
          ]
        },
        {
          "metadata": {
            "tags": null
          },
          "name": "stderr",
          "output_type": "stream",
          "text": [
            "Training: 100%|██████████| 34/34 [00:24<00:00,  1.38it/s]\n",
            "Validation: 100%|██████████| 12/12 [00:06<00:00,  1.84it/s]\n"
          ]
        },
        {
          "metadata": {
            "tags": null
          },
          "name": "stdout",
          "output_type": "stream",
          "text": [
            "Epoch  23: Train Loss: 0.7739, Val Loss: 0.5270, Val AUC: 0.8742\n"
          ]
        },
        {
          "metadata": {
            "tags": null
          },
          "name": "stderr",
          "output_type": "stream",
          "text": [
            "Training: 100%|██████████| 34/34 [00:24<00:00,  1.42it/s]\n",
            "Validation: 100%|██████████| 12/12 [00:05<00:00,  2.00it/s]\n"
          ]
        },
        {
          "metadata": {
            "tags": null
          },
          "name": "stdout",
          "output_type": "stream",
          "text": [
            "Epoch  24: Train Loss: 0.7561, Val Loss: 0.6027, Val AUC: 0.8855\n"
          ]
        },
        {
          "metadata": {
            "tags": null
          },
          "name": "stderr",
          "output_type": "stream",
          "text": [
            "Training: 100%|██████████| 34/34 [00:24<00:00,  1.38it/s]\n",
            "Validation: 100%|██████████| 12/12 [00:05<00:00,  2.20it/s]\n"
          ]
        },
        {
          "metadata": {
            "tags": null
          },
          "name": "stdout",
          "output_type": "stream",
          "text": [
            "Epoch  25: Train Loss: 0.7539, Val Loss: 0.5497, Val AUC: 0.8860\n"
          ]
        },
        {
          "metadata": {
            "tags": null
          },
          "name": "stderr",
          "output_type": "stream",
          "text": [
            "Training: 100%|██████████| 34/34 [00:24<00:00,  1.38it/s]\n",
            "Validation: 100%|██████████| 12/12 [00:06<00:00,  1.82it/s]\n"
          ]
        },
        {
          "metadata": {
            "tags": null
          },
          "name": "stdout",
          "output_type": "stream",
          "text": [
            "Epoch  26: Train Loss: 0.7661, Val Loss: 0.5373, Val AUC: 0.8803\n"
          ]
        },
        {
          "metadata": {
            "tags": null
          },
          "name": "stderr",
          "output_type": "stream",
          "text": [
            "Training: 100%|██████████| 34/34 [00:24<00:00,  1.40it/s]\n",
            "Validation: 100%|██████████| 12/12 [00:05<00:00,  2.18it/s]\n"
          ]
        },
        {
          "metadata": {
            "tags": null
          },
          "name": "stdout",
          "output_type": "stream",
          "text": [
            "Epoch  27: Train Loss: 0.7631, Val Loss: 0.5936, Val AUC: 0.8873\n"
          ]
        },
        {
          "metadata": {
            "tags": null
          },
          "name": "stderr",
          "output_type": "stream",
          "text": [
            "Training: 100%|██████████| 34/34 [00:24<00:00,  1.39it/s]\n",
            "Validation: 100%|██████████| 12/12 [00:05<00:00,  2.18it/s]\n"
          ]
        },
        {
          "metadata": {
            "tags": null
          },
          "name": "stdout",
          "output_type": "stream",
          "text": [
            "Epoch  28: Train Loss: 0.7707, Val Loss: 0.5542, Val AUC: 0.8738\n"
          ]
        },
        {
          "metadata": {
            "tags": null
          },
          "name": "stderr",
          "output_type": "stream",
          "text": [
            "Training: 100%|██████████| 34/34 [00:24<00:00,  1.39it/s]\n",
            "Validation: 100%|██████████| 12/12 [00:06<00:00,  1.82it/s]\n"
          ]
        },
        {
          "metadata": {
            "tags": null
          },
          "name": "stdout",
          "output_type": "stream",
          "text": [
            "Epoch  29: Train Loss: 0.7585, Val Loss: 0.5981, Val AUC: 0.8851\n"
          ]
        },
        {
          "metadata": {
            "tags": null
          },
          "name": "stderr",
          "output_type": "stream",
          "text": [
            "Training: 100%|██████████| 34/34 [00:24<00:00,  1.39it/s]\n",
            "Validation: 100%|██████████| 12/12 [00:05<00:00,  2.17it/s]\n"
          ]
        },
        {
          "metadata": {
            "tags": null
          },
          "name": "stdout",
          "output_type": "stream",
          "text": [
            "Epoch  30: Train Loss: 0.7476, Val Loss: 0.5487, Val AUC: 0.8757\n"
          ]
        },
        {
          "metadata": {
            "tags": null
          },
          "name": "stderr",
          "output_type": "stream",
          "text": [
            "Training: 100%|██████████| 34/34 [00:24<00:00,  1.39it/s]\n",
            "Validation: 100%|██████████| 12/12 [00:05<00:00,  2.16it/s]\n"
          ]
        },
        {
          "metadata": {
            "tags": null
          },
          "name": "stdout",
          "output_type": "stream",
          "text": [
            "Epoch  31: Train Loss: 0.7495, Val Loss: 0.5794, Val AUC: 0.8784\n"
          ]
        },
        {
          "metadata": {
            "tags": null
          },
          "name": "stderr",
          "output_type": "stream",
          "text": [
            "Training: 100%|██████████| 34/34 [00:24<00:00,  1.40it/s]\n",
            "Validation: 100%|██████████| 12/12 [00:06<00:00,  1.85it/s]\n"
          ]
        },
        {
          "metadata": {
            "tags": null
          },
          "name": "stdout",
          "output_type": "stream",
          "text": [
            "Epoch  32: Train Loss: 0.7567, Val Loss: 0.5432, Val AUC: 0.8717\n",
            "Early stopping at epoch 32\n",
            "\n",
            "Phase 2: Fine-tuning with unfrozen last conv layers\n"
          ]
        },
        {
          "metadata": {
            "tags": null
          },
          "name": "stderr",
          "output_type": "stream",
          "text": [
            "Training: 100%|██████████| 34/34 [00:25<00:00,  1.35it/s]\n",
            "Validation: 100%|██████████| 12/12 [00:05<00:00,  2.21it/s]\n"
          ]
        },
        {
          "metadata": {
            "tags": null
          },
          "name": "stdout",
          "output_type": "stream",
          "text": [
            "Epoch   1: Train Loss: 0.7213, Val Loss: 0.5543, Val AUC: 0.8843\n"
          ]
        },
        {
          "metadata": {
            "tags": null
          },
          "name": "stderr",
          "output_type": "stream",
          "text": [
            "Training: 100%|██████████| 34/34 [00:25<00:00,  1.35it/s]\n",
            "Validation: 100%|██████████| 12/12 [00:06<00:00,  1.84it/s]\n"
          ]
        },
        {
          "metadata": {
            "tags": null
          },
          "name": "stdout",
          "output_type": "stream",
          "text": [
            "Epoch   2: Train Loss: 0.6698, Val Loss: 0.5478, Val AUC: 0.9071\n"
          ]
        },
        {
          "metadata": {
            "tags": null
          },
          "name": "stderr",
          "output_type": "stream",
          "text": [
            "Training: 100%|██████████| 34/34 [00:24<00:00,  1.37it/s]\n",
            "Validation: 100%|██████████| 12/12 [00:05<00:00,  2.18it/s]\n"
          ]
        },
        {
          "metadata": {
            "tags": null
          },
          "name": "stdout",
          "output_type": "stream",
          "text": [
            "Epoch   3: Train Loss: 0.6266, Val Loss: 0.5337, Val AUC: 0.8932\n"
          ]
        },
        {
          "metadata": {
            "tags": null
          },
          "name": "stderr",
          "output_type": "stream",
          "text": [
            "Training: 100%|██████████| 34/34 [00:25<00:00,  1.35it/s]\n",
            "Validation: 100%|██████████| 12/12 [00:05<00:00,  2.22it/s]\n"
          ]
        },
        {
          "metadata": {
            "tags": null
          },
          "name": "stdout",
          "output_type": "stream",
          "text": [
            "Epoch   4: Train Loss: 0.6029, Val Loss: 0.5851, Val AUC: 0.9356\n"
          ]
        },
        {
          "metadata": {
            "tags": null
          },
          "name": "stderr",
          "output_type": "stream",
          "text": [
            "Training: 100%|██████████| 34/34 [00:25<00:00,  1.35it/s]\n",
            "Validation: 100%|██████████| 12/12 [00:06<00:00,  1.82it/s]\n"
          ]
        },
        {
          "metadata": {
            "tags": null
          },
          "name": "stdout",
          "output_type": "stream",
          "text": [
            "Epoch   5: Train Loss: 0.5877, Val Loss: 0.5559, Val AUC: 0.9041\n"
          ]
        },
        {
          "metadata": {
            "tags": null
          },
          "name": "stderr",
          "output_type": "stream",
          "text": [
            "Training: 100%|██████████| 34/34 [00:25<00:00,  1.34it/s]\n",
            "Validation: 100%|██████████| 12/12 [00:05<00:00,  2.17it/s]\n"
          ]
        },
        {
          "metadata": {
            "tags": null
          },
          "name": "stdout",
          "output_type": "stream",
          "text": [
            "Epoch   6: Train Loss: 0.5797, Val Loss: 0.5435, Val AUC: 0.9278\n"
          ]
        },
        {
          "metadata": {
            "tags": null
          },
          "name": "stderr",
          "output_type": "stream",
          "text": [
            "Training: 100%|██████████| 34/34 [00:25<00:00,  1.35it/s]\n",
            "Validation: 100%|██████████| 12/12 [00:06<00:00,  1.85it/s]\n"
          ]
        },
        {
          "metadata": {
            "tags": null
          },
          "name": "stdout",
          "output_type": "stream",
          "text": [
            "Epoch   7: Train Loss: 0.5827, Val Loss: 0.5798, Val AUC: 0.9107\n"
          ]
        },
        {
          "metadata": {
            "tags": null
          },
          "name": "stderr",
          "output_type": "stream",
          "text": [
            "Training: 100%|██████████| 34/34 [00:24<00:00,  1.37it/s]\n",
            "Validation: 100%|██████████| 12/12 [00:05<00:00,  2.23it/s]\n"
          ]
        },
        {
          "metadata": {
            "tags": null
          },
          "name": "stdout",
          "output_type": "stream",
          "text": [
            "Epoch   8: Train Loss: 0.5505, Val Loss: 0.5614, Val AUC: 0.9117\n"
          ]
        },
        {
          "metadata": {
            "tags": null
          },
          "name": "stderr",
          "output_type": "stream",
          "text": [
            "Training: 100%|██████████| 34/34 [00:25<00:00,  1.35it/s]\n",
            "Validation: 100%|██████████| 12/12 [00:05<00:00,  2.19it/s]\n"
          ]
        },
        {
          "metadata": {
            "tags": null
          },
          "name": "stdout",
          "output_type": "stream",
          "text": [
            "Epoch   9: Train Loss: 0.5555, Val Loss: 0.6381, Val AUC: 0.9249\n"
          ]
        },
        {
          "metadata": {
            "tags": null
          },
          "name": "stderr",
          "output_type": "stream",
          "text": [
            "Training: 100%|██████████| 34/34 [00:24<00:00,  1.37it/s]\n",
            "Validation: 100%|██████████| 12/12 [00:06<00:00,  1.82it/s]\n"
          ]
        },
        {
          "metadata": {
            "tags": null
          },
          "name": "stdout",
          "output_type": "stream",
          "text": [
            "Epoch  10: Train Loss: 0.5283, Val Loss: 0.5639, Val AUC: 0.9187\n"
          ]
        },
        {
          "metadata": {
            "tags": null
          },
          "name": "stderr",
          "output_type": "stream",
          "text": [
            "Training: 100%|██████████| 34/34 [00:25<00:00,  1.36it/s]\n",
            "Validation: 100%|██████████| 12/12 [00:05<00:00,  2.19it/s]\n"
          ]
        },
        {
          "metadata": {
            "tags": null
          },
          "name": "stdout",
          "output_type": "stream",
          "text": [
            "Epoch  11: Train Loss: 0.5198, Val Loss: 0.5316, Val AUC: 0.9131\n"
          ]
        },
        {
          "metadata": {
            "tags": null
          },
          "name": "stderr",
          "output_type": "stream",
          "text": [
            "Training: 100%|██████████| 34/34 [00:25<00:00,  1.35it/s]\n",
            "Validation: 100%|██████████| 12/12 [00:06<00:00,  1.80it/s]\n"
          ]
        },
        {
          "metadata": {
            "tags": null
          },
          "name": "stdout",
          "output_type": "stream",
          "text": [
            "Epoch  12: Train Loss: 0.5323, Val Loss: 0.5514, Val AUC: 0.9173\n"
          ]
        },
        {
          "metadata": {
            "tags": null
          },
          "name": "stderr",
          "output_type": "stream",
          "text": [
            "Training: 100%|██████████| 34/34 [00:25<00:00,  1.35it/s]\n",
            "Validation: 100%|██████████| 12/12 [00:05<00:00,  2.18it/s]\n"
          ]
        },
        {
          "metadata": {
            "tags": null
          },
          "name": "stdout",
          "output_type": "stream",
          "text": [
            "Epoch  13: Train Loss: 0.5252, Val Loss: 0.5292, Val AUC: 0.9124\n"
          ]
        },
        {
          "metadata": {
            "tags": null
          },
          "name": "stderr",
          "output_type": "stream",
          "text": [
            "Training: 100%|██████████| 34/34 [00:25<00:00,  1.34it/s]\n",
            "Validation: 100%|██████████| 12/12 [00:06<00:00,  1.95it/s]\n"
          ]
        },
        {
          "metadata": {
            "tags": null
          },
          "name": "stdout",
          "output_type": "stream",
          "text": [
            "Epoch  14: Train Loss: 0.5317, Val Loss: 0.5551, Val AUC: 0.9260\n",
            "Early stopping at epoch 14\n"
          ]
        },
        {
          "metadata": {
            "tags": null
          },
          "name": "stderr",
          "output_type": "stream",
          "text": [
            "Testing: 100%|██████████| 13/13 [00:06<00:00,  2.03it/s]\n"
          ]
        },
        {
          "metadata": {
            "tags": null
          },
          "name": "stdout",
          "output_type": "stream",
          "text": [
            "\n",
            "Best validation AUC: 0.9356\n",
            "Test metrics:\n",
            "  accuracy: 0.7259\n",
            "  precision: 0.7615\n",
            "  recall: 0.7811\n",
            "  specificity: 0.6460\n",
            "  f1: 0.7712\n",
            "  auc_roc: 0.7794\n"
          ]
        },
        {
          "data": {
            "image/png": "[encoded data removed]",
            "text/plain": [
              "<Figure size 800x600 with 2 Axes>"
            ]
          },
          "metadata": {},
          "output_type": "display_data"
        },
        {
          "metadata": {
            "tags": null
          },
          "name": "stdout",
          "output_type": "stream",
          "text": [
            "\n",
            "Starting experiment for All...\n",
            "\n",
            "============================================================\n",
            "Training on All magnification with Inception-v3\n",
            "============================================================\n",
            "\n",
            "Phase 1: Training classifier head (frozen backbone)\n"
          ]
        },
        {
          "metadata": {
            "tags": null
          },
          "name": "stderr",
          "output_type": "stream",
          "text": [
            "Training: 100%|██████████| 145/145 [01:44<00:00,  1.39it/s]\n",
            "Validation: 100%|██████████| 48/48 [00:23<00:00,  2.03it/s]\n"
          ]
        },
        {
          "metadata": {
            "tags": null
          },
          "name": "stdout",
          "output_type": "stream",
          "text": [
            "Epoch   1: Train Loss: 0.9330, Val Loss: 0.7581, Val AUC: 0.7217\n"
          ]
        },
        {
          "metadata": {
            "tags": null
          },
          "name": "stderr",
          "output_type": "stream",
          "text": [
            "Training: 100%|██████████| 145/145 [01:44<00:00,  1.39it/s]\n",
            "Validation: 100%|██████████| 48/48 [00:23<00:00,  2.04it/s]\n"
          ]
        },
        {
          "metadata": {
            "tags": null
          },
          "name": "stdout",
          "output_type": "stream",
          "text": [
            "Epoch   2: Train Loss: 0.8307, Val Loss: 0.6137, Val AUC: 0.7417\n"
          ]
        },
        {
          "metadata": {
            "tags": null
          },
          "name": "stderr",
          "output_type": "stream",
          "text": [
            "Training: 100%|██████████| 145/145 [01:43<00:00,  1.40it/s]\n",
            "Validation: 100%|██████████| 48/48 [00:23<00:00,  2.02it/s]\n"
          ]
        },
        {
          "metadata": {
            "tags": null
          },
          "name": "stdout",
          "output_type": "stream",
          "text": [
            "Epoch   3: Train Loss: 0.8073, Val Loss: 0.6781, Val AUC: 0.7646\n"
          ]
        },
        {
          "metadata": {
            "tags": null
          },
          "name": "stderr",
          "output_type": "stream",
          "text": [
            "Training: 100%|██████████| 145/145 [01:44<00:00,  1.39it/s]\n",
            "Validation: 100%|██████████| 48/48 [00:23<00:00,  2.04it/s]\n"
          ]
        },
        {
          "metadata": {
            "tags": null
          },
          "name": "stdout",
          "output_type": "stream",
          "text": [
            "Epoch   4: Train Loss: 0.8130, Val Loss: 0.5730, Val AUC: 0.7699\n"
          ]
        },
        {
          "metadata": {
            "tags": null
          },
          "name": "stderr",
          "output_type": "stream",
          "text": [
            "Training: 100%|██████████| 145/145 [01:44<00:00,  1.39it/s]\n",
            "Validation: 100%|██████████| 48/48 [00:23<00:00,  2.03it/s]\n"
          ]
        },
        {
          "metadata": {
            "tags": null
          },
          "name": "stdout",
          "output_type": "stream",
          "text": [
            "Epoch   5: Train Loss: 0.7980, Val Loss: 0.5740, Val AUC: 0.7614\n"
          ]
        },
        {
          "metadata": {
            "tags": null
          },
          "name": "stderr",
          "output_type": "stream",
          "text": [
            "Training: 100%|██████████| 145/145 [01:44<00:00,  1.39it/s]\n",
            "Validation: 100%|██████████| 48/48 [00:23<00:00,  2.07it/s]\n"
          ]
        },
        {
          "metadata": {
            "tags": null
          },
          "name": "stdout",
          "output_type": "stream",
          "text": [
            "Epoch   6: Train Loss: 0.8030, Val Loss: 0.5996, Val AUC: 0.7490\n"
          ]
        },
        {
          "metadata": {
            "tags": null
          },
          "name": "stderr",
          "output_type": "stream",
          "text": [
            "Training: 100%|██████████| 145/145 [01:44<00:00,  1.39it/s]\n",
            "Validation: 100%|██████████| 48/48 [00:22<00:00,  2.12it/s]\n"
          ]
        },
        {
          "metadata": {
            "tags": null
          },
          "name": "stdout",
          "output_type": "stream",
          "text": [
            "Epoch   7: Train Loss: 0.7938, Val Loss: 0.5787, Val AUC: 0.7617\n"
          ]
        },
        {
          "metadata": {
            "tags": null
          },
          "name": "stderr",
          "output_type": "stream",
          "text": [
            "Training: 100%|██████████| 145/145 [01:44<00:00,  1.39it/s]\n",
            "Validation: 100%|██████████| 48/48 [00:22<00:00,  2.12it/s]\n"
          ]
        },
        {
          "metadata": {
            "tags": null
          },
          "name": "stdout",
          "output_type": "stream",
          "text": [
            "Epoch   8: Train Loss: 0.7945, Val Loss: 0.5891, Val AUC: 0.7727\n"
          ]
        },
        {
          "metadata": {
            "tags": null
          },
          "name": "stderr",
          "output_type": "stream",
          "text": [
            "Training: 100%|██████████| 145/145 [01:43<00:00,  1.40it/s]\n",
            "Validation: 100%|██████████| 48/48 [00:23<00:00,  2.07it/s]\n"
          ]
        },
        {
          "metadata": {
            "tags": null
          },
          "name": "stdout",
          "output_type": "stream",
          "text": [
            "Epoch   9: Train Loss: 0.7922, Val Loss: 0.5765, Val AUC: 0.7679\n"
          ]
        },
        {
          "metadata": {
            "tags": null
          },
          "name": "stderr",
          "output_type": "stream",
          "text": [
            "Training: 100%|██████████| 145/145 [01:43<00:00,  1.41it/s]\n",
            "Validation: 100%|██████████| 48/48 [00:23<00:00,  2.05it/s]\n"
          ]
        },
        {
          "metadata": {
            "tags": null
          },
          "name": "stdout",
          "output_type": "stream",
          "text": [
            "Epoch  10: Train Loss: 0.7949, Val Loss: 0.6229, Val AUC: 0.7835\n"
          ]
        },
        {
          "metadata": {
            "tags": null
          },
          "name": "stderr",
          "output_type": "stream",
          "text": [
            "Training: 100%|██████████| 145/145 [01:43<00:00,  1.40it/s]\n",
            "Validation: 100%|██████████| 48/48 [00:23<00:00,  2.06it/s]\n"
          ]
        },
        {
          "metadata": {
            "tags": null
          },
          "name": "stdout",
          "output_type": "stream",
          "text": [
            "Epoch  11: Train Loss: 0.7910, Val Loss: 0.6442, Val AUC: 0.7599\n"
          ]
        },
        {
          "metadata": {
            "tags": null
          },
          "name": "stderr",
          "output_type": "stream",
          "text": [
            "Training: 100%|██████████| 145/145 [01:42<00:00,  1.41it/s]\n",
            "Validation: 100%|██████████| 48/48 [00:23<00:00,  2.07it/s]\n"
          ]
        },
        {
          "metadata": {
            "tags": null
          },
          "name": "stdout",
          "output_type": "stream",
          "text": [
            "Epoch  12: Train Loss: 0.7824, Val Loss: 0.6009, Val AUC: 0.7688\n"
          ]
        },
        {
          "metadata": {
            "tags": null
          },
          "name": "stderr",
          "output_type": "stream",
          "text": [
            "Training: 100%|██████████| 145/145 [01:42<00:00,  1.41it/s]\n",
            "Validation: 100%|██████████| 48/48 [00:22<00:00,  2.15it/s]\n"
          ]
        },
        {
          "metadata": {
            "tags": null
          },
          "name": "stdout",
          "output_type": "stream",
          "text": [
            "Epoch  13: Train Loss: 0.7932, Val Loss: 0.6164, Val AUC: 0.7798\n"
          ]
        },
        {
          "metadata": {
            "tags": null
          },
          "name": "stderr",
          "output_type": "stream",
          "text": [
            "Training: 100%|██████████| 145/145 [01:43<00:00,  1.40it/s]\n",
            "Validation: 100%|██████████| 48/48 [00:23<00:00,  2.06it/s]\n"
          ]
        },
        {
          "metadata": {
            "tags": null
          },
          "name": "stdout",
          "output_type": "stream",
          "text": [
            "Epoch  14: Train Loss: 0.7829, Val Loss: 0.6065, Val AUC: 0.7837\n"
          ]
        },
        {
          "metadata": {
            "tags": null
          },
          "name": "stderr",
          "output_type": "stream",
          "text": [
            "Training: 100%|██████████| 145/145 [01:43<00:00,  1.40it/s]\n",
            "Validation: 100%|██████████| 48/48 [00:23<00:00,  2.07it/s]\n"
          ]
        },
        {
          "metadata": {
            "tags": null
          },
          "name": "stdout",
          "output_type": "stream",
          "text": [
            "Epoch  15: Train Loss: 0.7850, Val Loss: 0.6718, Val AUC: 0.7693\n"
          ]
        },
        {
          "metadata": {
            "tags": null
          },
          "name": "stderr",
          "output_type": "stream",
          "text": [
            "Training: 100%|██████████| 145/145 [01:43<00:00,  1.40it/s]\n",
            "Validation: 100%|██████████| 48/48 [00:23<00:00,  2.05it/s]\n"
          ]
        },
        {
          "metadata": {
            "tags": null
          },
          "name": "stdout",
          "output_type": "stream",
          "text": [
            "Epoch  16: Train Loss: 0.7926, Val Loss: 0.5959, Val AUC: 0.7940\n"
          ]
        },
        {
          "metadata": {
            "tags": null
          },
          "name": "stderr",
          "output_type": "stream",
          "text": [
            "Training: 100%|██████████| 145/145 [01:44<00:00,  1.38it/s]\n",
            "Validation: 100%|██████████| 48/48 [00:23<00:00,  2.02it/s]\n"
          ]
        },
        {
          "metadata": {
            "tags": null
          },
          "name": "stdout",
          "output_type": "stream",
          "text": [
            "Epoch  17: Train Loss: 0.7867, Val Loss: 0.6184, Val AUC: 0.7935\n"
          ]
        },
        {
          "metadata": {
            "tags": null
          },
          "name": "stderr",
          "output_type": "stream",
          "text": [
            "Training: 100%|██████████| 145/145 [01:44<00:00,  1.38it/s]\n",
            "Validation: 100%|██████████| 48/48 [00:23<00:00,  2.01it/s]\n"
          ]
        },
        {
          "metadata": {
            "tags": null
          },
          "name": "stdout",
          "output_type": "stream",
          "text": [
            "Epoch  18: Train Loss: 0.7868, Val Loss: 0.5743, Val AUC: 0.7914\n"
          ]
        },
        {
          "metadata": {
            "tags": null
          },
          "name": "stderr",
          "output_type": "stream",
          "text": [
            "Training: 100%|██████████| 145/145 [01:45<00:00,  1.38it/s]\n",
            "Validation: 100%|██████████| 48/48 [00:23<00:00,  2.02it/s]\n"
          ]
        },
        {
          "metadata": {
            "tags": null
          },
          "name": "stdout",
          "output_type": "stream",
          "text": [
            "Epoch  19: Train Loss: 0.7844, Val Loss: 0.5739, Val AUC: 0.7860\n"
          ]
        },
        {
          "metadata": {
            "tags": null
          },
          "name": "stderr",
          "output_type": "stream",
          "text": [
            "Training: 100%|██████████| 145/145 [01:45<00:00,  1.38it/s]\n",
            "Validation: 100%|██████████| 48/48 [00:23<00:00,  2.02it/s]\n"
          ]
        },
        {
          "metadata": {
            "tags": null
          },
          "name": "stdout",
          "output_type": "stream",
          "text": [
            "Epoch  20: Train Loss: 0.7826, Val Loss: 0.5977, Val AUC: 0.7933\n"
          ]
        },
        {
          "metadata": {
            "tags": null
          },
          "name": "stderr",
          "output_type": "stream",
          "text": [
            "Training: 100%|██████████| 145/145 [01:45<00:00,  1.38it/s]\n",
            "Validation: 100%|██████████| 48/48 [00:23<00:00,  2.02it/s]\n"
          ]
        },
        {
          "metadata": {
            "tags": null
          },
          "name": "stdout",
          "output_type": "stream",
          "text": [
            "Epoch  21: Train Loss: 0.7900, Val Loss: 0.6178, Val AUC: 0.7855\n"
          ]
        },
        {
          "metadata": {
            "tags": null
          },
          "name": "stderr",
          "output_type": "stream",
          "text": [
            "Training: 100%|██████████| 145/145 [01:44<00:00,  1.38it/s]\n",
            "Validation: 100%|██████████| 48/48 [00:23<00:00,  2.01it/s]\n"
          ]
        },
        {
          "metadata": {
            "tags": null
          },
          "name": "stdout",
          "output_type": "stream",
          "text": [
            "Epoch  22: Train Loss: 0.7731, Val Loss: 0.5882, Val AUC: 0.7949\n"
          ]
        },
        {
          "metadata": {
            "tags": null
          },
          "name": "stderr",
          "output_type": "stream",
          "text": [
            "Training: 100%|██████████| 145/145 [01:44<00:00,  1.39it/s]\n",
            "Validation: 100%|██████████| 48/48 [00:23<00:00,  2.05it/s]\n"
          ]
        },
        {
          "metadata": {
            "tags": null
          },
          "name": "stdout",
          "output_type": "stream",
          "text": [
            "Epoch  23: Train Loss: 0.7809, Val Loss: 0.6174, Val AUC: 0.7905\n"
          ]
        },
        {
          "metadata": {
            "tags": null
          },
          "name": "stderr",
          "output_type": "stream",
          "text": [
            "Training: 100%|██████████| 145/145 [01:44<00:00,  1.38it/s]\n",
            "Validation: 100%|██████████| 48/48 [00:23<00:00,  2.05it/s]\n"
          ]
        },
        {
          "metadata": {
            "tags": null
          },
          "name": "stdout",
          "output_type": "stream",
          "text": [
            "Epoch  24: Train Loss: 0.7762, Val Loss: 0.5813, Val AUC: 0.7806\n"
          ]
        },
        {
          "metadata": {
            "tags": null
          },
          "name": "stderr",
          "output_type": "stream",
          "text": [
            "Training: 100%|██████████| 145/145 [01:44<00:00,  1.38it/s]\n",
            "Validation: 100%|██████████| 48/48 [00:23<00:00,  2.08it/s]\n"
          ]
        },
        {
          "metadata": {
            "tags": null
          },
          "name": "stdout",
          "output_type": "stream",
          "text": [
            "Epoch  25: Train Loss: 0.7778, Val Loss: 0.5743, Val AUC: 0.7898\n"
          ]
        },
        {
          "metadata": {
            "tags": null
          },
          "name": "stderr",
          "output_type": "stream",
          "text": [
            "Training: 100%|██████████| 145/145 [01:45<00:00,  1.37it/s]\n",
            "Validation: 100%|██████████| 48/48 [00:23<00:00,  2.04it/s]\n"
          ]
        },
        {
          "metadata": {
            "tags": null
          },
          "name": "stdout",
          "output_type": "stream",
          "text": [
            "Epoch  26: Train Loss: 0.7783, Val Loss: 0.5710, Val AUC: 0.8023\n"
          ]
        },
        {
          "metadata": {
            "tags": null
          },
          "name": "stderr",
          "output_type": "stream",
          "text": [
            "Training: 100%|██████████| 145/145 [01:46<00:00,  1.37it/s]\n",
            "Validation: 100%|██████████| 48/48 [00:23<00:00,  2.05it/s]\n"
          ]
        },
        {
          "metadata": {
            "tags": null
          },
          "name": "stdout",
          "output_type": "stream",
          "text": [
            "Epoch  27: Train Loss: 0.7792, Val Loss: 0.5555, Val AUC: 0.7965\n"
          ]
        },
        {
          "metadata": {
            "tags": null
          },
          "name": "stderr",
          "output_type": "stream",
          "text": [
            "Training: 100%|██████████| 145/145 [01:45<00:00,  1.38it/s]\n",
            "Validation: 100%|██████████| 48/48 [00:23<00:00,  2.07it/s]\n"
          ]
        },
        {
          "metadata": {
            "tags": null
          },
          "name": "stdout",
          "output_type": "stream",
          "text": [
            "Epoch  28: Train Loss: 0.7756, Val Loss: 0.6006, Val AUC: 0.8062\n"
          ]
        },
        {
          "metadata": {
            "tags": null
          },
          "name": "stderr",
          "output_type": "stream",
          "text": [
            "Training: 100%|██████████| 145/145 [01:44<00:00,  1.39it/s]\n",
            "Validation: 100%|██████████| 48/48 [00:23<00:00,  2.00it/s]\n"
          ]
        },
        {
          "metadata": {
            "tags": null
          },
          "name": "stdout",
          "output_type": "stream",
          "text": [
            "Epoch  29: Train Loss: 0.7828, Val Loss: 0.6110, Val AUC: 0.8045\n"
          ]
        },
        {
          "metadata": {
            "tags": null
          },
          "name": "stderr",
          "output_type": "stream",
          "text": [
            "Training: 100%|██████████| 145/145 [01:43<00:00,  1.40it/s]\n",
            "Validation: 100%|██████████| 48/48 [00:23<00:00,  2.04it/s]\n"
          ]
        },
        {
          "metadata": {
            "tags": null
          },
          "name": "stdout",
          "output_type": "stream",
          "text": [
            "Epoch  30: Train Loss: 0.7684, Val Loss: 0.6464, Val AUC: 0.7785\n"
          ]
        },
        {
          "metadata": {
            "tags": null
          },
          "name": "stderr",
          "output_type": "stream",
          "text": [
            "Training: 100%|██████████| 145/145 [01:43<00:00,  1.40it/s]\n",
            "Validation: 100%|██████████| 48/48 [00:23<00:00,  2.03it/s]\n"
          ]
        },
        {
          "metadata": {
            "tags": null
          },
          "name": "stdout",
          "output_type": "stream",
          "text": [
            "Epoch  31: Train Loss: 0.7811, Val Loss: 0.6045, Val AUC: 0.7962\n"
          ]
        },
        {
          "metadata": {
            "tags": null
          },
          "name": "stderr",
          "output_type": "stream",
          "text": [
            "Training: 100%|██████████| 145/145 [01:44<00:00,  1.39it/s]\n",
            "Validation: 100%|██████████| 48/48 [00:23<00:00,  2.05it/s]\n"
          ]
        },
        {
          "metadata": {
            "tags": null
          },
          "name": "stdout",
          "output_type": "stream",
          "text": [
            "Epoch  32: Train Loss: 0.7794, Val Loss: 0.5759, Val AUC: 0.7915\n"
          ]
        },
        {
          "metadata": {
            "tags": null
          },
          "name": "stderr",
          "output_type": "stream",
          "text": [
            "Training: 100%|██████████| 145/145 [01:44<00:00,  1.39it/s]\n",
            "Validation: 100%|██████████| 48/48 [00:23<00:00,  2.01it/s]\n"
          ]
        },
        {
          "metadata": {
            "tags": null
          },
          "name": "stdout",
          "output_type": "stream",
          "text": [
            "Epoch  33: Train Loss: 0.7732, Val Loss: 0.5595, Val AUC: 0.8075\n"
          ]
        },
        {
          "metadata": {
            "tags": null
          },
          "name": "stderr",
          "output_type": "stream",
          "text": [
            "Training: 100%|██████████| 145/145 [01:45<00:00,  1.37it/s]\n",
            "Validation: 100%|██████████| 48/48 [00:23<00:00,  2.08it/s]\n"
          ]
        },
        {
          "metadata": {
            "tags": null
          },
          "name": "stdout",
          "output_type": "stream",
          "text": [
            "Epoch  34: Train Loss: 0.7906, Val Loss: 0.5813, Val AUC: 0.7973\n"
          ]
        },
        {
          "metadata": {
            "tags": null
          },
          "name": "stderr",
          "output_type": "stream",
          "text": [
            "Training: 100%|██████████| 145/145 [01:45<00:00,  1.37it/s]\n",
            "Validation: 100%|██████████| 48/48 [00:23<00:00,  2.02it/s]\n"
          ]
        },
        {
          "metadata": {
            "tags": null
          },
          "name": "stdout",
          "output_type": "stream",
          "text": [
            "Epoch  35: Train Loss: 0.7864, Val Loss: 0.5942, Val AUC: 0.7985\n"
          ]
        },
        {
          "output_type": "stream",
          "name": "stderr",
          "text": [
            "Training: 100%|██████████| 145/145 [01:44<00:00,  1.39it/s]\n",
            "Validation: 100%|██████████| 48/48 [00:23<00:00,  2.02it/s]\n"
          ]
        },
        {
          "output_type": "stream",
          "name": "stdout",
          "text": [
            "Epoch  36: Train Loss: 0.7712, Val Loss: 0.5586, Val AUC: 0.7999\n"
          ]
        },
        {
          "output_type": "stream",
          "name": "stderr",
          "text": [
            "Training: 100%|██████████| 145/145 [01:44<00:00,  1.39it/s]\n",
            "Validation: 100%|██████████| 48/48 [00:23<00:00,  2.02it/s]\n"
          ]
        },
        {
          "output_type": "stream",
          "name": "stdout",
          "text": [
            "Epoch  37: Train Loss: 0.7749, Val Loss: 0.6122, Val AUC: 0.7949\n"
          ]
        },
        {
          "output_type": "stream",
          "name": "stderr",
          "text": [
            "Training: 100%|██████████| 145/145 [01:44<00:00,  1.39it/s]\n",
            "Validation: 100%|██████████| 48/48 [00:23<00:00,  2.04it/s]\n"
          ]
        },
        {
          "output_type": "stream",
          "name": "stdout",
          "text": [
            "Epoch  38: Train Loss: 0.7740, Val Loss: 0.5734, Val AUC: 0.7950\n"
          ]
        },
        {
          "output_type": "stream",
          "name": "stderr",
          "text": [
            "Training: 100%|██████████| 145/145 [01:44<00:00,  1.39it/s]\n",
            "Validation: 100%|██████████| 48/48 [00:23<00:00,  2.02it/s]\n"
          ]
        },
        {
          "output_type": "stream",
          "name": "stdout",
          "text": [
            "Epoch  39: Train Loss: 0.7841, Val Loss: 0.5784, Val AUC: 0.7956\n"
          ]
        },
        {
          "output_type": "stream",
          "name": "stderr",
          "text": [
            "Training: 100%|██████████| 145/145 [01:45<00:00,  1.37it/s]\n",
            "Validation: 100%|██████████| 48/48 [00:22<00:00,  2.13it/s]\n"
          ]
        },
        {
          "output_type": "stream",
          "name": "stdout",
          "text": [
            "Epoch  40: Train Loss: 0.7656, Val Loss: 0.5893, Val AUC: 0.7938\n"
          ]
        },
        {
          "output_type": "stream",
          "name": "stderr",
          "text": [
            "Training: 100%|██████████| 145/145 [01:45<00:00,  1.37it/s]\n",
            "Validation: 100%|██████████| 48/48 [00:23<00:00,  2.01it/s]\n"
          ]
        },
        {
          "output_type": "stream",
          "name": "stdout",
          "text": [
            "Epoch  41: Train Loss: 0.7687, Val Loss: 0.5730, Val AUC: 0.7979\n"
          ]
        },
        {
          "output_type": "stream",
          "name": "stderr",
          "text": [
            "Training: 100%|██████████| 145/145 [01:44<00:00,  1.39it/s]\n",
            "Validation: 100%|██████████| 48/48 [00:23<00:00,  2.03it/s]\n"
          ]
        },
        {
          "output_type": "stream",
          "name": "stdout",
          "text": [
            "Epoch  42: Train Loss: 0.7615, Val Loss: 0.5804, Val AUC: 0.8089\n"
          ]
        },
        {
          "output_type": "stream",
          "name": "stderr",
          "text": [
            "Training: 100%|██████████| 145/145 [01:44<00:00,  1.39it/s]\n",
            "Validation: 100%|██████████| 48/48 [00:23<00:00,  2.02it/s]\n"
          ]
        },
        {
          "output_type": "stream",
          "name": "stdout",
          "text": [
            "Epoch  43: Train Loss: 0.7506, Val Loss: 0.5843, Val AUC: 0.8116\n"
          ]
        },
        {
          "output_type": "stream",
          "name": "stderr",
          "text": [
            "Training: 100%|██████████| 145/145 [01:44<00:00,  1.39it/s]\n",
            "Validation: 100%|██████████| 48/48 [00:23<00:00,  2.03it/s]\n"
          ]
        },
        {
          "output_type": "stream",
          "name": "stdout",
          "text": [
            "Epoch  44: Train Loss: 0.7507, Val Loss: 0.5792, Val AUC: 0.7764\n"
          ]
        },
        {
          "output_type": "stream",
          "name": "stderr",
          "text": [
            "Training: 100%|██████████| 145/145 [01:44<00:00,  1.39it/s]\n",
            "Validation: 100%|██████████| 48/48 [00:23<00:00,  2.01it/s]\n"
          ]
        },
        {
          "output_type": "stream",
          "name": "stdout",
          "text": [
            "Epoch  45: Train Loss: 0.7588, Val Loss: 0.5885, Val AUC: 0.8096\n"
          ]
        },
        {
          "output_type": "stream",
          "name": "stderr",
          "text": [
            "Training: 100%|██████████| 145/145 [01:44<00:00,  1.39it/s]\n",
            "Validation: 100%|██████████| 48/48 [00:23<00:00,  2.04it/s]\n"
          ]
        },
        {
          "output_type": "stream",
          "name": "stdout",
          "text": [
            "Epoch  46: Train Loss: 0.7575, Val Loss: 0.5941, Val AUC: 0.8055\n"
          ]
        },
        {
          "output_type": "stream",
          "name": "stderr",
          "text": [
            "Training: 100%|██████████| 145/145 [01:45<00:00,  1.38it/s]\n",
            "Validation: 100%|██████████| 48/48 [00:22<00:00,  2.10it/s]\n"
          ]
        },
        {
          "output_type": "stream",
          "name": "stdout",
          "text": [
            "Epoch  47: Train Loss: 0.7557, Val Loss: 0.5850, Val AUC: 0.8139\n"
          ]
        },
        {
          "output_type": "stream",
          "name": "stderr",
          "text": [
            "Training: 100%|██████████| 145/145 [01:45<00:00,  1.37it/s]\n",
            "Validation: 100%|██████████| 48/48 [00:24<00:00,  2.00it/s]\n"
          ]
        },
        {
          "output_type": "stream",
          "name": "stdout",
          "text": [
            "Epoch  48: Train Loss: 0.7553, Val Loss: 0.5860, Val AUC: 0.8096\n"
          ]
        },
        {
          "output_type": "stream",
          "name": "stderr",
          "text": [
            "Training: 100%|██████████| 145/145 [01:44<00:00,  1.39it/s]\n",
            "Validation: 100%|██████████| 48/48 [00:23<00:00,  2.04it/s]\n"
          ]
        },
        {
          "output_type": "stream",
          "name": "stdout",
          "text": [
            "Epoch  49: Train Loss: 0.7603, Val Loss: 0.5686, Val AUC: 0.8162\n"
          ]
        },
        {
          "output_type": "stream",
          "name": "stderr",
          "text": [
            "Training: 100%|██████████| 145/145 [01:44<00:00,  1.39it/s]\n",
            "Validation: 100%|██████████| 48/48 [00:23<00:00,  2.02it/s]\n"
          ]
        },
        {
          "output_type": "stream",
          "name": "stdout",
          "text": [
            "Epoch  50: Train Loss: 0.7535, Val Loss: 0.6044, Val AUC: 0.8208\n",
            "\n",
            "Phase 2: Fine-tuning with unfrozen last conv layers\n"
          ]
        },
        {
          "output_type": "stream",
          "name": "stderr",
          "text": [
            "Training: 100%|██████████| 145/145 [01:47<00:00,  1.35it/s]\n",
            "Validation: 100%|██████████| 48/48 [00:23<00:00,  2.03it/s]\n"
          ]
        },
        {
          "output_type": "stream",
          "name": "stdout",
          "text": [
            "Epoch   1: Train Loss: 0.6883, Val Loss: 0.5432, Val AUC: 0.8627\n"
          ]
        },
        {
          "output_type": "stream",
          "name": "stderr",
          "text": [
            "Training: 100%|██████████| 145/145 [01:48<00:00,  1.34it/s]\n",
            "Validation: 100%|██████████| 48/48 [00:23<00:00,  2.03it/s]\n"
          ]
        },
        {
          "output_type": "stream",
          "name": "stdout",
          "text": [
            "Epoch   2: Train Loss: 0.6216, Val Loss: 0.5237, Val AUC: 0.9007\n"
          ]
        },
        {
          "output_type": "stream",
          "name": "stderr",
          "text": [
            "Training: 100%|██████████| 145/145 [01:47<00:00,  1.35it/s]\n",
            "Validation: 100%|██████████| 48/48 [00:23<00:00,  2.03it/s]\n"
          ]
        },
        {
          "output_type": "stream",
          "name": "stdout",
          "text": [
            "Epoch   3: Train Loss: 0.5917, Val Loss: 0.5266, Val AUC: 0.8817\n"
          ]
        },
        {
          "output_type": "stream",
          "name": "stderr",
          "text": [
            "Training: 100%|██████████| 145/145 [01:48<00:00,  1.34it/s]\n",
            "Validation: 100%|██████████| 48/48 [00:22<00:00,  2.11it/s]\n"
          ]
        },
        {
          "output_type": "stream",
          "name": "stdout",
          "text": [
            "Epoch   4: Train Loss: 0.5742, Val Loss: 0.5011, Val AUC: 0.8826\n"
          ]
        },
        {
          "output_type": "stream",
          "name": "stderr",
          "text": [
            "Training: 100%|██████████| 145/145 [01:46<00:00,  1.36it/s]\n",
            "Validation: 100%|██████████| 48/48 [00:23<00:00,  2.08it/s]\n"
          ]
        },
        {
          "output_type": "stream",
          "name": "stdout",
          "text": [
            "Epoch   5: Train Loss: 0.5602, Val Loss: 0.5250, Val AUC: 0.8751\n"
          ]
        },
        {
          "output_type": "stream",
          "name": "stderr",
          "text": [
            "Training: 100%|██████████| 145/145 [01:45<00:00,  1.37it/s]\n",
            "Validation: 100%|██████████| 48/48 [00:23<00:00,  2.06it/s]\n"
          ]
        },
        {
          "output_type": "stream",
          "name": "stdout",
          "text": [
            "Epoch   6: Train Loss: 0.5477, Val Loss: 0.5171, Val AUC: 0.9111\n"
          ]
        },
        {
          "output_type": "stream",
          "name": "stderr",
          "text": [
            "Training: 100%|██████████| 145/145 [01:45<00:00,  1.37it/s]\n",
            "Validation: 100%|██████████| 48/48 [00:23<00:00,  2.06it/s]\n"
          ]
        },
        {
          "output_type": "stream",
          "name": "stdout",
          "text": [
            "Epoch   7: Train Loss: 0.5401, Val Loss: 0.4928, Val AUC: 0.8896\n"
          ]
        },
        {
          "output_type": "stream",
          "name": "stderr",
          "text": [
            "Training: 100%|██████████| 145/145 [01:46<00:00,  1.36it/s]\n",
            "Validation: 100%|██████████| 48/48 [00:22<00:00,  2.09it/s]\n"
          ]
        },
        {
          "output_type": "stream",
          "name": "stdout",
          "text": [
            "Epoch   8: Train Loss: 0.5369, Val Loss: 0.4964, Val AUC: 0.9100\n"
          ]
        },
        {
          "output_type": "stream",
          "name": "stderr",
          "text": [
            "Training: 100%|██████████| 145/145 [01:47<00:00,  1.35it/s]\n",
            "Validation: 100%|██████████| 48/48 [00:23<00:00,  2.07it/s]\n"
          ]
        },
        {
          "output_type": "stream",
          "name": "stdout",
          "text": [
            "Epoch   9: Train Loss: 0.5288, Val Loss: 0.5050, Val AUC: 0.8987\n"
          ]
        },
        {
          "output_type": "stream",
          "name": "stderr",
          "text": [
            "Training: 100%|██████████| 145/145 [01:46<00:00,  1.36it/s]\n",
            "Validation: 100%|██████████| 48/48 [00:23<00:00,  2.01it/s]\n"
          ]
        },
        {
          "output_type": "stream",
          "name": "stdout",
          "text": [
            "Epoch  10: Train Loss: 0.5288, Val Loss: 0.4873, Val AUC: 0.9100\n"
          ]
        },
        {
          "output_type": "stream",
          "name": "stderr",
          "text": [
            "Training: 100%|██████████| 145/145 [01:46<00:00,  1.36it/s]\n",
            "Validation: 100%|██████████| 48/48 [00:22<00:00,  2.12it/s]\n"
          ]
        },
        {
          "output_type": "stream",
          "name": "stdout",
          "text": [
            "Epoch  11: Train Loss: 0.5190, Val Loss: 0.4811, Val AUC: 0.9145\n"
          ]
        },
        {
          "output_type": "stream",
          "name": "stderr",
          "text": [
            "Training: 100%|██████████| 145/145 [01:47<00:00,  1.34it/s]\n",
            "Validation: 100%|██████████| 48/48 [00:23<00:00,  2.05it/s]\n"
          ]
        },
        {
          "output_type": "stream",
          "name": "stdout",
          "text": [
            "Epoch  12: Train Loss: 0.5151, Val Loss: 0.5111, Val AUC: 0.9153\n"
          ]
        },
        {
          "output_type": "stream",
          "name": "stderr",
          "text": [
            "Training: 100%|██████████| 145/145 [01:46<00:00,  1.36it/s]\n",
            "Validation: 100%|██████████| 48/48 [00:23<00:00,  2.03it/s]\n"
          ]
        },
        {
          "output_type": "stream",
          "name": "stdout",
          "text": [
            "Epoch  13: Train Loss: 0.5122, Val Loss: 0.4800, Val AUC: 0.9263\n"
          ]
        },
        {
          "output_type": "stream",
          "name": "stderr",
          "text": [
            "Training: 100%|██████████| 145/145 [01:47<00:00,  1.35it/s]\n",
            "Validation: 100%|██████████| 48/48 [00:23<00:00,  2.08it/s]\n"
          ]
        },
        {
          "output_type": "stream",
          "name": "stdout",
          "text": [
            "Epoch  14: Train Loss: 0.5141, Val Loss: 0.4877, Val AUC: 0.9193\n"
          ]
        },
        {
          "output_type": "stream",
          "name": "stderr",
          "text": [
            "Training: 100%|██████████| 145/145 [01:48<00:00,  1.34it/s]\n",
            "Validation: 100%|██████████| 48/48 [00:23<00:00,  2.04it/s]\n"
          ]
        },
        {
          "output_type": "stream",
          "name": "stdout",
          "text": [
            "Epoch  15: Train Loss: 0.5100, Val Loss: 0.4879, Val AUC: 0.9166\n"
          ]
        },
        {
          "output_type": "stream",
          "name": "stderr",
          "text": [
            "Training: 100%|██████████| 145/145 [01:47<00:00,  1.35it/s]\n",
            "Validation: 100%|██████████| 48/48 [00:23<00:00,  2.02it/s]\n"
          ]
        },
        {
          "output_type": "stream",
          "name": "stdout",
          "text": [
            "Epoch  16: Train Loss: 0.5022, Val Loss: 0.4981, Val AUC: 0.9076\n"
          ]
        },
        {
          "output_type": "stream",
          "name": "stderr",
          "text": [
            "Training: 100%|██████████| 145/145 [01:48<00:00,  1.34it/s]\n",
            "Validation: 100%|██████████| 48/48 [00:23<00:00,  2.02it/s]\n"
          ]
        },
        {
          "output_type": "stream",
          "name": "stdout",
          "text": [
            "Epoch  17: Train Loss: 0.5065, Val Loss: 0.4930, Val AUC: 0.9185\n"
          ]
        },
        {
          "output_type": "stream",
          "name": "stderr",
          "text": [
            "Training:  44%|████▍     | 64/145 [00:48<00:50,  1.60it/s]"
          ]
        }
      ]
    },
    {
      "cell_type": "code",
      "source": [],
      "metadata": {
        "id": "8tHpXJlWspWL"
      },
      "execution_count": null,
      "outputs": []
    }
  ]
}