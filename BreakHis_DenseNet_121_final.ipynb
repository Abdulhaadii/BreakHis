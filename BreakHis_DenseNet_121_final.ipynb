{
  "nbformat": 4,
  "nbformat_minor": 0,
  "metadata": {
    "colab": {
      "provenance": [],
      "gpuType": "T4"
    },
    "kernelspec": {
      "name": "python3",
      "display_name": "Python 3"
    },
    "language_info": {
      "name": "python"
    },
    "accelerator": "GPU"
  },
  "cells": [
    {
      "cell_type": "code",
      "source": [
        "import os\n",
        "import json\n",
        "import numpy as np\n",
        "import pandas as pd\n",
        "from pathlib import Path\n",
        "from typing import Dict, List, Tuple, Optional\n",
        "import warnings\n",
        "warnings.filterwarnings('ignore')\n",
        "\n",
        "import torch\n",
        "import torch.nn as nn\n",
        "import torch.nn.functional as F\n",
        "from torch.utils.data import Dataset, DataLoader, WeightedRandomSampler\n",
        "from torch.optim import Adam, SGD\n",
        "from torch.optim.lr_scheduler import ReduceLROnPlateau\n",
        "from torchvision import transforms, models\n",
        "from torchvision.models import DenseNet121_Weights\n",
        "\n",
        "import matplotlib.pyplot as plt\n",
        "import seaborn as sns\n",
        "from sklearn.model_selection import train_test_split\n",
        "from sklearn.metrics import (\n",
        "    accuracy_score, precision_score, recall_score, f1_score,\n",
        "    roc_auc_score, confusion_matrix, classification_report\n",
        ")\n",
        "from sklearn.utils.class_weight import compute_class_weight\n",
        "\n",
        "from PIL import Image\n",
        "import time\n",
        "from tqdm import tqdm\n",
        "import glob\n"
      ],
      "metadata": {
        "id": "r4lwbW93EHb_"
      },
      "execution_count": 1,
      "outputs": []
    },
    {
      "cell_type": "code",
      "source": [
        "# Set random seeds for reproducibility\n",
        "torch.manual_seed(42)\n",
        "np.random.seed(42)\n"
      ],
      "metadata": {
        "id": "1Smd4rVBFg7z"
      },
      "execution_count": 2,
      "outputs": []
    },
    {
      "cell_type": "code",
      "source": [
        "class FocalLoss(nn.Module):\n",
        "    def __init__(self, alpha: float = 1.0, gamma: float = 2.0, reduction: str = 'mean'):\n",
        "        super().__init__()\n",
        "        self.alpha = alpha\n",
        "        self.gamma = gamma\n",
        "        self.reduction = reduction\n",
        "\n",
        "    def forward(self, inputs: torch.Tensor, targets: torch.Tensor) -> torch.Tensor:\n",
        "        ce_loss = F.cross_entropy(inputs, targets, reduction='none')\n",
        "        pt = torch.exp(-ce_loss)\n",
        "        focal_loss = self.alpha * (1 - pt) ** self.gamma * ce_loss\n",
        "\n",
        "        if self.reduction == 'mean':\n",
        "            return focal_loss.mean()\n",
        "        elif self.reduction == 'sum':\n",
        "            return focal_loss.sum()\n",
        "        else:\n",
        "            return focal_loss"
      ],
      "metadata": {
        "id": "AWvHHNayFkDb"
      },
      "execution_count": 3,
      "outputs": []
    },
    {
      "cell_type": "code",
      "source": [
        "class LabelSmoothingCrossEntropy(nn.Module):\n",
        "    def __init__(self, smoothing: float = 0.1):\n",
        "        super().__init__()\n",
        "        self.smoothing = smoothing\n",
        "\n",
        "    def forward(self, input: torch.Tensor, target: torch.Tensor) -> torch.Tensor:\n",
        "        log_prob = F.log_softmax(input, dim=-1)\n",
        "        weight = input.new_ones(input.size()) * self.smoothing / (input.size(-1) - 1.)\n",
        "        weight.scatter_(-1, target.unsqueeze(-1), (1. - self.smoothing))\n",
        "        return (-weight * log_prob).sum(dim=-1).mean()\n"
      ],
      "metadata": {
        "id": "gcEjE2LxFmcb"
      },
      "execution_count": 4,
      "outputs": []
    },
    {
      "cell_type": "code",
      "source": [
        "class MixUpAugmentation:\n",
        "    def __init__(self, alpha: float = 1.0):\n",
        "        self.alpha = alpha\n",
        "\n",
        "    def __call__(self, x: torch.Tensor, y: torch.Tensor) -> Tuple[torch.Tensor, torch.Tensor, torch.Tensor, float]:\n",
        "        lam = np.random.beta(self.alpha, self.alpha) if self.alpha > 0 else 1\n",
        "        index = torch.randperm(x.size(0)).to(x.device)\n",
        "        mixed_x = lam * x + (1 - lam) * x[index, :]\n",
        "        return mixed_x, y, y[index], lam\n"
      ],
      "metadata": {
        "id": "ndvSlEzqFqhC"
      },
      "execution_count": 5,
      "outputs": []
    },
    {
      "cell_type": "code",
      "source": [
        "class BreakHisDataset(Dataset):\n",
        "    def __init__(self, image_paths: List[str], labels: List[int], transform: Optional[transforms.Compose] = None):\n",
        "        self.image_paths = image_paths\n",
        "        self.labels = labels\n",
        "        self.transform = transform\n",
        "\n",
        "    def __len__(self) -> int:\n",
        "        return len(self.image_paths)\n",
        "\n",
        "    def __getitem__(self, idx: int) -> Tuple[torch.Tensor, int]:\n",
        "        image_path = self.image_paths[idx]\n",
        "        try:\n",
        "            image = Image.open(image_path).convert('RGB')\n",
        "        except Exception:\n",
        "            image = Image.new('RGB', (299, 299), (0, 0, 0))\n",
        "        if self.transform:\n",
        "            image = self.transform(image)\n",
        "        return image, self.labels[idx]\n"
      ],
      "metadata": {
        "id": "NKsTHQGjFsLy"
      },
      "execution_count": 6,
      "outputs": []
    },
    {
      "cell_type": "code",
      "source": [
        "class TumorClassifier(nn.Module):\n",
        "    def __init__(self, num_classes: int = 2, dropout_rate: float = 0.5):\n",
        "        super().__init__()\n",
        "        self.backbone = models.densenet121(weights=DenseNet121_Weights.DEFAULT)\n",
        "        num_features = self.backbone.classifier.in_features\n",
        "        self.backbone.classifier = nn.Sequential(\n",
        "            nn.Dropout(dropout_rate),\n",
        "            nn.Linear(num_features, 512),\n",
        "            nn.ReLU(True),\n",
        "            nn.BatchNorm1d(512),\n",
        "            nn.Dropout(dropout_rate),\n",
        "            nn.Linear(512, 256),\n",
        "            nn.ReLU(True),\n",
        "            nn.BatchNorm1d(256),\n",
        "            nn.Dropout(dropout_rate),\n",
        "            nn.Linear(256, num_classes)\n",
        "        )\n",
        "        self._init_classifier_weights()\n",
        "\n",
        "    def _init_classifier_weights(self):\n",
        "        for m in self.backbone.classifier.modules():\n",
        "            if isinstance(m, nn.Linear):\n",
        "                nn.init.normal_(m.weight, 0, 0.01)\n",
        "                nn.init.constant_(m.bias, 0)\n",
        "\n",
        "    def forward(self, x: torch.Tensor) -> torch.Tensor:\n",
        "        return self.backbone(x)\n",
        "\n",
        "    def freeze_backbone(self):\n",
        "        for name, param in self.backbone.named_parameters():\n",
        "            if 'classifier' not in name:\n",
        "                param.requires_grad = False\n"
      ],
      "metadata": {
        "id": "yeovjitmFu2w"
      },
      "execution_count": 7,
      "outputs": []
    },
    {
      "cell_type": "code",
      "source": [
        "class WarmupScheduler:\n",
        "    def __init__(self, optimizer, warmup_epochs: int, base_lr: float):\n",
        "        self.optimizer = optimizer\n",
        "        self.warmup_epochs = warmup_epochs\n",
        "        self.base_lr = base_lr\n",
        "        self.current_epoch = 0\n",
        "\n",
        "    def step(self):\n",
        "        if self.current_epoch < self.warmup_epochs:\n",
        "            lr = self.base_lr * (self.current_epoch + 1) / self.warmup_epochs\n",
        "            for param_group in self.optimizer.param_groups:\n",
        "                param_group['lr'] = lr\n",
        "        self.current_epoch += 1"
      ],
      "metadata": {
        "id": "NdL1lKHAFxxd"
      },
      "execution_count": 8,
      "outputs": []
    },
    {
      "cell_type": "code",
      "source": [
        "class EarlyStopping:\n",
        "    def __init__(self, patience: int = 10, min_delta: float = 0.001, mode: str = 'min'):\n",
        "        self.patience = patience\n",
        "        self.min_delta = min_delta\n",
        "        self.mode = mode\n",
        "        self.counter = 0\n",
        "        self.best_score = None\n",
        "        self.early_stop = False\n",
        "\n",
        "    def __call__(self, val_score: float):\n",
        "        if self.best_score is None:\n",
        "            self.best_score = val_score\n",
        "        elif self.mode == 'min':\n",
        "            if val_score < self.best_score - self.min_delta:\n",
        "                self.best_score = val_score\n",
        "                self.counter = 0\n",
        "            else:\n",
        "                self.counter += 1\n",
        "        else:\n",
        "            if val_score > self.best_score + self.min_delta:\n",
        "                self.best_score = val_score\n",
        "                self.counter = 0\n",
        "            else:\n",
        "                self.counter += 1\n",
        "        if self.counter >= self.patience:\n",
        "            self.early_stop = True"
      ],
      "metadata": {
        "id": "noOu2K0kFz56"
      },
      "execution_count": 9,
      "outputs": []
    },
    {
      "cell_type": "code",
      "source": [
        "class MetricsCalculator:\n",
        "    @staticmethod\n",
        "    def calculate_metrics(y_true: np.ndarray, y_pred: np.ndarray, y_pred_proba: np.ndarray) -> Dict[str, float]:\n",
        "        cm = confusion_matrix(y_true, y_pred)\n",
        "        tn, fp, fn, tp = cm.ravel()\n",
        "        accuracy = accuracy_score(y_true, y_pred)\n",
        "        precision = precision_score(y_true, y_pred)\n",
        "        recall = recall_score(y_true, y_pred)\n",
        "        specificity = tn / (tn + fp) if (tn + fp) > 0 else 0.0\n",
        "        f1 = f1_score(y_true, y_pred)\n",
        "        auc_roc = roc_auc_score(y_true, y_pred_proba)\n",
        "        return {\n",
        "            'accuracy': accuracy,\n",
        "            'precision': precision,\n",
        "            'recall': recall,\n",
        "            'specificity': specificity,\n",
        "            'f1': f1,\n",
        "            'auc_roc': auc_roc,\n",
        "            'confusion_matrix': cm\n",
        "        }\n",
        "\n",
        "    @staticmethod\n",
        "    def plot_confusion_matrix(cm: np.ndarray, title: str = \"Confusion Matrix\"):\n",
        "        plt.figure(figsize=(8, 6))\n",
        "        sns.heatmap(cm, annot=True, fmt='d', cmap='Blues',\n",
        "                    xticklabels=['Benign', 'Malignant'],\n",
        "                    yticklabels=['Benign', 'Malignant'])\n",
        "        plt.title(title)\n",
        "        plt.ylabel('True Label')\n",
        "        plt.xlabel('Predicted Label')\n",
        "        plt.tight_layout()\n",
        "        plt.show()\n"
      ],
      "metadata": {
        "id": "3wV3IKErF2-S"
      },
      "execution_count": 10,
      "outputs": []
    },
    {
      "cell_type": "code",
      "source": [
        "class BreakHisTrainer:\n",
        "    \"\"\"Main trainer class for BreakHis dataset.\"\"\"\n",
        "\n",
        "    def __init__(self, data_dir: str, batch_size: int = 32,\n",
        "                 num_workers: int = 4, device: str = 'cuda',\n",
        "                 use_mixup: bool = True, use_focal_loss: bool = True):\n",
        "        self.data_dir = Path(data_dir)\n",
        "        self.batch_size = batch_size\n",
        "        self.num_workers = num_workers\n",
        "        self.device = torch.device(device if torch.cuda.is_available() else 'cpu')\n",
        "        self.use_mixup = use_mixup\n",
        "        self.use_focal_loss = use_focal_loss\n",
        "\n",
        "        print(f\"Using device: {self.device}\")\n",
        "\n",
        "        # Results storage\n",
        "        self.results = {}\n",
        "\n",
        "        # Initialize Mixup if enabled\n",
        "        if self.use_mixup:\n",
        "            self.mixup = MixUpAugmentation(alpha=1.0)\n",
        "\n",
        "        # Enhanced data transforms\n",
        "        self.train_transforms = transforms.Compose([\n",
        "            transforms.Resize((342, 342)),\n",
        "            transforms.CenterCrop(299),\n",
        "            transforms.RandomHorizontalFlip(p=0.5),\n",
        "            transforms.RandomVerticalFlip(p=0.5),\n",
        "            transforms.RandomRotation(degrees=15),\n",
        "            transforms.ColorJitter(brightness=0.2, contrast=0.2,\n",
        "                                 saturation=0.2, hue=0.1),\n",
        "            transforms.RandomAffine(degrees=0, translate=(0.05, 0.05),\n",
        "                                  scale=(0.95, 1.05)),\n",
        "            transforms.ToTensor(),\n",
        "            transforms.Normalize(mean=[0.485, 0.456, 0.406],\n",
        "                               std=[0.229, 0.224, 0.225])\n",
        "        ])\n",
        "\n",
        "        self.val_transforms = transforms.Compose([\n",
        "            transforms.Resize((342, 342)),\n",
        "            transforms.CenterCrop(299),\n",
        "            transforms.ToTensor(),\n",
        "            transforms.Normalize(mean=[0.485, 0.456, 0.406],\n",
        "                               std=[0.229, 0.224, 0.225])\n",
        "        ])\n",
        "\n",
        "    def find_dataset_structure(self) -> str:\n",
        "        \"\"\"Find the correct dataset structure.\"\"\"\n",
        "        print(f\"Searching for dataset in: {self.data_dir}\")\n",
        "\n",
        "        # Check if the directory exists\n",
        "        if not self.data_dir.exists():\n",
        "            raise FileNotFoundError(f\"Dataset directory does not exist: {self.data_dir}\")\n",
        "\n",
        "        # List all files and directories\n",
        "        print(\"Directory contents:\")\n",
        "        for item in self.data_dir.iterdir():\n",
        "            print(f\"  {item}\")\n",
        "\n",
        "        # Try different possible patterns\n",
        "        patterns = [\n",
        "            \"**/*.png\",\n",
        "            \"**/*.PNG\",\n",
        "            \"**/*.jpg\",\n",
        "            \"**/*.JPG\",\n",
        "            \"**/*.jpeg\",\n",
        "            \"**/*.JPEG\"\n",
        "        ]\n",
        "\n",
        "        for pattern in patterns:\n",
        "            files = list(self.data_dir.glob(pattern))\n",
        "            if files:\n",
        "                print(f\"Found {len(files)} files with pattern: {pattern}\")\n",
        "                return pattern\n",
        "\n",
        "        raise FileNotFoundError(f\"No image files found in {self.data_dir}\")\n",
        "\n",
        "    def parse_dataset(self) -> Dict[str, List]:\n",
        "        \"\"\"Parse BreakHis dataset structure with improved path handling.\"\"\"\n",
        "        print(\"🔍 Parsing BreakHis dataset...\")\n",
        "\n",
        "        # Find the correct file pattern\n",
        "        pattern = self.find_dataset_structure()\n",
        "        image_paths = list(self.data_dir.glob(pattern))\n",
        "\n",
        "        print(f\"📁 Found {len(image_paths)} image files\")\n",
        "\n",
        "        data_info = {\n",
        "            'image_paths': [],\n",
        "            'labels': [],\n",
        "            'magnifications': [],\n",
        "            'patient_ids': []\n",
        "        }\n",
        "\n",
        "        benign_count = 0\n",
        "        malignant_count = 0\n",
        "\n",
        "        for img_path in image_paths:\n",
        "            try:\n",
        "                img_path_str = str(img_path).lower()\n",
        "                filename = img_path.name.lower()\n",
        "\n",
        "                # First, check for malignant indicators\n",
        "                if 'sob_m_' in filename or 'malignant' in img_path_str or '_m_' in filename:\n",
        "                    label = 1\n",
        "                    malignant_count += 1\n",
        "                elif 'sob_b_' in filename or 'benign' in img_path_str or '_b_' in filename:\n",
        "                    label = 0\n",
        "                    benign_count += 1\n",
        "                else:\n",
        "                    # If uncertain, skip\n",
        "                    continue\n",
        "\n",
        "                # Extract magnification\n",
        "                magnification = 'Unknown'\n",
        "                for mag in ['40X', '100X', '200X', '400X']:\n",
        "                    if mag.lower() in filename or f\"-{mag[:-1]}-\" in filename:\n",
        "                        magnification = mag\n",
        "                        break\n",
        "\n",
        "                # Extract patient ID\n",
        "                if 'sob_' in filename:\n",
        "                    parts = filename.split('-')\n",
        "                    if len(parts) >= 3:\n",
        "                        patient_id = '-'.join(parts[:3])\n",
        "                    else:\n",
        "                        patient_id = filename.split('.')[0]\n",
        "                else:\n",
        "                    patient_id = filename.split('.')[0]\n",
        "\n",
        "                data_info['image_paths'].append(str(img_path))\n",
        "                data_info['labels'].append(label)\n",
        "                data_info['magnifications'].append(magnification)\n",
        "                data_info['patient_ids'].append(patient_id)\n",
        "\n",
        "            except Exception as e:\n",
        "                print(f\"⚠️ Error processing {img_path}: {e}\")\n",
        "                continue\n",
        "\n",
        "        print(f\"✅ Successfully parsed {len(data_info['image_paths'])} images\")\n",
        "        print(f\"📊 Benign: {benign_count}\")\n",
        "        print(f\"📊 Malignant: {malignant_count}\")\n",
        "        print(f\"🔍 Magnifications found: {set(data_info['magnifications'])}\")\n",
        "        print(f\"👥 Unique patients: {len(set(data_info['patient_ids']))}\")\n",
        "\n",
        "        if len(data_info['image_paths']) == 0:\n",
        "            raise ValueError(\"No valid images found! Check dataset structure and naming convention.\")\n",
        "\n",
        "        return data_info\n",
        "\n",
        "\n",
        "    def create_patient_splits(self, data_info: Dict, test_size: float = 0.2,\n",
        "                            val_size: float = 0.2) -> Dict[str, Dict]:\n",
        "        \"\"\"Create patient-level train/val/test splits.\"\"\"\n",
        "        print(\"📊 Creating patient-level splits...\")\n",
        "\n",
        "        df = pd.DataFrame(data_info)\n",
        "\n",
        "        # Handle cases where patient IDs might not be unique across labels\n",
        "        patient_labels = df.groupby('patient_ids')['labels'].agg(lambda x: x.mode()[0]).reset_index()\n",
        "\n",
        "        # Check if we have both classes\n",
        "        unique_labels = patient_labels['labels'].unique()\n",
        "        if len(unique_labels) < 2:\n",
        "            print(\"⚠️ Warning: Only one class found. Using random splits.\")\n",
        "            # Random splits without stratification\n",
        "            all_patients = patient_labels['patient_ids'].tolist()\n",
        "            train_val_patients, test_patients = train_test_split(\n",
        "                all_patients, test_size=test_size, random_state=42\n",
        "            )\n",
        "            train_patients, val_patients = train_test_split(\n",
        "                train_val_patients, test_size=val_size/(1-test_size), random_state=42\n",
        "            )\n",
        "        else:\n",
        "            # Stratified splits\n",
        "            train_val_patients, test_patients = train_test_split(\n",
        "                patient_labels['patient_ids'].tolist(),\n",
        "                test_size=test_size,\n",
        "                stratify=patient_labels['labels'].tolist(),\n",
        "                random_state=42\n",
        "            )\n",
        "\n",
        "            train_val_labels = patient_labels[\n",
        "                patient_labels['patient_ids'].isin(train_val_patients)\n",
        "            ]['labels'].tolist()\n",
        "\n",
        "            train_patients, val_patients = train_test_split(\n",
        "                train_val_patients,\n",
        "                test_size=val_size / (1 - test_size),\n",
        "                stratify=train_val_labels,\n",
        "                random_state=42\n",
        "            )\n",
        "\n",
        "        # Create splits for each magnification\n",
        "        magnifications = list(set(data_info['magnifications'])) + ['All']\n",
        "        splits = {}\n",
        "\n",
        "        for mag in magnifications:\n",
        "            if mag == 'All':\n",
        "                mag_mask = pd.Series([True] * len(df))\n",
        "            else:\n",
        "                mag_mask = df['magnifications'] == mag\n",
        "\n",
        "            mag_df = df[mag_mask]\n",
        "\n",
        "            if len(mag_df) == 0:\n",
        "                continue\n",
        "\n",
        "            train_mask = mag_df['patient_ids'].isin(train_patients)\n",
        "            val_mask = mag_df['patient_ids'].isin(val_patients)\n",
        "            test_mask = mag_df['patient_ids'].isin(test_patients)\n",
        "\n",
        "            splits[mag] = {\n",
        "                'train': {\n",
        "                    'image_paths': mag_df[train_mask]['image_paths'].tolist(),\n",
        "                    'labels': mag_df[train_mask]['labels'].tolist()\n",
        "                },\n",
        "                'val': {\n",
        "                    'image_paths': mag_df[val_mask]['image_paths'].tolist(),\n",
        "                    'labels': mag_df[val_mask]['labels'].tolist()\n",
        "                },\n",
        "                'test': {\n",
        "                    'image_paths': mag_df[test_mask]['image_paths'].tolist(),\n",
        "                    'labels': mag_df[test_mask]['labels'].tolist()\n",
        "                }\n",
        "            }\n",
        "\n",
        "            print(f\"\\n{mag} - Train: {len(splits[mag]['train']['labels'])}, \"\n",
        "                  f\"Val: {len(splits[mag]['val']['labels'])}, \"\n",
        "                  f\"Test: {len(splits[mag]['test']['labels'])}\")\n",
        "\n",
        "        return splits\n",
        "\n",
        "    def create_data_loaders(self, splits: Dict, magnification: str) -> Dict[str, DataLoader]:\n",
        "        \"\"\"Create data loaders for a specific magnification.\"\"\"\n",
        "\n",
        "        if magnification not in splits:\n",
        "            raise ValueError(f\"Magnification {magnification} not found in splits\")\n",
        "\n",
        "        split_data = splits[magnification]\n",
        "\n",
        "        # Create datasets\n",
        "        train_dataset = BreakHisDataset(\n",
        "            split_data['train']['image_paths'],\n",
        "            split_data['train']['labels'],\n",
        "            self.train_transforms\n",
        "        )\n",
        "\n",
        "        val_dataset = BreakHisDataset(\n",
        "            split_data['val']['image_paths'],\n",
        "            split_data['val']['labels'],\n",
        "            self.val_transforms\n",
        "        )\n",
        "\n",
        "        test_dataset = BreakHisDataset(\n",
        "            split_data['test']['image_paths'],\n",
        "            split_data['test']['labels'],\n",
        "            self.val_transforms\n",
        "        )\n",
        "\n",
        "        # Handle class imbalance with weighted sampling if we have both classes\n",
        "        train_labels = split_data['train']['labels']\n",
        "        unique_labels = list(set(train_labels))\n",
        "\n",
        "        if len(unique_labels) > 1:\n",
        "            class_weights = compute_class_weight(\n",
        "                'balanced',\n",
        "                classes=np.array(unique_labels),\n",
        "                y=train_labels\n",
        "            )\n",
        "\n",
        "            # Create a mapping from label to weight\n",
        "            label_to_weight = {unique_labels[i]: class_weights[i] for i in range(len(unique_labels))}\n",
        "            sample_weights = [label_to_weight[label] for label in train_labels]\n",
        "\n",
        "            sampler = WeightedRandomSampler(\n",
        "                weights=sample_weights,\n",
        "                num_samples=len(sample_weights),\n",
        "                replacement=True\n",
        "            )\n",
        "        else:\n",
        "            sampler = None\n",
        "\n",
        "        # Create data loaders\n",
        "        train_loader = DataLoader(\n",
        "            train_dataset,\n",
        "            batch_size=self.batch_size,\n",
        "            sampler=sampler,\n",
        "            shuffle=(sampler is None),\n",
        "            num_workers=self.num_workers,\n",
        "            pin_memory=True\n",
        "        )\n",
        "\n",
        "        val_loader = DataLoader(\n",
        "            val_dataset,\n",
        "            batch_size=self.batch_size,\n",
        "            shuffle=False,\n",
        "            num_workers=self.num_workers,\n",
        "            pin_memory=True\n",
        "        )\n",
        "\n",
        "        test_loader = DataLoader(\n",
        "            test_dataset,\n",
        "            batch_size=self.batch_size,\n",
        "            shuffle=False,\n",
        "            num_workers=self.num_workers,\n",
        "            pin_memory=True\n",
        "        )\n",
        "\n",
        "        return {\n",
        "            'train': train_loader,\n",
        "            'val': val_loader,\n",
        "            'test': test_loader\n",
        "        }\n",
        "\n",
        "    def mixup_criterion(self, criterion, pred, y_a, y_b, lam):\n",
        "        \"\"\"Mixup loss calculation.\"\"\"\n",
        "        return lam * criterion(pred, y_a) + (1 - lam) * criterion(pred, y_b)\n",
        "\n",
        "    def train_epoch(self, model: nn.Module, train_loader: DataLoader,\n",
        "                   criterion: nn.Module, optimizer: torch.optim.Optimizer) -> float:\n",
        "        \"\"\"Train for one epoch with optional Mixup.\"\"\"\n",
        "        model.train()\n",
        "        total_loss = 0.0\n",
        "        num_batches = 0\n",
        "\n",
        "        progress_bar = tqdm(train_loader, desc=\"Training\")\n",
        "\n",
        "        for batch_idx, (images, labels) in enumerate(progress_bar):\n",
        "            images, labels = images.to(self.device), labels.to(self.device)\n",
        "\n",
        "            optimizer.zero_grad()\n",
        "\n",
        "            if self.use_mixup and np.random.rand() > 0.5:\n",
        "                mixed_images, y_a, y_b, lam = self.mixup(images, labels)\n",
        "                outputs = model(mixed_images)\n",
        "                loss = self.mixup_criterion(criterion, outputs, y_a, y_b, lam)\n",
        "            else:\n",
        "                outputs = model(images)\n",
        "                loss = criterion(outputs, labels)\n",
        "\n",
        "            loss.backward()\n",
        "            optimizer.step()\n",
        "\n",
        "            total_loss += loss.item()\n",
        "            num_batches += 1\n",
        "\n",
        "            # Update progress bar\n",
        "            progress_bar.set_postfix({'Loss': f'{loss.item():.4f}'})\n",
        "\n",
        "        return total_loss / num_batches\n",
        "\n",
        "    def validate_epoch(self, model: nn.Module, val_loader: DataLoader,\n",
        "                      criterion: nn.Module) -> Tuple[float, float]:\n",
        "        \"\"\"Validate for one epoch.\"\"\"\n",
        "        model.eval()\n",
        "        total_loss = 0.0\n",
        "        all_preds = []\n",
        "        all_labels = []\n",
        "        all_probs = []\n",
        "\n",
        "        with torch.no_grad():\n",
        "            for images, labels in tqdm(val_loader, desc=\"Validation\"):\n",
        "                images, labels = images.to(self.device), labels.to(self.device)\n",
        "\n",
        "                outputs = model(images)\n",
        "                loss = criterion(outputs, labels)\n",
        "                total_loss += loss.item()\n",
        "\n",
        "                probs = F.softmax(outputs, dim=1)\n",
        "                preds = outputs.argmax(dim=1)\n",
        "\n",
        "                all_preds.extend(preds.cpu().numpy())\n",
        "                all_labels.extend(labels.cpu().numpy())\n",
        "                all_probs.extend(probs[:, 1].cpu().numpy() if probs.shape[1] > 1 else probs[:, 0].cpu().numpy())\n",
        "\n",
        "        avg_loss = total_loss / len(val_loader)\n",
        "\n",
        "        # Calculate AUC only if we have both classes\n",
        "        if len(set(all_labels)) > 1:\n",
        "            auc_roc = roc_auc_score(all_labels, all_probs)\n",
        "        else:\n",
        "            auc_roc = 0.0\n",
        "\n",
        "        return avg_loss, auc_roc\n",
        "\n",
        "    def test_model(self, model: nn.Module, test_loader: DataLoader,\n",
        "                   use_tta: bool = True) -> Dict[str, float]:\n",
        "        \"\"\"Test the model with optional Test Time Augmentation.\"\"\"\n",
        "        model.eval()\n",
        "        all_preds = []\n",
        "        all_labels = []\n",
        "        all_probs = []\n",
        "\n",
        "        with torch.no_grad():\n",
        "            for images, labels in tqdm(test_loader, desc=\"Testing\"):\n",
        "                images, labels = images.to(self.device), labels.to(self.device)\n",
        "\n",
        "                if use_tta:\n",
        "                    # Simple TTA: original + horizontal flip\n",
        "                    outputs1 = model(images)\n",
        "                    outputs2 = model(torch.flip(images, dims=[3]))\n",
        "                    outputs = (outputs1 + outputs2) / 2\n",
        "                else:\n",
        "                    outputs = model(images)\n",
        "\n",
        "                probs = F.softmax(outputs, dim=1)\n",
        "                preds = outputs.argmax(dim=1)\n",
        "\n",
        "                all_preds.extend(preds.cpu().numpy())\n",
        "                all_labels.extend(labels.cpu().numpy())\n",
        "                all_probs.extend(probs[:, 1].cpu().numpy() if probs.shape[1] > 1 else probs[:, 0].cpu().numpy())\n",
        "\n",
        "        return MetricsCalculator.calculate_metrics(\n",
        "            np.array(all_labels),\n",
        "            np.array(all_preds),\n",
        "            np.array(all_probs)\n",
        "        )\n",
        "\n",
        "    def train_magnification(self, splits: Dict, magnification: str,\n",
        "                          epochs: int = 100) -> Dict[str, float]:\n",
        "        \"\"\"Train model for a specific magnification.\"\"\"\n",
        "\n",
        "        print(f\"\\n{'='*60}\")\n",
        "        print(f\"🔬 Training on {magnification} magnification\")\n",
        "        print(f\"🧬 Using Mixup: {self.use_mixup}, Focal Loss: {self.use_focal_loss}\")\n",
        "        print(f\"{'='*60}\")\n",
        "\n",
        "        # Create data loaders\n",
        "        try:\n",
        "            data_loaders = self.create_data_loaders(splits, magnification)\n",
        "        except ValueError as e:\n",
        "            print(f\"❌ Error creating data loaders: {e}\")\n",
        "            return {}\n",
        "\n",
        "        # Check if we have enough data\n",
        "        if len(data_loaders['train']) == 0:\n",
        "            print(f\"⚠️ No training data for {magnification}\")\n",
        "            return {}\n",
        "\n",
        "        # Initialize model\n",
        "        model = TumorClassifier(num_classes=2, dropout_rate=0.3)\n",
        "        model.to(self.device)\n",
        "\n",
        "        # Loss function\n",
        "        if self.use_focal_loss:\n",
        "            criterion = FocalLoss(alpha=1.0, gamma=2.0)\n",
        "        else:\n",
        "            criterion = LabelSmoothingCrossEntropy(smoothing=0.1)\n",
        "\n",
        "        # Training setup\n",
        "        model.freeze_backbone()\n",
        "\n",
        "        base_lr = 0.001\n",
        "        optimizer = Adam(filter(lambda p: p.requires_grad, model.parameters()),\n",
        "                        lr=base_lr, weight_decay=1e-4)\n",
        "        scheduler = ReduceLROnPlateau(optimizer, mode='max', factor=0.5,\n",
        "                                    patience=10, verbose=True)\n",
        "        early_stopping = EarlyStopping(patience=15, mode='max')\n",
        "\n",
        "        best_auc = 0.0\n",
        "        best_model_state = None\n",
        "\n",
        "        # Training loop\n",
        "        for epoch in range(epochs):\n",
        "            train_loss = self.train_epoch(model, data_loaders['train'],\n",
        "                                        criterion, optimizer)\n",
        "\n",
        "            val_loss, val_auc = self.validate_epoch(model, data_loaders['val'],\n",
        "                                                  criterion)\n",
        "\n",
        "            scheduler.step(val_auc)\n",
        "            early_stopping(val_auc)\n",
        "\n",
        "            print(f\"Epoch {epoch+1:3d}: Train Loss: {train_loss:.4f}, \"\n",
        "                  f\"Val Loss: {val_loss:.4f}, Val AUC: {val_auc:.4f}\")\n",
        "\n",
        "            if val_auc > best_auc:\n",
        "                best_auc = val_auc\n",
        "                best_model_state = model.state_dict().copy()\n",
        "\n",
        "            if early_stopping.early_stop:\n",
        "                print(f\"⏹️ Early stopping at epoch {epoch+1}\")\n",
        "                break\n",
        "\n",
        "        # Load best model and test\n",
        "        if best_model_state is not None:\n",
        "            model.load_state_dict(best_model_state)\n",
        "\n",
        "        test_metrics = self.test_model(model, data_loaders['test'], use_tta=True)\n",
        "\n",
        "        print(f\"\\n🎯 Best validation AUC: {best_auc:.4f}\")\n",
        "        print(f\"📊Test Metrics for {magnification} magnification:\")\n",
        "        for metric, value in test_metrics.items():\n",
        "            if metric != 'confusion_matrix':\n",
        "                print(f\"  {metric.capitalize()}: {value:.4f}\")\n",
        "\n",
        "        # Plot confusion matrix\n",
        "        MetricsCalculator.plot_confusion_matrix(test_metrics['confusion_matrix'],\n",
        "                                                title=f\"{magnification} Confusion Matrix\")\n",
        "\n",
        "        # Store result\n",
        "        self.results[magnification] = test_metrics\n",
        "        return test_metrics\n",
        "\n"
      ],
      "metadata": {
        "id": "8zaVdP2ZF6PN"
      },
      "execution_count": 22,
      "outputs": []
    },
    {
      "cell_type": "code",
      "source": [
        "def run_all_experiments(self, data_dir):\n",
        "    data_info = self.parse_dataset()\n",
        "    splits = self.create_patient_splits(data_info)\n",
        "    results = {}\n",
        "\n",
        "    for mag in ['40X', '100X', '200X', '400X', 'All']:\n",
        "        try:\n",
        "            metrics = self.train_magnification(splits, magnification=mag, epochs=50)\n",
        "            if metrics:\n",
        "                results[mag] = metrics\n",
        "        except Exception as e:\n",
        "            print(f\"⚠️ Error with {mag}: {e}\")\n",
        "            continue\n",
        "\n",
        "    df = pd.DataFrame([{'Magnification': mag, **metrics} for mag, metrics in results.items()]) if results else pd.DataFrame()\n",
        "    self.results = results\n",
        "    return df\n",
        "\n",
        "BreakHisTrainer.run_all_experiments = run_all_experiments\n"
      ],
      "metadata": {
        "id": "o0NkZ836GPmi"
      },
      "execution_count": 23,
      "outputs": []
    },
    {
      "cell_type": "code",
      "source": [
        "def main():\n",
        "    \"\"\"Main function to run the experiments.\"\"\"\n",
        "    import kagglehub\n",
        "\n",
        "    # Download dataset\n",
        "    path = kagglehub.dataset_download(\"ambarish/breakhis\")\n",
        "    print(\"Path to dataset files:\", path)\n",
        "\n",
        "    # ✅ Corrected subdirectory path\n",
        "    DATA_DIR = os.path.join(path, \"BreaKHis_v1\", \"BreaKHis_v1\", \"histology_slides\", \"breast\")\n",
        "\n",
        "    BATCH_SIZE = 32\n",
        "    NUM_WORKERS = 4\n",
        "    DEVICE = 'cuda' if torch.cuda.is_available() else 'cpu'\n",
        "\n",
        "    print(f\"Using device: {DEVICE}\")\n",
        "    print(\"Using Inception-v3 backbone\")\n",
        "\n",
        "    # Initialize trainer\n",
        "    trainer = BreakHisTrainer(\n",
        "        data_dir=DATA_DIR,\n",
        "        batch_size=BATCH_SIZE,\n",
        "        num_workers=NUM_WORKERS,\n",
        "        device=DEVICE\n",
        "    )\n",
        "\n",
        "    # Run all experiments\n",
        "    results_df = trainer.run_all_experiments(DATA_DIR)\n",
        "\n",
        "    # Save results\n",
        "    if not results_df.empty:\n",
        "        results_df.to_csv('breakhis_inception_v3_results.csv', index=False)\n",
        "        print(\"\\n✅ Results saved to 'breakhis_inception_v3_results.csv'\")\n",
        "\n",
        "        # Summary\n",
        "        print(\"\\n\" + \"=\"*80)\n",
        "        print(\"📈 EXPERIMENT SUMMARY - Inception-v3\")\n",
        "        print(\"=\"*80)\n",
        "        print(f\"Average Accuracy: {results_df['accuracy'].mean():.4f}\")\n",
        "        print(f\"Average AUC-ROC: {results_df['auc_roc'].mean():.4f}\")\n",
        "        print(f\"Best magnification: {results_df.loc[results_df['accuracy'].idxmax(), 'Magnification']}\")\n",
        "    else:\n",
        "        print(\"❌ No results were generated.\")\n",
        "\n",
        "    return results_df\n"
      ],
      "metadata": {
        "id": "DtI67IAvGVgs"
      },
      "execution_count": 24,
      "outputs": []
    },
    {
      "cell_type": "code",
      "source": [
        "if __name__ == \"__main__\":\n",
        "    results = main()\n"
      ],
      "metadata": {
        "colab": {
          "base_uri": "https://localhost:8080/",
          "height": 1000
        },
        "id": "ide0oelIGYZl",
        "outputId": "7430bb14-e64a-4040-b467-c4487f1b6419"
      },
      "execution_count": null,
      "outputs": [
        {
          "output_type": "stream",
          "name": "stdout",
          "text": [
            "Path to dataset files: /kaggle/input/breakhis\n",
            "Using device: cuda\n",
            "Using Inception-v3 backbone\n",
            "Using device: cuda\n",
            "🔍 Parsing BreakHis dataset...\n",
            "Searching for dataset in: /kaggle/input/breakhis/BreaKHis_v1/BreaKHis_v1/histology_slides/breast\n",
            "Directory contents:\n",
            "  /kaggle/input/breakhis/BreaKHis_v1/BreaKHis_v1/histology_slides/breast/README.txt\n",
            "  /kaggle/input/breakhis/BreaKHis_v1/BreaKHis_v1/histology_slides/breast/benign\n",
            "  /kaggle/input/breakhis/BreaKHis_v1/BreaKHis_v1/histology_slides/breast/count_files.sh\n",
            "  /kaggle/input/breakhis/BreaKHis_v1/BreaKHis_v1/histology_slides/breast/malignant\n",
            "Found 7909 files with pattern: **/*.png\n",
            "📁 Found 7909 image files\n",
            "✅ Successfully parsed 7909 images\n",
            "📊 Benign: 2480\n",
            "📊 Malignant: 5429\n",
            "🔍 Magnifications found: {'40X', '100X', '400X', '200X'}\n",
            "👥 Unique patients: 82\n",
            "📊 Creating patient-level splits...\n",
            "\n",
            "40X - Train: 1172, Val: 382, Test: 441\n",
            "\n",
            "100X - Train: 1201, Val: 403, Test: 477\n",
            "\n",
            "400X - Train: 1059, Val: 367, Test: 394\n",
            "\n",
            "200X - Train: 1188, Val: 382, Test: 443\n",
            "\n",
            "All - Train: 4620, Val: 1534, Test: 1755\n",
            "\n",
            "============================================================\n",
            "🔬 Training on 40X magnification\n",
            "🧬 Using Mixup: True, Focal Loss: True\n",
            "============================================================\n"
          ]
        },
        {
          "output_type": "stream",
          "name": "stderr",
          "text": [
            "Training: 100%|██████████| 37/37 [00:26<00:00,  1.39it/s, Loss=0.2226]\n",
            "Validation: 100%|██████████| 12/12 [00:05<00:00,  2.03it/s]\n"
          ]
        },
        {
          "output_type": "stream",
          "name": "stdout",
          "text": [
            "Epoch   1: Train Loss: 0.1507, Val Loss: 0.1324, Val AUC: 0.8314\n"
          ]
        },
        {
          "output_type": "stream",
          "name": "stderr",
          "text": [
            "Training: 100%|██████████| 37/37 [00:26<00:00,  1.39it/s, Loss=0.0937]\n",
            "Validation: 100%|██████████| 12/12 [00:06<00:00,  1.75it/s]\n"
          ]
        },
        {
          "output_type": "stream",
          "name": "stdout",
          "text": [
            "Epoch   2: Train Loss: 0.1294, Val Loss: 0.1962, Val AUC: 0.7595\n"
          ]
        },
        {
          "output_type": "stream",
          "name": "stderr",
          "text": [
            "Training: 100%|██████████| 37/37 [00:27<00:00,  1.37it/s, Loss=0.1361]\n",
            "Validation: 100%|██████████| 12/12 [00:05<00:00,  2.05it/s]\n"
          ]
        },
        {
          "output_type": "stream",
          "name": "stdout",
          "text": [
            "Epoch   3: Train Loss: 0.1244, Val Loss: 0.1772, Val AUC: 0.7920\n"
          ]
        },
        {
          "output_type": "stream",
          "name": "stderr",
          "text": [
            "Training: 100%|██████████| 37/37 [00:27<00:00,  1.35it/s, Loss=0.1391]\n",
            "Validation: 100%|██████████| 12/12 [00:06<00:00,  1.93it/s]\n"
          ]
        },
        {
          "output_type": "stream",
          "name": "stdout",
          "text": [
            "Epoch   4: Train Loss: 0.1237, Val Loss: 0.1297, Val AUC: 0.8759\n"
          ]
        },
        {
          "output_type": "stream",
          "name": "stderr",
          "text": [
            "Training: 100%|██████████| 37/37 [00:26<00:00,  1.39it/s, Loss=0.1597]\n",
            "Validation: 100%|██████████| 12/12 [00:06<00:00,  1.94it/s]\n"
          ]
        },
        {
          "output_type": "stream",
          "name": "stdout",
          "text": [
            "Epoch   5: Train Loss: 0.1146, Val Loss: 0.1089, Val AUC: 0.8958\n"
          ]
        },
        {
          "output_type": "stream",
          "name": "stderr",
          "text": [
            "Training: 100%|██████████| 37/37 [00:26<00:00,  1.38it/s, Loss=0.1410]\n",
            "Validation: 100%|██████████| 12/12 [00:05<00:00,  2.11it/s]\n"
          ]
        },
        {
          "output_type": "stream",
          "name": "stdout",
          "text": [
            "Epoch   6: Train Loss: 0.1162, Val Loss: 0.1316, Val AUC: 0.8843\n"
          ]
        },
        {
          "output_type": "stream",
          "name": "stderr",
          "text": [
            "Training: 100%|██████████| 37/37 [00:26<00:00,  1.39it/s, Loss=0.0784]\n",
            "Validation: 100%|██████████| 12/12 [00:06<00:00,  1.78it/s]\n"
          ]
        },
        {
          "output_type": "stream",
          "name": "stdout",
          "text": [
            "Epoch   7: Train Loss: 0.1176, Val Loss: 0.1465, Val AUC: 0.8289\n"
          ]
        },
        {
          "output_type": "stream",
          "name": "stderr",
          "text": [
            "Training: 100%|██████████| 37/37 [00:26<00:00,  1.39it/s, Loss=0.1395]\n",
            "Validation: 100%|██████████| 12/12 [00:05<00:00,  2.07it/s]\n"
          ]
        },
        {
          "output_type": "stream",
          "name": "stdout",
          "text": [
            "Epoch   8: Train Loss: 0.1115, Val Loss: 0.1491, Val AUC: 0.8111\n"
          ]
        },
        {
          "output_type": "stream",
          "name": "stderr",
          "text": [
            "Training: 100%|██████████| 37/37 [00:26<00:00,  1.38it/s, Loss=0.0832]\n",
            "Validation: 100%|██████████| 12/12 [00:06<00:00,  1.73it/s]\n"
          ]
        },
        {
          "output_type": "stream",
          "name": "stdout",
          "text": [
            "Epoch   9: Train Loss: 0.1166, Val Loss: 0.1551, Val AUC: 0.8671\n"
          ]
        },
        {
          "output_type": "stream",
          "name": "stderr",
          "text": [
            "Training: 100%|██████████| 37/37 [00:26<00:00,  1.38it/s, Loss=0.0863]\n",
            "Validation: 100%|██████████| 12/12 [00:05<00:00,  2.04it/s]\n"
          ]
        },
        {
          "output_type": "stream",
          "name": "stdout",
          "text": [
            "Epoch  10: Train Loss: 0.1095, Val Loss: 0.1407, Val AUC: 0.8533\n"
          ]
        },
        {
          "output_type": "stream",
          "name": "stderr",
          "text": [
            "Training: 100%|██████████| 37/37 [00:26<00:00,  1.38it/s, Loss=0.1488]\n",
            "Validation: 100%|██████████| 12/12 [00:06<00:00,  1.75it/s]\n"
          ]
        },
        {
          "output_type": "stream",
          "name": "stdout",
          "text": [
            "Epoch  11: Train Loss: 0.1229, Val Loss: 0.1291, Val AUC: 0.8737\n"
          ]
        },
        {
          "output_type": "stream",
          "name": "stderr",
          "text": [
            "Training: 100%|██████████| 37/37 [00:26<00:00,  1.39it/s, Loss=0.1617]\n",
            "Validation: 100%|██████████| 12/12 [00:05<00:00,  2.08it/s]\n"
          ]
        },
        {
          "output_type": "stream",
          "name": "stdout",
          "text": [
            "Epoch  12: Train Loss: 0.1120, Val Loss: 0.1264, Val AUC: 0.8842\n"
          ]
        },
        {
          "output_type": "stream",
          "name": "stderr",
          "text": [
            "Training: 100%|██████████| 37/37 [00:27<00:00,  1.37it/s, Loss=0.0850]\n",
            "Validation: 100%|██████████| 12/12 [00:06<00:00,  1.92it/s]\n"
          ]
        },
        {
          "output_type": "stream",
          "name": "stdout",
          "text": [
            "Epoch  13: Train Loss: 0.1016, Val Loss: 0.1574, Val AUC: 0.8479\n"
          ]
        },
        {
          "output_type": "stream",
          "name": "stderr",
          "text": [
            "Training: 100%|██████████| 37/37 [00:26<00:00,  1.39it/s, Loss=0.1010]\n",
            "Validation: 100%|██████████| 12/12 [00:06<00:00,  1.99it/s]\n"
          ]
        },
        {
          "output_type": "stream",
          "name": "stdout",
          "text": [
            "Epoch  14: Train Loss: 0.1177, Val Loss: 0.1099, Val AUC: 0.8889\n"
          ]
        },
        {
          "output_type": "stream",
          "name": "stderr",
          "text": [
            "Training: 100%|██████████| 37/37 [00:26<00:00,  1.37it/s, Loss=0.0981]\n",
            "Validation: 100%|██████████| 12/12 [00:05<00:00,  2.12it/s]\n"
          ]
        },
        {
          "output_type": "stream",
          "name": "stdout",
          "text": [
            "Epoch  15: Train Loss: 0.1119, Val Loss: 0.1348, Val AUC: 0.8937\n"
          ]
        },
        {
          "output_type": "stream",
          "name": "stderr",
          "text": [
            "Training: 100%|██████████| 37/37 [00:26<00:00,  1.40it/s, Loss=0.0561]\n",
            "Validation: 100%|██████████| 12/12 [00:06<00:00,  1.72it/s]\n"
          ]
        },
        {
          "output_type": "stream",
          "name": "stdout",
          "text": [
            "Epoch  16: Train Loss: 0.1103, Val Loss: 0.1325, Val AUC: 0.8668\n"
          ]
        },
        {
          "output_type": "stream",
          "name": "stderr",
          "text": [
            "Training: 100%|██████████| 37/37 [00:26<00:00,  1.40it/s, Loss=0.0530]\n",
            "Validation: 100%|██████████| 12/12 [00:05<00:00,  2.03it/s]\n"
          ]
        },
        {
          "output_type": "stream",
          "name": "stdout",
          "text": [
            "Epoch  17: Train Loss: 0.1110, Val Loss: 0.1025, Val AUC: 0.9128\n"
          ]
        },
        {
          "output_type": "stream",
          "name": "stderr",
          "text": [
            "Training: 100%|██████████| 37/37 [00:26<00:00,  1.40it/s, Loss=0.0870]\n",
            "Validation: 100%|██████████| 12/12 [00:06<00:00,  1.78it/s]\n"
          ]
        },
        {
          "output_type": "stream",
          "name": "stdout",
          "text": [
            "Epoch  18: Train Loss: 0.1026, Val Loss: 0.0974, Val AUC: 0.9297\n"
          ]
        },
        {
          "output_type": "stream",
          "name": "stderr",
          "text": [
            "Training: 100%|██████████| 37/37 [00:26<00:00,  1.39it/s, Loss=0.1371]\n",
            "Validation: 100%|██████████| 12/12 [00:05<00:00,  2.08it/s]\n"
          ]
        },
        {
          "output_type": "stream",
          "name": "stdout",
          "text": [
            "Epoch  19: Train Loss: 0.1014, Val Loss: 0.1277, Val AUC: 0.8836\n"
          ]
        },
        {
          "output_type": "stream",
          "name": "stderr",
          "text": [
            "Training: 100%|██████████| 37/37 [00:26<00:00,  1.39it/s, Loss=0.1157]\n",
            "Validation: 100%|██████████| 12/12 [00:06<00:00,  1.77it/s]\n"
          ]
        },
        {
          "output_type": "stream",
          "name": "stdout",
          "text": [
            "Epoch  20: Train Loss: 0.1064, Val Loss: 0.1259, Val AUC: 0.8556\n"
          ]
        },
        {
          "output_type": "stream",
          "name": "stderr",
          "text": [
            "Training: 100%|██████████| 37/37 [00:26<00:00,  1.40it/s, Loss=0.1435]\n",
            "Validation: 100%|██████████| 12/12 [00:05<00:00,  2.12it/s]\n"
          ]
        },
        {
          "output_type": "stream",
          "name": "stdout",
          "text": [
            "Epoch  21: Train Loss: 0.1006, Val Loss: 0.1102, Val AUC: 0.8962\n"
          ]
        },
        {
          "output_type": "stream",
          "name": "stderr",
          "text": [
            "Training: 100%|██████████| 37/37 [00:26<00:00,  1.39it/s, Loss=0.1208]\n",
            "Validation: 100%|██████████| 12/12 [00:06<00:00,  1.78it/s]\n"
          ]
        },
        {
          "output_type": "stream",
          "name": "stdout",
          "text": [
            "Epoch  22: Train Loss: 0.1075, Val Loss: 0.1121, Val AUC: 0.8829\n"
          ]
        },
        {
          "output_type": "stream",
          "name": "stderr",
          "text": [
            "Training: 100%|██████████| 37/37 [00:26<00:00,  1.39it/s, Loss=0.1749]\n",
            "Validation: 100%|██████████| 12/12 [00:05<00:00,  2.05it/s]\n"
          ]
        },
        {
          "output_type": "stream",
          "name": "stdout",
          "text": [
            "Epoch  23: Train Loss: 0.1012, Val Loss: 0.1205, Val AUC: 0.8865\n"
          ]
        },
        {
          "output_type": "stream",
          "name": "stderr",
          "text": [
            "Training: 100%|██████████| 37/37 [00:26<00:00,  1.39it/s, Loss=0.0810]\n",
            "Validation: 100%|██████████| 12/12 [00:06<00:00,  2.00it/s]\n"
          ]
        },
        {
          "output_type": "stream",
          "name": "stdout",
          "text": [
            "Epoch  24: Train Loss: 0.0994, Val Loss: 0.0950, Val AUC: 0.8969\n"
          ]
        },
        {
          "output_type": "stream",
          "name": "stderr",
          "text": [
            "Training: 100%|██████████| 37/37 [00:26<00:00,  1.39it/s, Loss=0.0708]\n",
            "Validation: 100%|██████████| 12/12 [00:06<00:00,  1.93it/s]\n"
          ]
        },
        {
          "output_type": "stream",
          "name": "stdout",
          "text": [
            "Epoch  25: Train Loss: 0.0982, Val Loss: 0.1041, Val AUC: 0.9115\n"
          ]
        },
        {
          "output_type": "stream",
          "name": "stderr",
          "text": [
            "Training: 100%|██████████| 37/37 [00:26<00:00,  1.40it/s, Loss=0.1623]\n",
            "Validation: 100%|██████████| 12/12 [00:05<00:00,  2.08it/s]\n"
          ]
        },
        {
          "output_type": "stream",
          "name": "stdout",
          "text": [
            "Epoch  26: Train Loss: 0.1003, Val Loss: 0.1222, Val AUC: 0.8597\n"
          ]
        },
        {
          "output_type": "stream",
          "name": "stderr",
          "text": [
            "Training: 100%|██████████| 37/37 [00:26<00:00,  1.39it/s, Loss=0.0647]\n",
            "Validation: 100%|██████████| 12/12 [00:06<00:00,  1.85it/s]\n"
          ]
        },
        {
          "output_type": "stream",
          "name": "stdout",
          "text": [
            "Epoch  27: Train Loss: 0.1103, Val Loss: 0.1150, Val AUC: 0.8882\n"
          ]
        },
        {
          "output_type": "stream",
          "name": "stderr",
          "text": [
            "Training: 100%|██████████| 37/37 [00:26<00:00,  1.38it/s, Loss=0.0503]\n",
            "Validation: 100%|██████████| 12/12 [00:05<00:00,  2.09it/s]\n"
          ]
        },
        {
          "output_type": "stream",
          "name": "stdout",
          "text": [
            "Epoch  28: Train Loss: 0.0906, Val Loss: 0.1087, Val AUC: 0.8922\n"
          ]
        },
        {
          "output_type": "stream",
          "name": "stderr",
          "text": [
            "Training: 100%|██████████| 37/37 [00:26<00:00,  1.39it/s, Loss=0.1497]\n",
            "Validation: 100%|██████████| 12/12 [00:07<00:00,  1.71it/s]\n"
          ]
        },
        {
          "output_type": "stream",
          "name": "stdout",
          "text": [
            "Epoch  29: Train Loss: 0.1111, Val Loss: 0.1088, Val AUC: 0.8784\n"
          ]
        },
        {
          "output_type": "stream",
          "name": "stderr",
          "text": [
            "Training: 100%|██████████| 37/37 [00:26<00:00,  1.40it/s, Loss=0.0681]\n",
            "Validation: 100%|██████████| 12/12 [00:06<00:00,  2.00it/s]\n"
          ]
        },
        {
          "output_type": "stream",
          "name": "stdout",
          "text": [
            "Epoch  30: Train Loss: 0.0928, Val Loss: 0.1199, Val AUC: 0.8767\n"
          ]
        },
        {
          "output_type": "stream",
          "name": "stderr",
          "text": [
            "Training: 100%|██████████| 37/37 [00:26<00:00,  1.38it/s, Loss=0.0808]\n",
            "Validation: 100%|██████████| 12/12 [00:06<00:00,  1.72it/s]\n"
          ]
        },
        {
          "output_type": "stream",
          "name": "stdout",
          "text": [
            "Epoch  31: Train Loss: 0.1087, Val Loss: 0.1284, Val AUC: 0.8548\n"
          ]
        },
        {
          "output_type": "stream",
          "name": "stderr",
          "text": [
            "Training: 100%|██████████| 37/37 [00:26<00:00,  1.39it/s, Loss=0.0569]\n",
            "Validation: 100%|██████████| 12/12 [00:06<00:00,  1.95it/s]\n"
          ]
        },
        {
          "output_type": "stream",
          "name": "stdout",
          "text": [
            "Epoch  32: Train Loss: 0.1046, Val Loss: 0.1220, Val AUC: 0.8689\n"
          ]
        },
        {
          "output_type": "stream",
          "name": "stderr",
          "text": [
            "Training: 100%|██████████| 37/37 [00:27<00:00,  1.35it/s, Loss=0.0951]\n",
            "Validation: 100%|██████████| 12/12 [00:06<00:00,  1.86it/s]\n"
          ]
        },
        {
          "output_type": "stream",
          "name": "stdout",
          "text": [
            "Epoch  33: Train Loss: 0.1074, Val Loss: 0.1284, Val AUC: 0.8522\n",
            "⏹️ Early stopping at epoch 33\n"
          ]
        },
        {
          "output_type": "stream",
          "name": "stderr",
          "text": [
            "Testing: 100%|██████████| 14/14 [00:08<00:00,  1.66it/s]\n"
          ]
        },
        {
          "output_type": "stream",
          "name": "stdout",
          "text": [
            "\n",
            "🎯 Best validation AUC: 0.9297\n",
            "📊Test Metrics for 40X magnification:\n",
            "  Accuracy: 0.8186\n",
            "  Precision: 0.9202\n",
            "  Recall: 0.7568\n",
            "  Specificity: 0.9066\n",
            "  F1: 0.8305\n",
            "  Auc_roc: 0.8922\n"
          ]
        },
        {
          "output_type": "display_data",
          "data": {
            "text/plain": [
              "<Figure size 800x600 with 2 Axes>"
            ],
            "image/png": "[encoded data removed]"
          },
          "metadata": {}
        },
        {
          "output_type": "stream",
          "name": "stdout",
          "text": [
            "\n",
            "============================================================\n",
            "🔬 Training on 100X magnification\n",
            "🧬 Using Mixup: True, Focal Loss: True\n",
            "============================================================\n"
          ]
        },
        {
          "output_type": "stream",
          "name": "stderr",
          "text": [
            "Training: 100%|██████████| 38/38 [00:28<00:00,  1.36it/s, Loss=0.1415]\n",
            "Validation: 100%|██████████| 13/13 [00:06<00:00,  2.06it/s]\n"
          ]
        },
        {
          "output_type": "stream",
          "name": "stdout",
          "text": [
            "Epoch   1: Train Loss: 0.1428, Val Loss: 0.1317, Val AUC: 0.8847\n"
          ]
        },
        {
          "output_type": "stream",
          "name": "stderr",
          "text": [
            "Training: 100%|██████████| 38/38 [00:28<00:00,  1.35it/s, Loss=0.1923]\n",
            "Validation: 100%|██████████| 13/13 [00:06<00:00,  2.08it/s]\n"
          ]
        },
        {
          "output_type": "stream",
          "name": "stdout",
          "text": [
            "Epoch   2: Train Loss: 0.1333, Val Loss: 0.1450, Val AUC: 0.8705\n"
          ]
        },
        {
          "output_type": "stream",
          "name": "stderr",
          "text": [
            "Training: 100%|██████████| 38/38 [00:27<00:00,  1.37it/s, Loss=0.1447]\n",
            "Validation: 100%|██████████| 13/13 [00:07<00:00,  1.78it/s]\n"
          ]
        },
        {
          "output_type": "stream",
          "name": "stdout",
          "text": [
            "Epoch   3: Train Loss: 0.1263, Val Loss: 0.1578, Val AUC: 0.8028\n"
          ]
        },
        {
          "output_type": "stream",
          "name": "stderr",
          "text": [
            "Training: 100%|██████████| 38/38 [00:27<00:00,  1.37it/s, Loss=0.1472]\n",
            "Validation: 100%|██████████| 13/13 [00:06<00:00,  2.07it/s]\n"
          ]
        },
        {
          "output_type": "stream",
          "name": "stdout",
          "text": [
            "Epoch   4: Train Loss: 0.1322, Val Loss: 0.1289, Val AUC: 0.8666\n"
          ]
        },
        {
          "output_type": "stream",
          "name": "stderr",
          "text": [
            "Training: 100%|██████████| 38/38 [00:28<00:00,  1.34it/s, Loss=0.1833]\n",
            "Validation: 100%|██████████| 13/13 [00:05<00:00,  2.17it/s]\n"
          ]
        },
        {
          "output_type": "stream",
          "name": "stdout",
          "text": [
            "Epoch   5: Train Loss: 0.1200, Val Loss: 0.1673, Val AUC: 0.8273\n"
          ]
        },
        {
          "output_type": "stream",
          "name": "stderr",
          "text": [
            "Training: 100%|██████████| 38/38 [00:27<00:00,  1.36it/s, Loss=0.0905]\n",
            "Validation: 100%|██████████| 13/13 [00:07<00:00,  1.83it/s]\n"
          ]
        },
        {
          "output_type": "stream",
          "name": "stdout",
          "text": [
            "Epoch   6: Train Loss: 0.1195, Val Loss: 0.1395, Val AUC: 0.8557\n"
          ]
        },
        {
          "output_type": "stream",
          "name": "stderr",
          "text": [
            "Training: 100%|██████████| 38/38 [00:27<00:00,  1.37it/s, Loss=0.1060]\n",
            "Validation: 100%|██████████| 13/13 [00:06<00:00,  2.15it/s]\n"
          ]
        },
        {
          "output_type": "stream",
          "name": "stdout",
          "text": [
            "Epoch   7: Train Loss: 0.1290, Val Loss: 0.1486, Val AUC: 0.7986\n"
          ]
        },
        {
          "output_type": "stream",
          "name": "stderr",
          "text": [
            "Training: 100%|██████████| 38/38 [00:28<00:00,  1.34it/s, Loss=0.1284]\n",
            "Validation: 100%|██████████| 13/13 [00:05<00:00,  2.18it/s]\n"
          ]
        },
        {
          "output_type": "stream",
          "name": "stdout",
          "text": [
            "Epoch   8: Train Loss: 0.1224, Val Loss: 0.1319, Val AUC: 0.8650\n"
          ]
        },
        {
          "output_type": "stream",
          "name": "stderr",
          "text": [
            "Training: 100%|██████████| 38/38 [00:28<00:00,  1.35it/s, Loss=0.0622]\n",
            "Validation: 100%|██████████| 13/13 [00:07<00:00,  1.79it/s]\n"
          ]
        },
        {
          "output_type": "stream",
          "name": "stdout",
          "text": [
            "Epoch   9: Train Loss: 0.1042, Val Loss: 0.1358, Val AUC: 0.8705\n"
          ]
        },
        {
          "output_type": "stream",
          "name": "stderr",
          "text": [
            "Training: 100%|██████████| 38/38 [00:28<00:00,  1.34it/s, Loss=0.1189]\n",
            "Validation: 100%|██████████| 13/13 [00:06<00:00,  2.07it/s]\n"
          ]
        },
        {
          "output_type": "stream",
          "name": "stdout",
          "text": [
            "Epoch  10: Train Loss: 0.1247, Val Loss: 0.1297, Val AUC: 0.8570\n"
          ]
        },
        {
          "output_type": "stream",
          "name": "stderr",
          "text": [
            "Training: 100%|██████████| 38/38 [00:28<00:00,  1.32it/s, Loss=0.1470]\n",
            "Validation: 100%|██████████| 13/13 [00:06<00:00,  2.06it/s]\n"
          ]
        },
        {
          "output_type": "stream",
          "name": "stdout",
          "text": [
            "Epoch  11: Train Loss: 0.1066, Val Loss: 0.1046, Val AUC: 0.8965\n"
          ]
        },
        {
          "output_type": "stream",
          "name": "stderr",
          "text": [
            "Training: 100%|██████████| 38/38 [00:27<00:00,  1.37it/s, Loss=0.1670]\n",
            "Validation: 100%|██████████| 13/13 [00:07<00:00,  1.81it/s]\n"
          ]
        },
        {
          "output_type": "stream",
          "name": "stdout",
          "text": [
            "Epoch  12: Train Loss: 0.1185, Val Loss: 0.1210, Val AUC: 0.8672\n"
          ]
        },
        {
          "output_type": "stream",
          "name": "stderr",
          "text": [
            "Training: 100%|██████████| 38/38 [00:27<00:00,  1.36it/s, Loss=0.1206]\n",
            "Validation: 100%|██████████| 13/13 [00:06<00:00,  1.95it/s]\n"
          ]
        },
        {
          "output_type": "stream",
          "name": "stdout",
          "text": [
            "Epoch  13: Train Loss: 0.1170, Val Loss: 0.1333, Val AUC: 0.8733\n"
          ]
        },
        {
          "output_type": "stream",
          "name": "stderr",
          "text": [
            "Training: 100%|██████████| 38/38 [00:27<00:00,  1.36it/s, Loss=0.1053]\n",
            "Validation: 100%|██████████| 13/13 [00:06<00:00,  2.14it/s]\n"
          ]
        },
        {
          "output_type": "stream",
          "name": "stdout",
          "text": [
            "Epoch  14: Train Loss: 0.1211, Val Loss: 0.1192, Val AUC: 0.9043\n"
          ]
        },
        {
          "output_type": "stream",
          "name": "stderr",
          "text": [
            "Training: 100%|██████████| 38/38 [00:27<00:00,  1.38it/s, Loss=0.1045]\n",
            "Validation: 100%|██████████| 13/13 [00:07<00:00,  1.85it/s]\n"
          ]
        },
        {
          "output_type": "stream",
          "name": "stdout",
          "text": [
            "Epoch  15: Train Loss: 0.1145, Val Loss: 0.1274, Val AUC: 0.8617\n"
          ]
        },
        {
          "output_type": "stream",
          "name": "stderr",
          "text": [
            "Training: 100%|██████████| 38/38 [00:27<00:00,  1.38it/s, Loss=0.0926]\n",
            "Validation: 100%|██████████| 13/13 [00:06<00:00,  2.16it/s]\n"
          ]
        },
        {
          "output_type": "stream",
          "name": "stdout",
          "text": [
            "Epoch  16: Train Loss: 0.1195, Val Loss: 0.1289, Val AUC: 0.8861\n"
          ]
        },
        {
          "output_type": "stream",
          "name": "stderr",
          "text": [
            "Training: 100%|██████████| 38/38 [00:28<00:00,  1.35it/s, Loss=0.2628]\n",
            "Validation: 100%|██████████| 13/13 [00:05<00:00,  2.18it/s]\n"
          ]
        },
        {
          "output_type": "stream",
          "name": "stdout",
          "text": [
            "Epoch  17: Train Loss: 0.1018, Val Loss: 0.1225, Val AUC: 0.8980\n"
          ]
        },
        {
          "output_type": "stream",
          "name": "stderr",
          "text": [
            "Training: 100%|██████████| 38/38 [00:27<00:00,  1.38it/s, Loss=0.1209]\n",
            "Validation: 100%|██████████| 13/13 [00:07<00:00,  1.82it/s]\n"
          ]
        },
        {
          "output_type": "stream",
          "name": "stdout",
          "text": [
            "Epoch  18: Train Loss: 0.1095, Val Loss: 0.1337, Val AUC: 0.8572\n"
          ]
        },
        {
          "output_type": "stream",
          "name": "stderr",
          "text": [
            "Training: 100%|██████████| 38/38 [00:27<00:00,  1.37it/s, Loss=0.1485]\n",
            "Validation: 100%|██████████| 13/13 [00:06<00:00,  2.12it/s]\n"
          ]
        },
        {
          "output_type": "stream",
          "name": "stdout",
          "text": [
            "Epoch  19: Train Loss: 0.1060, Val Loss: 0.1140, Val AUC: 0.8824\n"
          ]
        },
        {
          "output_type": "stream",
          "name": "stderr",
          "text": [
            "Training: 100%|██████████| 38/38 [00:28<00:00,  1.33it/s, Loss=0.0778]\n",
            "Validation: 100%|██████████| 13/13 [00:06<00:00,  2.15it/s]\n"
          ]
        },
        {
          "output_type": "stream",
          "name": "stdout",
          "text": [
            "Epoch  20: Train Loss: 0.1058, Val Loss: 0.1274, Val AUC: 0.8409\n"
          ]
        },
        {
          "output_type": "stream",
          "name": "stderr",
          "text": [
            "Training: 100%|██████████| 38/38 [00:27<00:00,  1.38it/s, Loss=0.1150]\n",
            "Validation: 100%|██████████| 13/13 [00:06<00:00,  1.86it/s]\n"
          ]
        },
        {
          "output_type": "stream",
          "name": "stdout",
          "text": [
            "Epoch  21: Train Loss: 0.1144, Val Loss: 0.1133, Val AUC: 0.8854\n"
          ]
        },
        {
          "output_type": "stream",
          "name": "stderr",
          "text": [
            "Training: 100%|██████████| 38/38 [00:27<00:00,  1.37it/s, Loss=0.1597]\n",
            "Validation: 100%|██████████| 13/13 [00:05<00:00,  2.19it/s]\n"
          ]
        },
        {
          "output_type": "stream",
          "name": "stdout",
          "text": [
            "Epoch  22: Train Loss: 0.1158, Val Loss: 0.1067, Val AUC: 0.8954\n"
          ]
        },
        {
          "output_type": "stream",
          "name": "stderr",
          "text": [
            "Training: 100%|██████████| 38/38 [00:28<00:00,  1.34it/s, Loss=0.1392]\n",
            "Validation: 100%|██████████| 13/13 [00:06<00:00,  2.16it/s]\n"
          ]
        },
        {
          "output_type": "stream",
          "name": "stdout",
          "text": [
            "Epoch  23: Train Loss: 0.1245, Val Loss: 0.1439, Val AUC: 0.8290\n"
          ]
        },
        {
          "output_type": "stream",
          "name": "stderr",
          "text": [
            "Training: 100%|██████████| 38/38 [00:27<00:00,  1.37it/s, Loss=0.0691]\n",
            "Validation: 100%|██████████| 13/13 [00:07<00:00,  1.82it/s]\n"
          ]
        },
        {
          "output_type": "stream",
          "name": "stdout",
          "text": [
            "Epoch  24: Train Loss: 0.1065, Val Loss: 0.1172, Val AUC: 0.8940\n"
          ]
        },
        {
          "output_type": "stream",
          "name": "stderr",
          "text": [
            "Training: 100%|██████████| 38/38 [00:27<00:00,  1.37it/s, Loss=0.1370]\n",
            "Validation: 100%|██████████| 13/13 [00:06<00:00,  2.15it/s]\n"
          ]
        },
        {
          "output_type": "stream",
          "name": "stdout",
          "text": [
            "Epoch  25: Train Loss: 0.1245, Val Loss: 0.1161, Val AUC: 0.8760\n"
          ]
        },
        {
          "output_type": "stream",
          "name": "stderr",
          "text": [
            "Training: 100%|██████████| 38/38 [00:28<00:00,  1.34it/s, Loss=0.1522]\n",
            "Validation: 100%|██████████| 13/13 [00:06<00:00,  2.05it/s]\n"
          ]
        },
        {
          "output_type": "stream",
          "name": "stdout",
          "text": [
            "Epoch  26: Train Loss: 0.1198, Val Loss: 0.1269, Val AUC: 0.8550\n"
          ]
        },
        {
          "output_type": "stream",
          "name": "stderr",
          "text": [
            "Training: 100%|██████████| 38/38 [00:27<00:00,  1.38it/s, Loss=0.0730]\n",
            "Validation: 100%|██████████| 13/13 [00:07<00:00,  1.78it/s]\n"
          ]
        },
        {
          "output_type": "stream",
          "name": "stdout",
          "text": [
            "Epoch  27: Train Loss: 0.1075, Val Loss: 0.1343, Val AUC: 0.8562\n"
          ]
        },
        {
          "output_type": "stream",
          "name": "stderr",
          "text": [
            "Training: 100%|██████████| 38/38 [00:27<00:00,  1.38it/s, Loss=0.0838]\n",
            "Validation: 100%|██████████| 13/13 [00:06<00:00,  2.12it/s]\n"
          ]
        },
        {
          "output_type": "stream",
          "name": "stdout",
          "text": [
            "Epoch  28: Train Loss: 0.1097, Val Loss: 0.1307, Val AUC: 0.8521\n"
          ]
        },
        {
          "output_type": "stream",
          "name": "stderr",
          "text": [
            "Training: 100%|██████████| 38/38 [00:27<00:00,  1.36it/s, Loss=0.1442]\n",
            "Validation: 100%|██████████| 13/13 [00:06<00:00,  1.95it/s]\n"
          ]
        },
        {
          "output_type": "stream",
          "name": "stdout",
          "text": [
            "Epoch  29: Train Loss: 0.1068, Val Loss: 0.1282, Val AUC: 0.8712\n",
            "⏹️ Early stopping at epoch 29\n"
          ]
        },
        {
          "output_type": "stream",
          "name": "stderr",
          "text": [
            "Testing: 100%|██████████| 15/15 [00:09<00:00,  1.62it/s]\n"
          ]
        },
        {
          "output_type": "stream",
          "name": "stdout",
          "text": [
            "\n",
            "🎯 Best validation AUC: 0.9043\n",
            "📊Test Metrics for 100X magnification:\n",
            "  Accuracy: 0.8176\n",
            "  Precision: 0.9688\n",
            "  Recall: 0.7306\n",
            "  Specificity: 0.9611\n",
            "  F1: 0.8330\n",
            "  Auc_roc: 0.9040\n"
          ]
        },
        {
          "output_type": "display_data",
          "data": {
            "text/plain": [
              "<Figure size 800x600 with 2 Axes>"
            ],
            "image/png": "[encoded data removed]"
          },
          "metadata": {}
        },
        {
          "output_type": "stream",
          "name": "stdout",
          "text": [
            "\n",
            "============================================================\n",
            "🔬 Training on 200X magnification\n",
            "🧬 Using Mixup: True, Focal Loss: True\n",
            "============================================================\n"
          ]
        },
        {
          "output_type": "stream",
          "name": "stderr",
          "text": [
            "Training: 100%|██████████| 38/38 [00:27<00:00,  1.37it/s, Loss=0.2444]\n",
            "Validation: 100%|██████████| 12/12 [00:06<00:00,  1.99it/s]\n"
          ]
        },
        {
          "output_type": "stream",
          "name": "stdout",
          "text": [
            "Epoch   1: Train Loss: 0.1418, Val Loss: 0.1142, Val AUC: 0.8415\n"
          ]
        },
        {
          "output_type": "stream",
          "name": "stderr",
          "text": [
            "Training: 100%|██████████| 38/38 [00:28<00:00,  1.36it/s, Loss=0.0938]\n",
            "Validation: 100%|██████████| 12/12 [00:05<00:00,  2.02it/s]\n"
          ]
        },
        {
          "output_type": "stream",
          "name": "stdout",
          "text": [
            "Epoch   2: Train Loss: 0.1200, Val Loss: 0.1116, Val AUC: 0.8570\n"
          ]
        },
        {
          "output_type": "stream",
          "name": "stderr",
          "text": [
            "Training: 100%|██████████| 38/38 [00:27<00:00,  1.40it/s, Loss=0.2782]\n",
            "Validation: 100%|██████████| 12/12 [00:06<00:00,  1.83it/s]\n"
          ]
        },
        {
          "output_type": "stream",
          "name": "stdout",
          "text": [
            "Epoch   3: Train Loss: 0.1194, Val Loss: 0.1132, Val AUC: 0.8612\n"
          ]
        },
        {
          "output_type": "stream",
          "name": "stderr",
          "text": [
            "Training: 100%|██████████| 38/38 [00:27<00:00,  1.40it/s, Loss=0.0328]\n",
            "Validation: 100%|██████████| 12/12 [00:05<00:00,  2.08it/s]\n"
          ]
        },
        {
          "output_type": "stream",
          "name": "stdout",
          "text": [
            "Epoch   4: Train Loss: 0.1088, Val Loss: 0.1258, Val AUC: 0.8319\n"
          ]
        },
        {
          "output_type": "stream",
          "name": "stderr",
          "text": [
            "Training: 100%|██████████| 38/38 [00:27<00:00,  1.40it/s, Loss=0.1370]\n",
            "Validation: 100%|██████████| 12/12 [00:06<00:00,  1.76it/s]\n"
          ]
        },
        {
          "output_type": "stream",
          "name": "stdout",
          "text": [
            "Epoch   5: Train Loss: 0.1236, Val Loss: 0.0959, Val AUC: 0.9064\n"
          ]
        },
        {
          "output_type": "stream",
          "name": "stderr",
          "text": [
            "Training: 100%|██████████| 38/38 [00:26<00:00,  1.41it/s, Loss=0.3637]\n",
            "Validation: 100%|██████████| 12/12 [00:05<00:00,  2.04it/s]\n"
          ]
        },
        {
          "output_type": "stream",
          "name": "stdout",
          "text": [
            "Epoch   6: Train Loss: 0.1290, Val Loss: 0.1031, Val AUC: 0.8678\n"
          ]
        },
        {
          "output_type": "stream",
          "name": "stderr",
          "text": [
            "Training: 100%|██████████| 38/38 [00:27<00:00,  1.40it/s, Loss=0.1716]\n",
            "Validation: 100%|██████████| 12/12 [00:06<00:00,  1.80it/s]\n"
          ]
        },
        {
          "output_type": "stream",
          "name": "stdout",
          "text": [
            "Epoch   7: Train Loss: 0.1180, Val Loss: 0.1092, Val AUC: 0.8694\n"
          ]
        },
        {
          "output_type": "stream",
          "name": "stderr",
          "text": [
            "Training: 100%|██████████| 38/38 [00:27<00:00,  1.40it/s, Loss=0.2838]\n",
            "Validation: 100%|██████████| 12/12 [00:06<00:00,  1.98it/s]\n"
          ]
        },
        {
          "output_type": "stream",
          "name": "stdout",
          "text": [
            "Epoch   8: Train Loss: 0.1130, Val Loss: 0.1152, Val AUC: 0.8469\n"
          ]
        },
        {
          "output_type": "stream",
          "name": "stderr",
          "text": [
            "Training: 100%|██████████| 38/38 [00:27<00:00,  1.39it/s, Loss=0.1057]\n",
            "Validation: 100%|██████████| 12/12 [00:05<00:00,  2.07it/s]\n"
          ]
        },
        {
          "output_type": "stream",
          "name": "stdout",
          "text": [
            "Epoch   9: Train Loss: 0.1198, Val Loss: 0.1267, Val AUC: 0.8190\n"
          ]
        },
        {
          "output_type": "stream",
          "name": "stderr",
          "text": [
            "Training: 100%|██████████| 38/38 [00:27<00:00,  1.40it/s, Loss=0.2121]\n",
            "Validation: 100%|██████████| 12/12 [00:06<00:00,  1.74it/s]\n"
          ]
        },
        {
          "output_type": "stream",
          "name": "stdout",
          "text": [
            "Epoch  10: Train Loss: 0.1218, Val Loss: 0.1000, Val AUC: 0.9024\n"
          ]
        },
        {
          "output_type": "stream",
          "name": "stderr",
          "text": [
            "Training: 100%|██████████| 38/38 [00:27<00:00,  1.38it/s, Loss=0.0619]\n",
            "Validation: 100%|██████████| 12/12 [00:05<00:00,  2.09it/s]\n"
          ]
        },
        {
          "output_type": "stream",
          "name": "stdout",
          "text": [
            "Epoch  11: Train Loss: 0.1221, Val Loss: 0.1202, Val AUC: 0.8191\n"
          ]
        },
        {
          "output_type": "stream",
          "name": "stderr",
          "text": [
            "Training: 100%|██████████| 38/38 [00:27<00:00,  1.40it/s, Loss=0.2436]\n",
            "Validation: 100%|██████████| 12/12 [00:06<00:00,  1.78it/s]\n"
          ]
        },
        {
          "output_type": "stream",
          "name": "stdout",
          "text": [
            "Epoch  12: Train Loss: 0.1151, Val Loss: 0.1067, Val AUC: 0.8825\n"
          ]
        },
        {
          "output_type": "stream",
          "name": "stderr",
          "text": [
            "Training: 100%|██████████| 38/38 [00:27<00:00,  1.40it/s, Loss=0.1375]\n",
            "Validation: 100%|██████████| 12/12 [00:05<00:00,  2.01it/s]\n"
          ]
        },
        {
          "output_type": "stream",
          "name": "stdout",
          "text": [
            "Epoch  13: Train Loss: 0.1192, Val Loss: 0.1375, Val AUC: 0.8370\n"
          ]
        },
        {
          "output_type": "stream",
          "name": "stderr",
          "text": [
            "Training: 100%|██████████| 38/38 [00:27<00:00,  1.38it/s, Loss=0.1363]\n",
            "Validation: 100%|██████████| 12/12 [00:05<00:00,  2.11it/s]\n"
          ]
        },
        {
          "output_type": "stream",
          "name": "stdout",
          "text": [
            "Epoch  14: Train Loss: 0.1173, Val Loss: 0.1134, Val AUC: 0.8599\n"
          ]
        },
        {
          "output_type": "stream",
          "name": "stderr",
          "text": [
            "Training: 100%|██████████| 38/38 [00:27<00:00,  1.40it/s, Loss=0.0234]\n",
            "Validation: 100%|██████████| 12/12 [00:06<00:00,  1.78it/s]\n"
          ]
        },
        {
          "output_type": "stream",
          "name": "stdout",
          "text": [
            "Epoch  15: Train Loss: 0.1131, Val Loss: 0.1092, Val AUC: 0.8621\n"
          ]
        },
        {
          "output_type": "stream",
          "name": "stderr",
          "text": [
            "Training: 100%|██████████| 38/38 [00:27<00:00,  1.41it/s, Loss=0.3525]\n",
            "Validation: 100%|██████████| 12/12 [00:05<00:00,  2.03it/s]\n"
          ]
        },
        {
          "output_type": "stream",
          "name": "stdout",
          "text": [
            "Epoch  16: Train Loss: 0.1295, Val Loss: 0.1148, Val AUC: 0.8519\n"
          ]
        },
        {
          "output_type": "stream",
          "name": "stderr",
          "text": [
            "Training: 100%|██████████| 38/38 [00:26<00:00,  1.41it/s, Loss=0.0465]\n",
            "Validation: 100%|██████████| 12/12 [00:07<00:00,  1.71it/s]\n"
          ]
        },
        {
          "output_type": "stream",
          "name": "stdout",
          "text": [
            "Epoch  17: Train Loss: 0.1171, Val Loss: 0.1111, Val AUC: 0.8509\n"
          ]
        },
        {
          "output_type": "stream",
          "name": "stderr",
          "text": [
            "Training: 100%|██████████| 38/38 [00:27<00:00,  1.40it/s, Loss=0.1758]\n",
            "Validation: 100%|██████████| 12/12 [00:05<00:00,  2.08it/s]\n"
          ]
        },
        {
          "output_type": "stream",
          "name": "stdout",
          "text": [
            "Epoch  18: Train Loss: 0.1013, Val Loss: 0.1045, Val AUC: 0.8677\n"
          ]
        },
        {
          "output_type": "stream",
          "name": "stderr",
          "text": [
            "Training: 100%|██████████| 38/38 [00:27<00:00,  1.37it/s, Loss=0.1371]\n",
            "Validation: 100%|██████████| 12/12 [00:05<00:00,  2.00it/s]\n"
          ]
        },
        {
          "output_type": "stream",
          "name": "stdout",
          "text": [
            "Epoch  19: Train Loss: 0.1061, Val Loss: 0.1046, Val AUC: 0.8691\n"
          ]
        },
        {
          "output_type": "stream",
          "name": "stderr",
          "text": [
            "Training: 100%|██████████| 38/38 [00:27<00:00,  1.38it/s, Loss=0.0894]\n",
            "Validation: 100%|██████████| 12/12 [00:06<00:00,  1.80it/s]\n"
          ]
        },
        {
          "output_type": "stream",
          "name": "stdout",
          "text": [
            "Epoch  20: Train Loss: 0.1006, Val Loss: 0.1112, Val AUC: 0.8501\n",
            "⏹️ Early stopping at epoch 20\n"
          ]
        },
        {
          "output_type": "stream",
          "name": "stderr",
          "text": [
            "Testing: 100%|██████████| 14/14 [00:07<00:00,  1.76it/s]\n"
          ]
        },
        {
          "output_type": "stream",
          "name": "stdout",
          "text": [
            "\n",
            "🎯 Best validation AUC: 0.9064\n",
            "📊Test Metrics for 200X magnification:\n",
            "  Accuracy: 0.8555\n",
            "  Precision: 0.8973\n",
            "  Recall: 0.8645\n",
            "  Specificity: 0.8412\n",
            "  F1: 0.8806\n",
            "  Auc_roc: 0.9262\n"
          ]
        },
        {
          "output_type": "display_data",
          "data": {
            "text/plain": [
              "<Figure size 800x600 with 2 Axes>"
            ],
            "image/png": "[encoded data removed]"
          },
          "metadata": {}
        },
        {
          "output_type": "stream",
          "name": "stdout",
          "text": [
            "\n",
            "============================================================\n",
            "🔬 Training on 400X magnification\n",
            "🧬 Using Mixup: True, Focal Loss: True\n",
            "============================================================\n"
          ]
        },
        {
          "output_type": "stream",
          "name": "stderr",
          "text": [
            "Training: 100%|██████████| 34/34 [00:25<00:00,  1.34it/s, Loss=0.1458]\n",
            "Validation: 100%|██████████| 12/12 [00:07<00:00,  1.71it/s]\n"
          ]
        },
        {
          "output_type": "stream",
          "name": "stdout",
          "text": [
            "Epoch   1: Train Loss: 0.1555, Val Loss: 0.1209, Val AUC: 0.8638\n"
          ]
        },
        {
          "output_type": "stream",
          "name": "stderr",
          "text": [
            "Training: 100%|██████████| 34/34 [00:24<00:00,  1.37it/s, Loss=0.1819]\n",
            "Validation: 100%|██████████| 12/12 [00:05<00:00,  2.18it/s]\n"
          ]
        },
        {
          "output_type": "stream",
          "name": "stdout",
          "text": [
            "Epoch   2: Train Loss: 0.1496, Val Loss: 0.1132, Val AUC: 0.9095\n"
          ]
        },
        {
          "output_type": "stream",
          "name": "stderr",
          "text": [
            "Training: 100%|██████████| 34/34 [00:24<00:00,  1.37it/s, Loss=0.1621]\n",
            "Validation: 100%|██████████| 12/12 [00:05<00:00,  2.12it/s]\n"
          ]
        },
        {
          "output_type": "stream",
          "name": "stdout",
          "text": [
            "Epoch   3: Train Loss: 0.1384, Val Loss: 0.1333, Val AUC: 0.8723\n"
          ]
        },
        {
          "output_type": "stream",
          "name": "stderr",
          "text": [
            "Training: 100%|██████████| 34/34 [00:24<00:00,  1.40it/s, Loss=0.2353]\n",
            "Validation: 100%|██████████| 12/12 [00:06<00:00,  1.81it/s]\n"
          ]
        },
        {
          "output_type": "stream",
          "name": "stdout",
          "text": [
            "Epoch   4: Train Loss: 0.1343, Val Loss: 0.1159, Val AUC: 0.8638\n"
          ]
        },
        {
          "output_type": "stream",
          "name": "stderr",
          "text": [
            "Training: 100%|██████████| 34/34 [00:24<00:00,  1.36it/s, Loss=0.0667]\n",
            "Validation: 100%|██████████| 12/12 [00:05<00:00,  2.18it/s]\n"
          ]
        },
        {
          "output_type": "stream",
          "name": "stdout",
          "text": [
            "Epoch   5: Train Loss: 0.1251, Val Loss: 0.1369, Val AUC: 0.8538\n"
          ]
        },
        {
          "output_type": "stream",
          "name": "stderr",
          "text": [
            "Training: 100%|██████████| 34/34 [00:24<00:00,  1.37it/s, Loss=0.1710]\n",
            "Validation: 100%|██████████| 12/12 [00:06<00:00,  1.85it/s]\n"
          ]
        },
        {
          "output_type": "stream",
          "name": "stdout",
          "text": [
            "Epoch   6: Train Loss: 0.1204, Val Loss: 0.1086, Val AUC: 0.9139\n"
          ]
        },
        {
          "output_type": "stream",
          "name": "stderr",
          "text": [
            "Training: 100%|██████████| 34/34 [00:23<00:00,  1.42it/s, Loss=0.0619]\n",
            "Validation: 100%|██████████| 12/12 [00:06<00:00,  2.00it/s]\n"
          ]
        },
        {
          "output_type": "stream",
          "name": "stdout",
          "text": [
            "Epoch   7: Train Loss: 0.1305, Val Loss: 0.1321, Val AUC: 0.8773\n"
          ]
        },
        {
          "output_type": "stream",
          "name": "stderr",
          "text": [
            "Training: 100%|██████████| 34/34 [00:24<00:00,  1.38it/s, Loss=0.0932]\n",
            "Validation: 100%|██████████| 12/12 [00:05<00:00,  2.17it/s]\n"
          ]
        },
        {
          "output_type": "stream",
          "name": "stdout",
          "text": [
            "Epoch   8: Train Loss: 0.1257, Val Loss: 0.1297, Val AUC: 0.8962\n"
          ]
        },
        {
          "output_type": "stream",
          "name": "stderr",
          "text": [
            "Training: 100%|██████████| 34/34 [00:24<00:00,  1.37it/s, Loss=0.0540]\n",
            "Validation: 100%|██████████| 12/12 [00:06<00:00,  1.82it/s]\n"
          ]
        },
        {
          "output_type": "stream",
          "name": "stdout",
          "text": [
            "Epoch   9: Train Loss: 0.1338, Val Loss: 0.1429, Val AUC: 0.8509\n"
          ]
        },
        {
          "output_type": "stream",
          "name": "stderr",
          "text": [
            "Training: 100%|██████████| 34/34 [00:24<00:00,  1.38it/s, Loss=0.1392]\n",
            "Validation: 100%|██████████| 12/12 [00:05<00:00,  2.15it/s]\n"
          ]
        },
        {
          "output_type": "stream",
          "name": "stdout",
          "text": [
            "Epoch  10: Train Loss: 0.1235, Val Loss: 0.1484, Val AUC: 0.8787\n"
          ]
        },
        {
          "output_type": "stream",
          "name": "stderr",
          "text": [
            "Training: 100%|██████████| 34/34 [00:24<00:00,  1.39it/s, Loss=0.1355]\n",
            "Validation: 100%|██████████| 12/12 [00:05<00:00,  2.23it/s]\n"
          ]
        },
        {
          "output_type": "stream",
          "name": "stdout",
          "text": [
            "Epoch  11: Train Loss: 0.1199, Val Loss: 0.1109, Val AUC: 0.8966\n"
          ]
        },
        {
          "output_type": "stream",
          "name": "stderr",
          "text": [
            "Training: 100%|██████████| 34/34 [00:24<00:00,  1.38it/s, Loss=0.2451]\n",
            "Validation: 100%|██████████| 12/12 [00:06<00:00,  1.81it/s]\n"
          ]
        },
        {
          "output_type": "stream",
          "name": "stdout",
          "text": [
            "Epoch  12: Train Loss: 0.1222, Val Loss: 0.1220, Val AUC: 0.8983\n"
          ]
        },
        {
          "output_type": "stream",
          "name": "stderr",
          "text": [
            "Training: 100%|██████████| 34/34 [00:24<00:00,  1.41it/s, Loss=0.3592]\n",
            "Validation: 100%|██████████| 12/12 [00:05<00:00,  2.13it/s]\n"
          ]
        },
        {
          "output_type": "stream",
          "name": "stdout",
          "text": [
            "Epoch  13: Train Loss: 0.1277, Val Loss: 0.1297, Val AUC: 0.8622\n"
          ]
        },
        {
          "output_type": "stream",
          "name": "stderr",
          "text": [
            "Training: 100%|██████████| 34/34 [00:24<00:00,  1.40it/s, Loss=0.0868]\n",
            "Validation: 100%|██████████| 12/12 [00:05<00:00,  2.20it/s]\n"
          ]
        },
        {
          "output_type": "stream",
          "name": "stdout",
          "text": [
            "Epoch  14: Train Loss: 0.1362, Val Loss: 0.1176, Val AUC: 0.8950\n"
          ]
        },
        {
          "output_type": "stream",
          "name": "stderr",
          "text": [
            "Training: 100%|██████████| 34/34 [00:24<00:00,  1.39it/s, Loss=0.1143]\n",
            "Validation: 100%|██████████| 12/12 [00:06<00:00,  1.82it/s]\n"
          ]
        },
        {
          "output_type": "stream",
          "name": "stdout",
          "text": [
            "Epoch  15: Train Loss: 0.1223, Val Loss: 0.1331, Val AUC: 0.8521\n"
          ]
        },
        {
          "output_type": "stream",
          "name": "stderr",
          "text": [
            "Training: 100%|██████████| 34/34 [00:24<00:00,  1.41it/s, Loss=0.0466]\n",
            "Validation: 100%|██████████| 12/12 [00:05<00:00,  2.07it/s]\n"
          ]
        },
        {
          "output_type": "stream",
          "name": "stdout",
          "text": [
            "Epoch  16: Train Loss: 0.1230, Val Loss: 0.1178, Val AUC: 0.9119\n"
          ]
        },
        {
          "output_type": "stream",
          "name": "stderr",
          "text": [
            "Training: 100%|██████████| 34/34 [00:24<00:00,  1.38it/s, Loss=0.0764]\n",
            "Validation: 100%|██████████| 12/12 [00:05<00:00,  2.14it/s]\n"
          ]
        },
        {
          "output_type": "stream",
          "name": "stdout",
          "text": [
            "Epoch  17: Train Loss: 0.1093, Val Loss: 0.1302, Val AUC: 0.8772\n"
          ]
        },
        {
          "output_type": "stream",
          "name": "stderr",
          "text": [
            "Training: 100%|██████████| 34/34 [00:24<00:00,  1.37it/s, Loss=0.0912]\n",
            "Validation: 100%|██████████| 12/12 [00:06<00:00,  1.79it/s]\n"
          ]
        },
        {
          "output_type": "stream",
          "name": "stdout",
          "text": [
            "Epoch  18: Train Loss: 0.1207, Val Loss: 0.1278, Val AUC: 0.8659\n"
          ]
        },
        {
          "output_type": "stream",
          "name": "stderr",
          "text": [
            "Training: 100%|██████████| 34/34 [00:24<00:00,  1.39it/s, Loss=0.0751]\n",
            "Validation: 100%|██████████| 12/12 [00:05<00:00,  2.15it/s]\n"
          ]
        },
        {
          "output_type": "stream",
          "name": "stdout",
          "text": [
            "Epoch  19: Train Loss: 0.1153, Val Loss: 0.1233, Val AUC: 0.8726\n"
          ]
        },
        {
          "output_type": "stream",
          "name": "stderr",
          "text": [
            "Training: 100%|██████████| 34/34 [00:24<00:00,  1.38it/s, Loss=0.3039]\n",
            "Validation: 100%|██████████| 12/12 [00:05<00:00,  2.16it/s]\n"
          ]
        },
        {
          "output_type": "stream",
          "name": "stdout",
          "text": [
            "Epoch  20: Train Loss: 0.1222, Val Loss: 0.1215, Val AUC: 0.8979\n"
          ]
        },
        {
          "output_type": "stream",
          "name": "stderr",
          "text": [
            "Training: 100%|██████████| 34/34 [00:24<00:00,  1.38it/s, Loss=0.0677]\n",
            "Validation: 100%|██████████| 12/12 [00:06<00:00,  1.80it/s]\n"
          ]
        },
        {
          "output_type": "stream",
          "name": "stdout",
          "text": [
            "Epoch  21: Train Loss: 0.1092, Val Loss: 0.1236, Val AUC: 0.8852\n",
            "⏹️ Early stopping at epoch 21\n"
          ]
        },
        {
          "output_type": "stream",
          "name": "stderr",
          "text": [
            "Testing: 100%|██████████| 13/13 [00:07<00:00,  1.74it/s]\n"
          ]
        },
        {
          "output_type": "stream",
          "name": "stdout",
          "text": [
            "\n",
            "🎯 Best validation AUC: 0.9139\n",
            "📊Test Metrics for 400X magnification:\n",
            "  Accuracy: 0.8173\n",
            "  Precision: 0.8515\n",
            "  Recall: 0.8369\n",
            "  Specificity: 0.7888\n",
            "  F1: 0.8442\n",
            "  Auc_roc: 0.8716\n"
          ]
        },
        {
          "output_type": "display_data",
          "data": {
            "text/plain": [
              "<Figure size 800x600 with 2 Axes>"
            ],
            "image/png": "[encoded data removed]"
          },
          "metadata": {}
        },
        {
          "output_type": "stream",
          "name": "stdout",
          "text": [
            "\n",
            "============================================================\n",
            "🔬 Training on All magnification\n",
            "🧬 Using Mixup: True, Focal Loss: True\n",
            "============================================================\n"
          ]
        },
        {
          "output_type": "stream",
          "name": "stderr",
          "text": [
            "Training: 100%|██████████| 145/145 [01:44<00:00,  1.38it/s, Loss=0.1006]\n",
            "Validation: 100%|██████████| 48/48 [00:22<00:00,  2.09it/s]\n"
          ]
        },
        {
          "output_type": "stream",
          "name": "stdout",
          "text": [
            "Epoch   1: Train Loss: 0.1432, Val Loss: 0.1237, Val AUC: 0.8847\n"
          ]
        },
        {
          "output_type": "stream",
          "name": "stderr",
          "text": [
            "Training: 100%|██████████| 145/145 [01:44<00:00,  1.39it/s, Loss=0.1539]\n",
            "Validation: 100%|██████████| 48/48 [00:23<00:00,  2.06it/s]\n"
          ]
        },
        {
          "output_type": "stream",
          "name": "stdout",
          "text": [
            "Epoch   2: Train Loss: 0.1335, Val Loss: 0.1162, Val AUC: 0.8738\n"
          ]
        },
        {
          "output_type": "stream",
          "name": "stderr",
          "text": [
            "Training: 100%|██████████| 145/145 [01:45<00:00,  1.37it/s, Loss=0.1050]\n",
            "Validation: 100%|██████████| 48/48 [00:23<00:00,  2.06it/s]\n"
          ]
        },
        {
          "output_type": "stream",
          "name": "stdout",
          "text": [
            "Epoch   3: Train Loss: 0.1264, Val Loss: 0.1017, Val AUC: 0.8799\n"
          ]
        },
        {
          "output_type": "stream",
          "name": "stderr",
          "text": [
            "Training: 100%|██████████| 145/145 [01:44<00:00,  1.38it/s, Loss=0.1058]\n",
            "Validation: 100%|██████████| 48/48 [00:23<00:00,  2.06it/s]\n"
          ]
        },
        {
          "output_type": "stream",
          "name": "stdout",
          "text": [
            "Epoch   4: Train Loss: 0.1220, Val Loss: 0.1001, Val AUC: 0.8941\n"
          ]
        },
        {
          "output_type": "stream",
          "name": "stderr",
          "text": [
            "Training: 100%|██████████| 145/145 [01:45<00:00,  1.37it/s, Loss=0.1272]\n",
            "Validation: 100%|██████████| 48/48 [00:23<00:00,  2.05it/s]\n"
          ]
        },
        {
          "output_type": "stream",
          "name": "stdout",
          "text": [
            "Epoch   5: Train Loss: 0.1267, Val Loss: 0.1382, Val AUC: 0.8364\n"
          ]
        },
        {
          "output_type": "stream",
          "name": "stderr",
          "text": [
            "Training: 100%|██████████| 145/145 [01:45<00:00,  1.38it/s, Loss=0.0681]\n",
            "Validation: 100%|██████████| 48/48 [00:22<00:00,  2.14it/s]\n"
          ]
        },
        {
          "output_type": "stream",
          "name": "stdout",
          "text": [
            "Epoch   6: Train Loss: 0.1184, Val Loss: 0.1192, Val AUC: 0.8529\n"
          ]
        },
        {
          "output_type": "stream",
          "name": "stderr",
          "text": [
            "Training: 100%|██████████| 145/145 [01:46<00:00,  1.36it/s, Loss=0.1499]\n",
            "Validation: 100%|██████████| 48/48 [00:22<00:00,  2.14it/s]\n"
          ]
        },
        {
          "output_type": "stream",
          "name": "stdout",
          "text": [
            "Epoch   7: Train Loss: 0.1260, Val Loss: 0.1195, Val AUC: 0.8843\n"
          ]
        },
        {
          "output_type": "stream",
          "name": "stderr",
          "text": [
            "Training: 100%|██████████| 145/145 [01:47<00:00,  1.35it/s, Loss=0.1432]\n",
            "Validation: 100%|██████████| 48/48 [00:22<00:00,  2.18it/s]\n"
          ]
        },
        {
          "output_type": "stream",
          "name": "stdout",
          "text": [
            "Epoch   8: Train Loss: 0.1198, Val Loss: 0.1164, Val AUC: 0.8558\n"
          ]
        },
        {
          "output_type": "stream",
          "name": "stderr",
          "text": [
            "Training: 100%|██████████| 145/145 [01:47<00:00,  1.36it/s, Loss=0.1213]\n",
            "Validation: 100%|██████████| 48/48 [00:22<00:00,  2.15it/s]\n"
          ]
        },
        {
          "output_type": "stream",
          "name": "stdout",
          "text": [
            "Epoch   9: Train Loss: 0.1211, Val Loss: 0.1271, Val AUC: 0.8893\n"
          ]
        },
        {
          "output_type": "stream",
          "name": "stderr",
          "text": [
            "Training: 100%|██████████| 145/145 [01:46<00:00,  1.36it/s, Loss=0.1590]\n",
            "Validation: 100%|██████████| 48/48 [00:22<00:00,  2.14it/s]\n"
          ]
        },
        {
          "output_type": "stream",
          "name": "stdout",
          "text": [
            "Epoch  10: Train Loss: 0.1193, Val Loss: 0.1169, Val AUC: 0.8749\n"
          ]
        },
        {
          "output_type": "stream",
          "name": "stderr",
          "text": [
            "Training: 100%|██████████| 145/145 [01:46<00:00,  1.36it/s, Loss=0.1054]\n",
            "Validation: 100%|██████████| 48/48 [00:23<00:00,  2.06it/s]\n"
          ]
        },
        {
          "output_type": "stream",
          "name": "stdout",
          "text": [
            "Epoch  11: Train Loss: 0.1204, Val Loss: 0.1263, Val AUC: 0.8966\n"
          ]
        },
        {
          "output_type": "stream",
          "name": "stderr",
          "text": [
            "Training: 100%|██████████| 145/145 [01:44<00:00,  1.38it/s, Loss=0.1333]\n",
            "Validation: 100%|██████████| 48/48 [00:23<00:00,  2.08it/s]\n"
          ]
        },
        {
          "output_type": "stream",
          "name": "stdout",
          "text": [
            "Epoch  12: Train Loss: 0.1159, Val Loss: 0.1278, Val AUC: 0.8576\n"
          ]
        },
        {
          "output_type": "stream",
          "name": "stderr",
          "text": [
            "Training: 100%|██████████| 145/145 [01:44<00:00,  1.39it/s, Loss=0.1473]\n",
            "Validation: 100%|██████████| 48/48 [00:23<00:00,  2.07it/s]\n"
          ]
        },
        {
          "output_type": "stream",
          "name": "stdout",
          "text": [
            "Epoch  13: Train Loss: 0.1217, Val Loss: 0.1194, Val AUC: 0.8893\n"
          ]
        },
        {
          "output_type": "stream",
          "name": "stderr",
          "text": [
            "Training: 100%|██████████| 145/145 [01:43<00:00,  1.40it/s, Loss=0.0554]\n",
            "Validation: 100%|██████████| 48/48 [00:22<00:00,  2.09it/s]\n"
          ]
        },
        {
          "output_type": "stream",
          "name": "stdout",
          "text": [
            "Epoch  14: Train Loss: 0.1208, Val Loss: 0.1030, Val AUC: 0.8921\n"
          ]
        },
        {
          "output_type": "stream",
          "name": "stderr",
          "text": [
            "Training:  83%|████████▎ | 120/145 [01:26<00:11,  2.22it/s, Loss=0.1072]"
          ]
        }
      ]
    },
    {
      "cell_type": "code",
      "source": [],
      "metadata": {
        "id": "Ejgw9HPDGaSQ"
      },
      "execution_count": null,
      "outputs": []
    }
  ]
}