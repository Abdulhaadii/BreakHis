{
  "nbformat": 4,
  "nbformat_minor": 0,
  "metadata": {
    "colab": {
      "provenance": [],
      "gpuType": "T4"
    },
    "kernelspec": {
      "name": "python3",
      "display_name": "Python 3"
    },
    "language_info": {
      "name": "python"
    },
    "accelerator": "GPU"
  },
  "cells": [
    {
      "cell_type": "code",
      "execution_count": 1,
      "metadata": {
        "id": "vhAIm1xOo_-S"
      },
      "outputs": [],
      "source": [
        "# ✅ 1. Imports (Updated for ViT)\n",
        "import os\n",
        "import json\n",
        "import numpy as np\n",
        "import pandas as pd\n",
        "from pathlib import Path\n",
        "from typing import Dict, List, Tuple, Optional\n",
        "import warnings\n",
        "warnings.filterwarnings('ignore')\n",
        "\n",
        "import torch\n",
        "import torch.nn as nn\n",
        "import torch.nn.functional as F\n",
        "from torch.utils.data import Dataset, DataLoader, WeightedRandomSampler\n",
        "from torch.optim import Adam, SGD\n",
        "from torch.optim.lr_scheduler import ReduceLROnPlateau, CosineAnnealingLR\n",
        "from torchvision import transforms, models\n",
        "from torchvision.models import vit_b_16, ViT_B_16_Weights\n",
        "\n",
        "import matplotlib.pyplot as plt\n",
        "import seaborn as sns\n",
        "from sklearn.model_selection import train_test_split\n",
        "from sklearn.metrics import (\n",
        "    accuracy_score, precision_score, recall_score, f1_score,\n",
        "    roc_auc_score, confusion_matrix, classification_report\n",
        ")\n",
        "from sklearn.utils.class_weight import compute_class_weight\n",
        "\n",
        "from PIL import Image\n",
        "import time\n",
        "from tqdm import tqdm\n",
        "import glob"
      ]
    },
    {
      "cell_type": "code",
      "source": [
        "# Set random seeds for reproducibility\n",
        "torch.manual_seed(42)\n",
        "np.random.seed(42)\n"
      ],
      "metadata": {
        "id": "jLRkwq23pPrG"
      },
      "execution_count": 2,
      "outputs": []
    },
    {
      "cell_type": "code",
      "source": [
        "class LabelSmoothingCrossEntropy(nn.Module):\n",
        "    \"\"\"Label smoothing cross entropy loss.\"\"\"\n",
        "\n",
        "    def __init__(self, smoothing: float = 0.1):\n",
        "        super().__init__()\n",
        "        self.smoothing = smoothing\n",
        "\n",
        "    def forward(self, input: torch.Tensor, target: torch.Tensor) -> torch.Tensor:\n",
        "        log_prob = F.log_softmax(input, dim=-1)\n",
        "        weight = input.new_ones(input.size()) * self.smoothing / (input.size(-1) - 1.)\n",
        "        weight.scatter_(-1, target.unsqueeze(-1), (1. - self.smoothing))\n",
        "        loss = (-weight * log_prob).sum(dim=-1).mean()\n",
        "        return loss\n"
      ],
      "metadata": {
        "id": "DJ6dbPRCpbXr"
      },
      "execution_count": 3,
      "outputs": []
    },
    {
      "cell_type": "code",
      "source": [
        "class BreakHisDataset(Dataset):\n",
        "    \"\"\"BreakHis dataset class for tumor classification.\"\"\"\n",
        "\n",
        "    def __init__(self, image_paths: List[str], labels: List[int],\n",
        "                 transform: Optional[transforms.Compose] = None):\n",
        "        self.image_paths = image_paths\n",
        "        self.labels = labels\n",
        "        self.transform = transform\n",
        "\n",
        "    def __len__(self) -> int:\n",
        "        return len(self.image_paths)\n",
        "\n",
        "    def __getitem__(self, idx: int) -> Tuple[torch.Tensor, int]:\n",
        "        image_path = self.image_paths[idx]\n",
        "        image = Image.open(image_path).convert('RGB')\n",
        "        label = self.labels[idx]\n",
        "\n",
        "        if self.transform:\n",
        "            image = self.transform(image)\n",
        "\n",
        "        return image, label\n"
      ],
      "metadata": {
        "id": "J8kgGTJ3pe6N"
      },
      "execution_count": 4,
      "outputs": []
    },
    {
      "cell_type": "code",
      "source": [
        "class EarlyStopping:\n",
        "    \"\"\"Early stopping utility.\"\"\"\n",
        "\n",
        "    def __init__(self, patience: int = 10, min_delta: float = 0.001,\n",
        "                 mode: str = 'min'):\n",
        "        self.patience = patience\n",
        "        self.min_delta = min_delta\n",
        "        self.mode = mode\n",
        "        self.counter = 0\n",
        "        self.best_score = None\n",
        "        self.early_stop = False\n",
        "\n",
        "    def __call__(self, val_score: float):\n",
        "        if self.best_score is None:\n",
        "            self.best_score = val_score\n",
        "        elif self.mode == 'min':\n",
        "            if val_score < self.best_score - self.min_delta:\n",
        "                self.best_score = val_score\n",
        "                self.counter = 0\n",
        "            else:\n",
        "                self.counter += 1\n",
        "        else:  # mode == 'max'\n",
        "            if val_score > self.best_score + self.min_delta:\n",
        "                self.best_score = val_score\n",
        "                self.counter = 0\n",
        "            else:\n",
        "                self.counter += 1\n",
        "\n",
        "        if self.counter >= self.patience:\n",
        "            self.early_stop = True"
      ],
      "metadata": {
        "id": "FOebY1gQpjbT"
      },
      "execution_count": 5,
      "outputs": []
    },
    {
      "cell_type": "code",
      "source": [
        "class MetricsCalculator:\n",
        "    \"\"\"Utility class for calculating classification metrics.\"\"\"\n",
        "\n",
        "    @staticmethod\n",
        "    def calculate_metrics(y_true: np.ndarray, y_pred: np.ndarray,\n",
        "                         y_pred_proba: np.ndarray) -> Dict[str, float]:\n",
        "        \"\"\"Calculate all classification metrics.\"\"\"\n",
        "\n",
        "        # Calculate confusion matrix\n",
        "        cm = confusion_matrix(y_true, y_pred)\n",
        "        tn, fp, fn, tp = cm.ravel()\n",
        "\n",
        "        # Calculate metrics\n",
        "        accuracy = accuracy_score(y_true, y_pred)\n",
        "        precision = precision_score(y_true, y_pred, average='binary')\n",
        "        recall = recall_score(y_true, y_pred, average='binary')\n",
        "        specificity = tn / (tn + fp) if (tn + fp) > 0 else 0.0\n",
        "        f1 = f1_score(y_true, y_pred, average='binary')\n",
        "        auc_roc = roc_auc_score(y_true, y_pred_proba)\n",
        "\n",
        "        return {\n",
        "            'accuracy': accuracy,\n",
        "            'precision': precision,\n",
        "            'recall': recall,\n",
        "            'specificity': specificity,\n",
        "            'f1': f1,\n",
        "            'auc_roc': auc_roc,\n",
        "            'confusion_matrix': cm\n",
        "        }\n",
        "\n",
        "    @staticmethod\n",
        "    def plot_confusion_matrix(cm: np.ndarray, title: str = \"Confusion Matrix\"):\n",
        "        \"\"\"Plot confusion matrix heatmap.\"\"\"\n",
        "        plt.figure(figsize=(8, 6))\n",
        "        sns.heatmap(cm, annot=True, fmt='d', cmap='Blues',\n",
        "                   xticklabels=['Benign', 'Malignant'],\n",
        "                   yticklabels=['Benign', 'Malignant'])\n",
        "        plt.title(title)\n",
        "        plt.ylabel('True Label')\n",
        "        plt.xlabel('Predicted Label')\n",
        "        plt.tight_layout()\n",
        "        plt.show()"
      ],
      "metadata": {
        "id": "NL87i7FZppcP"
      },
      "execution_count": 6,
      "outputs": []
    },
    {
      "cell_type": "code",
      "source": [
        "# Modified data transforms in the BreakHisTrainer class\n",
        "class BreakHisTrainer:\n",
        "    # ... (keep all existing methods except __init__)\n",
        "\n",
        "    def __init__(self, data_dir: str, batch_size: int = 32,\n",
        "                 num_workers: int = 4, device: str = 'cuda'):\n",
        "        self.data_dir = Path(data_dir)\n",
        "        self.batch_size = batch_size\n",
        "        self.num_workers = num_workers\n",
        "        self.device = torch.device(device if torch.cuda.is_available() else 'cpu')\n",
        "\n",
        "        # Results storage\n",
        "        self.results = {}\n",
        "\n",
        "        # Data transforms - Updated for ViT (224x224 input)\n",
        "        self.train_transforms = transforms.Compose([\n",
        "            transforms.Resize(256),  # Slightly larger than 224 for cropping\n",
        "            transforms.CenterCrop(224),  # ViT standard input size\n",
        "            transforms.RandomHorizontalFlip(p=0.5),\n",
        "            transforms.RandomVerticalFlip(p=0.5),\n",
        "            transforms.RandomRotation(degrees=15),\n",
        "            transforms.ColorJitter(brightness=0.2, contrast=0.2,\n",
        "                                 saturation=0.2, hue=0.1),\n",
        "            transforms.RandomAffine(degrees=0, translate=(0.1, 0.1)),  # Add slight translation\n",
        "            transforms.ToTensor(),\n",
        "            transforms.Normalize(mean=[0.485, 0.456, 0.406],\n",
        "                               std=[0.229, 0.224, 0.225])\n",
        "        ])\n",
        "\n",
        "        self.val_transforms = transforms.Compose([\n",
        "            transforms.Resize(256),\n",
        "            transforms.CenterCrop(224),  # ViT standard input size\n",
        "            transforms.ToTensor(),\n",
        "            transforms.Normalize(mean=[0.485, 0.456, 0.406],\n",
        "                               std=[0.229, 0.224, 0.225])\n",
        "        ])\n",
        "\n",
        "    def parse_dataset(self) -> Dict[str, List]:\n",
        "        print(\"Parsing BreakHis dataset...\")\n",
        "        possible_paths = [\n",
        "            os.path.join(self.data_dir, 'BreaKHis_v1/BreaKHis_v1/histology_slides/breast/**/*.png'),\n",
        "            os.path.join(self.data_dir, 'BreaKHis_v1/histology_slides/breast/**/*.png'),\n",
        "            os.path.join(self.data_dir, 'histology_slides/breast/**/*.png'),\n",
        "            os.path.join(self.data_dir, '**/*.png'),\n",
        "        ]\n",
        "\n",
        "        breast_img_paths = []\n",
        "        for pattern in possible_paths:\n",
        "            breast_img_paths = glob.glob(pattern, recursive=True)\n",
        "            if breast_img_paths:\n",
        "                print(f\"Found images using pattern: {pattern}\")\n",
        "                break\n",
        "\n",
        "        if not breast_img_paths:\n",
        "            raise FileNotFoundError(f\"No PNG files found in {self.data_dir}.\")\n",
        "\n",
        "        print(f\"Found {len(breast_img_paths)} image files\")\n",
        "\n",
        "        data_info = {'image_paths': [], 'labels': [], 'magnifications': [], 'patient_ids': []}\n",
        "\n",
        "        for img_path in breast_img_paths:\n",
        "            try:\n",
        "                path_parts = img_path.split(os.sep)\n",
        "                if 'benign' in img_path.lower():\n",
        "                    label = 0\n",
        "                elif 'malignant' in img_path.lower():\n",
        "                    label = 1\n",
        "                else:\n",
        "                    continue\n",
        "\n",
        "                filename = os.path.basename(img_path)\n",
        "\n",
        "                if '-40-' in filename:\n",
        "                    mag = '40X'\n",
        "                elif '-100-' in filename:\n",
        "                    mag = '100X'\n",
        "                elif '-200-' in filename:\n",
        "                    mag = '200X'\n",
        "                elif '-400-' in filename:\n",
        "                    mag = '400X'\n",
        "                else:\n",
        "                    continue\n",
        "\n",
        "                parts = filename.split('-')\n",
        "                if len(parts) >= 3:\n",
        "                    patient_id = '-'.join(parts[:3])\n",
        "                else:\n",
        "                    patient_id = filename.split('.')[0]\n",
        "\n",
        "                data_info['image_paths'].append(img_path)\n",
        "                data_info['labels'].append(label)\n",
        "                data_info['magnifications'].append(mag)\n",
        "                data_info['patient_ids'].append(patient_id)\n",
        "\n",
        "            except Exception as e:\n",
        "                print(f\"Error processing {img_path}: {e}\")\n",
        "\n",
        "        print(f\"Successfully parsed {len(data_info['image_paths'])} images\")\n",
        "        print(f\"Benign: {len([l for l in data_info['labels'] if l == 0])}\")\n",
        "        print(f\"Malignant: {len([l for l in data_info['labels'] if l == 1])}\")\n",
        "        print(f\"Magnifications: {set(data_info['magnifications'])}\")\n",
        "        print(f\"Unique patients: {len(set(data_info['patient_ids']))}\")\n",
        "\n",
        "        return data_info\n",
        "\n",
        "    def create_patient_splits(self, data_info: Dict, test_size: float = 0.2, val_size: float = 0.2) -> Dict[str, Dict]:\n",
        "        df = pd.DataFrame(data_info)\n",
        "        patient_labels = df.groupby('patient_ids')['labels'].first().reset_index()\n",
        "\n",
        "        train_val_patients, test_patients = train_test_split(\n",
        "            patient_labels['patient_ids'].tolist(),\n",
        "            test_size=test_size,\n",
        "            stratify=patient_labels['labels'].tolist(),\n",
        "            random_state=42\n",
        "        )\n",
        "\n",
        "        train_val_labels = patient_labels[patient_labels['patient_ids'].isin(train_val_patients)]['labels'].tolist()\n",
        "        train_patients, val_patients = train_test_split(\n",
        "            train_val_patients,\n",
        "            test_size=val_size / (1 - test_size),\n",
        "            stratify=train_val_labels,\n",
        "            random_state=42\n",
        "        )\n",
        "\n",
        "        magnifications = ['40X', '100X', '200X', '400X', 'All']\n",
        "        splits = {}\n",
        "\n",
        "        for mag in magnifications:\n",
        "            if mag == 'All':\n",
        "                mag_mask = pd.Series([True] * len(df))\n",
        "            else:\n",
        "                mag_mask = df['magnifications'] == mag\n",
        "\n",
        "            mag_df = df[mag_mask]\n",
        "\n",
        "            train_mask = mag_df['patient_ids'].isin(train_patients)\n",
        "            val_mask = mag_df['patient_ids'].isin(val_patients)\n",
        "            test_mask = mag_df['patient_ids'].isin(test_patients)\n",
        "\n",
        "            splits[mag] = {\n",
        "                'train': {\n",
        "                    'image_paths': mag_df[train_mask]['image_paths'].tolist(),\n",
        "                    'labels': mag_df[train_mask]['labels'].tolist()\n",
        "                },\n",
        "                'val': {\n",
        "                    'image_paths': mag_df[val_mask]['image_paths'].tolist(),\n",
        "                    'labels': mag_df[val_mask]['labels'].tolist()\n",
        "                },\n",
        "                'test': {\n",
        "                    'image_paths': mag_df[test_mask]['image_paths'].tolist(),\n",
        "                    'labels': mag_df[test_mask]['labels'].tolist()\n",
        "                }\n",
        "            }\n",
        "\n",
        "            print(f\"\\n{mag} - Train: {len(splits[mag]['train']['labels'])}, \"\n",
        "                  f\"Val: {len(splits[mag]['val']['labels'])}, \"\n",
        "                  f\"Test: {len(splits[mag]['test']['labels'])}\")\n",
        "\n",
        "        return splits\n",
        "\n",
        "    def create_data_loaders(self, splits: Dict, magnification: str) -> Dict[str, DataLoader]:\n",
        "        split_data = splits[magnification]\n",
        "\n",
        "        train_dataset = BreakHisDataset(\n",
        "            split_data['train']['image_paths'],\n",
        "            split_data['train']['labels'],\n",
        "            self.train_transforms\n",
        "        )\n",
        "\n",
        "        val_dataset = BreakHisDataset(\n",
        "            split_data['val']['image_paths'],\n",
        "            split_data['val']['labels'],\n",
        "            self.val_transforms\n",
        "        )\n",
        "\n",
        "        test_dataset = BreakHisDataset(\n",
        "            split_data['test']['image_paths'],\n",
        "            split_data['test']['labels'],\n",
        "            self.val_transforms\n",
        "        )\n",
        "\n",
        "        train_labels = split_data['train']['labels']\n",
        "        class_weights = compute_class_weight(\n",
        "            'balanced',\n",
        "            classes=np.unique(train_labels),\n",
        "            y=train_labels\n",
        "        )\n",
        "\n",
        "        sample_weights = [class_weights[label] for label in train_labels]\n",
        "        sampler = WeightedRandomSampler(weights=sample_weights,\n",
        "                                        num_samples=len(sample_weights),\n",
        "                                        replacement=True)\n",
        "\n",
        "        train_loader = DataLoader(train_dataset, batch_size=self.batch_size,\n",
        "                                  sampler=sampler, num_workers=self.num_workers,\n",
        "                                  pin_memory=True)\n",
        "\n",
        "        val_loader = DataLoader(val_dataset, batch_size=self.batch_size,\n",
        "                                shuffle=False, num_workers=self.num_workers,\n",
        "                                pin_memory=True)\n",
        "\n",
        "        test_loader = DataLoader(test_dataset, batch_size=self.batch_size,\n",
        "                                 shuffle=False, num_workers=self.num_workers,\n",
        "                                 pin_memory=True)\n",
        "\n",
        "        return {'train': train_loader, 'val': val_loader, 'test': test_loader}\n",
        "\n",
        "    # Training methods remain the same (ViT has simple output like EfficientNet)\n",
        "    def train_epoch(self, model: nn.Module, train_loader: DataLoader,\n",
        "                   criterion: nn.Module, optimizer: torch.optim.Optimizer) -> float:\n",
        "        \"\"\"Train for one epoch.\"\"\"\n",
        "        model.train()\n",
        "        total_loss = 0.0\n",
        "\n",
        "        for batch_idx, (images, labels) in enumerate(tqdm(train_loader, desc=\"Training\")):\n",
        "            images, labels = images.to(self.device), labels.to(self.device)\n",
        "\n",
        "            optimizer.zero_grad()\n",
        "\n",
        "            # ViT has simple output (no auxiliary outputs)\n",
        "            outputs = model(images)\n",
        "            loss = criterion(outputs, labels)\n",
        "\n",
        "            loss.backward()\n",
        "            optimizer.step()\n",
        "\n",
        "            total_loss += loss.item()\n",
        "\n",
        "        return total_loss / len(train_loader)\n",
        "\n",
        "    def validate_epoch(self, model: nn.Module, val_loader: DataLoader,\n",
        "                      criterion: nn.Module) -> Tuple[float, float]:\n",
        "        \"\"\"Validate for one epoch.\"\"\"\n",
        "        model.eval()\n",
        "        total_loss = 0.0\n",
        "        all_preds = []\n",
        "        all_labels = []\n",
        "        all_probs = []\n",
        "\n",
        "        with torch.no_grad():\n",
        "            for images, labels in tqdm(val_loader, desc=\"Validation\"):\n",
        "                images, labels = images.to(self.device), labels.to(self.device)\n",
        "\n",
        "                # ViT has simple output\n",
        "                outputs = model(images)\n",
        "                loss = criterion(outputs, labels)\n",
        "                total_loss += loss.item()\n",
        "\n",
        "                probs = F.softmax(outputs, dim=1)\n",
        "                preds = outputs.argmax(dim=1)\n",
        "\n",
        "                all_preds.extend(preds.cpu().numpy())\n",
        "                all_labels.extend(labels.cpu().numpy())\n",
        "                all_probs.extend(probs[:, 1].cpu().numpy())  # Probability of malignant\n",
        "\n",
        "        avg_loss = total_loss / len(val_loader)\n",
        "        auc_roc = roc_auc_score(all_labels, all_probs)\n",
        "\n",
        "        return avg_loss, auc_roc\n",
        "\n",
        "    def test_model(self, model: nn.Module, test_loader: DataLoader) -> Dict[str, float]:\n",
        "        \"\"\"Test the model and return metrics.\"\"\"\n",
        "        model.eval()\n",
        "        all_preds = []\n",
        "        all_labels = []\n",
        "        all_probs = []\n",
        "\n",
        "        with torch.no_grad():\n",
        "            for images, labels in tqdm(test_loader, desc=\"Testing\"):\n",
        "                images, labels = images.to(self.device), labels.to(self.device)\n",
        "\n",
        "                # ViT has simple output\n",
        "                outputs = model(images)\n",
        "\n",
        "                probs = F.softmax(outputs, dim=1)\n",
        "                preds = outputs.argmax(dim=1)\n",
        "\n",
        "                all_preds.extend(preds.cpu().numpy())\n",
        "                all_labels.extend(labels.cpu().numpy())\n",
        "                all_probs.extend(probs[:, 1].cpu().numpy())\n",
        "\n",
        "        return MetricsCalculator.calculate_metrics(\n",
        "            np.array(all_labels),\n",
        "            np.array(all_preds),\n",
        "            np.array(all_probs)\n",
        "        )\n",
        "\n",
        "    # Modified train_magnification method with updated print statements\n",
        "    def train_magnification(self, splits: Dict, magnification: str,\n",
        "                          epochs: int = 100) -> Dict[str, float]:\n",
        "        \"\"\"Train model for a specific magnification.\"\"\"\n",
        "\n",
        "        print(f\"\\n{'='*60}\")\n",
        "        print(f\"Training on {magnification} magnification with Vision Transformer (ViT-B/16)\")\n",
        "        print(f\"{'='*60}\")\n",
        "\n",
        "        # Create data loaders\n",
        "        data_loaders = self.create_data_loaders(splits, magnification)\n",
        "\n",
        "        # Initialize model\n",
        "        model = TumorClassifier(num_classes=2, dropout_rate=0.5)\n",
        "        model.to(self.device)\n",
        "\n",
        "        # Loss function\n",
        "        criterion = LabelSmoothingCrossEntropy(smoothing=0.1)\n",
        "\n",
        "        # Phase 1: Train classifier head with frozen backbone\n",
        "        print(\"\\nPhase 1: Training classifier head (frozen backbone)\")\n",
        "        model.freeze_backbone()\n",
        "\n",
        "        optimizer = Adam(filter(lambda p: p.requires_grad, model.parameters()),\n",
        "                        lr=0.001, weight_decay=1e-4)\n",
        "        scheduler = ReduceLROnPlateau(optimizer, mode='max', factor=0.5,\n",
        "                                    patience=5, verbose=True)\n",
        "        early_stopping = EarlyStopping(patience=10, mode='max')\n",
        "\n",
        "        best_auc = 0.0\n",
        "        best_model_state = None\n",
        "\n",
        "        for epoch in range(epochs // 2):\n",
        "            # Training\n",
        "            train_loss = self.train_epoch(model, data_loaders['train'],\n",
        "                                        criterion, optimizer)\n",
        "\n",
        "            # Validation\n",
        "            val_loss, val_auc = self.validate_epoch(model, data_loaders['val'],\n",
        "                                                  criterion)\n",
        "\n",
        "            scheduler.step(val_auc)\n",
        "            early_stopping(val_auc)\n",
        "\n",
        "            print(f\"Epoch {epoch+1:3d}: Train Loss: {train_loss:.4f}, \"\n",
        "                  f\"Val Loss: {val_loss:.4f}, Val AUC: {val_auc:.4f}\")\n",
        "\n",
        "            # Save best model\n",
        "            if val_auc > best_auc:\n",
        "                best_auc = val_auc\n",
        "                best_model_state = model.state_dict().copy()\n",
        "\n",
        "            if early_stopping.early_stop:\n",
        "                print(f\"Early stopping at epoch {epoch+1}\")\n",
        "                break\n",
        "\n",
        "        # Load best model from Phase 1\n",
        "        model.load_state_dict(best_model_state)\n",
        "\n",
        "        # Phase 2: Fine-tune with unfrozen last transformer layers\n",
        "        print(\"\\nPhase 2: Fine-tuning with unfrozen last transformer layers\")\n",
        "        model.unfreeze_last_transformer_layers(num_layers=4)\n",
        "\n",
        "        optimizer = Adam(filter(lambda p: p.requires_grad, model.parameters()),\n",
        "                        lr=0.0001, weight_decay=1e-4)\n",
        "        scheduler = ReduceLROnPlateau(optimizer, mode='max', factor=0.5,\n",
        "                                    patience=5, verbose=True)\n",
        "        early_stopping = EarlyStopping(patience=10, mode='max')\n",
        "\n",
        "        for epoch in range(epochs // 2):\n",
        "            # Training\n",
        "            train_loss = self.train_epoch(model, data_loaders['train'],\n",
        "                                        criterion, optimizer)\n",
        "\n",
        "            # Validation\n",
        "            val_loss, val_auc = self.validate_epoch(model, data_loaders['val'],\n",
        "                                                  criterion)\n",
        "\n",
        "            scheduler.step(val_auc)\n",
        "            early_stopping(val_auc)\n",
        "\n",
        "            print(f\"Epoch {epoch+1:3d}: Train Loss: {train_loss:.4f}, \"\n",
        "                  f\"Val Loss: {val_loss:.4f}, Val AUC: {val_auc:.4f}\")\n",
        "\n",
        "            # Save best model\n",
        "            if val_auc > best_auc:\n",
        "                best_auc = val_auc\n",
        "                best_model_state = model.state_dict().copy()\n",
        "\n",
        "            if early_stopping.early_stop:\n",
        "                print(f\"Early stopping at epoch {epoch+1}\")\n",
        "                break\n",
        "\n",
        "        # Load best model and test\n",
        "        model.load_state_dict(best_model_state)\n",
        "        test_metrics = self.test_model(model, data_loaders['test'])\n",
        "\n",
        "        print(f\"\\nBest validation AUC: {best_auc:.4f}\")\n",
        "        print(f\"Test metrics:\")\n",
        "        for metric, value in test_metrics.items():\n",
        "            if metric != 'confusion_matrix':\n",
        "                print(f\"  {metric}: {value:.4f}\")\n",
        "\n",
        "        # Plot confusion matrix\n",
        "        cm = test_metrics['confusion_matrix']\n",
        "        MetricsCalculator.plot_confusion_matrix(cm, f\"Confusion Matrix - {magnification} (ViT-B/16)\")\n",
        "\n",
        "        return test_metrics\n",
        "\n",
        "    def run_all_experiments(self, data_dir: str) -> pd.DataFrame:\n",
        "        \"\"\"Run experiments for all magnifications.\"\"\"\n",
        "\n",
        "        print(\"Starting BreakHis tumor classification experiments with Vision Transformer (ViT-B/16)...\")\n",
        "\n",
        "        # Parse dataset\n",
        "        data_info = self.parse_dataset()\n",
        "\n",
        "        # Create patient-level splits\n",
        "        splits = self.create_patient_splits(data_info)\n",
        "\n",
        "        # Run experiments for each magnification\n",
        "        magnifications = ['40X', '100X', '200X', '400X', 'All']\n",
        "        results = []\n",
        "\n",
        "        for mag in magnifications:\n",
        "            print(f\"\\nStarting experiment for {mag}...\")\n",
        "            metrics = self.train_magnification(splits, mag)\n",
        "\n",
        "            result = {\n",
        "                'Magnification': mag,\n",
        "                'Accuracy': metrics['accuracy'],\n",
        "                'Precision': metrics['precision'],\n",
        "                'Recall': metrics['recall'],\n",
        "                'Specificity': metrics['specificity'],\n",
        "                'F1': metrics['f1'],\n",
        "                'AUC-ROC': metrics['auc_roc']\n",
        "            }\n",
        "            results.append(result)\n",
        "\n",
        "            # Store confusion matrix separately\n",
        "            self.results[mag] = {\n",
        "                'metrics': result,\n",
        "                'confusion_matrix': metrics['confusion_matrix']\n",
        "            }\n",
        "\n",
        "        # Create results DataFrame\n",
        "        results_df = pd.DataFrame(results)\n",
        "\n",
        "        # Display results table\n",
        "        print(\"\\n\" + \"=\"*80)\n",
        "        print(\"FINAL RESULTS TABLE - Vision Transformer (ViT-B/16)\")\n",
        "        print(\"=\"*80)\n",
        "        print(results_df.to_string(index=False, float_format=lambda x: f'{x:.4f}'))\n",
        "\n",
        "        return results_df"
      ],
      "metadata": {
        "id": "aiRH_FEqpt3K"
      },
      "execution_count": 7,
      "outputs": []
    },
    {
      "cell_type": "code",
      "source": [
        "class TumorClassifier(nn.Module):\n",
        "    \"\"\"ViT-based tumor classifier.\"\"\"\n",
        "\n",
        "    def __init__(self, num_classes: int = 2, dropout_rate: float = 0.5):\n",
        "        super().__init__()\n",
        "\n",
        "        # Load pretrained Vision Transformer (ViT-B/16)\n",
        "        self.backbone = vit_b_16(weights=ViT_B_16_Weights.DEFAULT)\n",
        "\n",
        "        # Get the number of features from the heads\n",
        "        num_features = self.backbone.heads.head.in_features\n",
        "\n",
        "        # Replace the final classifier with a more robust one\n",
        "        self.backbone.heads.head = nn.Sequential(\n",
        "            nn.Dropout(p=dropout_rate, inplace=True),\n",
        "            nn.Linear(num_features, 512),\n",
        "            nn.ReLU(inplace=True),\n",
        "            nn.Dropout(p=dropout_rate),\n",
        "            nn.Linear(512, 256),\n",
        "            nn.ReLU(inplace=True),\n",
        "            nn.Dropout(p=dropout_rate),\n",
        "            nn.Linear(256, num_classes)\n",
        "        )\n",
        "\n",
        "        # Initialize classifier weights\n",
        "        self._init_classifier_weights()\n",
        "\n",
        "    def _init_classifier_weights(self):\n",
        "        \"\"\"Initialize classifier weights.\"\"\"\n",
        "        for m in self.backbone.heads.head.modules():\n",
        "            if isinstance(m, nn.Linear):\n",
        "                nn.init.normal_(m.weight, 0, 0.01)\n",
        "                nn.init.constant_(m.bias, 0)\n",
        "\n",
        "    def forward(self, x: torch.Tensor) -> torch.Tensor:\n",
        "        # ViT has a simple forward pass (no auxiliary outputs)\n",
        "        return self.backbone(x)\n",
        "\n",
        "    def freeze_backbone(self):\n",
        "        \"\"\"Freeze backbone parameters except final classifier.\"\"\"\n",
        "        for name, param in self.backbone.named_parameters():\n",
        "            if 'heads.head' not in name:\n",
        "                param.requires_grad = False\n",
        "\n",
        "    def unfreeze_last_transformer_layers(self, num_layers: int = 4):\n",
        "        \"\"\"Unfreeze last few transformer blocks of ViT.\"\"\"\n",
        "        # ViT has encoder layers organized in a list\n",
        "        # We'll unfreeze the last few encoder layers\n",
        "\n",
        "        total_layers = len(self.backbone.encoder.layers)\n",
        "        layers_to_unfreeze = min(num_layers, total_layers)\n",
        "\n",
        "        # Unfreeze the last N transformer blocks\n",
        "        for i in range(total_layers - layers_to_unfreeze, total_layers):\n",
        "            for param in self.backbone.encoder.layers[i].parameters():\n",
        "                param.requires_grad = True\n",
        "\n",
        "        # Also unfreeze the encoder norm layer\n",
        "        for param in self.backbone.encoder.ln.parameters():\n",
        "            param.requires_grad = True\n"
      ],
      "metadata": {
        "id": "wVO5Kgmwp3z0"
      },
      "execution_count": 8,
      "outputs": []
    },
    {
      "cell_type": "code",
      "source": [
        "# Modified main function\n",
        "def main():\n",
        "    \"\"\"Main function to run the experiments.\"\"\"\n",
        "\n",
        "    # Download dataset using kagglehub\n",
        "    import kagglehub\n",
        "\n",
        "    # Download dataset\n",
        "    path = kagglehub.dataset_download(\"ambarish/breakhis\")\n",
        "    print(\"Path to dataset files:\", path)\n",
        "\n",
        "    # Configuration\n",
        "    DATA_DIR = path  # Use the downloaded path\n",
        "    BATCH_SIZE = 32\n",
        "    NUM_WORKERS = 4\n",
        "    DEVICE = 'cuda' if torch.cuda.is_available() else 'cpu'\n",
        "\n",
        "    print(f\"Using device: {DEVICE}\")\n",
        "    print(\"Using Vision Transformer (ViT-B/16) backbone\")\n",
        "\n",
        "    # Initialize trainer\n",
        "    trainer = BreakHisTrainer(\n",
        "        data_dir=DATA_DIR,\n",
        "        batch_size=BATCH_SIZE,\n",
        "        num_workers=NUM_WORKERS,\n",
        "        device=DEVICE\n",
        "    )\n",
        "\n",
        "    # Run all experiments\n",
        "    results_df = trainer.run_all_experiments(DATA_DIR)\n",
        "\n",
        "    # Save results\n",
        "    results_df.to_csv('breakhis_vit_b16_results.csv', index=False)\n",
        "    print(\"\\nResults saved to 'breakhis_vit_b16_results.csv'\")\n",
        "\n",
        "    # Display final summary\n",
        "    print(\"\\n\" + \"=\"*80)\n",
        "    print(\"EXPERIMENT SUMMARY - Vision Transformer (ViT-B/16)\")\n",
        "    print(\"=\"*80)\n",
        "    print(f\"Average Accuracy: {results_df['Accuracy'].mean():.4f}\")\n",
        "    print(f\"Average AUC-ROC: {results_df['AUC-ROC'].mean():.4f}\")\n",
        "    print(f\"Best performing magnification: {results_df.loc[results_df['Accuracy'].idxmax(), 'Magnification']}\")\n",
        "\n",
        "    return results_df\n"
      ],
      "metadata": {
        "id": "IWo8XwKgp86i"
      },
      "execution_count": 9,
      "outputs": []
    },
    {
      "cell_type": "code",
      "source": [
        "\n",
        "if __name__ == \"__main__\":\n",
        "    results = main()"
      ],
      "metadata": {
        "colab": {
          "base_uri": "https://localhost:8080/",
          "height": 1000
        },
        "id": "8WDCVlDnqCcy",
        "outputId": "25d15f54-4370-4c1d-889a-cc3e97fd20d2"
      },
      "execution_count": null,
      "outputs": [
        {
          "output_type": "stream",
          "name": "stdout",
          "text": [
            "Path to dataset files: /kaggle/input/breakhis\n",
            "Using device: cuda\n",
            "Using Vision Transformer (ViT-B/16) backbone\n",
            "Starting BreakHis tumor classification experiments with Vision Transformer (ViT-B/16)...\n",
            "Parsing BreakHis dataset...\n",
            "Found images using pattern: /kaggle/input/breakhis/BreaKHis_v1/BreaKHis_v1/histology_slides/breast/**/*.png\n",
            "Found 7909 image files\n",
            "Successfully parsed 7909 images\n",
            "Benign: 2480\n",
            "Malignant: 5429\n",
            "Magnifications: {'400X', '100X', '40X', '200X'}\n",
            "Unique patients: 82\n",
            "\n",
            "40X - Train: 1172, Val: 382, Test: 441\n",
            "\n",
            "100X - Train: 1201, Val: 403, Test: 477\n",
            "\n",
            "200X - Train: 1188, Val: 382, Test: 443\n",
            "\n",
            "400X - Train: 1059, Val: 367, Test: 394\n",
            "\n",
            "All - Train: 4620, Val: 1534, Test: 1755\n",
            "\n",
            "Starting experiment for 40X...\n",
            "\n",
            "============================================================\n",
            "Training on 40X magnification with Vision Transformer (ViT-B/16)\n",
            "============================================================\n"
          ]
        },
        {
          "output_type": "stream",
          "name": "stderr",
          "text": [
            "Downloading: \"https://download.pytorch.org/models/vit_b_16-c867db91.pth\" to /root/.cache/torch/hub/checkpoints/vit_b_16-c867db91.pth\n",
            "100%|██████████| 330M/330M [00:03<00:00, 88.3MB/s]\n"
          ]
        },
        {
          "output_type": "stream",
          "name": "stdout",
          "text": [
            "\n",
            "Phase 1: Training classifier head (frozen backbone)\n"
          ]
        },
        {
          "output_type": "stream",
          "name": "stderr",
          "text": [
            "Training: 100%|██████████| 37/37 [00:25<00:00,  1.44it/s]\n",
            "Validation: 100%|██████████| 12/12 [00:07<00:00,  1.60it/s]\n"
          ]
        },
        {
          "output_type": "stream",
          "name": "stdout",
          "text": [
            "Epoch   1: Train Loss: 0.5804, Val Loss: 0.6128, Val AUC: 0.8279\n"
          ]
        },
        {
          "output_type": "stream",
          "name": "stderr",
          "text": [
            "Training: 100%|██████████| 37/37 [00:25<00:00,  1.47it/s]\n",
            "Validation: 100%|██████████| 12/12 [00:06<00:00,  1.91it/s]\n"
          ]
        },
        {
          "output_type": "stream",
          "name": "stdout",
          "text": [
            "Epoch   2: Train Loss: 0.5123, Val Loss: 0.5189, Val AUC: 0.8607\n"
          ]
        },
        {
          "output_type": "stream",
          "name": "stderr",
          "text": [
            "Training: 100%|██████████| 37/37 [00:24<00:00,  1.51it/s]\n",
            "Validation: 100%|██████████| 12/12 [00:07<00:00,  1.64it/s]\n"
          ]
        },
        {
          "output_type": "stream",
          "name": "stdout",
          "text": [
            "Epoch   3: Train Loss: 0.4870, Val Loss: 0.5438, Val AUC: 0.8828\n"
          ]
        },
        {
          "output_type": "stream",
          "name": "stderr",
          "text": [
            "Training: 100%|██████████| 37/37 [00:24<00:00,  1.48it/s]\n",
            "Validation: 100%|██████████| 12/12 [00:06<00:00,  1.86it/s]\n"
          ]
        },
        {
          "output_type": "stream",
          "name": "stdout",
          "text": [
            "Epoch   4: Train Loss: 0.4854, Val Loss: 0.5205, Val AUC: 0.8534\n"
          ]
        },
        {
          "output_type": "stream",
          "name": "stderr",
          "text": [
            "Training: 100%|██████████| 37/37 [00:24<00:00,  1.50it/s]\n",
            "Validation: 100%|██████████| 12/12 [00:07<00:00,  1.65it/s]\n"
          ]
        },
        {
          "output_type": "stream",
          "name": "stdout",
          "text": [
            "Epoch   5: Train Loss: 0.4788, Val Loss: 0.5273, Val AUC: 0.9018\n"
          ]
        },
        {
          "output_type": "stream",
          "name": "stderr",
          "text": [
            "Training: 100%|██████████| 37/37 [00:23<00:00,  1.55it/s]\n",
            "Validation: 100%|██████████| 12/12 [00:06<00:00,  1.82it/s]\n"
          ]
        },
        {
          "output_type": "stream",
          "name": "stdout",
          "text": [
            "Epoch   6: Train Loss: 0.4485, Val Loss: 0.5101, Val AUC: 0.9055\n"
          ]
        },
        {
          "output_type": "stream",
          "name": "stderr",
          "text": [
            "Training: 100%|██████████| 37/37 [00:24<00:00,  1.49it/s]\n",
            "Validation: 100%|██████████| 12/12 [00:06<00:00,  1.89it/s]\n"
          ]
        },
        {
          "output_type": "stream",
          "name": "stdout",
          "text": [
            "Epoch   7: Train Loss: 0.4518, Val Loss: 0.5225, Val AUC: 0.8967\n"
          ]
        },
        {
          "output_type": "stream",
          "name": "stderr",
          "text": [
            "Training: 100%|██████████| 37/37 [00:24<00:00,  1.52it/s]\n",
            "Validation: 100%|██████████| 12/12 [00:07<00:00,  1.66it/s]\n"
          ]
        },
        {
          "output_type": "stream",
          "name": "stdout",
          "text": [
            "Epoch   8: Train Loss: 0.4460, Val Loss: 0.4769, Val AUC: 0.9171\n"
          ]
        },
        {
          "output_type": "stream",
          "name": "stderr",
          "text": [
            "Training: 100%|██████████| 37/37 [00:24<00:00,  1.50it/s]\n",
            "Validation: 100%|██████████| 12/12 [00:06<00:00,  1.92it/s]\n"
          ]
        },
        {
          "output_type": "stream",
          "name": "stdout",
          "text": [
            "Epoch   9: Train Loss: 0.4441, Val Loss: 0.4731, Val AUC: 0.9316\n"
          ]
        },
        {
          "output_type": "stream",
          "name": "stderr",
          "text": [
            "Training: 100%|██████████| 37/37 [00:24<00:00,  1.50it/s]\n",
            "Validation: 100%|██████████| 12/12 [00:07<00:00,  1.61it/s]\n"
          ]
        },
        {
          "output_type": "stream",
          "name": "stdout",
          "text": [
            "Epoch  10: Train Loss: 0.4315, Val Loss: 0.5084, Val AUC: 0.9026\n"
          ]
        },
        {
          "output_type": "stream",
          "name": "stderr",
          "text": [
            "Training: 100%|██████████| 37/37 [00:24<00:00,  1.51it/s]\n",
            "Validation: 100%|██████████| 12/12 [00:06<00:00,  1.87it/s]\n"
          ]
        },
        {
          "output_type": "stream",
          "name": "stdout",
          "text": [
            "Epoch  11: Train Loss: 0.4191, Val Loss: 0.4876, Val AUC: 0.9211\n"
          ]
        },
        {
          "output_type": "stream",
          "name": "stderr",
          "text": [
            "Training: 100%|██████████| 37/37 [00:24<00:00,  1.48it/s]\n",
            "Validation: 100%|██████████| 12/12 [00:07<00:00,  1.62it/s]\n"
          ]
        },
        {
          "output_type": "stream",
          "name": "stdout",
          "text": [
            "Epoch  12: Train Loss: 0.4343, Val Loss: 0.4692, Val AUC: 0.9210\n"
          ]
        },
        {
          "output_type": "stream",
          "name": "stderr",
          "text": [
            "Training: 100%|██████████| 37/37 [00:24<00:00,  1.49it/s]\n",
            "Validation: 100%|██████████| 12/12 [00:06<00:00,  1.90it/s]\n"
          ]
        },
        {
          "output_type": "stream",
          "name": "stdout",
          "text": [
            "Epoch  13: Train Loss: 0.4279, Val Loss: 0.5016, Val AUC: 0.8968\n"
          ]
        },
        {
          "output_type": "stream",
          "name": "stderr",
          "text": [
            "Training: 100%|██████████| 37/37 [00:24<00:00,  1.49it/s]\n",
            "Validation: 100%|██████████| 12/12 [00:07<00:00,  1.63it/s]\n"
          ]
        },
        {
          "output_type": "stream",
          "name": "stdout",
          "text": [
            "Epoch  14: Train Loss: 0.4301, Val Loss: 0.5004, Val AUC: 0.8938\n"
          ]
        },
        {
          "output_type": "stream",
          "name": "stderr",
          "text": [
            "Training: 100%|██████████| 37/37 [00:24<00:00,  1.50it/s]\n",
            "Validation: 100%|██████████| 12/12 [00:06<00:00,  1.86it/s]\n"
          ]
        },
        {
          "output_type": "stream",
          "name": "stdout",
          "text": [
            "Epoch  15: Train Loss: 0.4258, Val Loss: 0.4762, Val AUC: 0.9241\n"
          ]
        },
        {
          "output_type": "stream",
          "name": "stderr",
          "text": [
            "Training: 100%|██████████| 37/37 [00:25<00:00,  1.47it/s]\n",
            "Validation: 100%|██████████| 12/12 [00:07<00:00,  1.58it/s]\n"
          ]
        },
        {
          "output_type": "stream",
          "name": "stdout",
          "text": [
            "Epoch  16: Train Loss: 0.4175, Val Loss: 0.4748, Val AUC: 0.9158\n"
          ]
        },
        {
          "output_type": "stream",
          "name": "stderr",
          "text": [
            "Training: 100%|██████████| 37/37 [00:24<00:00,  1.54it/s]\n",
            "Validation: 100%|██████████| 12/12 [00:06<00:00,  1.80it/s]\n"
          ]
        },
        {
          "output_type": "stream",
          "name": "stdout",
          "text": [
            "Epoch  17: Train Loss: 0.4085, Val Loss: 0.4664, Val AUC: 0.9239\n"
          ]
        },
        {
          "output_type": "stream",
          "name": "stderr",
          "text": [
            "Training: 100%|██████████| 37/37 [00:24<00:00,  1.49it/s]\n",
            "Validation: 100%|██████████| 12/12 [00:07<00:00,  1.62it/s]\n"
          ]
        },
        {
          "output_type": "stream",
          "name": "stdout",
          "text": [
            "Epoch  18: Train Loss: 0.4120, Val Loss: 0.4844, Val AUC: 0.9148\n"
          ]
        },
        {
          "output_type": "stream",
          "name": "stderr",
          "text": [
            "Training: 100%|██████████| 37/37 [00:24<00:00,  1.53it/s]\n",
            "Validation: 100%|██████████| 12/12 [00:06<00:00,  1.78it/s]\n"
          ]
        },
        {
          "output_type": "stream",
          "name": "stdout",
          "text": [
            "Epoch  19: Train Loss: 0.4032, Val Loss: 0.4636, Val AUC: 0.9260\n",
            "Early stopping at epoch 19\n",
            "\n",
            "Phase 2: Fine-tuning with unfrozen last transformer layers\n"
          ]
        },
        {
          "output_type": "stream",
          "name": "stderr",
          "text": [
            "Training: 100%|██████████| 37/37 [00:28<00:00,  1.31it/s]\n",
            "Validation: 100%|██████████| 12/12 [00:07<00:00,  1.57it/s]\n"
          ]
        },
        {
          "output_type": "stream",
          "name": "stdout",
          "text": [
            "Epoch   1: Train Loss: 0.4368, Val Loss: 0.4864, Val AUC: 0.8970\n"
          ]
        },
        {
          "output_type": "stream",
          "name": "stderr",
          "text": [
            "Training: 100%|██████████| 37/37 [00:27<00:00,  1.33it/s]\n",
            "Validation: 100%|██████████| 12/12 [00:07<00:00,  1.65it/s]\n"
          ]
        },
        {
          "output_type": "stream",
          "name": "stdout",
          "text": [
            "Epoch   2: Train Loss: 0.3963, Val Loss: 0.4594, Val AUC: 0.9343\n"
          ]
        },
        {
          "output_type": "stream",
          "name": "stderr",
          "text": [
            "Training: 100%|██████████| 37/37 [00:28<00:00,  1.31it/s]\n",
            "Validation: 100%|██████████| 12/12 [00:06<00:00,  1.80it/s]\n"
          ]
        },
        {
          "output_type": "stream",
          "name": "stdout",
          "text": [
            "Epoch   3: Train Loss: 0.3846, Val Loss: 0.4573, Val AUC: 0.9293\n"
          ]
        },
        {
          "output_type": "stream",
          "name": "stderr",
          "text": [
            "Training: 100%|██████████| 37/37 [00:29<00:00,  1.27it/s]\n",
            "Validation: 100%|██████████| 12/12 [00:06<00:00,  1.80it/s]\n"
          ]
        },
        {
          "output_type": "stream",
          "name": "stdout",
          "text": [
            "Epoch   4: Train Loss: 0.3676, Val Loss: 0.4461, Val AUC: 0.9538\n"
          ]
        },
        {
          "output_type": "stream",
          "name": "stderr",
          "text": [
            "Training: 100%|██████████| 37/37 [00:28<00:00,  1.30it/s]\n",
            "Validation: 100%|██████████| 12/12 [00:07<00:00,  1.66it/s]\n"
          ]
        },
        {
          "output_type": "stream",
          "name": "stdout",
          "text": [
            "Epoch   5: Train Loss: 0.3621, Val Loss: 0.4497, Val AUC: 0.9440\n"
          ]
        },
        {
          "output_type": "stream",
          "name": "stderr",
          "text": [
            "Training: 100%|██████████| 37/37 [00:28<00:00,  1.30it/s]\n",
            "Validation: 100%|██████████| 12/12 [00:07<00:00,  1.55it/s]\n"
          ]
        },
        {
          "output_type": "stream",
          "name": "stdout",
          "text": [
            "Epoch   6: Train Loss: 0.3625, Val Loss: 0.4520, Val AUC: 0.9373\n"
          ]
        },
        {
          "output_type": "stream",
          "name": "stderr",
          "text": [
            "Training: 100%|██████████| 37/37 [00:28<00:00,  1.31it/s]\n",
            "Validation: 100%|██████████| 12/12 [00:07<00:00,  1.68it/s]\n"
          ]
        },
        {
          "output_type": "stream",
          "name": "stdout",
          "text": [
            "Epoch   7: Train Loss: 0.3536, Val Loss: 0.4823, Val AUC: 0.9439\n"
          ]
        },
        {
          "output_type": "stream",
          "name": "stderr",
          "text": [
            "Training: 100%|██████████| 37/37 [00:27<00:00,  1.32it/s]\n",
            "Validation: 100%|██████████| 12/12 [00:06<00:00,  1.82it/s]\n"
          ]
        },
        {
          "output_type": "stream",
          "name": "stdout",
          "text": [
            "Epoch   8: Train Loss: 0.3477, Val Loss: 0.4602, Val AUC: 0.9376\n"
          ]
        },
        {
          "output_type": "stream",
          "name": "stderr",
          "text": [
            "Training: 100%|██████████| 37/37 [00:28<00:00,  1.28it/s]\n",
            "Validation: 100%|██████████| 12/12 [00:06<00:00,  1.80it/s]\n"
          ]
        },
        {
          "output_type": "stream",
          "name": "stdout",
          "text": [
            "Epoch   9: Train Loss: 0.3466, Val Loss: 0.4441, Val AUC: 0.9477\n"
          ]
        },
        {
          "output_type": "stream",
          "name": "stderr",
          "text": [
            "Training: 100%|██████████| 37/37 [00:28<00:00,  1.29it/s]\n",
            "Validation: 100%|██████████| 12/12 [00:07<00:00,  1.62it/s]\n"
          ]
        },
        {
          "output_type": "stream",
          "name": "stdout",
          "text": [
            "Epoch  10: Train Loss: 0.3469, Val Loss: 0.5085, Val AUC: 0.9072\n"
          ]
        },
        {
          "output_type": "stream",
          "name": "stderr",
          "text": [
            "Training: 100%|██████████| 37/37 [00:28<00:00,  1.31it/s]\n",
            "Validation: 100%|██████████| 12/12 [00:07<00:00,  1.57it/s]\n"
          ]
        },
        {
          "output_type": "stream",
          "name": "stdout",
          "text": [
            "Epoch  11: Train Loss: 0.3430, Val Loss: 0.4717, Val AUC: 0.9406\n"
          ]
        },
        {
          "output_type": "stream",
          "name": "stderr",
          "text": [
            "Training: 100%|██████████| 37/37 [00:28<00:00,  1.31it/s]\n",
            "Validation: 100%|██████████| 12/12 [00:06<00:00,  1.74it/s]\n"
          ]
        },
        {
          "output_type": "stream",
          "name": "stdout",
          "text": [
            "Epoch  12: Train Loss: 0.3412, Val Loss: 0.4618, Val AUC: 0.9342\n"
          ]
        },
        {
          "output_type": "stream",
          "name": "stderr",
          "text": [
            "Training: 100%|██████████| 37/37 [00:27<00:00,  1.32it/s]\n",
            "Validation: 100%|██████████| 12/12 [00:06<00:00,  1.83it/s]\n"
          ]
        },
        {
          "output_type": "stream",
          "name": "stdout",
          "text": [
            "Epoch  13: Train Loss: 0.3399, Val Loss: 0.4395, Val AUC: 0.9362\n"
          ]
        },
        {
          "output_type": "stream",
          "name": "stderr",
          "text": [
            "Training: 100%|██████████| 37/37 [00:28<00:00,  1.28it/s]\n",
            "Validation: 100%|██████████| 12/12 [00:06<00:00,  1.82it/s]\n"
          ]
        },
        {
          "output_type": "stream",
          "name": "stdout",
          "text": [
            "Epoch  14: Train Loss: 0.3398, Val Loss: 0.4672, Val AUC: 0.9314\n",
            "Early stopping at epoch 14\n"
          ]
        },
        {
          "output_type": "stream",
          "name": "stderr",
          "text": [
            "Testing: 100%|██████████| 14/14 [00:08<00:00,  1.65it/s]\n"
          ]
        },
        {
          "output_type": "stream",
          "name": "stdout",
          "text": [
            "\n",
            "Best validation AUC: 0.9538\n",
            "Test metrics:\n",
            "  accuracy: 0.8299\n",
            "  precision: 0.8286\n",
            "  recall: 0.8958\n",
            "  specificity: 0.7363\n",
            "  f1: 0.8609\n",
            "  auc_roc: 0.9144\n"
          ]
        },
        {
          "output_type": "display_data",
          "data": {
            "text/plain": [
              "<Figure size 800x600 with 2 Axes>"
            ],
            "image/png": "[encoded data removed]"
          },
          "metadata": {}
        },
        {
          "output_type": "stream",
          "name": "stdout",
          "text": [
            "\n",
            "Starting experiment for 100X...\n",
            "\n",
            "============================================================\n",
            "Training on 100X magnification with Vision Transformer (ViT-B/16)\n",
            "============================================================\n",
            "\n",
            "Phase 1: Training classifier head (frozen backbone)\n"
          ]
        },
        {
          "output_type": "stream",
          "name": "stderr",
          "text": [
            "Training: 100%|██████████| 38/38 [00:26<00:00,  1.46it/s]\n",
            "Validation: 100%|██████████| 13/13 [00:07<00:00,  1.78it/s]\n"
          ]
        },
        {
          "output_type": "stream",
          "name": "stdout",
          "text": [
            "Epoch   1: Train Loss: 0.5914, Val Loss: 0.5880, Val AUC: 0.8180\n"
          ]
        },
        {
          "output_type": "stream",
          "name": "stderr",
          "text": [
            "Training: 100%|██████████| 38/38 [00:24<00:00,  1.52it/s]\n",
            "Validation: 100%|██████████| 13/13 [00:07<00:00,  1.77it/s]\n"
          ]
        },
        {
          "output_type": "stream",
          "name": "stdout",
          "text": [
            "Epoch   2: Train Loss: 0.5202, Val Loss: 0.5958, Val AUC: 0.8583\n"
          ]
        },
        {
          "output_type": "stream",
          "name": "stderr",
          "text": [
            "Training: 100%|██████████| 38/38 [00:25<00:00,  1.48it/s]\n",
            "Validation: 100%|██████████| 13/13 [00:07<00:00,  1.67it/s]\n"
          ]
        },
        {
          "output_type": "stream",
          "name": "stdout",
          "text": [
            "Epoch   3: Train Loss: 0.5046, Val Loss: 0.5238, Val AUC: 0.8752\n"
          ]
        },
        {
          "output_type": "stream",
          "name": "stderr",
          "text": [
            "Training: 100%|██████████| 38/38 [00:25<00:00,  1.50it/s]\n",
            "Validation: 100%|██████████| 13/13 [00:07<00:00,  1.85it/s]\n"
          ]
        },
        {
          "output_type": "stream",
          "name": "stdout",
          "text": [
            "Epoch   4: Train Loss: 0.5016, Val Loss: 0.5712, Val AUC: 0.8594\n"
          ]
        },
        {
          "output_type": "stream",
          "name": "stderr",
          "text": [
            "Training: 100%|██████████| 38/38 [00:25<00:00,  1.48it/s]\n",
            "Validation: 100%|██████████| 13/13 [00:08<00:00,  1.62it/s]\n"
          ]
        },
        {
          "output_type": "stream",
          "name": "stdout",
          "text": [
            "Epoch   5: Train Loss: 0.4824, Val Loss: 0.5153, Val AUC: 0.8760\n"
          ]
        },
        {
          "output_type": "stream",
          "name": "stderr",
          "text": [
            "Training: 100%|██████████| 38/38 [00:25<00:00,  1.47it/s]\n",
            "Validation: 100%|██████████| 13/13 [00:07<00:00,  1.85it/s]\n"
          ]
        },
        {
          "output_type": "stream",
          "name": "stdout",
          "text": [
            "Epoch   6: Train Loss: 0.4869, Val Loss: 0.5424, Val AUC: 0.8616\n"
          ]
        },
        {
          "output_type": "stream",
          "name": "stderr",
          "text": [
            "Training: 100%|██████████| 38/38 [00:24<00:00,  1.52it/s]\n",
            "Validation: 100%|██████████| 13/13 [00:07<00:00,  1.75it/s]\n"
          ]
        },
        {
          "output_type": "stream",
          "name": "stdout",
          "text": [
            "Epoch   7: Train Loss: 0.4509, Val Loss: 0.5362, Val AUC: 0.8777\n"
          ]
        },
        {
          "output_type": "stream",
          "name": "stderr",
          "text": [
            "Training: 100%|██████████| 38/38 [00:25<00:00,  1.48it/s]\n",
            "Validation: 100%|██████████| 13/13 [00:07<00:00,  1.70it/s]\n"
          ]
        },
        {
          "output_type": "stream",
          "name": "stdout",
          "text": [
            "Epoch   8: Train Loss: 0.4605, Val Loss: 0.5985, Val AUC: 0.8820\n"
          ]
        },
        {
          "output_type": "stream",
          "name": "stderr",
          "text": [
            "Training: 100%|██████████| 38/38 [00:25<00:00,  1.50it/s]\n",
            "Validation: 100%|██████████| 13/13 [00:06<00:00,  1.87it/s]\n"
          ]
        },
        {
          "output_type": "stream",
          "name": "stdout",
          "text": [
            "Epoch   9: Train Loss: 0.4628, Val Loss: 0.5537, Val AUC: 0.8831\n"
          ]
        },
        {
          "output_type": "stream",
          "name": "stderr",
          "text": [
            "Training: 100%|██████████| 38/38 [00:25<00:00,  1.49it/s]\n",
            "Validation: 100%|██████████| 13/13 [00:08<00:00,  1.61it/s]\n"
          ]
        },
        {
          "output_type": "stream",
          "name": "stdout",
          "text": [
            "Epoch  10: Train Loss: 0.4653, Val Loss: 0.5583, Val AUC: 0.8784\n"
          ]
        },
        {
          "output_type": "stream",
          "name": "stderr",
          "text": [
            "Training: 100%|██████████| 38/38 [00:25<00:00,  1.49it/s]\n",
            "Validation: 100%|██████████| 13/13 [00:06<00:00,  1.87it/s]\n"
          ]
        },
        {
          "output_type": "stream",
          "name": "stdout",
          "text": [
            "Epoch  11: Train Loss: 0.4557, Val Loss: 0.5426, Val AUC: 0.8845\n"
          ]
        },
        {
          "output_type": "stream",
          "name": "stderr",
          "text": [
            "Training: 100%|██████████| 38/38 [00:25<00:00,  1.48it/s]\n",
            "Validation: 100%|██████████| 13/13 [00:08<00:00,  1.61it/s]\n"
          ]
        },
        {
          "output_type": "stream",
          "name": "stdout",
          "text": [
            "Epoch  12: Train Loss: 0.4583, Val Loss: 0.5576, Val AUC: 0.8894\n"
          ]
        },
        {
          "output_type": "stream",
          "name": "stderr",
          "text": [
            "Training: 100%|██████████| 38/38 [00:25<00:00,  1.48it/s]\n",
            "Validation: 100%|██████████| 13/13 [00:06<00:00,  1.89it/s]\n"
          ]
        },
        {
          "output_type": "stream",
          "name": "stdout",
          "text": [
            "Epoch  13: Train Loss: 0.4532, Val Loss: 0.5435, Val AUC: 0.8740\n"
          ]
        },
        {
          "output_type": "stream",
          "name": "stderr",
          "text": [
            "Training: 100%|██████████| 38/38 [00:24<00:00,  1.53it/s]\n",
            "Validation: 100%|██████████| 13/13 [00:07<00:00,  1.81it/s]\n"
          ]
        },
        {
          "output_type": "stream",
          "name": "stdout",
          "text": [
            "Epoch  14: Train Loss: 0.4523, Val Loss: 0.5220, Val AUC: 0.8958\n"
          ]
        },
        {
          "output_type": "stream",
          "name": "stderr",
          "text": [
            "Training: 100%|██████████| 38/38 [00:25<00:00,  1.48it/s]\n",
            "Validation: 100%|██████████| 13/13 [00:07<00:00,  1.66it/s]\n"
          ]
        },
        {
          "output_type": "stream",
          "name": "stdout",
          "text": [
            "Epoch  15: Train Loss: 0.4544, Val Loss: 0.5374, Val AUC: 0.8818\n"
          ]
        },
        {
          "output_type": "stream",
          "name": "stderr",
          "text": [
            "Training: 100%|██████████| 38/38 [00:25<00:00,  1.51it/s]\n",
            "Validation: 100%|██████████| 13/13 [00:07<00:00,  1.85it/s]\n"
          ]
        },
        {
          "output_type": "stream",
          "name": "stdout",
          "text": [
            "Epoch  16: Train Loss: 0.4442, Val Loss: 0.5849, Val AUC: 0.8899\n"
          ]
        },
        {
          "output_type": "stream",
          "name": "stderr",
          "text": [
            "Training: 100%|██████████| 38/38 [00:25<00:00,  1.49it/s]\n",
            "Validation: 100%|██████████| 13/13 [00:07<00:00,  1.64it/s]\n"
          ]
        },
        {
          "output_type": "stream",
          "name": "stdout",
          "text": [
            "Epoch  17: Train Loss: 0.4424, Val Loss: 0.5560, Val AUC: 0.8777\n"
          ]
        },
        {
          "output_type": "stream",
          "name": "stderr",
          "text": [
            "Training: 100%|██████████| 38/38 [00:25<00:00,  1.49it/s]\n",
            "Validation: 100%|██████████| 13/13 [00:06<00:00,  1.88it/s]\n"
          ]
        },
        {
          "output_type": "stream",
          "name": "stdout",
          "text": [
            "Epoch  18: Train Loss: 0.4467, Val Loss: 0.6059, Val AUC: 0.8727\n"
          ]
        },
        {
          "output_type": "stream",
          "name": "stderr",
          "text": [
            "Training: 100%|██████████| 38/38 [00:25<00:00,  1.46it/s]\n",
            "Validation: 100%|██████████| 13/13 [00:07<00:00,  1.69it/s]\n"
          ]
        },
        {
          "output_type": "stream",
          "name": "stdout",
          "text": [
            "Epoch  19: Train Loss: 0.4438, Val Loss: 0.6001, Val AUC: 0.8787\n"
          ]
        },
        {
          "output_type": "stream",
          "name": "stderr",
          "text": [
            "Training: 100%|██████████| 38/38 [00:25<00:00,  1.47it/s]\n",
            "Validation: 100%|██████████| 13/13 [00:06<00:00,  1.87it/s]\n"
          ]
        },
        {
          "output_type": "stream",
          "name": "stdout",
          "text": [
            "Epoch  20: Train Loss: 0.4521, Val Loss: 0.5461, Val AUC: 0.8909\n"
          ]
        },
        {
          "output_type": "stream",
          "name": "stderr",
          "text": [
            "Training: 100%|██████████| 38/38 [00:25<00:00,  1.51it/s]\n",
            "Validation: 100%|██████████| 13/13 [00:06<00:00,  1.87it/s]\n"
          ]
        },
        {
          "output_type": "stream",
          "name": "stdout",
          "text": [
            "Epoch  21: Train Loss: 0.4357, Val Loss: 0.5292, Val AUC: 0.8909\n"
          ]
        },
        {
          "output_type": "stream",
          "name": "stderr",
          "text": [
            "Training: 100%|██████████| 38/38 [00:25<00:00,  1.48it/s]\n",
            "Validation: 100%|██████████| 13/13 [00:07<00:00,  1.65it/s]\n"
          ]
        },
        {
          "output_type": "stream",
          "name": "stdout",
          "text": [
            "Epoch  22: Train Loss: 0.4237, Val Loss: 0.5281, Val AUC: 0.8754\n"
          ]
        },
        {
          "output_type": "stream",
          "name": "stderr",
          "text": [
            "Training: 100%|██████████| 38/38 [00:25<00:00,  1.48it/s]\n",
            "Validation: 100%|██████████| 13/13 [00:06<00:00,  1.91it/s]\n"
          ]
        },
        {
          "output_type": "stream",
          "name": "stdout",
          "text": [
            "Epoch  23: Train Loss: 0.4319, Val Loss: 0.5373, Val AUC: 0.8792\n"
          ]
        },
        {
          "output_type": "stream",
          "name": "stderr",
          "text": [
            "Training: 100%|██████████| 38/38 [00:25<00:00,  1.47it/s]\n",
            "Validation: 100%|██████████| 13/13 [00:08<00:00,  1.62it/s]\n"
          ]
        },
        {
          "output_type": "stream",
          "name": "stdout",
          "text": [
            "Epoch  24: Train Loss: 0.4238, Val Loss: 0.5414, Val AUC: 0.8832\n",
            "Early stopping at epoch 24\n",
            "\n",
            "Phase 2: Fine-tuning with unfrozen last transformer layers\n"
          ]
        },
        {
          "output_type": "stream",
          "name": "stderr",
          "text": [
            "Training: 100%|██████████| 38/38 [00:29<00:00,  1.30it/s]\n",
            "Validation: 100%|██████████| 13/13 [00:07<00:00,  1.65it/s]\n"
          ]
        },
        {
          "output_type": "stream",
          "name": "stdout",
          "text": [
            "Epoch   1: Train Loss: 0.4477, Val Loss: 0.5221, Val AUC: 0.8759\n"
          ]
        },
        {
          "output_type": "stream",
          "name": "stderr",
          "text": [
            "Training: 100%|██████████| 38/38 [00:29<00:00,  1.29it/s]\n",
            "Validation: 100%|██████████| 13/13 [00:08<00:00,  1.61it/s]\n"
          ]
        },
        {
          "output_type": "stream",
          "name": "stdout",
          "text": [
            "Epoch   2: Train Loss: 0.4157, Val Loss: 0.5676, Val AUC: 0.8708\n"
          ]
        },
        {
          "output_type": "stream",
          "name": "stderr",
          "text": [
            "Training: 100%|██████████| 38/38 [00:28<00:00,  1.31it/s]\n",
            "Validation: 100%|██████████| 13/13 [00:07<00:00,  1.81it/s]\n"
          ]
        },
        {
          "output_type": "stream",
          "name": "stdout",
          "text": [
            "Epoch   3: Train Loss: 0.4032, Val Loss: 0.5666, Val AUC: 0.8903\n"
          ]
        },
        {
          "output_type": "stream",
          "name": "stderr",
          "text": [
            "Training: 100%|██████████| 38/38 [00:28<00:00,  1.32it/s]\n",
            "Validation: 100%|██████████| 13/13 [00:06<00:00,  1.89it/s]\n"
          ]
        },
        {
          "output_type": "stream",
          "name": "stdout",
          "text": [
            "Epoch   4: Train Loss: 0.3851, Val Loss: 0.5441, Val AUC: 0.8969\n"
          ]
        },
        {
          "output_type": "stream",
          "name": "stderr",
          "text": [
            "Training: 100%|██████████| 38/38 [00:29<00:00,  1.28it/s]\n",
            "Validation: 100%|██████████| 13/13 [00:06<00:00,  1.86it/s]\n"
          ]
        },
        {
          "output_type": "stream",
          "name": "stdout",
          "text": [
            "Epoch   5: Train Loss: 0.3739, Val Loss: 0.5160, Val AUC: 0.9136\n"
          ]
        },
        {
          "output_type": "stream",
          "name": "stderr",
          "text": [
            "Training: 100%|██████████| 38/38 [00:29<00:00,  1.29it/s]\n",
            "Validation: 100%|██████████| 13/13 [00:06<00:00,  1.86it/s]\n"
          ]
        },
        {
          "output_type": "stream",
          "name": "stdout",
          "text": [
            "Epoch   6: Train Loss: 0.3725, Val Loss: 0.6032, Val AUC: 0.9247\n"
          ]
        },
        {
          "output_type": "stream",
          "name": "stderr",
          "text": [
            "Training: 100%|██████████| 38/38 [00:29<00:00,  1.30it/s]\n",
            "Validation: 100%|██████████| 13/13 [00:07<00:00,  1.69it/s]\n"
          ]
        },
        {
          "output_type": "stream",
          "name": "stdout",
          "text": [
            "Epoch   7: Train Loss: 0.3794, Val Loss: 0.4918, Val AUC: 0.9040\n"
          ]
        },
        {
          "output_type": "stream",
          "name": "stderr",
          "text": [
            "Training: 100%|██████████| 38/38 [00:29<00:00,  1.31it/s]\n",
            "Validation: 100%|██████████| 13/13 [00:07<00:00,  1.67it/s]\n"
          ]
        },
        {
          "output_type": "stream",
          "name": "stdout",
          "text": [
            "Epoch   8: Train Loss: 0.3600, Val Loss: 0.4736, Val AUC: 0.9059\n"
          ]
        },
        {
          "output_type": "stream",
          "name": "stderr",
          "text": [
            "Training: 100%|██████████| 38/38 [00:28<00:00,  1.31it/s]\n",
            "Validation: 100%|██████████| 13/13 [00:07<00:00,  1.66it/s]\n"
          ]
        },
        {
          "output_type": "stream",
          "name": "stdout",
          "text": [
            "Epoch   9: Train Loss: 0.3575, Val Loss: 0.4981, Val AUC: 0.9248\n"
          ]
        },
        {
          "output_type": "stream",
          "name": "stderr",
          "text": [
            "Training: 100%|██████████| 38/38 [00:28<00:00,  1.32it/s]\n",
            "Validation: 100%|██████████| 13/13 [00:07<00:00,  1.79it/s]\n"
          ]
        },
        {
          "output_type": "stream",
          "name": "stdout",
          "text": [
            "Epoch  10: Train Loss: 0.3574, Val Loss: 0.5258, Val AUC: 0.9132\n"
          ]
        },
        {
          "output_type": "stream",
          "name": "stderr",
          "text": [
            "Training: 100%|██████████| 38/38 [00:28<00:00,  1.32it/s]\n",
            "Validation: 100%|██████████| 13/13 [00:06<00:00,  1.90it/s]\n"
          ]
        },
        {
          "output_type": "stream",
          "name": "stdout",
          "text": [
            "Epoch  11: Train Loss: 0.3464, Val Loss: 0.5359, Val AUC: 0.8860\n"
          ]
        },
        {
          "output_type": "stream",
          "name": "stderr",
          "text": [
            "Training: 100%|██████████| 38/38 [00:29<00:00,  1.28it/s]\n",
            "Validation: 100%|██████████| 13/13 [00:07<00:00,  1.82it/s]\n"
          ]
        },
        {
          "output_type": "stream",
          "name": "stdout",
          "text": [
            "Epoch  12: Train Loss: 0.3489, Val Loss: 0.5047, Val AUC: 0.9032\n"
          ]
        },
        {
          "output_type": "stream",
          "name": "stderr",
          "text": [
            "Training: 100%|██████████| 38/38 [00:29<00:00,  1.28it/s]\n",
            "Validation: 100%|██████████| 13/13 [00:06<00:00,  1.88it/s]\n"
          ]
        },
        {
          "output_type": "stream",
          "name": "stdout",
          "text": [
            "Epoch  13: Train Loss: 0.3475, Val Loss: 0.5023, Val AUC: 0.8987\n"
          ]
        },
        {
          "output_type": "stream",
          "name": "stderr",
          "text": [
            "Training: 100%|██████████| 38/38 [00:29<00:00,  1.30it/s]\n",
            "Validation: 100%|██████████| 13/13 [00:07<00:00,  1.84it/s]\n"
          ]
        },
        {
          "output_type": "stream",
          "name": "stdout",
          "text": [
            "Epoch  14: Train Loss: 0.3460, Val Loss: 0.5303, Val AUC: 0.9260\n"
          ]
        },
        {
          "output_type": "stream",
          "name": "stderr",
          "text": [
            "Training: 100%|██████████| 38/38 [00:29<00:00,  1.31it/s]\n",
            "Validation: 100%|██████████| 13/13 [00:07<00:00,  1.69it/s]\n"
          ]
        },
        {
          "output_type": "stream",
          "name": "stdout",
          "text": [
            "Epoch  15: Train Loss: 0.3493, Val Loss: 0.5520, Val AUC: 0.9243\n"
          ]
        },
        {
          "output_type": "stream",
          "name": "stderr",
          "text": [
            "Training: 100%|██████████| 38/38 [00:29<00:00,  1.30it/s]\n",
            "Validation: 100%|██████████| 13/13 [00:07<00:00,  1.63it/s]\n"
          ]
        },
        {
          "output_type": "stream",
          "name": "stdout",
          "text": [
            "Epoch  16: Train Loss: 0.3449, Val Loss: 0.5388, Val AUC: 0.9326\n"
          ]
        },
        {
          "output_type": "stream",
          "name": "stderr",
          "text": [
            "Training: 100%|██████████| 38/38 [00:28<00:00,  1.31it/s]\n",
            "Validation: 100%|██████████| 13/13 [00:07<00:00,  1.63it/s]\n"
          ]
        },
        {
          "output_type": "stream",
          "name": "stdout",
          "text": [
            "Epoch  17: Train Loss: 0.3539, Val Loss: 0.5671, Val AUC: 0.9171\n"
          ]
        },
        {
          "output_type": "stream",
          "name": "stderr",
          "text": [
            "Training: 100%|██████████| 38/38 [00:28<00:00,  1.32it/s]\n",
            "Validation: 100%|██████████| 13/13 [00:07<00:00,  1.79it/s]\n"
          ]
        },
        {
          "output_type": "stream",
          "name": "stdout",
          "text": [
            "Epoch  18: Train Loss: 0.3496, Val Loss: 0.5463, Val AUC: 0.9123\n"
          ]
        },
        {
          "output_type": "stream",
          "name": "stderr",
          "text": [
            "Training: 100%|██████████| 38/38 [00:28<00:00,  1.32it/s]\n",
            "Validation: 100%|██████████| 13/13 [00:06<00:00,  1.86it/s]\n"
          ]
        },
        {
          "output_type": "stream",
          "name": "stdout",
          "text": [
            "Epoch  19: Train Loss: 0.3435, Val Loss: 0.5173, Val AUC: 0.9140\n"
          ]
        },
        {
          "output_type": "stream",
          "name": "stderr",
          "text": [
            "Training: 100%|██████████| 38/38 [00:29<00:00,  1.28it/s]\n",
            "Validation: 100%|██████████| 13/13 [00:06<00:00,  1.86it/s]\n"
          ]
        },
        {
          "output_type": "stream",
          "name": "stdout",
          "text": [
            "Epoch  20: Train Loss: 0.3380, Val Loss: 0.5510, Val AUC: 0.8921\n"
          ]
        },
        {
          "output_type": "stream",
          "name": "stderr",
          "text": [
            "Training: 100%|██████████| 38/38 [00:29<00:00,  1.28it/s]\n",
            "Validation: 100%|██████████| 13/13 [00:07<00:00,  1.86it/s]\n"
          ]
        },
        {
          "output_type": "stream",
          "name": "stdout",
          "text": [
            "Epoch  21: Train Loss: 0.3373, Val Loss: 0.5668, Val AUC: 0.9001\n"
          ]
        },
        {
          "output_type": "stream",
          "name": "stderr",
          "text": [
            "Training: 100%|██████████| 38/38 [00:29<00:00,  1.29it/s]\n",
            "Validation: 100%|██████████| 13/13 [00:07<00:00,  1.85it/s]\n"
          ]
        },
        {
          "output_type": "stream",
          "name": "stdout",
          "text": [
            "Epoch  22: Train Loss: 0.3361, Val Loss: 0.5552, Val AUC: 0.9127\n"
          ]
        },
        {
          "output_type": "stream",
          "name": "stderr",
          "text": [
            "Training: 100%|██████████| 38/38 [00:29<00:00,  1.31it/s]\n",
            "Validation: 100%|██████████| 13/13 [00:07<00:00,  1.66it/s]\n"
          ]
        },
        {
          "output_type": "stream",
          "name": "stdout",
          "text": [
            "Epoch  23: Train Loss: 0.3360, Val Loss: 0.5468, Val AUC: 0.9165\n"
          ]
        },
        {
          "output_type": "stream",
          "name": "stderr",
          "text": [
            "Training: 100%|██████████| 38/38 [00:29<00:00,  1.31it/s]\n",
            "Validation: 100%|██████████| 13/13 [00:07<00:00,  1.63it/s]\n"
          ]
        },
        {
          "output_type": "stream",
          "name": "stdout",
          "text": [
            "Epoch  24: Train Loss: 0.3393, Val Loss: 0.5338, Val AUC: 0.9274\n"
          ]
        },
        {
          "output_type": "stream",
          "name": "stderr",
          "text": [
            "Training: 100%|██████████| 38/38 [00:28<00:00,  1.32it/s]\n",
            "Validation: 100%|██████████| 13/13 [00:08<00:00,  1.62it/s]\n"
          ]
        },
        {
          "output_type": "stream",
          "name": "stdout",
          "text": [
            "Epoch  25: Train Loss: 0.3378, Val Loss: 0.5573, Val AUC: 0.9163\n"
          ]
        },
        {
          "output_type": "stream",
          "name": "stderr",
          "text": [
            "Training: 100%|██████████| 38/38 [00:28<00:00,  1.32it/s]\n",
            "Validation: 100%|██████████| 13/13 [00:07<00:00,  1.81it/s]\n"
          ]
        },
        {
          "output_type": "stream",
          "name": "stdout",
          "text": [
            "Epoch  26: Train Loss: 0.3378, Val Loss: 0.5343, Val AUC: 0.9232\n",
            "Early stopping at epoch 26\n"
          ]
        },
        {
          "output_type": "stream",
          "name": "stderr",
          "text": [
            "Testing: 100%|██████████| 15/15 [00:08<00:00,  1.77it/s]\n"
          ]
        },
        {
          "output_type": "stream",
          "name": "stdout",
          "text": [
            "\n",
            "Best validation AUC: 0.9326\n",
            "Test metrics:\n",
            "  accuracy: 0.9140\n",
            "  precision: 0.9324\n",
            "  recall: 0.9293\n",
            "  specificity: 0.8889\n",
            "  f1: 0.9309\n",
            "  auc_roc: 0.9267\n"
          ]
        },
        {
          "output_type": "display_data",
          "data": {
            "text/plain": [
              "<Figure size 800x600 with 2 Axes>"
            ],
            "image/png": "[encoded data removed]"
          },
          "metadata": {}
        },
        {
          "output_type": "stream",
          "name": "stdout",
          "text": [
            "\n",
            "Starting experiment for 200X...\n",
            "\n",
            "============================================================\n",
            "Training on 200X magnification with Vision Transformer (ViT-B/16)\n",
            "============================================================\n",
            "\n",
            "Phase 1: Training classifier head (frozen backbone)\n"
          ]
        },
        {
          "output_type": "stream",
          "name": "stderr",
          "text": [
            "Training: 100%|██████████| 38/38 [00:25<00:00,  1.48it/s]\n",
            "Validation: 100%|██████████| 12/12 [00:08<00:00,  1.50it/s]\n"
          ]
        },
        {
          "output_type": "stream",
          "name": "stdout",
          "text": [
            "Epoch   1: Train Loss: 0.5749, Val Loss: 0.6162, Val AUC: 0.8145\n"
          ]
        },
        {
          "output_type": "stream",
          "name": "stderr",
          "text": [
            "Training: 100%|██████████| 38/38 [00:25<00:00,  1.49it/s]\n",
            "Validation: 100%|██████████| 12/12 [00:06<00:00,  1.84it/s]\n"
          ]
        },
        {
          "output_type": "stream",
          "name": "stdout",
          "text": [
            "Epoch   2: Train Loss: 0.4986, Val Loss: 0.5481, Val AUC: 0.8502\n"
          ]
        },
        {
          "output_type": "stream",
          "name": "stderr",
          "text": [
            "Training: 100%|██████████| 38/38 [00:24<00:00,  1.53it/s]\n",
            "Validation: 100%|██████████| 12/12 [00:06<00:00,  1.72it/s]\n"
          ]
        },
        {
          "output_type": "stream",
          "name": "stdout",
          "text": [
            "Epoch   3: Train Loss: 0.4874, Val Loss: 0.5760, Val AUC: 0.8493\n"
          ]
        },
        {
          "output_type": "stream",
          "name": "stderr",
          "text": [
            "Training: 100%|██████████| 38/38 [00:25<00:00,  1.49it/s]\n",
            "Validation: 100%|██████████| 12/12 [00:06<00:00,  1.74it/s]\n"
          ]
        },
        {
          "output_type": "stream",
          "name": "stdout",
          "text": [
            "Epoch   4: Train Loss: 0.4783, Val Loss: 0.5658, Val AUC: 0.8733\n"
          ]
        },
        {
          "output_type": "stream",
          "name": "stderr",
          "text": [
            "Training: 100%|██████████| 38/38 [00:24<00:00,  1.56it/s]\n",
            "Validation: 100%|██████████| 12/12 [00:06<00:00,  1.73it/s]\n"
          ]
        },
        {
          "output_type": "stream",
          "name": "stdout",
          "text": [
            "Epoch   5: Train Loss: 0.4619, Val Loss: 0.5418, Val AUC: 0.8786\n"
          ]
        },
        {
          "output_type": "stream",
          "name": "stderr",
          "text": [
            "Training: 100%|██████████| 38/38 [00:25<00:00,  1.49it/s]\n",
            "Validation: 100%|██████████| 12/12 [00:06<00:00,  1.74it/s]\n"
          ]
        },
        {
          "output_type": "stream",
          "name": "stdout",
          "text": [
            "Epoch   6: Train Loss: 0.4566, Val Loss: 0.5331, Val AUC: 0.8974\n"
          ]
        },
        {
          "output_type": "stream",
          "name": "stderr",
          "text": [
            "Training: 100%|██████████| 38/38 [00:24<00:00,  1.55it/s]\n",
            "Validation: 100%|██████████| 12/12 [00:06<00:00,  1.80it/s]\n"
          ]
        },
        {
          "output_type": "stream",
          "name": "stdout",
          "text": [
            "Epoch   7: Train Loss: 0.4589, Val Loss: 0.5319, Val AUC: 0.8737\n"
          ]
        },
        {
          "output_type": "stream",
          "name": "stderr",
          "text": [
            "Training: 100%|██████████| 38/38 [00:25<00:00,  1.48it/s]\n",
            "Validation: 100%|██████████| 12/12 [00:07<00:00,  1.65it/s]\n"
          ]
        },
        {
          "output_type": "stream",
          "name": "stdout",
          "text": [
            "Epoch   8: Train Loss: 0.4366, Val Loss: 0.5165, Val AUC: 0.8999\n"
          ]
        },
        {
          "output_type": "stream",
          "name": "stderr",
          "text": [
            "Training: 100%|██████████| 38/38 [00:24<00:00,  1.55it/s]\n",
            "Validation: 100%|██████████| 12/12 [00:06<00:00,  1.87it/s]\n"
          ]
        },
        {
          "output_type": "stream",
          "name": "stdout",
          "text": [
            "Epoch   9: Train Loss: 0.4595, Val Loss: 0.5287, Val AUC: 0.8808\n"
          ]
        },
        {
          "output_type": "stream",
          "name": "stderr",
          "text": [
            "Training: 100%|██████████| 38/38 [00:25<00:00,  1.48it/s]\n",
            "Validation: 100%|██████████| 12/12 [00:07<00:00,  1.63it/s]\n"
          ]
        },
        {
          "output_type": "stream",
          "name": "stdout",
          "text": [
            "Epoch  10: Train Loss: 0.4344, Val Loss: 0.5489, Val AUC: 0.8938\n"
          ]
        },
        {
          "output_type": "stream",
          "name": "stderr",
          "text": [
            "Training: 100%|██████████| 38/38 [00:25<00:00,  1.52it/s]\n",
            "Validation: 100%|██████████| 12/12 [00:06<00:00,  1.84it/s]\n"
          ]
        },
        {
          "output_type": "stream",
          "name": "stdout",
          "text": [
            "Epoch  11: Train Loss: 0.4299, Val Loss: 0.5538, Val AUC: 0.8772\n"
          ]
        },
        {
          "output_type": "stream",
          "name": "stderr",
          "text": [
            "Training: 100%|██████████| 38/38 [00:25<00:00,  1.48it/s]\n",
            "Validation: 100%|██████████| 12/12 [00:07<00:00,  1.59it/s]\n"
          ]
        },
        {
          "output_type": "stream",
          "name": "stdout",
          "text": [
            "Epoch  12: Train Loss: 0.4415, Val Loss: 0.5470, Val AUC: 0.8650\n"
          ]
        },
        {
          "output_type": "stream",
          "name": "stderr",
          "text": [
            "Training: 100%|██████████| 38/38 [00:25<00:00,  1.52it/s]\n",
            "Validation: 100%|██████████| 12/12 [00:06<00:00,  1.78it/s]\n"
          ]
        },
        {
          "output_type": "stream",
          "name": "stdout",
          "text": [
            "Epoch  13: Train Loss: 0.4377, Val Loss: 0.5093, Val AUC: 0.8834\n"
          ]
        },
        {
          "output_type": "stream",
          "name": "stderr",
          "text": [
            "Training: 100%|██████████| 38/38 [00:25<00:00,  1.50it/s]\n",
            "Validation: 100%|██████████| 12/12 [00:07<00:00,  1.55it/s]\n"
          ]
        },
        {
          "output_type": "stream",
          "name": "stdout",
          "text": [
            "Epoch  14: Train Loss: 0.4154, Val Loss: 0.5138, Val AUC: 0.8870\n"
          ]
        },
        {
          "output_type": "stream",
          "name": "stderr",
          "text": [
            "Training: 100%|██████████| 38/38 [00:25<00:00,  1.50it/s]\n",
            "Validation: 100%|██████████| 12/12 [00:06<00:00,  1.83it/s]\n"
          ]
        },
        {
          "output_type": "stream",
          "name": "stdout",
          "text": [
            "Epoch  15: Train Loss: 0.4309, Val Loss: 0.5053, Val AUC: 0.8989\n"
          ]
        },
        {
          "output_type": "stream",
          "name": "stderr",
          "text": [
            "Training: 100%|██████████| 38/38 [00:25<00:00,  1.47it/s]\n",
            "Validation: 100%|██████████| 12/12 [00:07<00:00,  1.59it/s]\n"
          ]
        },
        {
          "output_type": "stream",
          "name": "stdout",
          "text": [
            "Epoch  16: Train Loss: 0.4202, Val Loss: 0.5080, Val AUC: 0.8975\n"
          ]
        },
        {
          "output_type": "stream",
          "name": "stderr",
          "text": [
            "Training: 100%|██████████| 38/38 [00:25<00:00,  1.49it/s]\n",
            "Validation: 100%|██████████| 12/12 [00:06<00:00,  1.80it/s]\n"
          ]
        },
        {
          "output_type": "stream",
          "name": "stdout",
          "text": [
            "Epoch  17: Train Loss: 0.4321, Val Loss: 0.5188, Val AUC: 0.8773\n"
          ]
        },
        {
          "output_type": "stream",
          "name": "stderr",
          "text": [
            "Training: 100%|██████████| 38/38 [00:25<00:00,  1.49it/s]\n",
            "Validation: 100%|██████████| 12/12 [00:07<00:00,  1.61it/s]\n"
          ]
        },
        {
          "output_type": "stream",
          "name": "stdout",
          "text": [
            "Epoch  18: Train Loss: 0.4188, Val Loss: 0.5124, Val AUC: 0.8883\n",
            "Early stopping at epoch 18\n",
            "\n",
            "Phase 2: Fine-tuning with unfrozen last transformer layers\n"
          ]
        },
        {
          "output_type": "stream",
          "name": "stderr",
          "text": [
            "Training: 100%|██████████| 38/38 [00:28<00:00,  1.31it/s]\n",
            "Validation: 100%|██████████| 12/12 [00:07<00:00,  1.62it/s]\n"
          ]
        },
        {
          "output_type": "stream",
          "name": "stdout",
          "text": [
            "Epoch   1: Train Loss: 0.4393, Val Loss: 0.4960, Val AUC: 0.9065\n"
          ]
        },
        {
          "output_type": "stream",
          "name": "stderr",
          "text": [
            "Training: 100%|██████████| 38/38 [00:28<00:00,  1.35it/s]\n",
            "Validation: 100%|██████████| 12/12 [00:06<00:00,  1.83it/s]\n"
          ]
        },
        {
          "output_type": "stream",
          "name": "stdout",
          "text": [
            "Epoch   2: Train Loss: 0.4016, Val Loss: 0.4914, Val AUC: 0.9181\n"
          ]
        },
        {
          "output_type": "stream",
          "name": "stderr",
          "text": [
            "Training: 100%|██████████| 38/38 [00:28<00:00,  1.33it/s]\n",
            "Validation: 100%|██████████| 12/12 [00:06<00:00,  1.85it/s]\n"
          ]
        },
        {
          "output_type": "stream",
          "name": "stdout",
          "text": [
            "Epoch   3: Train Loss: 0.3858, Val Loss: 0.5135, Val AUC: 0.9000\n"
          ]
        },
        {
          "output_type": "stream",
          "name": "stderr",
          "text": [
            "Training: 100%|██████████| 38/38 [00:29<00:00,  1.30it/s]\n",
            "Validation: 100%|██████████| 12/12 [00:06<00:00,  1.79it/s]\n"
          ]
        },
        {
          "output_type": "stream",
          "name": "stdout",
          "text": [
            "Epoch   4: Train Loss: 0.3702, Val Loss: 0.4779, Val AUC: 0.9417\n"
          ]
        },
        {
          "output_type": "stream",
          "name": "stderr",
          "text": [
            "Training: 100%|██████████| 38/38 [00:28<00:00,  1.31it/s]\n",
            "Validation: 100%|██████████| 12/12 [00:07<00:00,  1.62it/s]\n"
          ]
        },
        {
          "output_type": "stream",
          "name": "stdout",
          "text": [
            "Epoch   5: Train Loss: 0.3758, Val Loss: 0.4940, Val AUC: 0.9192\n"
          ]
        },
        {
          "output_type": "stream",
          "name": "stderr",
          "text": [
            "Training: 100%|██████████| 38/38 [00:29<00:00,  1.31it/s]\n",
            "Validation: 100%|██████████| 12/12 [00:07<00:00,  1.58it/s]\n"
          ]
        },
        {
          "output_type": "stream",
          "name": "stdout",
          "text": [
            "Epoch   6: Train Loss: 0.3590, Val Loss: 0.5095, Val AUC: 0.9070\n"
          ]
        },
        {
          "output_type": "stream",
          "name": "stderr",
          "text": [
            "Training: 100%|██████████| 38/38 [00:28<00:00,  1.34it/s]\n",
            "Validation: 100%|██████████| 12/12 [00:06<00:00,  1.75it/s]\n"
          ]
        },
        {
          "output_type": "stream",
          "name": "stdout",
          "text": [
            "Epoch   7: Train Loss: 0.3499, Val Loss: 0.5115, Val AUC: 0.8847\n"
          ]
        },
        {
          "output_type": "stream",
          "name": "stderr",
          "text": [
            "Training: 100%|██████████| 38/38 [00:28<00:00,  1.33it/s]\n",
            "Validation: 100%|██████████| 12/12 [00:06<00:00,  1.87it/s]\n"
          ]
        },
        {
          "output_type": "stream",
          "name": "stdout",
          "text": [
            "Epoch   8: Train Loss: 0.3503, Val Loss: 0.4874, Val AUC: 0.9057\n"
          ]
        },
        {
          "output_type": "stream",
          "name": "stderr",
          "text": [
            "Training: 100%|██████████| 38/38 [00:29<00:00,  1.29it/s]\n",
            "Validation: 100%|██████████| 12/12 [00:06<00:00,  1.80it/s]\n"
          ]
        },
        {
          "output_type": "stream",
          "name": "stdout",
          "text": [
            "Epoch   9: Train Loss: 0.3452, Val Loss: 0.4861, Val AUC: 0.9334\n"
          ]
        },
        {
          "output_type": "stream",
          "name": "stderr",
          "text": [
            "Training: 100%|██████████| 38/38 [00:29<00:00,  1.31it/s]\n",
            "Validation: 100%|██████████| 12/12 [00:06<00:00,  1.78it/s]\n"
          ]
        },
        {
          "output_type": "stream",
          "name": "stdout",
          "text": [
            "Epoch  10: Train Loss: 0.3515, Val Loss: 0.5104, Val AUC: 0.9394\n"
          ]
        },
        {
          "output_type": "stream",
          "name": "stderr",
          "text": [
            "Training: 100%|██████████| 38/38 [00:28<00:00,  1.33it/s]\n",
            "Validation: 100%|██████████| 12/12 [00:07<00:00,  1.63it/s]\n"
          ]
        },
        {
          "output_type": "stream",
          "name": "stdout",
          "text": [
            "Epoch  11: Train Loss: 0.3540, Val Loss: 0.4830, Val AUC: 0.9271\n"
          ]
        },
        {
          "output_type": "stream",
          "name": "stderr",
          "text": [
            "Training: 100%|██████████| 38/38 [00:28<00:00,  1.33it/s]\n",
            "Validation: 100%|██████████| 12/12 [00:06<00:00,  1.75it/s]\n"
          ]
        },
        {
          "output_type": "stream",
          "name": "stdout",
          "text": [
            "Epoch  12: Train Loss: 0.3413, Val Loss: 0.4924, Val AUC: 0.9238\n"
          ]
        },
        {
          "output_type": "stream",
          "name": "stderr",
          "text": [
            "Training: 100%|██████████| 38/38 [00:28<00:00,  1.34it/s]\n",
            "Validation: 100%|██████████| 12/12 [00:06<00:00,  1.84it/s]\n"
          ]
        },
        {
          "output_type": "stream",
          "name": "stdout",
          "text": [
            "Epoch  13: Train Loss: 0.3394, Val Loss: 0.4897, Val AUC: 0.9262\n"
          ]
        },
        {
          "output_type": "stream",
          "name": "stderr",
          "text": [
            "Training: 100%|██████████| 38/38 [00:29<00:00,  1.29it/s]\n",
            "Validation: 100%|██████████| 12/12 [00:06<00:00,  1.83it/s]\n"
          ]
        },
        {
          "output_type": "stream",
          "name": "stdout",
          "text": [
            "Epoch  14: Train Loss: 0.3395, Val Loss: 0.5035, Val AUC: 0.9092\n",
            "Early stopping at epoch 14\n"
          ]
        },
        {
          "output_type": "stream",
          "name": "stderr",
          "text": [
            "Testing: 100%|██████████| 14/14 [00:08<00:00,  1.61it/s]\n"
          ]
        },
        {
          "output_type": "stream",
          "name": "stdout",
          "text": [
            "\n",
            "Best validation AUC: 0.9417\n",
            "Test metrics:\n",
            "  accuracy: 0.8488\n",
            "  precision: 0.8679\n",
            "  recall: 0.8901\n",
            "  specificity: 0.7824\n",
            "  f1: 0.8788\n",
            "  auc_roc: 0.8711\n"
          ]
        },
        {
          "output_type": "display_data",
          "data": {
            "text/plain": [
              "<Figure size 800x600 with 2 Axes>"
            ],
            "image/png": "[encoded data removed]"
          },
          "metadata": {}
        },
        {
          "output_type": "stream",
          "name": "stdout",
          "text": [
            "\n",
            "Starting experiment for 400X...\n",
            "\n",
            "============================================================\n",
            "Training on 400X magnification with Vision Transformer (ViT-B/16)\n",
            "============================================================\n",
            "\n",
            "Phase 1: Training classifier head (frozen backbone)\n"
          ]
        },
        {
          "output_type": "stream",
          "name": "stderr",
          "text": [
            "Training: 100%|██████████| 34/34 [00:22<00:00,  1.49it/s]\n",
            "Validation: 100%|██████████| 12/12 [00:06<00:00,  1.77it/s]\n"
          ]
        },
        {
          "output_type": "stream",
          "name": "stdout",
          "text": [
            "Epoch   1: Train Loss: 0.5974, Val Loss: 0.5750, Val AUC: 0.8897\n"
          ]
        },
        {
          "output_type": "stream",
          "name": "stderr",
          "text": [
            "Training: 100%|██████████| 34/34 [00:22<00:00,  1.51it/s]\n",
            "Validation: 100%|██████████| 12/12 [00:06<00:00,  1.78it/s]\n"
          ]
        },
        {
          "output_type": "stream",
          "name": "stdout",
          "text": [
            "Epoch   2: Train Loss: 0.5382, Val Loss: 0.5794, Val AUC: 0.8870\n"
          ]
        },
        {
          "output_type": "stream",
          "name": "stderr",
          "text": [
            "Training: 100%|██████████| 34/34 [00:21<00:00,  1.56it/s]\n",
            "Validation: 100%|██████████| 12/12 [00:07<00:00,  1.60it/s]\n"
          ]
        },
        {
          "output_type": "stream",
          "name": "stdout",
          "text": [
            "Epoch   3: Train Loss: 0.4983, Val Loss: 0.5617, Val AUC: 0.8978\n"
          ]
        },
        {
          "output_type": "stream",
          "name": "stderr",
          "text": [
            "Training: 100%|██████████| 34/34 [00:21<00:00,  1.55it/s]\n",
            "Validation: 100%|██████████| 12/12 [00:06<00:00,  1.84it/s]\n"
          ]
        },
        {
          "output_type": "stream",
          "name": "stdout",
          "text": [
            "Epoch   4: Train Loss: 0.5110, Val Loss: 0.5641, Val AUC: 0.9144\n"
          ]
        },
        {
          "output_type": "stream",
          "name": "stderr",
          "text": [
            "Training: 100%|██████████| 34/34 [00:22<00:00,  1.48it/s]\n",
            "Validation: 100%|██████████| 12/12 [00:06<00:00,  1.84it/s]\n"
          ]
        },
        {
          "output_type": "stream",
          "name": "stdout",
          "text": [
            "Epoch   5: Train Loss: 0.4764, Val Loss: 0.5398, Val AUC: 0.9084\n"
          ]
        },
        {
          "output_type": "stream",
          "name": "stderr",
          "text": [
            "Training: 100%|██████████| 34/34 [00:22<00:00,  1.49it/s]\n",
            "Validation: 100%|██████████| 12/12 [00:07<00:00,  1.65it/s]\n"
          ]
        },
        {
          "output_type": "stream",
          "name": "stdout",
          "text": [
            "Epoch   6: Train Loss: 0.4862, Val Loss: 0.5753, Val AUC: 0.9103\n"
          ]
        },
        {
          "output_type": "stream",
          "name": "stderr",
          "text": [
            "Training: 100%|██████████| 34/34 [00:21<00:00,  1.56it/s]\n",
            "Validation: 100%|██████████| 12/12 [00:06<00:00,  1.81it/s]\n"
          ]
        },
        {
          "output_type": "stream",
          "name": "stdout",
          "text": [
            "Epoch   7: Train Loss: 0.4693, Val Loss: 0.5035, Val AUC: 0.9260\n"
          ]
        },
        {
          "output_type": "stream",
          "name": "stderr",
          "text": [
            "Training: 100%|██████████| 34/34 [00:23<00:00,  1.43it/s]\n",
            "Validation: 100%|██████████| 12/12 [00:06<00:00,  1.83it/s]\n"
          ]
        },
        {
          "output_type": "stream",
          "name": "stdout",
          "text": [
            "Epoch   8: Train Loss: 0.4658, Val Loss: 0.5488, Val AUC: 0.9030\n"
          ]
        },
        {
          "output_type": "stream",
          "name": "stderr",
          "text": [
            "Training: 100%|██████████| 34/34 [00:23<00:00,  1.42it/s]\n",
            "Validation: 100%|██████████| 12/12 [00:07<00:00,  1.65it/s]\n"
          ]
        },
        {
          "output_type": "stream",
          "name": "stdout",
          "text": [
            "Epoch   9: Train Loss: 0.4613, Val Loss: 0.5619, Val AUC: 0.8974\n"
          ]
        },
        {
          "output_type": "stream",
          "name": "stderr",
          "text": [
            "Training: 100%|██████████| 34/34 [00:21<00:00,  1.56it/s]\n",
            "Validation: 100%|██████████| 12/12 [00:06<00:00,  1.78it/s]\n"
          ]
        },
        {
          "output_type": "stream",
          "name": "stdout",
          "text": [
            "Epoch  10: Train Loss: 0.4540, Val Loss: 0.5501, Val AUC: 0.9228\n"
          ]
        },
        {
          "output_type": "stream",
          "name": "stderr",
          "text": [
            "Training: 100%|██████████| 34/34 [00:23<00:00,  1.47it/s]\n",
            "Validation: 100%|██████████| 12/12 [00:06<00:00,  1.87it/s]\n"
          ]
        },
        {
          "output_type": "stream",
          "name": "stdout",
          "text": [
            "Epoch  11: Train Loss: 0.4432, Val Loss: 0.5719, Val AUC: 0.9282\n"
          ]
        },
        {
          "output_type": "stream",
          "name": "stderr",
          "text": [
            "Training: 100%|██████████| 34/34 [00:23<00:00,  1.47it/s]\n",
            "Validation: 100%|██████████| 12/12 [00:07<00:00,  1.66it/s]\n"
          ]
        },
        {
          "output_type": "stream",
          "name": "stdout",
          "text": [
            "Epoch  12: Train Loss: 0.4461, Val Loss: 0.5637, Val AUC: 0.9216\n"
          ]
        },
        {
          "output_type": "stream",
          "name": "stderr",
          "text": [
            "Training: 100%|██████████| 34/34 [00:21<00:00,  1.56it/s]\n",
            "Validation: 100%|██████████| 12/12 [00:07<00:00,  1.63it/s]\n"
          ]
        },
        {
          "output_type": "stream",
          "name": "stdout",
          "text": [
            "Epoch  13: Train Loss: 0.4556, Val Loss: 0.5427, Val AUC: 0.9303\n"
          ]
        },
        {
          "output_type": "stream",
          "name": "stderr",
          "text": [
            "Training: 100%|██████████| 34/34 [00:22<00:00,  1.51it/s]\n",
            "Validation: 100%|██████████| 12/12 [00:06<00:00,  1.88it/s]\n"
          ]
        },
        {
          "output_type": "stream",
          "name": "stdout",
          "text": [
            "Epoch  14: Train Loss: 0.4458, Val Loss: 0.5237, Val AUC: 0.9235\n"
          ]
        },
        {
          "output_type": "stream",
          "name": "stderr",
          "text": [
            "Training: 100%|██████████| 34/34 [00:22<00:00,  1.49it/s]\n",
            "Validation: 100%|██████████| 12/12 [00:06<00:00,  1.83it/s]\n"
          ]
        },
        {
          "output_type": "stream",
          "name": "stdout",
          "text": [
            "Epoch  15: Train Loss: 0.4434, Val Loss: 0.5861, Val AUC: 0.9118\n"
          ]
        },
        {
          "output_type": "stream",
          "name": "stderr",
          "text": [
            "Training: 100%|██████████| 34/34 [00:22<00:00,  1.53it/s]\n",
            "Validation: 100%|██████████| 12/12 [00:07<00:00,  1.63it/s]\n"
          ]
        },
        {
          "output_type": "stream",
          "name": "stdout",
          "text": [
            "Epoch  16: Train Loss: 0.4422, Val Loss: 0.5875, Val AUC: 0.9259\n"
          ]
        },
        {
          "output_type": "stream",
          "name": "stderr",
          "text": [
            "Training: 100%|██████████| 34/34 [00:21<00:00,  1.55it/s]\n",
            "Validation:   8%|▊         | 1/12 [00:02<00:25,  2.32s/it]"
          ]
        }
      ]
    },
    {
      "cell_type": "code",
      "source": [],
      "metadata": {
        "id": "WWqO60IaqJY1"
      },
      "execution_count": null,
      "outputs": []
    }
  ]
}